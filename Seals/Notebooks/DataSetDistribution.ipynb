{
 "cells": [
  {
   "cell_type": "code",
   "execution_count": 1,
   "metadata": {
    "ExecuteTime": {
     "end_time": "2019-05-23T15:28:01.160872Z",
     "start_time": "2019-05-23T15:28:00.252806Z"
    }
   },
   "outputs": [
    {
     "data": {
      "text/html": [
       "<style>.container { width:100% !important; }</style>"
      ],
      "text/plain": [
       "<IPython.core.display.HTML object>"
      ]
     },
     "metadata": {},
     "output_type": "display_data"
    },
    {
     "name": "stdout",
     "output_type": "stream",
     "text": [
      "\r\n",
      "  python               : 2.7.16\r\n",
      "  pythonpath           : \r\n",
      "  virtualenv           : radical.analytics\r\n",
      "\r\n",
      "  radical.analytics    : v0.50.0-10-g76b5950@devel\r\n",
      "  radical.entk         : 0.7.8\r\n",
      "  radical.pilot        : 0.50.16\r\n",
      "  radical.utils        : 0.50.2\r\n",
      "  saga                 : 0.50.0\r\n",
      "\r\n"
     ]
    }
   ],
   "source": [
    "%matplotlib inline\n",
    "import radical.analytics as ra\n",
    "import radical.pilot as rp\n",
    "import radical.utils as ru\n",
    "import radical.entk as re\n",
    "import more_itertools as mit\n",
    "from glob import glob\n",
    "import numpy as np\n",
    "from matplotlib import pyplot as plt\n",
    "from matplotlib import cm\n",
    "import csv\n",
    "import pandas as pd\n",
    "import json\n",
    "from scipy.optimize import curve_fit\n",
    "from scipy import stats\n",
    "from pprint import pprint\n",
    "from sklearn.metrics import r2_score\n",
    "import matplotlib as mpl\n",
    "mpl.rcParams['text.usetex'] = True\n",
    "mpl.rcParams['text.latex.unicode'] = True\n",
    "\n",
    "blues = cm.get_cmap(plt.get_cmap('Blues'))\n",
    "greens = cm.get_cmap(plt.get_cmap('Greens'))\n",
    "reds = cm.get_cmap(plt.get_cmap('Reds'))\n",
    "oranges = cm.get_cmap(plt.get_cmap('Oranges'))\n",
    "purples = cm.get_cmap(plt.get_cmap('Purples'))\n",
    "greys = cm.get_cmap(plt.get_cmap('Greys'))\n",
    "\n",
    "from IPython.core.display import display, HTML\n",
    "display(HTML(\"<style>.container { width:100% !important; }</style>\"))\n",
    "import warnings\n",
    "warnings.filterwarnings('ignore')\n",
    "!radical-stack"
   ]
  },
  {
   "cell_type": "code",
   "execution_count": 2,
   "metadata": {
    "ExecuteTime": {
     "end_time": "2019-05-23T15:28:01.614804Z",
     "start_time": "2019-05-23T15:28:01.164500Z"
    },
    "scrolled": false
   },
   "outputs": [
    {
     "name": "stdout",
     "output_type": "stream",
     "text": [
      "Mean 7.541040003299713 STD 3.716655184425225\n"
     ]
    }
   ],
   "source": [
    "rp_session = ra.Session(stype='radical.pilot',src='../Data/DistExp2')\n",
    "units = rp_session.filter(etype='unit', inplace=False)\n",
    "durations = list()\n",
    "for unit in units.get():\n",
    "    duration = unit.duration(event=[{ru.EVENT: 'exec_start'},{ru.EVENT: 'exec_stop'}])\n",
    "    durations.append(duration)\n",
    "    \n",
    "print 'Mean',np.mean(durations), 'STD', np.std(durations)\n",
    "# np.save('dist_dataset',np.array(durations))"
   ]
  }
 ],
 "metadata": {
  "hide_input": false,
  "kernelspec": {
   "display_name": "Python 2",
   "language": "python",
   "name": "python2"
  },
  "language_info": {
   "codemirror_mode": {
    "name": "ipython",
    "version": 2
   },
   "file_extension": ".py",
   "mimetype": "text/x-python",
   "name": "python",
   "nbconvert_exporter": "python",
   "pygments_lexer": "ipython2",
   "version": "2.7.16"
  },
  "latex_envs": {
   "LaTeX_envs_menu_present": true,
   "autoclose": false,
   "autocomplete": true,
   "bibliofile": "biblio.bib",
   "cite_by": "apalike",
   "current_citInitial": 1,
   "eqLabelWithNumbers": true,
   "eqNumInitial": 1,
   "hotkeys": {
    "equation": "Ctrl-E",
    "itemize": "Ctrl-I"
   },
   "labels_anchors": false,
   "latex_user_defs": false,
   "report_style_numbering": false,
   "user_envs_cfg": false
  },
  "varInspector": {
   "cols": {
    "lenName": 16,
    "lenType": 16,
    "lenVar": 40
   },
   "kernels_config": {
    "python": {
     "delete_cmd_postfix": "",
     "delete_cmd_prefix": "del ",
     "library": "var_list.py",
     "varRefreshCmd": "print(var_dic_list())"
    },
    "r": {
     "delete_cmd_postfix": ") ",
     "delete_cmd_prefix": "rm(",
     "library": "var_list.r",
     "varRefreshCmd": "cat(var_dic_list()) "
    }
   },
   "types_to_exclude": [
    "module",
    "function",
    "builtin_function_or_method",
    "instance",
    "_Feature"
   ],
   "window_display": false
  }
 },
 "nbformat": 4,
 "nbformat_minor": 2
}
