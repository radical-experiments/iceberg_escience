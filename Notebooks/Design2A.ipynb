{
 "cells": [
  {
   "cell_type": "code",
   "execution_count": 1,
   "metadata": {
    "ExecuteTime": {
     "end_time": "2019-05-14T22:17:26.721908Z",
     "start_time": "2019-05-14T22:17:25.819769Z"
    }
   },
   "outputs": [
    {
     "data": {
      "text/html": [
       "<style>.container { width:100% !important; }</style>"
      ],
      "text/plain": [
       "<IPython.core.display.HTML object>"
      ]
     },
     "metadata": {},
     "output_type": "display_data"
    },
    {
     "name": "stdout",
     "output_type": "stream",
     "text": [
      "\r\n",
      "  python               : 2.7.16\r\n",
      "  pythonpath           : \r\n",
      "  virtualenv           : radical.analytics\r\n",
      "\r\n",
      "  radical.analytics    : v0.50.0-10-g76b5950@devel\r\n",
      "  radical.entk         : 0.7.8\r\n",
      "  radical.pilot        : 0.50.16\r\n",
      "  radical.utils        : 0.50.2\r\n",
      "  saga                 : 0.50.0\r\n",
      "\r\n"
     ]
    }
   ],
   "source": [
    "%matplotlib inline\n",
    "import radical.analytics as ra\n",
    "import radical.pilot as rp\n",
    "import radical.utils as ru\n",
    "import radical.entk as re\n",
    "\n",
    "from glob import glob\n",
    "import numpy as np\n",
    "from matplotlib import pyplot as plt\n",
    "from matplotlib import cm\n",
    "import csv\n",
    "import pandas as pd\n",
    "import json\n",
    "from scipy.optimize import curve_fit\n",
    "from scipy import stats\n",
    "from pprint import pprint\n",
    "from sklearn.metrics import r2_score\n",
    "import matplotlib as mpl\n",
    "mpl.rcParams['text.usetex'] = True\n",
    "mpl.rcParams['text.latex.unicode'] = True\n",
    "\n",
    "blues = cm.get_cmap(plt.get_cmap('Blues'))\n",
    "greens = cm.get_cmap(plt.get_cmap('Greens'))\n",
    "reds = cm.get_cmap(plt.get_cmap('Reds'))\n",
    "oranges = cm.get_cmap(plt.get_cmap('Oranges'))\n",
    "purples = cm.get_cmap(plt.get_cmap('Purples'))\n",
    "greys = cm.get_cmap(plt.get_cmap('Greys'))\n",
    "\n",
    "from IPython.core.display import display, HTML\n",
    "display(HTML(\"<style>.container { width:100% !important; }</style>\"))\n",
    "import warnings\n",
    "warnings.filterwarnings('ignore')\n",
    "!radical-stack"
   ]
  },
  {
   "cell_type": "code",
   "execution_count": 2,
   "metadata": {
    "ExecuteTime": {
     "end_time": "2019-05-14T22:17:26.799622Z",
     "start_time": "2019-05-14T22:17:26.753637Z"
    }
   },
   "outputs": [],
   "source": [
    "def utilization(timestamps,util='cpu'):\n",
    "    \n",
    "    tile_ids = ['Tile1','Tile2','Tile3','Tile4','Tile5','Tile6','Tile7','Tile8','Tile9','Tile10','Tile11','Tile12']\n",
    "    pred_ids = ['Pred1','Pred2','Pred3','Pred4','Pred5','Pred6','Pred7','Pred8']\n",
    "    cpu_times = list()\n",
    "    gpu_times = list()\n",
    "    cpu_counts = 0\n",
    "    gpu_counts = 0\n",
    "    for index,row in timestamps.iterrows():\n",
    "        if (row['Type'] in tile_ids) and util =='cpu':\n",
    "            cpu_counts += 1\n",
    "            cpu_times.append(row['Start'])\n",
    "            cpu_times.append(row['End'])\n",
    "        if (row['Type'] in pred_ids) and util =='gpu':\n",
    "            gpu_counts += 1\n",
    "            gpu_times.append(row['Start'])\n",
    "            gpu_times.append(row['End'])\n",
    "    \n",
    "    cpu_times.sort()\n",
    "    gpu_times.sort()\n",
    "    print 'Times sorted', cpu_counts, len(cpu_times)\n",
    "    print gpu_counts\n",
    "    cpu_util = list()\n",
    "    if util == 'cpu':\n",
    "        for t in cpu_times:\n",
    "            cnt = 0\n",
    "            for index,row in timestamps.iterrows():\n",
    "                if row['Type'] in tile_ids:\n",
    "                    if t >= row['Start'] and t <= row['End']:\n",
    "                        cnt += 1\n",
    "\n",
    "            cpu_util.append([t, cnt])\n",
    "        print 'Cpu ready'\n",
    "        return cpu_util\n",
    "    \n",
    "    if util == 'gpu':\n",
    "        gpu_util = list()\n",
    "        for t in gpu_times:\n",
    "            cnt = 0\n",
    "            for index,row in timestamps.iterrows():\n",
    "                if row['Type'] in pred_ids:\n",
    "                    if t >= row['Start'] and t <= row['End']:\n",
    "                        cnt += 1\n",
    "\n",
    "            gpu_util.append([t, cnt])\n",
    "        return gpu_util\n",
    "        \n",
    "    return None"
   ]
  },
  {
   "cell_type": "code",
   "execution_count": 3,
   "metadata": {
    "ExecuteTime": {
     "end_time": "2019-05-14T22:17:27.042995Z",
     "start_time": "2019-05-14T22:17:26.963349Z"
    }
   },
   "outputs": [],
   "source": [
    "sid='../Data/Design3Dist2'\n",
    "rp_session = ra.Session(stype='radical.pilot',src=sid)\n",
    "units = rp_session.filter(etype='unit', inplace=False)\n",
    "units_duration = units.duration(event=[{ru.EVENT: 'exec_start'},{ru.EVENT: 'exec_stop'}])\n"
   ]
  },
  {
   "cell_type": "code",
   "execution_count": 4,
   "metadata": {
    "ExecuteTime": {
     "end_time": "2019-05-14T22:17:28.095632Z",
     "start_time": "2019-05-14T22:17:28.090917Z"
    }
   },
   "outputs": [
    {
     "name": "stdout",
     "output_type": "stream",
     "text": [
      "Time to Execution: 59432.5597 seconds or 990.542661667 minutes or  16.5090443611 hours\n"
     ]
    }
   ],
   "source": [
    "print 'Time to Execution:', units_duration, 'seconds or', units_duration/60.0, 'minutes or ', units_duration/60.0/60.0, 'hours'"
   ]
  },
  {
   "cell_type": "code",
   "execution_count": 5,
   "metadata": {
    "ExecuteTime": {
     "end_time": "2019-05-14T22:17:29.531248Z",
     "start_time": "2019-05-14T22:17:28.579004Z"
    },
    "scrolled": false
   },
   "outputs": [
    {
     "data": {
      "image/png": "[encoded data removed]",
      "text/plain": [
       "<Figure size 2160x504 with 4 Axes>"
      ]
     },
     "metadata": {
      "needs_background": "light"
     },
     "output_type": "display_data"
    }
   ],
   "source": [
    "images = pd.DataFrame(columns=['Filename','Size'])\n",
    "\n",
    "nodes_assignments = ['../Data/Design3Dist2/pilot.0000/unit.000000/node1_images.csv',\n",
    "                     '../Data/Design3Dist2/pilot.0000/unit.000001/node2_images.csv',\n",
    "                     '../Data/Design3Dist2/pilot.0000/unit.000002/node3_images.csv',\n",
    "                     '../Data/Design3Dist2/pilot.0000/unit.000003/node4_images.csv']\n",
    "fig, axis = plt.subplots(nrows=1,ncols=4,figsize=(30,7), sharey=True, sharex=True)\n",
    "for i in range(4):\n",
    "    node_images = pd.read_csv(nodes_assignments[i])\n",
    "    axis[i].hist(node_images['Size'].values.tolist(), bins=50)\n",
    "    axis[i].set_xlabel('Image Size in MBs', fontsize=14)\n",
    "    axis[i].set_xticklabels(axis[i].get_xticks().astype('int').tolist(),fontsize=14)\n",
    "    images = images.append(node_images)\n",
    "\n",
    "_ = axis[0].set_yticklabels(axis[0].get_yticks().astype('int').tolist(),fontsize=14)\n",
    "_ = axis[0].set_ylabel('Number of Images',fontsize=14)\n",
    "images.reset_index(inplace=True, drop='index')"
   ]
  },
  {
   "cell_type": "code",
   "execution_count": 6,
   "metadata": {
    "ExecuteTime": {
     "end_time": "2019-05-14T22:17:37.384622Z",
     "start_time": "2019-05-14T22:17:30.658342Z"
    }
   },
   "outputs": [],
   "source": [
    "Tilling = pd.DataFrame(columns=['Size','Time'])\n",
    "\n",
    "tilling = glob('../Data/Design3Dist2/pilot.0000/unit.*/tilling*csv')\n",
    "for filename in tilling:\n",
    "    des1tilling = pd.read_csv(filename)\n",
    "    for index, row in des1tilling.iterrows():\n",
    "        size = int(images.loc[images['Filename'] == row['Image']]['Size'].values[0])\n",
    "        time = row['End'] - row['Start']\n",
    "        Tilling.loc[len(Tilling)] = [size, time]\n",
    "Tilling.sort_values(by='Size',inplace=True)\n",
    "Tilling.reset_index(drop='index',inplace=True)\n",
    "\n",
    "Des3TillingBinned = pd.DataFrame(columns=['Bin','SizeArray','SizeMean','SizeStd','SizeMin','SizeMax','TimeArray','TimeMean','TimeStd','TimeMin','TimeMax'])\n",
    "for i in range(50,2800,125):\n",
    "    Des3TillingBinned.loc[len(Des3TillingBinned)] = [[i, i + 125],Tilling[(i < Tilling['Size']) & (Tilling['Size']< (i + 125))]['Size'].values,\n",
    "                                                                  Tilling[(i < Tilling['Size']) & (Tilling['Size']< (i + 125))]['Size'].values.mean(),\n",
    "                                                                  Tilling[(i < Tilling['Size']) & (Tilling['Size']< (i + 125))]['Size'].values.std(),\n",
    "                                                                  Tilling[(i < Tilling['Size']) & (Tilling['Size']< (i + 125))]['Size'].values.min(),\n",
    "                                                                  Tilling[(i < Tilling['Size']) & (Tilling['Size']< (i + 125))]['Size'].values.max(),\n",
    "                                                                  Tilling[(i < Tilling['Size']) & (Tilling['Size']< (i + 125))]['Time'].values,\n",
    "                                                                  Tilling[(i < Tilling['Size']) & (Tilling['Size']< (i + 125))]['Time'].values.mean(),\n",
    "                                                                  Tilling[(i < Tilling['Size']) & (Tilling['Size']< (i + 125))]['Time'].values.std(),\n",
    "                                                                  Tilling[(i < Tilling['Size']) & (Tilling['Size']< (i + 125))]['Time'].values.min(),\n",
    "                                                                  Tilling[(i < Tilling['Size']) & (Tilling['Size']< (i + 125))]['Time'].values.max()]"
   ]
  },
  {
   "cell_type": "code",
   "execution_count": 7,
   "metadata": {
    "ExecuteTime": {
     "end_time": "2019-05-14T22:17:44.006708Z",
     "start_time": "2019-05-14T22:17:37.701997Z"
    }
   },
   "outputs": [],
   "source": [
    "Node1Tilling = pd.DataFrame(columns=['Size','Time'])\n",
    "tilling = glob('../Data/Design3Dist2/pilot.0000/unit.000000/tilling*csv')\n",
    "for filename in tilling:\n",
    "    des1tilling = pd.read_csv(filename)\n",
    "    for index, row in des1tilling.iterrows():\n",
    "        size = int(images.loc[images['Filename'] == row['Image']]['Size'].values[0])\n",
    "        time = row['End'] - row['Start']\n",
    "        Node1Tilling.loc[len(Node1Tilling)] = [size, time]\n",
    "        \n",
    "Node2Tilling = pd.DataFrame(columns=['Size','Time'])\n",
    "tilling = glob('../Data/Design3Dist2/pilot.0000/unit.000001/tilling*csv')\n",
    "for filename in tilling:\n",
    "    des1tilling = pd.read_csv(filename)\n",
    "    for index, row in des1tilling.iterrows():\n",
    "        size = int(images.loc[images['Filename'] == row['Image']]['Size'].values[0])\n",
    "        time = row['End'] - row['Start']\n",
    "        Node2Tilling.loc[len(Node2Tilling)] = [size, time]\n",
    "        \n",
    "Node3Tilling = pd.DataFrame(columns=['Size','Time'])\n",
    "tilling = glob('../Data/Design3Dist2/pilot.0000/unit.000002/tilling*csv')\n",
    "for filename in tilling:\n",
    "    des1tilling = pd.read_csv(filename)\n",
    "    for index, row in des1tilling.iterrows():\n",
    "        size = int(images.loc[images['Filename'] == row['Image']]['Size'].values[0])\n",
    "        time = row['End'] - row['Start']\n",
    "        Node3Tilling.loc[len(Node3Tilling)] = [size, time]\n",
    "        \n",
    "Node4Tilling = pd.DataFrame(columns=['Size','Time'])\n",
    "tilling = glob('../Data/Design3Dist2/pilot.0000/unit.000003/tilling*csv')\n",
    "for filename in tilling:\n",
    "    des1tilling = pd.read_csv(filename)\n",
    "    for index, row in des1tilling.iterrows():\n",
    "        size = int(images.loc[images['Filename'] == row['Image']]['Size'].values[0])\n",
    "        time = row['End'] - row['Start']\n",
    "        Node4Tilling.loc[len(Node4Tilling)] = [size, time]"
   ]
  },
  {
   "cell_type": "code",
   "execution_count": 8,
   "metadata": {
    "ExecuteTime": {
     "end_time": "2019-05-14T22:17:44.377857Z",
     "start_time": "2019-05-14T22:17:44.373006Z"
    }
   },
   "outputs": [],
   "source": [
    "def func(x, a, b,c):\n",
    "    return a*np.log10(x+b)+c\n",
    "\n",
    "poptTilingDes3 = np.load('../Data/TillingDes3.npy')"
   ]
  },
  {
   "cell_type": "code",
   "execution_count": 9,
   "metadata": {
    "ExecuteTime": {
     "end_time": "2019-05-14T22:17:46.206606Z",
     "start_time": "2019-05-14T22:17:44.789478Z"
    }
   },
   "outputs": [],
   "source": [
    "Node1TillingBinned = pd.DataFrame(columns=['Bin','SizeArray','SizeMean','SizeStd','SizeMin','SizeMax','TimeArray','TimeMean','TimeStd','TimeMin','TimeMax'])\n",
    "for i in range(50,2800,125):\n",
    "    Node1TillingBinned.loc[len(Node1TillingBinned)] = [[i, i + 125],Node1Tilling[(i < Node1Tilling['Size']) & (Node1Tilling['Size']< (i + 125))]['Size'].values,\n",
    "                                                                    Node1Tilling[(i < Node1Tilling['Size']) & (Node1Tilling['Size']< (i + 125))]['Size'].values.mean(),\n",
    "                                                                    Node1Tilling[(i < Node1Tilling['Size']) & (Node1Tilling['Size']< (i + 125))]['Size'].values.std(),\n",
    "                                                                    Node1Tilling[(i < Node1Tilling['Size']) & (Node1Tilling['Size']< (i + 125))]['Size'].values.min(),\n",
    "                                                                    Node1Tilling[(i < Node1Tilling['Size']) & (Node1Tilling['Size']< (i + 125))]['Size'].values.max(),\n",
    "                                                                    Node1Tilling[(i < Node1Tilling['Size']) & (Node1Tilling['Size']< (i + 125))]['Time'].values,\n",
    "                                                                    Node1Tilling[(i < Node1Tilling['Size']) & (Node1Tilling['Size']< (i + 125))]['Time'].values.mean(),\n",
    "                                                                    Node1Tilling[(i < Node1Tilling['Size']) & (Node1Tilling['Size']< (i + 125))]['Time'].values.std(),\n",
    "                                                                    Node1Tilling[(i < Node1Tilling['Size']) & (Node1Tilling['Size']< (i + 125))]['Time'].values.min(),\n",
    "                                                                    Node1Tilling[(i < Node1Tilling['Size']) & (Node1Tilling['Size']< (i + 125))]['Time'].values.max()]\n",
    "\n",
    "Node2TillingBinned = pd.DataFrame(columns=['Bin','SizeArray','SizeMean','SizeStd','SizeMin','SizeMax','TimeArray','TimeMean','TimeStd','TimeMin','TimeMax'])\n",
    "for i in range(50,2800,125):\n",
    "    Node2TillingBinned.loc[len(Node2TillingBinned)] = [[i, i + 125],Node2Tilling[(i < Node2Tilling['Size']) & (Node2Tilling['Size']< (i + 125))]['Size'].values,\n",
    "                                                                    Node2Tilling[(i < Node2Tilling['Size']) & (Node2Tilling['Size']< (i + 125))]['Size'].values.mean(),\n",
    "                                                                    Node2Tilling[(i < Node2Tilling['Size']) & (Node2Tilling['Size']< (i + 125))]['Size'].values.std(),\n",
    "                                                                    Node2Tilling[(i < Node2Tilling['Size']) & (Node2Tilling['Size']< (i + 125))]['Size'].values.min(),\n",
    "                                                                    Node2Tilling[(i < Node2Tilling['Size']) & (Node2Tilling['Size']< (i + 125))]['Size'].values.max(),\n",
    "                                                                    Node2Tilling[(i < Node2Tilling['Size']) & (Node2Tilling['Size']< (i + 125))]['Time'].values,\n",
    "                                                                    Node2Tilling[(i < Node2Tilling['Size']) & (Node2Tilling['Size']< (i + 125))]['Time'].values.mean(),\n",
    "                                                                    Node2Tilling[(i < Node2Tilling['Size']) & (Node2Tilling['Size']< (i + 125))]['Time'].values.std(),\n",
    "                                                                    Node2Tilling[(i < Node2Tilling['Size']) & (Node2Tilling['Size']< (i + 125))]['Time'].values.min(),\n",
    "                                                                    Node2Tilling[(i < Node2Tilling['Size']) & (Node2Tilling['Size']< (i + 125))]['Time'].values.max()]\n",
    "\n",
    "Node3TillingBinned = pd.DataFrame(columns=['Bin','SizeArray','SizeMean','SizeStd','SizeMin','SizeMax','TimeArray','TimeMean','TimeStd','TimeMin','TimeMax'])\n",
    "for i in range(50,2800,125):\n",
    "    Node3TillingBinned.loc[len(Node3TillingBinned)] = [[i, i + 125],Node3Tilling[(i < Node3Tilling['Size']) & (Node3Tilling['Size']< (i + 125))]['Size'].values,\n",
    "                                                                    Node3Tilling[(i < Node3Tilling['Size']) & (Node3Tilling['Size']< (i + 125))]['Size'].values.mean(),\n",
    "                                                                    Node3Tilling[(i < Node3Tilling['Size']) & (Node3Tilling['Size']< (i + 125))]['Size'].values.std(),\n",
    "                                                                    Node3Tilling[(i < Node3Tilling['Size']) & (Node3Tilling['Size']< (i + 125))]['Size'].values.min(),\n",
    "                                                                    Node3Tilling[(i < Node3Tilling['Size']) & (Node3Tilling['Size']< (i + 125))]['Size'].values.max(),\n",
    "                                                                    Node3Tilling[(i < Node3Tilling['Size']) & (Node3Tilling['Size']< (i + 125))]['Time'].values,\n",
    "                                                                    Node3Tilling[(i < Node3Tilling['Size']) & (Node3Tilling['Size']< (i + 125))]['Time'].values.mean(),\n",
    "                                                                    Node3Tilling[(i < Node3Tilling['Size']) & (Node3Tilling['Size']< (i + 125))]['Time'].values.std(),\n",
    "                                                                    Node3Tilling[(i < Node3Tilling['Size']) & (Node3Tilling['Size']< (i + 125))]['Time'].values.min(),\n",
    "                                                                    Node3Tilling[(i < Node3Tilling['Size']) & (Node3Tilling['Size']< (i + 125))]['Time'].values.max()]\n",
    "\n",
    "Node4TillingBinned = pd.DataFrame(columns=['Bin','SizeArray','SizeMean','SizeStd','SizeMin','SizeMax','TimeArray','TimeMean','TimeStd','TimeMin','TimeMax'])\n",
    "for i in range(50,2800,125):\n",
    "    Node4TillingBinned.loc[len(Node4TillingBinned)] = [[i, i + 125],Node4Tilling[(i < Node4Tilling['Size']) & (Node4Tilling['Size']< (i + 125))]['Size'].values,\n",
    "                                                                    Node4Tilling[(i < Node4Tilling['Size']) & (Node4Tilling['Size']< (i + 125))]['Size'].values.mean(),\n",
    "                                                                    Node4Tilling[(i < Node4Tilling['Size']) & (Node4Tilling['Size']< (i + 125))]['Size'].values.std(),\n",
    "                                                                    Node4Tilling[(i < Node4Tilling['Size']) & (Node4Tilling['Size']< (i + 125))]['Size'].values.min(),\n",
    "                                                                    Node4Tilling[(i < Node4Tilling['Size']) & (Node4Tilling['Size']< (i + 125))]['Size'].values.max(),\n",
    "                                                                    Node4Tilling[(i < Node4Tilling['Size']) & (Node4Tilling['Size']< (i + 125))]['Time'].values,\n",
    "                                                                    Node4Tilling[(i < Node4Tilling['Size']) & (Node4Tilling['Size']< (i + 125))]['Time'].values.mean(),\n",
    "                                                                    Node4Tilling[(i < Node4Tilling['Size']) & (Node4Tilling['Size']< (i + 125))]['Time'].values.std(),\n",
    "                                                                    Node4Tilling[(i < Node4Tilling['Size']) & (Node4Tilling['Size']< (i + 125))]['Time'].values.min(),\n",
    "                                                                    Node4Tilling[(i < Node4Tilling['Size']) & (Node4Tilling['Size']< (i + 125))]['Time'].values.max()]"
   ]
  },
  {
   "cell_type": "code",
   "execution_count": 13,
   "metadata": {
    "ExecuteTime": {
     "end_time": "2019-05-14T22:20:51.510338Z",
     "start_time": "2019-05-14T22:20:49.213347Z"
    }
   },
   "outputs": [
    {
     "name": "stdout",
     "output_type": "stream",
     "text": [
      "Node 1 Logarithmic: R-squared -3.4742686653917403 Standard Error of the Estimation:  52.65988314206529\n",
      "Design 3 Stage 1 Node 1 TTX summation: 64691.2020111084 Predicted TTX summation:  102018.30085270046\n",
      "Node 1 Logarithmic: R-squared -2.6538391276284803 Standard Error of the Estimation:  51.5552972960109\n",
      "Design 3 Stage 1 Node 1 TTX summation: 65548.2312374115 Predicted TTX summation:  101868.83397949589\n",
      "Node 1 Logarithmic: R-squared 0.037100802980930214 Standard Error of the Estimation:  233.98288844887665\n",
      "Design 3 Stage 1 Node 1 TTX summation: 159584.02106642723 Predicted TTX summation:  101906.45720482687\n",
      "Node 1 Logarithmic: R-squared -3.5844931383518865 Standard Error of the Estimation:  51.68359105643583\n",
      "Design 3 Stage 1 Node 1 TTX summation: 65378.11245536804 Predicted TTX summation:  101942.66501080286\n"
     ]
    },
    {
     "data": {
      "image/png": "[encoded data removed]",
      "text/plain": [
       "<Figure size 2160x1080 with 8 Axes>"
      ]
     },
     "metadata": {
      "needs_background": "light"
     },
     "output_type": "display_data"
    }
   ],
   "source": [
    "fig, axis = plt.subplots(nrows=2, ncols=4, figsize=(30, 15), sharey='row', sharex='row')\n",
    "_ = axis[0,0].scatter(Node1Tilling['Size'].values, Node1Tilling['Time'].values, color=blues(150))\n",
    "_ = axis[0,1].scatter(Node2Tilling['Size'].values, Node2Tilling['Time'].values, color=blues(150))\n",
    "_ = axis[0,2].scatter(Node3Tilling['Size'].values, Node3Tilling['Time'].values, color=blues(150))\n",
    "_ = axis[0,3].scatter(Node4Tilling['Size'].values, Node4Tilling['Time'].values, color=blues(150))\n",
    "for i in range(4):\n",
    "    _ = axis[0,i].set_xlabel('Image Size in MBs', fontsize=14)\n",
    "    _ = axis[0,i].set_xticklabels(axis[0,i].get_xticks().astype('int').tolist(),fontsize=14)\n",
    "    _ = axis[0,i].set_yticklabels(axis[0,i].get_yticks().astype('int').tolist(),fontsize=14)\n",
    "    _ = axis[0,i].set_title('Tilling Node %d' % (i + 1), fontsize=14)\n",
    "\n",
    "_ = axis[0,0].set_ylabel('Execution time in Seconds',fontsize=14)\n",
    "\n",
    "_ = axis[1,0].boxplot(Node1TillingBinned['TimeArray'].values)\n",
    "_ = axis[1,1].boxplot(Node2TillingBinned['TimeArray'].values)\n",
    "_ = axis[1,2].boxplot(Node3TillingBinned['TimeArray'].values)\n",
    "_ = axis[1,3].boxplot(Node4TillingBinned['TimeArray'].values)\n",
    "\n",
    "for i in range(4):\n",
    "    _ = axis[1,i].set_xticklabels(axis[1,i].get_xticks().astype('int').tolist(),fontsize=14)\n",
    "    _ = axis[1,i].set_yticklabels(axis[1,i].get_yticks().astype('int').tolist(),fontsize=14)\n",
    "    \n",
    "TillingPredDes3Node1 = func(Node1Tilling['Size'].values, *poptTilingDes3)\n",
    "s1 = np.sqrt(np.sum(np.power((Node1Tilling['Time'].values - TillingPredDes3Node1), 2))/(len(Node1Tilling['Time'].values)-3))\n",
    "TillingPredDes3Node2 = func(Node2Tilling['Size'].values, *poptTilingDes3)\n",
    "s2 = np.sqrt(np.sum(np.power((Node2Tilling['Time'].values - TillingPredDes3Node2), 2))/(len(Node2Tilling['Time'].values)-3))\n",
    "TillingPredDes3Node3 = func(Node3Tilling['Size'].values, *poptTilingDes3)\n",
    "s3 = np.sqrt(np.sum(np.power((Node3Tilling['Time'].values - TillingPredDes3Node3), 2))/(len(Node3Tilling['Time'].values)-3))\n",
    "TillingPredDes3Node4 = func(Node4Tilling['Size'].values, *poptTilingDes3)\n",
    "s4 = np.sqrt(np.sum(np.power((Node4Tilling['Time'].values - TillingPredDes3Node4), 2))/(len(Node4Tilling['Time'].values)-3))\n",
    "print 'Node 1 Logarithmic: R-squared', r2_score(Node1Tilling['Time'].values, TillingPredDes3Node1), 'Standard Error of the Estimation: ', s1\n",
    "print 'Design 3 Stage 1 Node 1 TTX summation:', Node1Tilling['Time'].values.sum(), 'Predicted TTX summation: ', TillingPredDes3Node1.sum()\n",
    "print 'Node 1 Logarithmic: R-squared', r2_score(Node2Tilling['Time'].values, TillingPredDes3Node2), 'Standard Error of the Estimation: ', s2\n",
    "print 'Design 3 Stage 1 Node 1 TTX summation:', Node2Tilling['Time'].values.sum(), 'Predicted TTX summation: ', TillingPredDes3Node2.sum()\n",
    "print 'Node 1 Logarithmic: R-squared', r2_score(Node3Tilling['Time'].values, TillingPredDes3Node3), 'Standard Error of the Estimation: ', s3\n",
    "print 'Design 3 Stage 1 Node 1 TTX summation:', Node3Tilling['Time'].values.sum(), 'Predicted TTX summation: ', TillingPredDes3Node3.sum()\n",
    "print 'Node 1 Logarithmic: R-squared', r2_score(Node4Tilling['Time'].values, TillingPredDes3Node4), 'Standard Error of the Estimation: ', s4\n",
    "print 'Design 3 Stage 1 Node 1 TTX summation:', Node4Tilling['Time'].values.sum(), 'Predicted TTX summation: ', TillingPredDes3Node4.sum()\n"
   ]
  },
  {
   "cell_type": "code",
   "execution_count": null,
   "metadata": {
    "ExecuteTime": {
     "end_time": "2019-05-05T15:42:49.292965Z",
     "start_time": "2019-05-05T15:42:48.248858Z"
    }
   },
   "outputs": [],
   "source": [
    "\n",
    "xdata = Tilling['Size'].values\n",
    "ydata = Tilling['Time'].values\n",
    "x = np.array(range(50,2950,50))\n",
    "y = func(x, *poptTilingDes3)\n",
    "\n",
    "fig,axis = plt.subplots(nrows=1,ncols=2,figsize=(25,7),sharey='row')\n",
    "_ = axis[0].scatter(xdata,ydata,color=blues(150),label=\"Task Execution Time\")\n",
    "_ = axis[0].plot(x, y, 'r-', label=\"Fitted Logarithmic Curve\")\n",
    "_ = axis[0].set_ylabel('Execution Time in seconds',fontsize=14)\n",
    "_ = axis[0].set_xlabel('Image Size in MBs',fontsize=14)\n",
    "_ = axis[0].set_xticks(np.array(range(50,3050,125)))\n",
    "_ = axis[0].set_xticklabels(axis[0].get_xticks().astype('int').tolist(),fontsize=14, rotation=45)\n",
    "_ = axis[0].set_yticklabels(axis[0].get_yticks().astype('int').tolist(),fontsize=14)\n",
    "_ = axis[0].grid('on')\n",
    "_ = axis[0].legend(fontsize=14)    \n",
    "_ = axis[1].boxplot(Des3TillingBinned['TimeArray'].values)\n",
    "x = Des3TillingBinned['SizeMean'].values\n",
    "y = func(x, *poptTilingDes3)\n",
    "s1 = np.sqrt(np.sum(np.power((Des3TillingBinned['TimeMean'].values - y), 2))/(len(y)-3))\n",
    "_ = axis[1].errorbar(range(1,23),Des3TillingBinned['TimeMean'].values,yerr=Des3TillingBinned['TimeStd'].values,marker='o',label='Mean Execution Time')\n",
    "_ = axis[1].plot(range(1,23), y, 'r-', label=\"Fitted Logarithmic Curve\")\n",
    "_ = axis[1].fill_between(range(1,23),y - s1, y + s1, color=reds(250), alpha=0.2)\n",
    "_ = axis[1].set_ylabel('Execution Time in seconds',fontsize=14)\n",
    "_ = axis[1].set_xlabel('Bin Index',fontsize=14)\n",
    "_ = axis[1].set_xticklabels(axis[1].get_xticks().astype('int').tolist(),fontsize=14, rotation=45)\n",
    "_ = axis[1].set_yticklabels(axis[1].get_yticks().astype('int').tolist(),fontsize=14)\n",
    "_ = axis[1].grid('on')\n",
    "_ = axis[1].legend(fontsize=14)\n",
    "\n",
    "TillingPredDes3 = func(xdata, *poptTilingDes3)\n",
    "print 'Logarithmic: R-squared', r2_score(Des3TillingBinned['TimeMean'].values,y), 'Standard Error of the Estimation: ', s1\n",
    "print 'Design 3 Stage 1 TTX summation:', ydata.sum(), 'Predicted TTX summation: ', TillingPredDes3.sum()\n",
    "#fig.savefig('stage_0_execution_time.pdf',dpi=800,bbox_inches='tight')"
   ]
  },
  {
   "cell_type": "code",
   "execution_count": null,
   "metadata": {
    "ExecuteTime": {
     "end_time": "2019-05-05T15:42:56.175174Z",
     "start_time": "2019-05-05T15:42:49.296524Z"
    }
   },
   "outputs": [],
   "source": [
    "Pred = pd.DataFrame(columns=['Size','Time'])\n",
    "\n",
    "pred_files = glob('Design3Dist2/pilot.0000/unit.*/pred*csv')\n",
    "for filename in pred_files:\n",
    "    des1pred = pd.read_csv(filename)\n",
    "    for index, row in des1pred.iterrows():\n",
    "        size = int(images.loc[images['Filename'] == '/pylon5/mc3bggp/bspitz/Seals/' + row['Image'] + '.tif']['Size'].values[0])\n",
    "        time = row['End'] - row['Start']\n",
    "        Pred.loc[len(Pred)] = [size, time]\n",
    "Pred.sort_values(by='Size',inplace=True)\n",
    "Pred.reset_index(drop='index',inplace=True)\n",
    "\n",
    "Des3PredBinned = pd.DataFrame(columns=['Bin','SizeArray','SizeMean','SizeStd','SizeMin','SizeMax','TimeArray','TimeMean','TimeStd','TimeMin','TimeMax'])\n",
    "for i in range(50,2800,125):\n",
    "    Des3PredBinned.loc[len(Des3PredBinned)] = [[i, i + 125],Pred[(i < Pred['Size']) & (Pred['Size']< (i + 125))]['Size'].values,\n",
    "                                                            Pred[(i < Pred['Size']) & (Pred['Size']< (i + 125))]['Size'].values.mean(),\n",
    "                                                            Pred[(i < Pred['Size']) & (Pred['Size']< (i + 125))]['Size'].values.std(),\n",
    "                                                            Pred[(i < Pred['Size']) & (Pred['Size']< (i + 125))]['Size'].values.min(),\n",
    "                                                            Pred[(i < Pred['Size']) & (Pred['Size']< (i + 125))]['Size'].values.max(),\n",
    "                                                            Pred[(i < Pred['Size']) & (Pred['Size']< (i + 125))]['Time'].values,\n",
    "                                                            Pred[(i < Pred['Size']) & (Pred['Size']< (i + 125))]['Time'].values.mean(),\n",
    "                                                            Pred[(i < Pred['Size']) & (Pred['Size']< (i + 125))]['Time'].values.std(),\n",
    "                                                            Pred[(i < Pred['Size']) & (Pred['Size']< (i + 125))]['Time'].values.min(),\n",
    "                                                            Pred[(i < Pred['Size']) & (Pred['Size']< (i + 125))]['Time'].values.max()]"
   ]
  },
  {
   "cell_type": "code",
   "execution_count": null,
   "metadata": {
    "ExecuteTime": {
     "end_time": "2019-05-05T15:42:56.184845Z",
     "start_time": "2019-05-05T15:42:56.178705Z"
    }
   },
   "outputs": [],
   "source": [
    "def func(x, a, b):\n",
    "    return a*x+b\n",
    "\n",
    "xdata = Pred['Size'].values\n",
    "ydata = Pred['Time'].values\n",
    "poptPredDes3 = np.load('PredDes3.npy')\n",
    "x = np.array(range(50,2950,50))\n",
    "y = func(x, *poptPredDes3)\n"
   ]
  },
  {
   "cell_type": "code",
   "execution_count": null,
   "metadata": {
    "ExecuteTime": {
     "end_time": "2019-05-05T15:42:57.273715Z",
     "start_time": "2019-05-05T15:42:56.188895Z"
    }
   },
   "outputs": [],
   "source": [
    "fig, axis = plt.subplots(nrows=1, ncols=2, figsize=(25,7), sharey='row')\n",
    "_ = axis[0].scatter(xdata, ydata, color=blues(150), label=\"Task Execution Time\")\n",
    "_ = axis[0].plot(x, y, 'r-', label=\"Fitted Linear Curve\")\n",
    "_ = axis[0].set_ylabel('Execution Time in seconds',fontsize=14)\n",
    "_ = axis[0].set_xlabel('Image Size in MBs',fontsize=14)\n",
    "_ = axis[0].set_xticks(np.array(range(50,3050,125)))\n",
    "_ = axis[0].set_xticklabels(axis[0].get_xticks().astype('int').tolist(),fontsize=14, rotation=45)\n",
    "_ = axis[0].set_yticklabels(axis[0].get_yticks().astype('int').tolist(),fontsize=14)\n",
    "_ = axis[0].grid('on')\n",
    "_ = axis[0].legend(fontsize=14)\n",
    "x = Des3PredBinned['SizeMean'].values\n",
    "y = func(x, *poptPredDes3)\n",
    "s1 = np.sqrt(np.sum(np.power((Des3PredBinned['TimeMean'].values - y), 2))/(len(y)-2))\n",
    "_ = axis[1].boxplot(Des3PredBinned['TimeArray'].values)\n",
    "_ = axis[1].errorbar(range(1,23),Des3PredBinned['TimeMean'].values,yerr=Des3PredBinned['TimeStd'].values,marker='o',label='Mean Execution Time')\n",
    "_ = axis[1].plot(range(1,23), y, 'r-', label=\"Fitted Linear Curve\")\n",
    "_ = axis[1].fill_between(range(1,23),y - s1, y + s1, color=reds(250), alpha=0.2)\n",
    "_ = axis[1].set_ylabel('Execution Time in seconds',fontsize=14)\n",
    "_ = axis[1].set_xlabel('Bin Index',fontsize=14)\n",
    "_ = axis[1].set_xticklabels(axis[1].get_xticks().astype('int').tolist(),fontsize=14, rotation=45)\n",
    "_ = axis[1].set_yticklabels(axis[1].get_yticks().astype('int').tolist(),fontsize=14)\n",
    "_ = axis[1].grid('on')\n",
    "_ = axis[1].legend(fontsize=14)\n",
    "\n",
    "PredPredDes3 = func(xdata, *poptPredDes3)\n",
    "print 'Logarithmic: R-squared', r2_score(Des3PredBinned['TimeMean'].values,y), 'Standard Error of the Estimation: ', s1\n",
    "print 'Design 3 Stage 1 TTX summation:', ydata.sum(), 'Predicted TTX summation: ', PredPredDes3.sum()\n",
    "#fig.savefig('stage_0_execution_time.pdf',dpi=800,bbox_inches='tight')"
   ]
  },
  {
   "cell_type": "code",
   "execution_count": null,
   "metadata": {
    "ExecuteTime": {
     "end_time": "2019-05-05T15:42:58.114429Z",
     "start_time": "2019-05-05T15:42:57.276795Z"
    }
   },
   "outputs": [],
   "source": [
    "fig, axis = plt.subplots(nrows=1,ncols=4,figsize=(30,7), sharey=True, sharex=True)\n",
    "for i in range(4):\n",
    "    tiled_csvs = glob('Design3Dist2/pilot.0000/unit.%06d/tilling*.csv' % i)\n",
    "    tiles = list()\n",
    "    for filename in tiled_csvs:\n",
    "        des1tilled = pd.read_csv(filename)\n",
    "        tiles += des1tilled['Tiles'].values.tolist()\n",
    "    axis[i].hist(tiles, bins=50, color=blues(150))\n",
    "    axis[i].set_xlabel('Number of Tiles', fontsize=14)\n",
    "    axis[i].set_xticklabels(axis[i].get_xticks().astype('int').tolist(),fontsize=14)\n",
    "\n",
    "_ = axis[0].set_yticklabels(axis[0].get_xticks().astype('int').tolist(),fontsize=14)\n",
    "_ = axis[0].set_ylabel('Number of Images',fontsize=14)\n",
    "    "
   ]
  },
  {
   "cell_type": "code",
   "execution_count": null,
   "metadata": {
    "ExecuteTime": {
     "end_time": "2019-05-05T15:42:58.929828Z",
     "start_time": "2019-05-05T15:42:58.118380Z"
    }
   },
   "outputs": [],
   "source": [
    "fig, axis = plt.subplots(nrows=1,ncols=4,figsize=(30,7), sharey=True, sharex=True)\n",
    "for i in range(4):\n",
    "    tiled_csvs = glob('Design3Dist2/pilot.0000/unit.%06d/pred*.csv' % i)\n",
    "    tiles = list()\n",
    "    for filename in tiled_csvs:\n",
    "        des1tilled = pd.read_csv(filename)\n",
    "        tiles += des1tilled['Seals'].values.tolist()\n",
    "    axis[i].hist(tiles, bins=50, color=blues(150))\n",
    "    axis[i].set_xlabel('Number of Seals', fontsize=14)\n",
    "    axis[i].set_xticklabels(axis[i].get_xticks().astype('int').tolist(),fontsize=14)\n",
    "\n",
    "_ = axis[0].set_yticklabels(axis[0].get_xticks().astype('int').tolist(),fontsize=14)\n",
    "_ = axis[0].set_ylabel('Number of Images',fontsize=14)"
   ]
  },
  {
   "cell_type": "code",
   "execution_count": null,
   "metadata": {
    "ExecuteTime": {
     "end_time": "2019-05-05T15:43:01.803350Z",
     "start_time": "2019-05-05T15:42:58.933600Z"
    }
   },
   "outputs": [],
   "source": [
    "Node1 = pd.DataFrame(columns=['Start','End','Type'])\n",
    "Node1Tilling = pd.read_csv('Design3Dist2/pilot.0000/unit.000000/tilling1.csv')\n",
    "for index,row in Node1Tilling.iterrows():\n",
    "    Node1.loc[len(Node1)] = [row['Start'],row['End'],'Tile1']\n",
    "Node1Tilling = pd.read_csv('Design3Dist2/pilot.0000/unit.000000/tilling2.csv')\n",
    "for index,row in Node1Tilling.iterrows():\n",
    "    Node1.loc[len(Node1)] = [row['Start'],row['End'],'Tile2']\n",
    "Node1Tilling = pd.read_csv('Design3Dist2/pilot.0000/unit.000000/tilling3.csv')\n",
    "for index,row in Node1Tilling.iterrows():\n",
    "    Node1.loc[len(Node1)] = [row['Start'],row['End'],'Tile3']\n",
    "\n",
    "Node1Tilling = pd.read_csv('Design3Dist2/pilot.0000/unit.000000/pred1.csv')\n",
    "for index,row in Node1Tilling.iterrows():\n",
    "    Node1.loc[len(Node1)] = [row['Start'],row['End'],'Pred1']\n",
    "Node1Tilling = pd.read_csv('Design3Dist2/pilot.0000/unit.000000/pred2.csv')\n",
    "for index,row in Node1Tilling.iterrows():\n",
    "    Node1.loc[len(Node1)] = [row['Start'],row['End'],'Pred2']"
   ]
  },
  {
   "cell_type": "code",
   "execution_count": null,
   "metadata": {
    "ExecuteTime": {
     "end_time": "2019-05-05T15:43:04.668782Z",
     "start_time": "2019-05-05T15:43:01.806771Z"
    }
   },
   "outputs": [],
   "source": [
    "Node2 = pd.DataFrame(columns=['Start','End','Type'])\n",
    "Node2Tilling = pd.read_csv('Design3Dist2/pilot.0000/unit.000001/tilling09.csv')\n",
    "for index,row in Node2Tilling.iterrows():\n",
    "    Node2.loc[len(Node2)] = [row['Start'],row['End'],'Tile4']\n",
    "Node2Tilling = pd.read_csv('Design3Dist2/pilot.0000/unit.000001/tilling10.csv')\n",
    "for index,row in Node2Tilling.iterrows():\n",
    "    Node2.loc[len(Node2)] = [row['Start'],row['End'],'Tile5']\n",
    "Node2Tilling = pd.read_csv('Design3Dist2/pilot.0000/unit.000001/tilling11.csv')\n",
    "for index,row in Node2Tilling.iterrows():\n",
    "    Node2.loc[len(Node2)] = [row['Start'],row['End'],'Tile6']\n",
    "Node2Tilling = pd.read_csv('Design3Dist2/pilot.0000/unit.000001/pred3.csv')\n",
    "for index,row in Node2Tilling.iterrows():\n",
    "    Node2.loc[len(Node2)] = [row['Start'],row['End'],'Pred3']\n",
    "Node2Tilling = pd.read_csv('Design3Dist2/pilot.0000/unit.000001/pred4.csv')\n",
    "for index,row in Node2Tilling.iterrows():\n",
    "    Node2.loc[len(Node2)] = [row['Start'],row['End'],'Pred4']"
   ]
  },
  {
   "cell_type": "code",
   "execution_count": null,
   "metadata": {
    "ExecuteTime": {
     "end_time": "2019-05-05T15:43:07.552903Z",
     "start_time": "2019-05-05T15:43:04.672860Z"
    }
   },
   "outputs": [],
   "source": [
    "Node3 = pd.DataFrame(columns=['Start','End','Type'])\n",
    "Node3Tilling = pd.read_csv('Design3Dist2/pilot.0000/unit.000002/tilling17.csv')\n",
    "for index,row in Node3Tilling.iterrows():\n",
    "    Node3.loc[len(Node3)] = [row['Start'],row['End'],'Tile7']\n",
    "Node3Tilling = pd.read_csv('Design3Dist2/pilot.0000/unit.000002/tilling18.csv')\n",
    "for index,row in Node3Tilling.iterrows():\n",
    "    Node3.loc[len(Node3)] = [row['Start'],row['End'],'Tile8']\n",
    "Node3Tilling = pd.read_csv('Design3Dist2/pilot.0000/unit.000002/tilling19.csv')\n",
    "for index,row in Node3Tilling.iterrows():\n",
    "    Node3.loc[len(Node3)] = [row['Start'],row['End'],'Tile9']\n",
    "Node3Tilling = pd.read_csv('Design3Dist2/pilot.0000/unit.000002/pred5.csv')\n",
    "for index,row in Node3Tilling.iterrows():\n",
    "    Node3.loc[len(Node3)] = [row['Start'],row['End'],'Pred5']\n",
    "Node3Tilling = pd.read_csv('Design3Dist2/pilot.0000/unit.000002/pred6.csv')\n",
    "for index,row in Node3Tilling.iterrows():\n",
    "    Node3.loc[len(Node3)] = [row['Start'],row['End'],'Pred6']"
   ]
  },
  {
   "cell_type": "code",
   "execution_count": null,
   "metadata": {
    "ExecuteTime": {
     "end_time": "2019-05-05T15:43:10.453839Z",
     "start_time": "2019-05-05T15:43:07.556435Z"
    }
   },
   "outputs": [],
   "source": [
    "Node4 = pd.DataFrame(columns=['Start','End','Type'])\n",
    "Node4Tilling = pd.read_csv('Design3Dist2/pilot.0000/unit.000003/tilling25.csv')\n",
    "for index,row in Node4Tilling.iterrows():\n",
    "    Node4.loc[len(Node4)] = [row['Start'],row['End'],'Tile10']\n",
    "Node4Tilling = pd.read_csv('Design3Dist2/pilot.0000/unit.000003/tilling26.csv')\n",
    "for index,row in Node4Tilling.iterrows():\n",
    "    Node4.loc[len(Node4)] = [row['Start'],row['End'],'Tile11']\n",
    "Node4Tilling = pd.read_csv('Design3Dist2/pilot.0000/unit.000003/tilling27.csv')\n",
    "for index,row in Node4Tilling.iterrows():\n",
    "    Node4.loc[len(Node4)] = [row['Start'],row['End'],'Tile12']\n",
    "Node4Tilling = pd.read_csv('Design3Dist2/pilot.0000/unit.000003/pred7.csv')\n",
    "for index,row in Node4Tilling.iterrows():\n",
    "    Node4.loc[len(Node4)] = [row['Start'],row['End'],'Pred7']\n",
    "Node4Tilling = pd.read_csv('Design3Dist2/pilot.0000/unit.000003/pred8.csv')\n",
    "for index,row in Node4Tilling.iterrows():\n",
    "    Node4.loc[len(Node4)] = [row['Start'],row['End'],'Pred8']"
   ]
  },
  {
   "cell_type": "code",
   "execution_count": null,
   "metadata": {
    "ExecuteTime": {
     "end_time": "2019-05-05T15:43:16.912363Z",
     "start_time": "2019-05-05T15:43:10.457791Z"
    }
   },
   "outputs": [],
   "source": [
    "Design3 = Node1\n",
    "Design3 = Design3.append(Node2)\n",
    "Design3 = Design3.append(Node3)\n",
    "Design3 = Design3.append(Node4)\n",
    "Design3.reset_index(inplace=True,drop='index)')\n",
    "\n",
    "Node1.sort_values('Start',axis=0,inplace=True)\n",
    "Node1.reset_index(inplace=True,drop='index')\n",
    "ZeroTime = Node1['Start'][0]\n",
    "for index, row in Node1.iterrows():\n",
    "    Node1.loc[index] = [row['Start'] - ZeroTime, row['End'] - ZeroTime, row['Type']]\n",
    "    \n",
    "Node2.sort_values('Start',axis=0,inplace=True)\n",
    "Node2.reset_index(inplace=True,drop='index')\n",
    "ZeroTime = Node2['Start'][0]\n",
    "for index, row in Node2.iterrows():\n",
    "    Node2.loc[index] = [row['Start'] - ZeroTime, row['End'] - ZeroTime, row['Type']]\n",
    "    \n",
    "Node3.sort_values('Start',axis=0,inplace=True)\n",
    "Node3.reset_index(inplace=True,drop='index')\n",
    "ZeroTime = Node3['Start'][0]\n",
    "for index, row in Node3.iterrows():\n",
    "    Node3.loc[index] = [row['Start'] - ZeroTime, row['End'] - ZeroTime, row['Type']]\n",
    "Node4.sort_values('Start',axis=0,inplace=True)\n",
    "Node4.reset_index(inplace=True,drop='index')\n",
    "ZeroTime = Node4['Start'][0]\n",
    "for index, row in Node4.iterrows():\n",
    "    Node4.loc[index] = [row['Start'] - ZeroTime, row['End'] - ZeroTime, row['Type']]"
   ]
  },
  {
   "cell_type": "code",
   "execution_count": null,
   "metadata": {
    "ExecuteTime": {
     "end_time": "2019-05-05T15:43:33.221429Z",
     "start_time": "2019-05-05T15:43:16.915064Z"
    }
   },
   "outputs": [],
   "source": [
    "#%matplotlib notebook\n",
    "fig, axis = plt.subplots(nrows=4,ncols=1,figsize=(30,16),sharex=True)\n",
    "for index, row in Node1.iterrows():\n",
    "    if row['Type'] == 'Tile1':\n",
    "        axis[0].hlines(1, row['Start'],row['End'], colors=blues(150), lw=20)\n",
    "    elif row['Type'] == 'Tile2': \n",
    "        axis[0].hlines(2, row['Start'],row['End'], colors=blues(150), lw=20)\n",
    "    elif row['Type'] == 'Tile3': \n",
    "        axis[0].hlines(3, row['Start'],row['End'], colors=blues(150), lw=20)\n",
    "    elif row['Type'] == 'Pred1': \n",
    "        axis[0].hlines(4, row['Start'],row['End'], colors=reds(150), lw=20)\n",
    "    elif row['Type'] == 'Pred2': \n",
    "        axis[0].hlines(5, row['Start'],row['End'], colors=reds(150), lw=20)\n",
    "\n",
    "_ = axis[0].set_yticks([1,2,3,4,5])\n",
    "_ = axis[0].set_yticklabels( ['CPU 1', 'CPU 2', 'CPU 3', 'GPU 1', 'GPU 2'], fontsize=16)\n",
    "for index, row in Node2.iterrows():\n",
    "    if row['Type'] == 'Tile4':\n",
    "        axis[1].hlines(1, row['Start'],row['End'], colors=blues(150), lw=20)\n",
    "    elif row['Type'] == 'Tile5': \n",
    "        axis[1].hlines(2, row['Start'],row['End'], colors=blues(150), lw=20)\n",
    "    elif row['Type'] == 'Tile6': \n",
    "        axis[1].hlines(3, row['Start'],row['End'], colors=blues(150), lw=20)\n",
    "    elif row['Type'] == 'Pred3': \n",
    "        axis[1].hlines(4, row['Start'],row['End'], colors=reds(150), lw=20)\n",
    "    elif row['Type'] == 'Pred4': \n",
    "        axis[1].hlines(5, row['Start'],row['End'], colors=reds(150), lw=20)\n",
    "\n",
    "_ = axis[1].set_yticks([1,2,3,4,5])\n",
    "_ = axis[1].set_yticklabels( ['CPU 1', 'CPU 2', 'CPU 3', 'GPU 1', 'GPU 2'], fontsize=16)\n",
    "\n",
    "for index, row in Node3.iterrows():\n",
    "    if row['Type'] == 'Tile7':\n",
    "        axis[2].hlines(1, row['Start'],row['End'], colors=blues(150), lw=20)\n",
    "    elif row['Type'] == 'Tile8': \n",
    "        axis[2].hlines(2, row['Start'],row['End'], colors=blues(150), lw=20)\n",
    "    elif row['Type'] == 'Tile9': \n",
    "        axis[2].hlines(3, row['Start'],row['End'], colors=blues(150), lw=20)\n",
    "    elif row['Type'] == 'Pred5': \n",
    "        axis[2].hlines(4, row['Start'],row['End'], colors=reds(150), lw=20)\n",
    "    elif row['Type'] == 'Pred6': \n",
    "        axis[2].hlines(5, row['Start'],row['End'], colors=reds(150), lw=20)\n",
    "\n",
    "_ = axis[2].set_yticks([1,2,3,4,5])\n",
    "_ = axis[2].set_yticklabels( ['CPU 1', 'CPU 2', 'CPU 3', 'GPU 1', 'GPU 2'], fontsize=16)\n",
    "\n",
    "for index, row in Node4.iterrows():\n",
    "    if row['Type'] == 'Tile10':\n",
    "        axis[3].hlines(1, row['Start'],row['End'], colors=blues(150), lw=20)\n",
    "    elif row['Type'] == 'Tile11': \n",
    "        axis[3].hlines(2, row['Start'],row['End'], colors=blues(150), lw=20)\n",
    "    elif row['Type'] == 'Tile12': \n",
    "        axis[3].hlines(3, row['Start'],row['End'], colors=blues(150), lw=20)\n",
    "    elif row['Type'] == 'Pred7': \n",
    "        axis[3].hlines(4, row['Start'],row['End'], colors=reds(150), lw=20)\n",
    "    elif row['Type'] == 'Pred8': \n",
    "        axis[3].hlines(5, row['Start'],row['End'], colors=reds(150), lw=20)\n",
    "\n",
    "_ = axis[3].set_yticks([1,2,3,4,5])\n",
    "_ = axis[3].set_yticklabels( ['CPU 1', 'CPU 2', 'CPU 3', 'GPU 1', 'GPU 2'], fontsize=16)\n",
    "\n",
    "#_ = axis.set_xlabel('Time', fontsize=16)\n",
    "#_ = axis.set_ylabel('Resource', fontsize=16)\n",
    "#_ = axis.grid('on')"
   ]
  },
  {
   "cell_type": "code",
   "execution_count": null,
   "metadata": {
    "ExecuteTime": {
     "end_time": "2019-05-05T15:43:35.531910Z",
     "start_time": "2019-05-05T15:43:33.224253Z"
    }
   },
   "outputs": [],
   "source": [
    "fig, axis = plt.subplots(nrows=2,ncols=4,figsize=(18,8),sharex='row',sharey='row')\n",
    "cpu1=cpu2=cpu3=cpu4=cpu5=cpu6=cpu7=cpu8=cpu9=cpu10=cpu11=cpu12=0\n",
    "gpu1=gpu2=gpu3=gpu4=gpu5=gpu6=gpu7=gpu8=0\n",
    "\n",
    "for index, row in Node1.iterrows():\n",
    "    if row['Type'] == 'Tile1':\n",
    "        cpu1 += row['End']-row['Start']\n",
    "    elif row['Type'] == 'Tile2': \n",
    "        cpu2 += row['End']-row['Start']\n",
    "    elif row['Type'] == 'Tile3': \n",
    "        cpu3 += row['End']-row['Start']\n",
    "    elif row['Type'] == 'Pred1': \n",
    "        gpu1 += row['End']-row['Start']\n",
    "    elif row['Type'] == 'Pred2': \n",
    "        gpu2 += row['End']-row['Start']\n",
    "        \n",
    "x1 = np.arange(1)\n",
    "x2 = np.arange(1)\n",
    "_ = axis[0,0].bar(x1,np.array([cpu1, cpu2, cpu3]).mean(),yerr=np.array([cpu1, cpu2, cpu3]).std(), color=blues(150))\n",
    "_ = axis[0,0].bar(x2+1,np.array([gpu1, gpu2]).mean(),yerr=np.array([gpu1,gpu2]).std(), color=reds(150))\n",
    "_ = axis[0,0].set_xticks([0,1])\n",
    "_ = axis[0,0].grid('on')\n",
    "_ = axis[0,0].set_xticklabels(['CPUs', 'GPUs'], fontsize=16)\n",
    "\n",
    "for index, row in Node2.iterrows():\n",
    "    if row['Type'] == 'Tile4':\n",
    "        cpu4 += row['End']-row['Start']\n",
    "    elif row['Type'] == 'Tile5': \n",
    "        cpu5 += row['End']-row['Start']\n",
    "    elif row['Type'] == 'Tile6': \n",
    "        cpu6 += row['End']-row['Start']\n",
    "    elif row['Type'] == 'Pred3': \n",
    "        gpu3 += row['End']-row['Start']\n",
    "    elif row['Type'] == 'Pred4': \n",
    "        gpu4 += row['End']-row['Start']\n",
    "\n",
    "x1 = np.arange(1)\n",
    "x2 = np.arange(1)\n",
    "_ = axis[0,1].bar(x1,np.array([cpu4, cpu5, cpu6]).mean(),yerr=np.array([cpu4, cpu5, cpu6]).std(), color=blues(150))\n",
    "_ = axis[0,1].bar(x2+1,np.array([gpu3, gpu4]).mean(),yerr=np.array([gpu3,gpu4]).std(), color=reds(150))\n",
    "_ = axis[0,1].set_xticks([0,1])\n",
    "_ = axis[0,1].grid('on')\n",
    "_ = axis[0,1].set_xticklabels(['CPUs', 'GPUs'], fontsize=16)\n",
    "\n",
    "for index, row in Node3.iterrows():\n",
    "    if row['Type'] == 'Tile7':\n",
    "        cpu7 += row['End']-row['Start']\n",
    "    elif row['Type'] == 'Tile8': \n",
    "        cpu8 += row['End']-row['Start']\n",
    "    elif row['Type'] == 'Tile9': \n",
    "        cpu9 += row['End']-row['Start']\n",
    "    elif row['Type'] == 'Pred5': \n",
    "        gpu5 += row['End']-row['Start']\n",
    "    elif row['Type'] == 'Pred6': \n",
    "        gpu6 += row['End']-row['Start']\n",
    "\n",
    "x1 = np.arange(1)\n",
    "x2 = np.arange(1)\n",
    "_ = axis[0,2].bar(x1,np.array([cpu7, cpu8, cpu9]).mean(),yerr=np.array([cpu7, cpu8, cpu9]).std(), color=blues(150))\n",
    "_ = axis[0,2].bar(x2+1,np.array([gpu5, gpu6]).mean(),yerr=np.array([gpu5,gpu6]).std(), color=reds(150))\n",
    "_ = axis[0,2].set_xticks([0,1])\n",
    "_ = axis[0,2].grid('on')\n",
    "_ = axis[0,2].set_xticklabels(['CPUs', 'GPUs'], fontsize=16)\n",
    "\n",
    "for index, row in Node4.iterrows():\n",
    "    if row['Type'] == 'Tile10':\n",
    "        cpu10 += row['End']-row['Start']\n",
    "    elif row['Type'] == 'Tile11': \n",
    "        cpu11 += row['End']-row['Start']\n",
    "    elif row['Type'] == 'Tile12': \n",
    "        cpu12 += row['End']-row['Start']\n",
    "    elif row['Type'] == 'Pred7': \n",
    "        gpu7 += row['End']-row['Start']\n",
    "    elif row['Type'] == 'Pred8': \n",
    "        gpu8 += row['End']-row['Start']\n",
    "\n",
    "x1 = np.arange(1)\n",
    "x2 = np.arange(1)\n",
    "_ = axis[0,3].bar(x1,np.array([cpu10, cpu11, cpu12]).mean(),yerr=np.array([cpu10, cpu11, cpu12]).std(), color=blues(150))\n",
    "_ = axis[0,3].bar(x2+1,np.array([gpu7, gpu8]).mean(),yerr=np.array([gpu7,gpu8]).std(), color=reds(150))\n",
    "_ = axis[0,3].set_xticks([0,1])\n",
    "_ = axis[0,3].grid('on')\n",
    "_ = axis[0,3].set_xticklabels(['CPUs', 'GPUs'], fontsize=16)\n",
    "_ = axis[0,0].set_yticklabels(axis[0,0].get_yticks().astype('int').tolist(),fontsize=14)\n",
    "\n",
    "nodes_assignments = ['Design3Dist2/pilot.0000/unit.000000/node1_images.csv',\n",
    "                     'Design3Dist2/pilot.0000/unit.000001/node2_images.csv',\n",
    "                     'Design3Dist2/pilot.0000/unit.000002/node3_images.csv',\n",
    "                     'Design3Dist2/pilot.0000/unit.000003/node4_images.csv']\n",
    "\n",
    "node_images = pd.read_csv(nodes_assignments[0])\n",
    "size1 = node_images['Size'].values.tolist()\n",
    "node_images = pd.read_csv(nodes_assignments[1])\n",
    "size2 = node_images['Size'].values.tolist()\n",
    "node_images = pd.read_csv(nodes_assignments[2])\n",
    "size3 = node_images['Size'].values.tolist()\n",
    "node_images = pd.read_csv(nodes_assignments[3])\n",
    "size4 = node_images['Size'].values.tolist()\n",
    "\n",
    "_ = axis[1,0].hist(size1,bins=50)\n",
    "_ = axis[1,1].hist(size2,bins=50)\n",
    "_ = axis[1,2].hist(size3,bins=50)\n",
    "_ = axis[1,3].hist(size4,bins=50)\n",
    "_ = axis[0,0].set_title('Node 1',fontsize=16)\n",
    "_ = axis[0,1].set_title('Node 2',fontsize=16)\n",
    "_ = axis[0,2].set_title('Node 3',fontsize=16)\n",
    "_ = axis[0,3].set_title('Node 4',fontsize=16)\n",
    "_ = axis[1,0].set_xlabel('Image Size in MBs', fontsize=16)\n",
    "_ = axis[1,1].set_xlabel('Image Size in MBs', fontsize=16)\n",
    "_ = axis[1,2].set_xlabel('Image Size in MBs', fontsize=16)\n",
    "_ = axis[1,3].set_xlabel('Image Size in MBs', fontsize=16)\n",
    "_ = axis[1,0].set_ylabel('Number of Images', fontsize=16)\n",
    "_ = axis[0,0].set_ylabel('Time', fontsize=16)\n",
    "_ = axis[1,0].set_yticklabels(axis[1,0].get_yticks().astype('int').tolist(),fontsize=14)\n",
    "_ = axis[1,0].set_xticklabels(axis[1,0].get_xticks().astype('int').tolist(),fontsize=14)\n",
    "_ = axis[1,1].set_xticklabels(axis[1,1].get_xticks().astype('int').tolist(),fontsize=14)\n",
    "_ = axis[1,2].set_xticklabels(axis[1,2].get_xticks().astype('int').tolist(),fontsize=14)\n",
    "_ = axis[1,3].set_xticklabels(axis[1,3].get_xticks().astype('int').tolist(),fontsize=14)\n",
    "\n",
    "time_line = pd.DataFrame(columns=['CpuMeanTime','CpuStdTime','GpuMeanTime','GpuStdTime','Images'])\n",
    "time_line.loc[len(time_line)] = [np.array([cpu1, cpu2, cpu3]).mean(),np.array([cpu1, cpu2, cpu3]).std(),np.array([gpu1, gpu2]).mean(),np.array([gpu1, gpu2]).std(),size1]\n",
    "time_line.loc[len(time_line)] = [np.array([cpu4, cpu5, cpu6]).mean(),np.array([cpu4, cpu5, cpu6]).std(),np.array([gpu3, gpu4]).mean(),np.array([gpu3, gpu4]).std(),size2]\n",
    "time_line.loc[len(time_line)] = [np.array([cpu7, cpu8, cpu9]).mean(),np.array([cpu7, cpu8, cpu9]).std(),np.array([gpu5, gpu6]).mean(),np.array([gpu5, gpu6]).std(),size3]\n",
    "time_line.loc[len(time_line)] = [np.array([cpu10, cpu11, cpu12]).mean(),np.array([cpu10, cpu11, cpu12]).std(),np.array([gpu7, gpu8]).mean(),np.array([gpu7, gpu8]).std(),size4]\n",
    "\n",
    "\n",
    "#time_line.to_csv('design2b.csv',index=False)"
   ]
  },
  {
   "cell_type": "code",
   "execution_count": null,
   "metadata": {
    "ExecuteTime": {
     "end_time": "2019-05-05T18:23:06.462556Z",
     "start_time": "2019-05-05T15:43:35.535652Z"
    }
   },
   "outputs": [],
   "source": [
    "Des3CpuUtil = utilization(Design3,util='cpu')\n",
    "Des3GpuUtil = utilization(Design3,util='gpu')"
   ]
  },
  {
   "cell_type": "code",
   "execution_count": null,
   "metadata": {
    "ExecuteTime": {
     "end_time": "2019-05-05T18:23:06.479463Z",
     "start_time": "2019-05-05T18:23:06.466444Z"
    }
   },
   "outputs": [],
   "source": [
    "Des3CpuUtil = np.array(Des3CpuUtil)\n",
    "Des3GpuUtil = np.array(Des3GpuUtil)\n",
    "MinTimestamp = np.min([Des3CpuUtil[0,0],Des3GpuUtil[0,0]])"
   ]
  },
  {
   "cell_type": "code",
   "execution_count": null,
   "metadata": {
    "ExecuteTime": {
     "end_time": "2019-05-05T18:23:06.685488Z",
     "start_time": "2019-05-05T18:23:06.483242Z"
    }
   },
   "outputs": [],
   "source": [
    "Des3CpuUtil[:,0] = Des3CpuUtil[:,0] - MinTimestamp\n",
    "Des3GpuUtil[:,0] = Des3GpuUtil[:,0] - MinTimestamp"
   ]
  },
  {
   "cell_type": "code",
   "execution_count": null,
   "metadata": {
    "ExecuteTime": {
     "end_time": "2019-05-05T18:23:06.777068Z",
     "start_time": "2019-05-05T18:23:06.688823Z"
    }
   },
   "outputs": [],
   "source": [
    "np.save('Des2ACpuUtil',Des3CpuUtil)\n",
    "np.save('Des2AGpuUtil',Des3GpuUtil)"
   ]
  },
  {
   "cell_type": "code",
   "execution_count": null,
   "metadata": {
    "ExecuteTime": {
     "end_time": "2019-05-05T18:23:07.423122Z",
     "start_time": "2019-05-05T18:23:06.781419Z"
    }
   },
   "outputs": [],
   "source": [
    "t= 6500\n",
    "fig,axis = plt.subplots(nrows=1,ncols=1,figsize=(13,6),sharex=True)\n",
    "_ = axis.plot(Des3CpuUtil[:,0],(Des3CpuUtil[:,1]/120)*100,marker='',linestyle='-', label='CPU Utilization', color=blues(150))\n",
    "_ = axis.plot(Des3GpuUtil[:,0],(Des3GpuUtil[:,1]/8)*100,marker='',linestyle='-', label='GPU Utilization', color=reds(150))\n",
    "_ = axis.set_ylabel('Percentage of Resources Used',fontsize=14)\n",
    "_ = axis.set_xlabel('Time in seconds',fontsize=14)\n",
    "_ = axis.grid('on')\n",
    "_ = axis.legend(fontsize=14,loc='upper left')\n",
    "_ = axis.set_xticklabels(axis.get_xticks().astype('int').tolist(),fontsize=14)\n",
    "_ = axis.set_yticklabels(axis.get_yticks().astype('int').tolist(),fontsize=14)\n",
    "_ = axis.set_title('Resource Utilization over time Design 2', fontsize=16)\n",
    "fig.savefig('Design2AUtilization.pdf',dpi=800,bbox_inches='tight')"
   ]
  },
  {
   "cell_type": "code",
   "execution_count": null,
   "metadata": {},
   "outputs": [],
   "source": []
  }
 ],
 "metadata": {
  "hide_input": false,
  "kernelspec": {
   "display_name": "Python 2",
   "language": "python",
   "name": "python2"
  },
  "language_info": {
   "codemirror_mode": {
    "name": "ipython",
    "version": 2
   },
   "file_extension": ".py",
   "mimetype": "text/x-python",
   "name": "python",
   "nbconvert_exporter": "python",
   "pygments_lexer": "ipython2",
   "version": "2.7.15"
  },
  "latex_envs": {
   "LaTeX_envs_menu_present": true,
   "autoclose": false,
   "autocomplete": true,
   "bibliofile": "biblio.bib",
   "cite_by": "apalike",
   "current_citInitial": 1,
   "eqLabelWithNumbers": true,
   "eqNumInitial": 1,
   "hotkeys": {
    "equation": "Ctrl-E",
    "itemize": "Ctrl-I"
   },
   "labels_anchors": false,
   "latex_user_defs": false,
   "report_style_numbering": false,
   "user_envs_cfg": false
  },
  "varInspector": {
   "cols": {
    "lenName": 16,
    "lenType": 16,
    "lenVar": 40
   },
   "kernels_config": {
    "python": {
     "delete_cmd_postfix": "",
     "delete_cmd_prefix": "del ",
     "library": "var_list.py",
     "varRefreshCmd": "print(var_dic_list())"
    },
    "r": {
     "delete_cmd_postfix": ") ",
     "delete_cmd_prefix": "rm(",
     "library": "var_list.r",
     "varRefreshCmd": "cat(var_dic_list()) "
    }
   },
   "types_to_exclude": [
    "module",
    "function",
    "builtin_function_or_method",
    "instance",
    "_Feature"
   ],
   "window_display": false
  }
 },
 "nbformat": 4,
 "nbformat_minor": 2
}
