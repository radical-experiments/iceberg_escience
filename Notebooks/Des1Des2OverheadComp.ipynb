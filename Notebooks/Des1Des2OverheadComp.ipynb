{
 "cells": [
  {
   "cell_type": "code",
   "execution_count": 1,
   "metadata": {
    "ExecuteTime": {
     "end_time": "2019-05-23T15:37:12.372102Z",
     "start_time": "2019-05-23T15:37:11.382254Z"
    }
   },
   "outputs": [
    {
     "data": {
      "text/html": [
       "<style>.container { width:100% !important; }</style>"
      ],
      "text/plain": [
       "<IPython.core.display.HTML object>"
      ]
     },
     "metadata": {},
     "output_type": "display_data"
    },
    {
     "name": "stdout",
     "output_type": "stream",
     "text": [
      "\r\n",
      "  python               : 2.7.16\r\n",
      "  pythonpath           : \r\n",
      "  virtualenv           : radical.analytics\r\n",
      "\r\n",
      "  radical.analytics    : v0.50.0-10-g76b5950@devel\r\n",
      "  radical.entk         : 0.7.8\r\n",
      "  radical.pilot        : 0.50.16\r\n",
      "  radical.utils        : 0.50.2\r\n",
      "  saga                 : 0.50.0\r\n",
      "\r\n"
     ]
    }
   ],
   "source": [
    "%matplotlib inline\n",
    "import radical.analytics as ra\n",
    "import radical.pilot as rp\n",
    "import radical.utils as ru\n",
    "import radical.entk as re\n",
    "import more_itertools as mit\n",
    "from glob import glob\n",
    "import numpy as np\n",
    "from matplotlib import pyplot as plt\n",
    "from matplotlib import cm\n",
    "import csv\n",
    "import pandas as pd\n",
    "import json\n",
    "from scipy.optimize import curve_fit\n",
    "from scipy import stats\n",
    "from pprint import pprint\n",
    "from sklearn.metrics import r2_score\n",
    "import matplotlib as mpl\n",
    "mpl.rcParams['text.usetex'] = True\n",
    "mpl.rcParams['text.latex.unicode'] = True\n",
    "\n",
    "blues = cm.get_cmap(plt.get_cmap('Blues'))\n",
    "greens = cm.get_cmap(plt.get_cmap('Greens'))\n",
    "reds = cm.get_cmap(plt.get_cmap('Reds'))\n",
    "oranges = cm.get_cmap(plt.get_cmap('Oranges'))\n",
    "purples = cm.get_cmap(plt.get_cmap('Purples'))\n",
    "greys = cm.get_cmap(plt.get_cmap('Greys'))\n",
    "\n",
    "from IPython.core.display import display, HTML\n",
    "display(HTML(\"<style>.container { width:100% !important; }</style>\"))\n",
    "import warnings\n",
    "warnings.filterwarnings('ignore')\n",
    "!radical-stack"
   ]
  },
  {
   "cell_type": "code",
   "execution_count": 2,
   "metadata": {
    "ExecuteTime": {
     "end_time": "2019-05-23T15:39:52.673971Z",
     "start_time": "2019-05-23T15:37:12.376027Z"
    }
   },
   "outputs": [],
   "source": [
    "des1DF = pd.DataFrame(columns=['TTX','AgentOverhead','ClientOverhead','EnTKOverhead'])\n",
    "\n",
    "sids=['Des3Images1','Des3Images7','Des3Images6']\n",
    "for sid in sids:\n",
    "    re_session = ra.Session(stype='radical.entk',src='../Data/',sid=sid)\n",
    "    rp_session = ra.Session(stype='radical.pilot',src='../Data/'+sid)\n",
    "    units = rp_session.filter(etype='unit', inplace=False)\n",
    "    pilot = rp_session.filter(etype='pilot', inplace=False)\n",
    "    units_duration = units.duration(event=[{ru.EVENT: 'exec_start'},{ru.EVENT: 'exec_stop'}])\n",
    "    units_agent = units.duration([rp.AGENT_STAGING_INPUT, rp.UMGR_STAGING_OUTPUT_PENDING])\n",
    "    units_client = units.duration([rp.NEW, rp.DONE])\n",
    "    appmanager = re_session.filter(etype='appmanager',inplace=False)\n",
    "    resource_manager = re_session.filter(etype='resource_manager',inplace=False)\n",
    "    app_duration = appmanager.duration(event=[{ru.EVENT:\"amgr run started\"},{ru.EVENT:\"start termination\"}])\n",
    "    res_duration = resource_manager.duration(event=[{ru.EVENT:\"rreq submitted\"},{ru.EVENT:\"resource active\"}])\n",
    "\n",
    "    ttx = units_duration\n",
    "    agent_overhead = units_agent - units_duration\n",
    "    client_overhead = units_client - units_agent\n",
    "    entk_overhead =  app_duration - units_client - res_duration\n",
    "    des1DF.loc[len(des1DF)] = [ttx, agent_overhead, client_overhead, entk_overhead]\n",
    "    "
   ]
  },
  {
   "cell_type": "code",
   "execution_count": 3,
   "metadata": {
    "ExecuteTime": {
     "end_time": "2019-05-23T15:40:18.183355Z",
     "start_time": "2019-05-23T15:39:52.676621Z"
    }
   },
   "outputs": [],
   "source": [
    "des2DF = pd.DataFrame(columns=['TTX','SetupOverhead','SetupOverhead2','AgentOverhead','ClientOverhead'])\n",
    "sids = ['../Data/Design1M5','../Data/Design1M8'] \n",
    "for sid in sids:\n",
    "    Node1 = pd.DataFrame(columns=['Start','End','Type'])\n",
    "    Node1Tilling = pd.read_csv(sid+'/pilot.0000/unit.000002/tilling1.csv')\n",
    "    for index,row in Node1Tilling.iterrows():\n",
    "        Node1.loc[len(Node1)] = [row['Start'],row['End'],'Tile1']\n",
    "    Node1Tilling = pd.read_csv(sid+'/pilot.0000/unit.000002/tilling2.csv')\n",
    "    for index,row in Node1Tilling.iterrows():\n",
    "        Node1.loc[len(Node1)] = [row['Start'],row['End'],'Tile2']\n",
    "    Node1Tilling = pd.read_csv(sid+'/pilot.0000/unit.000002/tilling3.csv')\n",
    "    for index,row in Node1Tilling.iterrows():\n",
    "        Node1.loc[len(Node1)] = [row['Start'],row['End'],'Tile3']\n",
    "    Node1Tilling = pd.read_csv(sid+'/pilot.0000/unit.000002/pred1.csv')\n",
    "    for index,row in Node1Tilling.iterrows():\n",
    "        Node1.loc[len(Node1)] = [row['Start'],row['End'],'Pred1']\n",
    "    Node1Tilling = pd.read_csv(sid+'/pilot.0000/unit.000002/pred2.csv')\n",
    "    for index,row in Node1Tilling.iterrows():\n",
    "        Node1.loc[len(Node1)] = [row['Start'],row['End'],'Pred2']\n",
    "    Node2 = pd.DataFrame(columns=['Start','End','Type'])\n",
    "    Node2Tilling = pd.read_csv(sid+'/pilot.0000/unit.000003/tilling09.csv')\n",
    "    for index,row in Node2Tilling.iterrows():\n",
    "        Node2.loc[len(Node2)] = [row['Start'],row['End'],'Tile4']\n",
    "    Node2Tilling = pd.read_csv(sid+'/pilot.0000/unit.000003/tilling10.csv')\n",
    "    for index,row in Node2Tilling.iterrows():\n",
    "        Node2.loc[len(Node2)] = [row['Start'],row['End'],'Tile5']\n",
    "    Node2Tilling = pd.read_csv(sid+'/pilot.0000/unit.000003/tilling11.csv')\n",
    "    for index,row in Node2Tilling.iterrows():\n",
    "        Node2.loc[len(Node2)] = [row['Start'],row['End'],'Tile6']\n",
    "    Node2Tilling = pd.read_csv(sid+'/pilot.0000/unit.000003/pred3.csv')\n",
    "    for index,row in Node2Tilling.iterrows():\n",
    "        Node2.loc[len(Node2)] = [row['Start'],row['End'],'Pred3']\n",
    "    Node2Tilling = pd.read_csv(sid+'/pilot.0000/unit.000003/pred4.csv')\n",
    "    for index,row in Node2Tilling.iterrows():\n",
    "        Node2.loc[len(Node2)] = [row['Start'],row['End'],'Pred4']\n",
    "    Node3 = pd.DataFrame(columns=['Start','End','Type'])\n",
    "    Node3Tilling = pd.read_csv(sid+'/pilot.0000/unit.000004/tilling17.csv')\n",
    "    for index,row in Node3Tilling.iterrows():\n",
    "        Node3.loc[len(Node3)] = [row['Start'],row['End'],'Tile7']\n",
    "    Node3Tilling = pd.read_csv(sid+'/pilot.0000/unit.000004/tilling18.csv')\n",
    "    for index,row in Node3Tilling.iterrows():\n",
    "        Node3.loc[len(Node3)] = [row['Start'],row['End'],'Tile8']\n",
    "    Node3Tilling = pd.read_csv(sid+'/pilot.0000/unit.000004/tilling19.csv')\n",
    "    for index,row in Node3Tilling.iterrows():\n",
    "        Node3.loc[len(Node3)] = [row['Start'],row['End'],'Tile9']\n",
    "    Node3Tilling = pd.read_csv(sid+'/pilot.0000/unit.000004/pred5.csv')\n",
    "    for index,row in Node3Tilling.iterrows():\n",
    "        Node3.loc[len(Node3)] = [row['Start'],row['End'],'Pred5']\n",
    "    Node3Tilling = pd.read_csv(sid+'/pilot.0000/unit.000004/pred6.csv')\n",
    "    for index,row in Node3Tilling.iterrows():\n",
    "        Node3.loc[len(Node3)] = [row['Start'],row['End'],'Pred6']\n",
    "    Node4 = pd.DataFrame(columns=['Start','End','Type'])\n",
    "    Node4Tilling = pd.read_csv(sid+'/pilot.0000/unit.000005/tilling25.csv')\n",
    "    for index,row in Node4Tilling.iterrows():\n",
    "        Node4.loc[len(Node4)] = [row['Start'],row['End'],'Tile10']\n",
    "    Node4Tilling = pd.read_csv(sid+'/pilot.0000/unit.000005/tilling26.csv')\n",
    "    for index,row in Node4Tilling.iterrows():\n",
    "        Node4.loc[len(Node4)] = [row['Start'],row['End'],'Tile11']\n",
    "    Node4Tilling = pd.read_csv(sid+'/pilot.0000/unit.000005/tilling27.csv')\n",
    "    for index,row in Node4Tilling.iterrows():\n",
    "        Node4.loc[len(Node4)] = [row['Start'],row['End'],'Tile12']\n",
    "    Node4Tilling = pd.read_csv(sid+'/pilot.0000/unit.000005/pred7.csv')\n",
    "    for index,row in Node4Tilling.iterrows():\n",
    "        Node4.loc[len(Node4)] = [row['Start'],row['End'],'Pred7']\n",
    "    Node4Tilling = pd.read_csv(sid+'/pilot.0000/unit.000005/pred8.csv')\n",
    "    for index,row in Node4Tilling.iterrows():\n",
    "        Node4.loc[len(Node4)] = [row['Start'],row['End'],'Pred8']\n",
    "\n",
    "    AllNodes = pd.DataFrame(columns=['Start','End','Type'])\n",
    "    AllNodes = AllNodes.append(Node1)\n",
    "    AllNodes = AllNodes.append(Node2)\n",
    "    AllNodes = AllNodes.append(Node3)\n",
    "    AllNodes = AllNodes.append(Node4)\n",
    "    AllNodes.reset_index(inplace=True,drop='index')\n",
    "    rp_sessionDes2 = ra.Session(stype='radical.pilot',src=sid)\n",
    "    unitsDes2 = rp_sessionDes2.filter(etype='unit', inplace=False)\n",
    "    execUnits = unitsDes2.filter(uid=['unit.000002','unit.000003','unit.000004','unit.000005'],inplace=False)\n",
    "    exec_units_setup_des2 = execUnits.duration(event=[{ru.EVENT: 'exec_start'},{ru.EVENT: 'exec_stop'}])\n",
    "    exec_units_agent_des2 = execUnits.duration([rp.AGENT_STAGING_INPUT, rp.UMGR_STAGING_OUTPUT_PENDING])\n",
    "    exec_units_clientDes2 = execUnits.duration([rp.NEW, rp.DONE])\n",
    "    SetupUnit = unitsDes2.filter(uid=['unit.000000'],inplace=False)\n",
    "    setup_units_clientDes2 = SetupUnit.duration(event=[{ru.STATE: rp.NEW},{ru.EVENT: 'exec_start'}])\n",
    "    pilotDes2 = rp_sessionDes2.filter(etype='pilot', inplace=False)\n",
    "    pilot_duration = pilotDes2.duration([rp.PMGR_ACTIVE,rp.FINAL])\n",
    "    des2_duration = AllNodes['End'].max() - AllNodes['Start'].min()\n",
    "    setupDes2_overhead = exec_units_setup_des2 - des2_duration\n",
    "    agentDes2_overhead = exec_units_agent_des2 - exec_units_setup_des2\n",
    "    clientDes2_overhead = exec_units_clientDes2 - exec_units_agent_des2\n",
    "\n",
    "    des2DF.loc[len(des2DF)] = [des2_duration, setup_units_clientDes2, setupDes2_overhead, agentDes2_overhead, clientDes2_overhead]"
   ]
  },
  {
   "cell_type": "code",
   "execution_count": 4,
   "metadata": {
    "ExecuteTime": {
     "end_time": "2019-05-23T15:40:18.272825Z",
     "start_time": "2019-05-23T15:40:18.187778Z"
    }
   },
   "outputs": [],
   "source": [
    "sid='../Data/Design3Run2_2/'\n",
    "rp_sessionDes2 = ra.Session(stype='radical.pilot',src=sid)\n",
    "unitsDes2 = rp_sessionDes2.filter(etype='unit', inplace=False)\n",
    "execUnits = unitsDes2.filter(uid=['unit.000002','unit.000003','unit.000004','unit.000001'],inplace=False)\n",
    "exec_units_setup_des2 = execUnits.duration(event=[{ru.EVENT: 'exec_start'},{ru.EVENT: 'exec_stop'}])\n",
    "exec_units_agent_des2 = execUnits.duration([rp.AGENT_STAGING_INPUT, rp.UMGR_STAGING_OUTPUT_PENDING])\n",
    "exec_units_clientDes2 = execUnits.duration([rp.NEW, rp.DONE])\n",
    "SetupUnit = unitsDes2.filter(uid=['unit.000000'],inplace=False)\n",
    "setup_units_clientDes2 = SetupUnit.duration(event=[{ru.STATE: rp.NEW},{ru.EVENT: 'exec_start'}])\n",
    "pilotDes2 = rp_sessionDes2.filter(etype='pilot', inplace=False)\n"
   ]
  },
  {
   "cell_type": "code",
   "execution_count": 5,
   "metadata": {
    "ExecuteTime": {
     "end_time": "2019-05-23T15:40:21.592960Z",
     "start_time": "2019-05-23T15:40:18.277159Z"
    }
   },
   "outputs": [],
   "source": [
    "Node1 = pd.DataFrame(columns=['Start','End','Type'])\n",
    "Node1Tilling = pd.read_csv('../Data/Design3Run2_2/pilot.0000/unit.000001/tilling1.csv')\n",
    "for index,row in Node1Tilling.iterrows():\n",
    "    Node1.loc[len(Node1)] = [row['Start'],row['End'],'Tile1']\n",
    "Node1Tilling = pd.read_csv('../Data/Design3Run2_2/pilot.0000/unit.000001/tilling2.csv')\n",
    "for index,row in Node1Tilling.iterrows():\n",
    "    Node1.loc[len(Node1)] = [row['Start'],row['End'],'Tile2']\n",
    "Node1Tilling = pd.read_csv('../Data/Design3Run2_2/pilot.0000/unit.000001/tilling3.csv')\n",
    "for index,row in Node1Tilling.iterrows():\n",
    "    Node1.loc[len(Node1)] = [row['Start'],row['End'],'Tile3']\n",
    "\n",
    "Node1Tilling = pd.read_csv('../Data/Design3Run2_2/pilot.0000/unit.000001/pred1.csv')\n",
    "for index,row in Node1Tilling.iterrows():\n",
    "    Node1.loc[len(Node1)] = [row['Start'],row['End'],'Pred1']\n",
    "Node1Tilling = pd.read_csv('../Data/Design3Run2_2/pilot.0000/unit.000001/pred2.csv')\n",
    "for index,row in Node1Tilling.iterrows():\n",
    "    Node1.loc[len(Node1)] = [row['Start'],row['End'],'Pred2']"
   ]
  },
  {
   "cell_type": "code",
   "execution_count": 6,
   "metadata": {
    "ExecuteTime": {
     "end_time": "2019-05-23T15:40:24.857819Z",
     "start_time": "2019-05-23T15:40:21.596499Z"
    }
   },
   "outputs": [],
   "source": [
    "Node2 = pd.DataFrame(columns=['Start','End','Type'])\n",
    "Node2Tilling = pd.read_csv('../Data/Design3Run2_2/pilot.0000/unit.000002/tilling09.csv')\n",
    "for index,row in Node2Tilling.iterrows():\n",
    "    Node2.loc[len(Node2)] = [row['Start'],row['End'],'Tile4']\n",
    "Node2Tilling = pd.read_csv('../Data/Design3Run2_2/pilot.0000/unit.000002/tilling10.csv')\n",
    "for index,row in Node2Tilling.iterrows():\n",
    "    Node2.loc[len(Node2)] = [row['Start'],row['End'],'Tile5']\n",
    "Node2Tilling = pd.read_csv('../Data/Design3Run2_2/pilot.0000/unit.000002/tilling11.csv')\n",
    "for index,row in Node2Tilling.iterrows():\n",
    "    Node2.loc[len(Node2)] = [row['Start'],row['End'],'Tile6']\n",
    "Node2Tilling = pd.read_csv('../Data/Design3Run2_2/pilot.0000/unit.000002/pred3.csv')\n",
    "for index,row in Node2Tilling.iterrows():\n",
    "    Node2.loc[len(Node2)] = [row['Start'],row['End'],'Pred3']\n",
    "Node2Tilling = pd.read_csv('../Data/Design3Run2_2/pilot.0000/unit.000002/pred4.csv')\n",
    "for index,row in Node2Tilling.iterrows():\n",
    "    Node2.loc[len(Node2)] = [row['Start'],row['End'],'Pred4']"
   ]
  },
  {
   "cell_type": "code",
   "execution_count": 7,
   "metadata": {
    "ExecuteTime": {
     "end_time": "2019-05-23T15:40:28.031369Z",
     "start_time": "2019-05-23T15:40:24.861953Z"
    }
   },
   "outputs": [],
   "source": [
    "Node3 = pd.DataFrame(columns=['Start','End','Type'])\n",
    "Node3Tilling = pd.read_csv('../Data/Design3Run2_2/pilot.0000/unit.000003/tilling17.csv')\n",
    "for index,row in Node3Tilling.iterrows():\n",
    "    Node3.loc[len(Node3)] = [row['Start'],row['End'],'Tile7']\n",
    "Node3Tilling = pd.read_csv('../Data/Design3Run2_2/pilot.0000/unit.000003/tilling18.csv')\n",
    "for index,row in Node3Tilling.iterrows():\n",
    "    Node3.loc[len(Node3)] = [row['Start'],row['End'],'Tile8']\n",
    "Node3Tilling = pd.read_csv('../Data/Design3Run2_2/pilot.0000/unit.000003/tilling19.csv')\n",
    "for index,row in Node3Tilling.iterrows():\n",
    "    Node3.loc[len(Node3)] = [row['Start'],row['End'],'Tile9']\n",
    "Node3Tilling = pd.read_csv('../Data/Design3Run2_2/pilot.0000/unit.000003/pred5.csv')\n",
    "for index,row in Node3Tilling.iterrows():\n",
    "    Node3.loc[len(Node3)] = [row['Start'],row['End'],'Pred5']\n",
    "Node3Tilling = pd.read_csv('../Data/Design3Run2_2/pilot.0000/unit.000003/pred6.csv')\n",
    "for index,row in Node3Tilling.iterrows():\n",
    "    Node3.loc[len(Node3)] = [row['Start'],row['End'],'Pred6']"
   ]
  },
  {
   "cell_type": "code",
   "execution_count": 8,
   "metadata": {
    "ExecuteTime": {
     "end_time": "2019-05-23T15:40:31.327297Z",
     "start_time": "2019-05-23T15:40:28.035441Z"
    }
   },
   "outputs": [],
   "source": [
    "Node4 = pd.DataFrame(columns=['Start','End','Type'])\n",
    "Node4Tilling = pd.read_csv('../Data/Design3Run2_2/pilot.0000/unit.000004/tilling25.csv')\n",
    "for index,row in Node4Tilling.iterrows():\n",
    "    Node4.loc[len(Node4)] = [row['Start'],row['End'],'Tile10']\n",
    "Node4Tilling = pd.read_csv('../Data/Design3Run2_2/pilot.0000/unit.000004/tilling26.csv')\n",
    "for index,row in Node4Tilling.iterrows():\n",
    "    Node4.loc[len(Node4)] = [row['Start'],row['End'],'Tile11']\n",
    "Node4Tilling = pd.read_csv('../Data/Design3Run2_2/pilot.0000/unit.000004/tilling27.csv')\n",
    "for index,row in Node4Tilling.iterrows():\n",
    "    Node4.loc[len(Node4)] = [row['Start'],row['End'],'Tile12']\n",
    "Node4Tilling = pd.read_csv('../Data/Design3Run2_2/pilot.0000/unit.000004/pred7.csv')\n",
    "for index,row in Node4Tilling.iterrows():\n",
    "    Node4.loc[len(Node4)] = [row['Start'],row['End'],'Pred7']\n",
    "Node4Tilling = pd.read_csv('../Data/Design3Run2_2/pilot.0000/unit.000004/pred8.csv')\n",
    "for index,row in Node4Tilling.iterrows():\n",
    "    Node4.loc[len(Node4)] = [row['Start'],row['End'],'Pred8']"
   ]
  },
  {
   "cell_type": "code",
   "execution_count": 9,
   "metadata": {
    "ExecuteTime": {
     "end_time": "2019-05-23T15:40:31.348770Z",
     "start_time": "2019-05-23T15:40:31.331102Z"
    }
   },
   "outputs": [],
   "source": [
    "AllNodes = pd.DataFrame(columns=['Start','End','Type'])\n",
    "AllNodes = AllNodes.append(Node1)\n",
    "AllNodes = AllNodes.append(Node2)\n",
    "AllNodes = AllNodes.append(Node3)\n",
    "AllNodes = AllNodes.append(Node4)\n",
    "AllNodes.reset_index(inplace=True,drop='index')\n",
    "# AllNodes.to_csv('des3_timestamps.csv') \n",
    "\n",
    "des2_duration = AllNodes['End'].max() - AllNodes['Start'].min()\n",
    "setupDes2_overhead = exec_units_setup_des2 - des2_duration\n",
    "agentDes2_overhead = exec_units_agent_des2 - exec_units_setup_des2\n",
    "clientDes2_overhead = exec_units_clientDes2 - exec_units_agent_des2\n",
    "\n",
    "des2DF.loc[len(des2DF)] = [des2_duration, setup_units_clientDes2, setupDes2_overhead, agentDes2_overhead, clientDes2_overhead]"
   ]
  },
  {
   "cell_type": "code",
   "execution_count": 10,
   "metadata": {
    "ExecuteTime": {
     "end_time": "2019-05-23T15:40:44.950341Z",
     "start_time": "2019-05-23T15:40:31.352459Z"
    }
   },
   "outputs": [],
   "source": [
    "des2ADF = pd.DataFrame(columns=['TTX','SetupOverhead','AgentOverhead','ClientOverhead'])\n",
    "sids = ['../Data/Design3Dist2'] \n",
    "for sid in sids:\n",
    "    Node1 = pd.DataFrame(columns=['Start','End','Type'])\n",
    "    Node1Tilling = pd.read_csv(sid+'/pilot.0000/unit.000000/tilling1.csv')\n",
    "    for index,row in Node1Tilling.iterrows():\n",
    "        Node1.loc[len(Node1)] = [row['Start'],row['End'],'Tile1']\n",
    "    Node1Tilling = pd.read_csv(sid+'/pilot.0000/unit.000000/tilling2.csv')\n",
    "    for index,row in Node1Tilling.iterrows():\n",
    "        Node1.loc[len(Node1)] = [row['Start'],row['End'],'Tile2']\n",
    "    Node1Tilling = pd.read_csv(sid+'/pilot.0000/unit.000000/tilling3.csv')\n",
    "    for index,row in Node1Tilling.iterrows():\n",
    "        Node1.loc[len(Node1)] = [row['Start'],row['End'],'Tile3']\n",
    "    Node1Tilling = pd.read_csv(sid+'/pilot.0000/unit.000000/pred1.csv')\n",
    "    for index,row in Node1Tilling.iterrows():\n",
    "        Node1.loc[len(Node1)] = [row['Start'],row['End'],'Pred1']\n",
    "    Node1Tilling = pd.read_csv(sid+'/pilot.0000/unit.000000/pred2.csv')\n",
    "    for index,row in Node1Tilling.iterrows():\n",
    "        Node1.loc[len(Node1)] = [row['Start'],row['End'],'Pred2']\n",
    "    Node2 = pd.DataFrame(columns=['Start','End','Type'])\n",
    "    Node2Tilling = pd.read_csv(sid+'/pilot.0000/unit.000001/tilling09.csv')\n",
    "    for index,row in Node2Tilling.iterrows():\n",
    "        Node2.loc[len(Node2)] = [row['Start'],row['End'],'Tile4']\n",
    "    Node2Tilling = pd.read_csv(sid+'/pilot.0000/unit.000001/tilling10.csv')\n",
    "    for index,row in Node2Tilling.iterrows():\n",
    "        Node2.loc[len(Node2)] = [row['Start'],row['End'],'Tile5']\n",
    "    Node2Tilling = pd.read_csv(sid+'/pilot.0000/unit.000001/tilling11.csv')\n",
    "    for index,row in Node2Tilling.iterrows():\n",
    "        Node2.loc[len(Node2)] = [row['Start'],row['End'],'Tile6']\n",
    "    Node2Tilling = pd.read_csv(sid+'/pilot.0000/unit.000001/pred3.csv')\n",
    "    for index,row in Node2Tilling.iterrows():\n",
    "        Node2.loc[len(Node2)] = [row['Start'],row['End'],'Pred3']\n",
    "    Node2Tilling = pd.read_csv(sid+'/pilot.0000/unit.000001/pred4.csv')\n",
    "    for index,row in Node2Tilling.iterrows():\n",
    "        Node2.loc[len(Node2)] = [row['Start'],row['End'],'Pred4']\n",
    "    Node3 = pd.DataFrame(columns=['Start','End','Type'])\n",
    "    Node3Tilling = pd.read_csv(sid+'/pilot.0000/unit.000002/tilling17.csv')\n",
    "    for index,row in Node3Tilling.iterrows():\n",
    "        Node3.loc[len(Node3)] = [row['Start'],row['End'],'Tile7']\n",
    "    Node3Tilling = pd.read_csv(sid+'/pilot.0000/unit.000002/tilling18.csv')\n",
    "    for index,row in Node3Tilling.iterrows():\n",
    "        Node3.loc[len(Node3)] = [row['Start'],row['End'],'Tile8']\n",
    "    Node3Tilling = pd.read_csv(sid+'/pilot.0000/unit.000002/tilling19.csv')\n",
    "    for index,row in Node3Tilling.iterrows():\n",
    "        Node3.loc[len(Node3)] = [row['Start'],row['End'],'Tile9']\n",
    "    Node3Tilling = pd.read_csv(sid+'/pilot.0000/unit.000002/pred5.csv')\n",
    "    for index,row in Node3Tilling.iterrows():\n",
    "        Node3.loc[len(Node3)] = [row['Start'],row['End'],'Pred5']\n",
    "    Node3Tilling = pd.read_csv(sid+'/pilot.0000/unit.000002/pred6.csv')\n",
    "    for index,row in Node3Tilling.iterrows():\n",
    "        Node3.loc[len(Node3)] = [row['Start'],row['End'],'Pred6']\n",
    "    Node4 = pd.DataFrame(columns=['Start','End','Type'])\n",
    "    Node4Tilling = pd.read_csv(sid+'/pilot.0000/unit.000003/tilling25.csv')\n",
    "    for index,row in Node4Tilling.iterrows():\n",
    "        Node4.loc[len(Node4)] = [row['Start'],row['End'],'Tile10']\n",
    "    Node4Tilling = pd.read_csv(sid+'/pilot.0000/unit.000003/tilling26.csv')\n",
    "    for index,row in Node4Tilling.iterrows():\n",
    "        Node4.loc[len(Node4)] = [row['Start'],row['End'],'Tile11']\n",
    "    Node4Tilling = pd.read_csv(sid+'/pilot.0000/unit.000003/tilling27.csv')\n",
    "    for index,row in Node4Tilling.iterrows():\n",
    "        Node4.loc[len(Node4)] = [row['Start'],row['End'],'Tile12']\n",
    "    Node4Tilling = pd.read_csv(sid+'/pilot.0000/unit.000003/pred7.csv')\n",
    "    for index,row in Node4Tilling.iterrows():\n",
    "        Node4.loc[len(Node4)] = [row['Start'],row['End'],'Pred7']\n",
    "    Node4Tilling = pd.read_csv(sid+'/pilot.0000/unit.000003/pred8.csv')\n",
    "    for index,row in Node4Tilling.iterrows():\n",
    "        Node4.loc[len(Node4)] = [row['Start'],row['End'],'Pred8']\n",
    "\n",
    "    AllNodes = pd.DataFrame(columns=['Start','End','Type'])\n",
    "    AllNodes = AllNodes.append(Node1)\n",
    "    AllNodes = AllNodes.append(Node2)\n",
    "    AllNodes = AllNodes.append(Node3)\n",
    "    AllNodes = AllNodes.append(Node4)\n",
    "    AllNodes.reset_index(inplace=True,drop='index')\n",
    "    rp_sessionDes2 = ra.Session(stype='radical.pilot',src=sid)\n",
    "    unitsDes2 = rp_sessionDes2.filter(etype='unit', inplace=False)\n",
    "    execUnits = unitsDes2.filter(uid=['unit.000000','unit.000001','unit.000002','unit.000003'],inplace=False)\n",
    "    exec_units_setup_des2 = unitsDes2.duration(event=[{ru.EVENT: 'exec_start'},{ru.EVENT: 'exec_stop'}])\n",
    "    exec_units_agent_des2 = unitsDes2.duration([rp.AGENT_STAGING_INPUT, rp.UMGR_STAGING_OUTPUT_PENDING])\n",
    "    exec_units_clientDes2 = execUnits.duration([rp.NEW, rp.DONE])\n",
    "    pilotDes2 = rp_sessionDes2.filter(etype='pilot', inplace=False)\n",
    "    pilot_duration = pilotDes2.duration([rp.PMGR_ACTIVE,rp.FINAL])\n",
    "    des2_duration = AllNodes['End'].max() - AllNodes['Start'].min()\n",
    "    setupDes2_overhead = exec_units_setup_des2 - des2_duration\n",
    "    agentDes2_overhead = exec_units_agent_des2 - exec_units_setup_des2\n",
    "    clientDes2_overhead = exec_units_clientDes2 - exec_units_agent_des2\n",
    "    queue_time = max(pilotDes2.timestamps(event=[{ru.STATE: rp.PMGR_ACTIVE}]))- max(execUnits.timestamps(event=[{ru.STATE: rp.AGENT_STAGING_INPUT_PENDING}]))\n",
    "    des2ADF.loc[len(des2ADF)] = [des2_duration, setupDes2_overhead, agentDes2_overhead, clientDes2_overhead-queue_time]"
   ]
  },
  {
   "cell_type": "code",
   "execution_count": 11,
   "metadata": {
    "ExecuteTime": {
     "end_time": "2019-05-23T15:40:44.958307Z",
     "start_time": "2019-05-23T15:40:44.954005Z"
    }
   },
   "outputs": [],
   "source": [
    "dist_overhead = np.load('../Data/dist_dataset.npy')"
   ]
  },
  {
   "cell_type": "code",
   "execution_count": 12,
   "metadata": {
    "ExecuteTime": {
     "end_time": "2019-05-23T15:40:45.099290Z",
     "start_time": "2019-05-23T15:40:44.962381Z"
    }
   },
   "outputs": [],
   "source": [
    "DiscDurations = list()\n",
    "for i in range(1,10):\n",
    "    with open('../Data/Discovery/disc%d.prof' % i) as fprof:\n",
    "        timestamps = fprof.readlines()\n",
    "    start = float(timestamps[0].split(',')[0])\n",
    "    stop = float(timestamps[1].split(',')[0])\n",
    "    DiscDurations.append(stop-start)"
   ]
  },
  {
   "cell_type": "code",
   "execution_count": 13,
   "metadata": {
    "ExecuteTime": {
     "end_time": "2019-05-23T15:40:45.686235Z",
     "start_time": "2019-05-23T15:40:45.103033Z"
    }
   },
   "outputs": [
    {
     "data": {
      "image/png": "[encoded data removed]",
      "text/plain": [
       "<Figure size 792x360 with 1 Axes>"
      ]
     },
     "metadata": {
      "needs_background": "light"
     },
     "output_type": "display_data"
    }
   ],
   "source": [
    "fig, axis = plt.subplots(nrows=1,ncols=1)\n",
    "fig.set_size_inches(11,5)\n",
    "x1 = np.arange(3)\n",
    "_ = axis.bar(x1[0],des1DF['TTX'].mean(),yerr=des1DF['TTX'].std(), color=blues(300),width=0.5,label='Design 1 TTX')\n",
    "\n",
    "_ = axis.bar(x1[1],des2DF['TTX'].mean(),yerr=des2DF['TTX'].std(),width=0.5, color=blues(200), label='Design 2 TTX')\n",
    "\n",
    "_ = axis.bar(x1[2],des2ADF['TTX'].mean(),#yerr=des2ADF['TTX'].std(),\n",
    "                width=0.5, color=blues(100), label='Design 2A TTX')\n",
    "_ = axis.set_xticks([0,1,2])\n",
    "_ = axis.grid(which='both', linestyle=':', linewidth=1)\n",
    "_ = axis.set_xticklabels(['Design 1', 'Design 2','Design 2A'], fontsize=26)\n",
    "_ = axis.set_ylabel('Time in seconds', fontsize=26)\n",
    "# _ = axis.set_yticks([100,1000,10000,100000])\n",
    "_ = axis.set_yticklabels(axis.get_yticks().astype('int').tolist(),fontsize=24)\n",
    "# _ = axis.legend(fontsize=14,loc = 'lower center', bbox_to_anchor = (0,-0.2,1,1), ncol=3)\n",
    "# fig.subplots_adjust(bottom=0.32)\n",
    "#fig.savefig('ttx.pdf',dpi=800,bbox='tight')"
   ]
  },
  {
   "cell_type": "code",
   "execution_count": 14,
   "metadata": {
    "ExecuteTime": {
     "end_time": "2019-05-23T15:40:46.357117Z",
     "start_time": "2019-05-23T15:40:45.688847Z"
    }
   },
   "outputs": [
    {
     "data": {
      "image/png": "[encoded data removed]",
      "text/plain": [
       "<Figure size 1080x504 with 1 Axes>"
      ]
     },
     "metadata": {
      "needs_background": "light"
     },
     "output_type": "display_data"
    }
   ],
   "source": [
    "fig, axis = plt.subplots(nrows=1,ncols=1)\n",
    "fig.set_size_inches(15,7)\n",
    "x1 = np.arange(3)\n",
    "\n",
    "_ = axis.bar(x1[0], des1DF['AgentOverhead'].mean(),yerr=des1DF['AgentOverhead'].std(),width=0.5, color=reds(200),label='RP Agent Overhead Design 1')\n",
    "_ = axis.bar(x1[0], des1DF['ClientOverhead'].mean(),yerr=des1DF['ClientOverhead'].std(), bottom=des1DF['AgentOverhead'].mean(),width=0.5, color=reds(150),label='RP Client Overhead Design 1')\n",
    "_ = axis.bar(x1[0], des1DF['EnTKOverhead'].mean(),yerr=des1DF['EnTKOverhead'].std(), bottom=des1DF['ClientOverhead'].mean()+des1DF['AgentOverhead'].mean(),width=0.5, color=reds(100),label='EnTK Overheads Design 1')\n",
    "_ = axis.bar(x1[0], np.mean(DiscDurations), yerr=np.std(DiscDurations), bottom=des1DF['ClientOverhead'].mean()+des1DF['AgentOverhead'].mean() + des1DF['EnTKOverhead'].mean(), \n",
    "                width=0.5, color=reds(50),label='Design 1 Dataset Discovery')\n",
    "\n",
    "_ = axis.bar(x1[1],des2DF['AgentOverhead'].mean(),yerr=des2DF['AgentOverhead'].std(),width=0.5, color=greens(200),label='RP Agent Overhead Design 2')\n",
    "_ = axis.bar(x1[1],des2DF['ClientOverhead'].mean(),yerr=des2DF['ClientOverhead'].std(),bottom=des2DF['AgentOverhead'].mean(),width=0.5, color=greens(150),label='RP Client Overhead Design 2')\n",
    "_ = axis.bar(x1[1],(des2DF['SetupOverhead']+des2DF['SetupOverhead2']).mean(),\n",
    "                yerr=(des2DF['SetupOverhead']+des2DF['SetupOverhead2']).std(),\n",
    "                bottom=des2DF['ClientOverhead'].mean()+des2DF['AgentOverhead'].mean(),width=0.5, color=greens(100),label='Design 2 Setup Overhead')\n",
    "_ = axis.bar(x1[1],np.mean(DiscDurations), yerr=np.std(DiscDurations), bottom=des2DF['ClientOverhead'].mean()+des2DF['AgentOverhead'].mean() + (des2DF['SetupOverhead']+des2DF['SetupOverhead2']).mean(),\n",
    "                width=0.5, color=greens(50),label='Design 2 Dataset Discovery')\n",
    "\n",
    "\n",
    "_ = axis.bar(x1[2],des2ADF['AgentOverhead'].mean(),#yerr=des2ADF['AgentOverhead'].std(),\n",
    "                width=0.5, color=purples(250),label='RP Agent Overhead Design 2A',log=1)\n",
    "_ = axis.bar(x1[2],des2ADF['ClientOverhead'].mean(),#yerr=des2ADF['ClientOverhead'].std(),\n",
    "                bottom=des2ADF['AgentOverhead'].mean(),width=0.5, color=purples(200),label='RP Client Overhead Design 2A')\n",
    "_ = axis.bar(x1[2],des2ADF['SetupOverhead'].mean(),#yerr=des2ADF['SetupOverhead'].std(),\n",
    "                bottom=des2ADF['ClientOverhead'].mean()+des2ADF['AgentOverhead'].mean(),width=0.5, color=purples(150),label='Design 2A Setup Overhead')\n",
    "_ = axis.bar(x1[2],dist_overhead.mean(),yerr=dist_overhead.std(),\n",
    "                bottom=des2ADF['ClientOverhead'].mean()+des2ADF['AgentOverhead'].mean()+des2ADF['SetupOverhead'].mean(),width=0.5, color=purples(100),label='Design 2A Distributing Overhead')\n",
    "_ = axis.bar(x1[2],np.mean(DiscDurations), yerr=np.std(DiscDurations),\n",
    "                bottom=des2ADF['ClientOverhead'].mean()+des2ADF['AgentOverhead'].mean()+des2ADF['SetupOverhead'].mean() + dist_overhead.mean(),\n",
    "                width=0.5, color=purples(50),label='Design 2A Dataset Discovery')\n",
    "\n",
    "\n",
    "_ = axis.set_xticks([0,1,2])\n",
    "_ = axis.grid(which='both', linestyle=':', linewidth=1)\n",
    "_ = axis.set_ylabel('Time in seconds', fontsize=26)\n",
    "_ = axis.set_xticklabels(['Design 1', 'Design 2','Design 2A'], fontsize=26)\n",
    "_ = axis.set_yticks([0.1,1,10,100,1000])\n",
    "_ = axis.set_yticklabels(['0.1']+axis.get_yticks()[1:].astype('int').tolist(),fontsize=24)\n",
    "_ = axis.legend(fontsize=22,loc = 'lower center', bbox_to_anchor = (0,-0.6,1,1), ncol=3)\n",
    "# fig.subplots_adjust(bottom=.405)\n",
    "# fig.savefig('overheads.pdf',dpi=800,bbox='tight',pad_inches=0)"
   ]
  },
  {
   "cell_type": "code",
   "execution_count": null,
   "metadata": {},
   "outputs": [],
   "source": []
  }
 ],
 "metadata": {
  "hide_input": false,
  "kernelspec": {
   "display_name": "Python 2",
   "language": "python",
   "name": "python2"
  },
  "language_info": {
   "codemirror_mode": {
    "name": "ipython",
    "version": 2
   },
   "file_extension": ".py",
   "mimetype": "text/x-python",
   "name": "python",
   "nbconvert_exporter": "python",
   "pygments_lexer": "ipython2",
   "version": "2.7.16"
  },
  "latex_envs": {
   "LaTeX_envs_menu_present": true,
   "autoclose": false,
   "autocomplete": true,
   "bibliofile": "biblio.bib",
   "cite_by": "apalike",
   "current_citInitial": 1,
   "eqLabelWithNumbers": true,
   "eqNumInitial": 1,
   "hotkeys": {
    "equation": "Ctrl-E",
    "itemize": "Ctrl-I"
   },
   "labels_anchors": false,
   "latex_user_defs": false,
   "report_style_numbering": false,
   "user_envs_cfg": false
  },
  "varInspector": {
   "cols": {
    "lenName": 16,
    "lenType": 16,
    "lenVar": 40
   },
   "kernels_config": {
    "python": {
     "delete_cmd_postfix": "",
     "delete_cmd_prefix": "del ",
     "library": "var_list.py",
     "varRefreshCmd": "print(var_dic_list())"
    },
    "r": {
     "delete_cmd_postfix": ") ",
     "delete_cmd_prefix": "rm(",
     "library": "var_list.r",
     "varRefreshCmd": "cat(var_dic_list()) "
    }
   },
   "types_to_exclude": [
    "module",
    "function",
    "builtin_function_or_method",
    "instance",
    "_Feature"
   ],
   "window_display": false
  }
 },
 "nbformat": 4,
 "nbformat_minor": 2
}
