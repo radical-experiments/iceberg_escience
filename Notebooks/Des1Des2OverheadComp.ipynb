{
 "cells": [
  {
   "cell_type": "code",
   "execution_count": 1,
   "metadata": {
    "ExecuteTime": {
     "end_time": "2019-05-21T01:41:18.138277Z",
     "start_time": "2019-05-21T01:41:17.187641Z"
    }
   },
   "outputs": [
    {
     "data": {
      "text/html": [
       "<style>.container { width:100% !important; }</style>"
      ],
      "text/plain": [
       "<IPython.core.display.HTML object>"
      ]
     },
     "metadata": {},
     "output_type": "display_data"
    },
    {
     "name": "stdout",
     "output_type": "stream",
     "text": [
      "\r\n",
      "  python               : 2.7.16\r\n",
      "  pythonpath           : \r\n",
      "  virtualenv           : radical.analytics\r\n",
      "\r\n",
      "  radical.analytics    : v0.50.0-10-g76b5950@devel\r\n",
      "  radical.entk         : 0.7.8\r\n",
      "  radical.pilot        : 0.50.16\r\n",
      "  radical.utils        : 0.50.2\r\n",
      "  saga                 : 0.50.0\r\n",
      "\r\n"
     ]
    }
   ],
   "source": [
    "%matplotlib inline\n",
    "import radical.analytics as ra\n",
    "import radical.pilot as rp\n",
    "import radical.utils as ru\n",
    "import radical.entk as re\n",
    "import more_itertools as mit\n",
    "from glob import glob\n",
    "import numpy as np\n",
    "from matplotlib import pyplot as plt\n",
    "from matplotlib import cm\n",
    "import csv\n",
    "import pandas as pd\n",
    "import json\n",
    "from scipy.optimize import curve_fit\n",
    "from scipy import stats\n",
    "from pprint import pprint\n",
    "from sklearn.metrics import r2_score\n",
    "import matplotlib as mpl\n",
    "mpl.rcParams['text.usetex'] = True\n",
    "mpl.rcParams['text.latex.unicode'] = True\n",
    "\n",
    "blues = cm.get_cmap(plt.get_cmap('Blues'))\n",
    "greens = cm.get_cmap(plt.get_cmap('Greens'))\n",
    "reds = cm.get_cmap(plt.get_cmap('Reds'))\n",
    "oranges = cm.get_cmap(plt.get_cmap('Oranges'))\n",
    "purples = cm.get_cmap(plt.get_cmap('Purples'))\n",
    "greys = cm.get_cmap(plt.get_cmap('Greys'))\n",
    "\n",
    "from IPython.core.display import display, HTML\n",
    "display(HTML(\"<style>.container { width:100% !important; }</style>\"))\n",
    "import warnings\n",
    "warnings.filterwarnings('ignore')\n",
    "!radical-stack"
   ]
  },
  {
   "cell_type": "code",
   "execution_count": 2,
   "metadata": {
    "ExecuteTime": {
     "end_time": "2019-05-21T01:44:01.481083Z",
     "start_time": "2019-05-21T01:41:18.151682Z"
    }
   },
   "outputs": [
    {
     "name": "stdout",
     "output_type": "stream",
     "text": [
      "WARNING: profile \"/home/iparask/ICEBERGexperiments/Des3Images1/pmgr.0000.launching.0.child.prof\" not correctly closed.\n",
      "WARNING: profile \"/home/iparask/ICEBERGexperiments/Des3Images1/pmgr.0000.launching.0.child.prof\" not correctly closed.\n",
      "WARNING: profile \"/home/iparask/ICEBERGexperiments/Des3Images1/pmgr.0000.launching.0.child.prof\" not correctly closed.\n"
     ]
    }
   ],
   "source": [
    "des1DF = pd.DataFrame(columns=['TTX','AgentOverhead','ClientOverhead','EnTKOverhead'])\n",
    "\n",
    "sids=['Des3Images1','Des3Images7','Des3Images6']\n",
    "for sid in sids:\n",
    "    re_session = ra.Session(stype='radical.entk',src='../Data/'+sid+'/',sid=sid)\n",
    "    rp_session = ra.Session(stype='radical.pilot',src='../Data/'+sid)\n",
    "    units = rp_session.filter(etype='unit', inplace=False)\n",
    "    pilot = rp_session.filter(etype='pilot', inplace=False)\n",
    "    units_duration = units.duration(event=[{ru.EVENT: 'exec_start'},{ru.EVENT: 'exec_stop'}])\n",
    "    units_agent = units.duration([rp.AGENT_STAGING_INPUT, rp.UMGR_STAGING_OUTPUT_PENDING])\n",
    "    units_client = units.duration([rp.NEW, rp.DONE])\n",
    "    appmanager = re_session.filter(etype='appmanager',inplace=False)\n",
    "    resource_manager = re_session.filter(etype='resource_manager',inplace=False)\n",
    "    app_duration = appmanager.duration(event=[{ru.EVENT:\"amgr run started\"},{ru.EVENT:\"start termination\"}])\n",
    "    res_duration = resource_manager.duration(event=[{ru.EVENT:\"rreq submitted\"},{ru.EVENT:\"resource active\"}])\n",
    "\n",
    "    ttx = units_duration\n",
    "    agent_overhead = units_agent - units_duration\n",
    "    client_overhead = units_client - units_agent\n",
    "    entk_overhead =  app_duration - units_client - res_duration\n",
    "    des1DF.loc[len(des1DF)] = [ttx, agent_overhead, client_overhead, entk_overhead]\n",
    "    "
   ]
  },
  {
   "cell_type": "code",
   "execution_count": 3,
   "metadata": {
    "ExecuteTime": {
     "end_time": "2019-05-21T01:44:01.515977Z",
     "start_time": "2019-05-21T01:44:01.502610Z"
    }
   },
   "outputs": [
    {
     "data": {
      "text/html": [
       "<div>\n",
       "<style scoped>\n",
       "    .dataframe tbody tr th:only-of-type {\n",
       "        vertical-align: middle;\n",
       "    }\n",
       "\n",
       "    .dataframe tbody tr th {\n",
       "        vertical-align: top;\n",
       "    }\n",
       "\n",
       "    .dataframe thead th {\n",
       "        text-align: right;\n",
       "    }\n",
       "</style>\n",
       "<table border=\"1\" class=\"dataframe\">\n",
       "  <thead>\n",
       "    <tr style=\"text-align: right;\">\n",
       "      <th></th>\n",
       "      <th>TTX</th>\n",
       "      <th>AgentOverhead</th>\n",
       "      <th>ClientOverhead</th>\n",
       "      <th>EnTKOverhead</th>\n",
       "    </tr>\n",
       "  </thead>\n",
       "  <tbody>\n",
       "    <tr>\n",
       "      <th>0</th>\n",
       "      <td>72054.0068</td>\n",
       "      <td>0.0769</td>\n",
       "      <td>17.0754</td>\n",
       "      <td>180.8971</td>\n",
       "    </tr>\n",
       "    <tr>\n",
       "      <th>1</th>\n",
       "      <td>81743.9908</td>\n",
       "      <td>0.1942</td>\n",
       "      <td>18.6209</td>\n",
       "      <td>176.4938</td>\n",
       "    </tr>\n",
       "    <tr>\n",
       "      <th>2</th>\n",
       "      <td>75806.0183</td>\n",
       "      <td>0.2275</td>\n",
       "      <td>18.6695</td>\n",
       "      <td>169.7319</td>\n",
       "    </tr>\n",
       "  </tbody>\n",
       "</table>\n",
       "</div>"
      ],
      "text/plain": [
       "          TTX  AgentOverhead  ClientOverhead  EnTKOverhead\n",
       "0  72054.0068         0.0769         17.0754      180.8971\n",
       "1  81743.9908         0.1942         18.6209      176.4938\n",
       "2  75806.0183         0.2275         18.6695      169.7319"
      ]
     },
     "execution_count": 3,
     "metadata": {},
     "output_type": "execute_result"
    }
   ],
   "source": [
    "des1DF"
   ]
  },
  {
   "cell_type": "code",
   "execution_count": 4,
   "metadata": {
    "ExecuteTime": {
     "end_time": "2019-05-21T01:44:25.428766Z",
     "start_time": "2019-05-21T01:44:01.530881Z"
    }
   },
   "outputs": [],
   "source": [
    "des2DF = pd.DataFrame(columns=['TTX','SetupOverhead','SetupOverhead2','AgentOverhead','ClientOverhead'])\n",
    "sids = ['../Data/Design1M5','../Data/Design1M8'] \n",
    "for sid in sids:\n",
    "    Node1 = pd.DataFrame(columns=['Start','End','Type'])\n",
    "    Node1Tilling = pd.read_csv(sid+'/pilot.0000/unit.000002/tilling1.csv')\n",
    "    for index,row in Node1Tilling.iterrows():\n",
    "        Node1.loc[len(Node1)] = [row['Start'],row['End'],'Tile1']\n",
    "    Node1Tilling = pd.read_csv(sid+'/pilot.0000/unit.000002/tilling2.csv')\n",
    "    for index,row in Node1Tilling.iterrows():\n",
    "        Node1.loc[len(Node1)] = [row['Start'],row['End'],'Tile2']\n",
    "    Node1Tilling = pd.read_csv(sid+'/pilot.0000/unit.000002/tilling3.csv')\n",
    "    for index,row in Node1Tilling.iterrows():\n",
    "        Node1.loc[len(Node1)] = [row['Start'],row['End'],'Tile3']\n",
    "    Node1Tilling = pd.read_csv(sid+'/pilot.0000/unit.000002/pred1.csv')\n",
    "    for index,row in Node1Tilling.iterrows():\n",
    "        Node1.loc[len(Node1)] = [row['Start'],row['End'],'Pred1']\n",
    "    Node1Tilling = pd.read_csv(sid+'/pilot.0000/unit.000002/pred2.csv')\n",
    "    for index,row in Node1Tilling.iterrows():\n",
    "        Node1.loc[len(Node1)] = [row['Start'],row['End'],'Pred2']\n",
    "    Node2 = pd.DataFrame(columns=['Start','End','Type'])\n",
    "    Node2Tilling = pd.read_csv(sid+'/pilot.0000/unit.000003/tilling09.csv')\n",
    "    for index,row in Node2Tilling.iterrows():\n",
    "        Node2.loc[len(Node2)] = [row['Start'],row['End'],'Tile4']\n",
    "    Node2Tilling = pd.read_csv(sid+'/pilot.0000/unit.000003/tilling10.csv')\n",
    "    for index,row in Node2Tilling.iterrows():\n",
    "        Node2.loc[len(Node2)] = [row['Start'],row['End'],'Tile5']\n",
    "    Node2Tilling = pd.read_csv(sid+'/pilot.0000/unit.000003/tilling11.csv')\n",
    "    for index,row in Node2Tilling.iterrows():\n",
    "        Node2.loc[len(Node2)] = [row['Start'],row['End'],'Tile6']\n",
    "    Node2Tilling = pd.read_csv(sid+'/pilot.0000/unit.000003/pred3.csv')\n",
    "    for index,row in Node2Tilling.iterrows():\n",
    "        Node2.loc[len(Node2)] = [row['Start'],row['End'],'Pred3']\n",
    "    Node2Tilling = pd.read_csv(sid+'/pilot.0000/unit.000003/pred4.csv')\n",
    "    for index,row in Node2Tilling.iterrows():\n",
    "        Node2.loc[len(Node2)] = [row['Start'],row['End'],'Pred4']\n",
    "    Node3 = pd.DataFrame(columns=['Start','End','Type'])\n",
    "    Node3Tilling = pd.read_csv(sid+'/pilot.0000/unit.000004/tilling17.csv')\n",
    "    for index,row in Node3Tilling.iterrows():\n",
    "        Node3.loc[len(Node3)] = [row['Start'],row['End'],'Tile7']\n",
    "    Node3Tilling = pd.read_csv(sid+'/pilot.0000/unit.000004/tilling18.csv')\n",
    "    for index,row in Node3Tilling.iterrows():\n",
    "        Node3.loc[len(Node3)] = [row['Start'],row['End'],'Tile8']\n",
    "    Node3Tilling = pd.read_csv(sid+'/pilot.0000/unit.000004/tilling19.csv')\n",
    "    for index,row in Node3Tilling.iterrows():\n",
    "        Node3.loc[len(Node3)] = [row['Start'],row['End'],'Tile9']\n",
    "    Node3Tilling = pd.read_csv(sid+'/pilot.0000/unit.000004/pred5.csv')\n",
    "    for index,row in Node3Tilling.iterrows():\n",
    "        Node3.loc[len(Node3)] = [row['Start'],row['End'],'Pred5']\n",
    "    Node3Tilling = pd.read_csv(sid+'/pilot.0000/unit.000004/pred6.csv')\n",
    "    for index,row in Node3Tilling.iterrows():\n",
    "        Node3.loc[len(Node3)] = [row['Start'],row['End'],'Pred6']\n",
    "    Node4 = pd.DataFrame(columns=['Start','End','Type'])\n",
    "    Node4Tilling = pd.read_csv(sid+'/pilot.0000/unit.000005/tilling25.csv')\n",
    "    for index,row in Node4Tilling.iterrows():\n",
    "        Node4.loc[len(Node4)] = [row['Start'],row['End'],'Tile10']\n",
    "    Node4Tilling = pd.read_csv(sid+'/pilot.0000/unit.000005/tilling26.csv')\n",
    "    for index,row in Node4Tilling.iterrows():\n",
    "        Node4.loc[len(Node4)] = [row['Start'],row['End'],'Tile11']\n",
    "    Node4Tilling = pd.read_csv(sid+'/pilot.0000/unit.000005/tilling27.csv')\n",
    "    for index,row in Node4Tilling.iterrows():\n",
    "        Node4.loc[len(Node4)] = [row['Start'],row['End'],'Tile12']\n",
    "    Node4Tilling = pd.read_csv(sid+'/pilot.0000/unit.000005/pred7.csv')\n",
    "    for index,row in Node4Tilling.iterrows():\n",
    "        Node4.loc[len(Node4)] = [row['Start'],row['End'],'Pred7']\n",
    "    Node4Tilling = pd.read_csv(sid+'/pilot.0000/unit.000005/pred8.csv')\n",
    "    for index,row in Node4Tilling.iterrows():\n",
    "        Node4.loc[len(Node4)] = [row['Start'],row['End'],'Pred8']\n",
    "\n",
    "    AllNodes = pd.DataFrame(columns=['Start','End','Type'])\n",
    "    AllNodes = AllNodes.append(Node1)\n",
    "    AllNodes = AllNodes.append(Node2)\n",
    "    AllNodes = AllNodes.append(Node3)\n",
    "    AllNodes = AllNodes.append(Node4)\n",
    "    AllNodes.reset_index(inplace=True,drop='index')\n",
    "    rp_sessionDes2 = ra.Session(stype='radical.pilot',src=sid)\n",
    "    unitsDes2 = rp_sessionDes2.filter(etype='unit', inplace=False)\n",
    "    execUnits = unitsDes2.filter(uid=['unit.000002','unit.000003','unit.000004','unit.000005'],inplace=False)\n",
    "    exec_units_setup_des2 = execUnits.duration(event=[{ru.EVENT: 'exec_start'},{ru.EVENT: 'exec_stop'}])\n",
    "    exec_units_agent_des2 = execUnits.duration([rp.AGENT_STAGING_INPUT, rp.UMGR_STAGING_OUTPUT_PENDING])\n",
    "    exec_units_clientDes2 = execUnits.duration([rp.NEW, rp.DONE])\n",
    "    SetupUnit = unitsDes2.filter(uid=['unit.000000'],inplace=False)\n",
    "    setup_units_clientDes2 = SetupUnit.duration(event=[{ru.STATE: rp.NEW},{ru.EVENT: 'exec_start'}])\n",
    "    pilotDes2 = rp_sessionDes2.filter(etype='pilot', inplace=False)\n",
    "    pilot_duration = pilotDes2.duration([rp.PMGR_ACTIVE,rp.FINAL])\n",
    "    des2_duration = AllNodes['End'].max() - AllNodes['Start'].min()\n",
    "    setupDes2_overhead = exec_units_setup_des2 - des2_duration\n",
    "    agentDes2_overhead = exec_units_agent_des2 - exec_units_setup_des2\n",
    "    clientDes2_overhead = exec_units_clientDes2 - exec_units_agent_des2\n",
    "\n",
    "    des2DF.loc[len(des2DF)] = [des2_duration, setup_units_clientDes2, setupDes2_overhead, agentDes2_overhead, clientDes2_overhead]"
   ]
  },
  {
   "cell_type": "code",
   "execution_count": 5,
   "metadata": {
    "ExecuteTime": {
     "end_time": "2019-05-21T01:44:25.646864Z",
     "start_time": "2019-05-21T01:44:25.543432Z"
    }
   },
   "outputs": [],
   "source": [
    "sid='../Data/Design3Run2_2/'\n",
    "rp_sessionDes2 = ra.Session(stype='radical.pilot',src=sid)\n",
    "unitsDes2 = rp_sessionDes2.filter(etype='unit', inplace=False)\n",
    "execUnits = unitsDes2.filter(uid=['unit.000002','unit.000003','unit.000004','unit.000001'],inplace=False)\n",
    "exec_units_setup_des2 = execUnits.duration(event=[{ru.EVENT: 'exec_start'},{ru.EVENT: 'exec_stop'}])\n",
    "exec_units_agent_des2 = execUnits.duration([rp.AGENT_STAGING_INPUT, rp.UMGR_STAGING_OUTPUT_PENDING])\n",
    "exec_units_clientDes2 = execUnits.duration([rp.NEW, rp.DONE])\n",
    "SetupUnit = unitsDes2.filter(uid=['unit.000000'],inplace=False)\n",
    "setup_units_clientDes2 = SetupUnit.duration(event=[{ru.STATE: rp.NEW},{ru.EVENT: 'exec_start'}])\n",
    "pilotDes2 = rp_sessionDes2.filter(etype='pilot', inplace=False)\n"
   ]
  },
  {
   "cell_type": "code",
   "execution_count": 6,
   "metadata": {
    "ExecuteTime": {
     "end_time": "2019-05-21T01:44:28.834509Z",
     "start_time": "2019-05-21T01:44:25.821755Z"
    }
   },
   "outputs": [],
   "source": [
    "Node1 = pd.DataFrame(columns=['Start','End','Type'])\n",
    "Node1Tilling = pd.read_csv('../Data/Design3Run2_2/pilot.0000/unit.000001/tilling1.csv')\n",
    "for index,row in Node1Tilling.iterrows():\n",
    "    Node1.loc[len(Node1)] = [row['Start'],row['End'],'Tile1']\n",
    "Node1Tilling = pd.read_csv('../Data/Design3Run2_2/pilot.0000/unit.000001/tilling2.csv')\n",
    "for index,row in Node1Tilling.iterrows():\n",
    "    Node1.loc[len(Node1)] = [row['Start'],row['End'],'Tile2']\n",
    "Node1Tilling = pd.read_csv('../Data/Design3Run2_2/pilot.0000/unit.000001/tilling3.csv')\n",
    "for index,row in Node1Tilling.iterrows():\n",
    "    Node1.loc[len(Node1)] = [row['Start'],row['End'],'Tile3']\n",
    "\n",
    "Node1Tilling = pd.read_csv('../Data/Design3Run2_2/pilot.0000/unit.000001/pred1.csv')\n",
    "for index,row in Node1Tilling.iterrows():\n",
    "    Node1.loc[len(Node1)] = [row['Start'],row['End'],'Pred1']\n",
    "Node1Tilling = pd.read_csv('../Data/Design3Run2_2/pilot.0000/unit.000001/pred2.csv')\n",
    "for index,row in Node1Tilling.iterrows():\n",
    "    Node1.loc[len(Node1)] = [row['Start'],row['End'],'Pred2']"
   ]
  },
  {
   "cell_type": "code",
   "execution_count": 7,
   "metadata": {
    "ExecuteTime": {
     "end_time": "2019-05-21T01:44:31.963530Z",
     "start_time": "2019-05-21T01:44:28.969112Z"
    }
   },
   "outputs": [],
   "source": [
    "Node2 = pd.DataFrame(columns=['Start','End','Type'])\n",
    "Node2Tilling = pd.read_csv('../Data/Design3Run2_2/pilot.0000/unit.000002/tilling09.csv')\n",
    "for index,row in Node2Tilling.iterrows():\n",
    "    Node2.loc[len(Node2)] = [row['Start'],row['End'],'Tile4']\n",
    "Node2Tilling = pd.read_csv('../Data/Design3Run2_2/pilot.0000/unit.000002/tilling10.csv')\n",
    "for index,row in Node2Tilling.iterrows():\n",
    "    Node2.loc[len(Node2)] = [row['Start'],row['End'],'Tile5']\n",
    "Node2Tilling = pd.read_csv('../Data/Design3Run2_2/pilot.0000/unit.000002/tilling11.csv')\n",
    "for index,row in Node2Tilling.iterrows():\n",
    "    Node2.loc[len(Node2)] = [row['Start'],row['End'],'Tile6']\n",
    "Node2Tilling = pd.read_csv('../Data/Design3Run2_2/pilot.0000/unit.000002/pred3.csv')\n",
    "for index,row in Node2Tilling.iterrows():\n",
    "    Node2.loc[len(Node2)] = [row['Start'],row['End'],'Pred3']\n",
    "Node2Tilling = pd.read_csv('../Data/Design3Run2_2/pilot.0000/unit.000002/pred4.csv')\n",
    "for index,row in Node2Tilling.iterrows():\n",
    "    Node2.loc[len(Node2)] = [row['Start'],row['End'],'Pred4']"
   ]
  },
  {
   "cell_type": "code",
   "execution_count": 8,
   "metadata": {
    "ExecuteTime": {
     "end_time": "2019-05-21T01:44:34.986858Z",
     "start_time": "2019-05-21T01:44:32.076615Z"
    }
   },
   "outputs": [],
   "source": [
    "Node3 = pd.DataFrame(columns=['Start','End','Type'])\n",
    "Node3Tilling = pd.read_csv('../Data/Design3Run2_2/pilot.0000/unit.000003/tilling17.csv')\n",
    "for index,row in Node3Tilling.iterrows():\n",
    "    Node3.loc[len(Node3)] = [row['Start'],row['End'],'Tile7']\n",
    "Node3Tilling = pd.read_csv('../Data/Design3Run2_2/pilot.0000/unit.000003/tilling18.csv')\n",
    "for index,row in Node3Tilling.iterrows():\n",
    "    Node3.loc[len(Node3)] = [row['Start'],row['End'],'Tile8']\n",
    "Node3Tilling = pd.read_csv('../Data/Design3Run2_2/pilot.0000/unit.000003/tilling19.csv')\n",
    "for index,row in Node3Tilling.iterrows():\n",
    "    Node3.loc[len(Node3)] = [row['Start'],row['End'],'Tile9']\n",
    "Node3Tilling = pd.read_csv('../Data/Design3Run2_2/pilot.0000/unit.000003/pred5.csv')\n",
    "for index,row in Node3Tilling.iterrows():\n",
    "    Node3.loc[len(Node3)] = [row['Start'],row['End'],'Pred5']\n",
    "Node3Tilling = pd.read_csv('../Data/Design3Run2_2/pilot.0000/unit.000003/pred6.csv')\n",
    "for index,row in Node3Tilling.iterrows():\n",
    "    Node3.loc[len(Node3)] = [row['Start'],row['End'],'Pred6']"
   ]
  },
  {
   "cell_type": "code",
   "execution_count": 9,
   "metadata": {
    "ExecuteTime": {
     "end_time": "2019-05-21T01:44:38.084891Z",
     "start_time": "2019-05-21T01:44:35.108379Z"
    }
   },
   "outputs": [],
   "source": [
    "Node4 = pd.DataFrame(columns=['Start','End','Type'])\n",
    "Node4Tilling = pd.read_csv('../Data/Design3Run2_2/pilot.0000/unit.000004/tilling25.csv')\n",
    "for index,row in Node4Tilling.iterrows():\n",
    "    Node4.loc[len(Node4)] = [row['Start'],row['End'],'Tile10']\n",
    "Node4Tilling = pd.read_csv('../Data/Design3Run2_2/pilot.0000/unit.000004/tilling26.csv')\n",
    "for index,row in Node4Tilling.iterrows():\n",
    "    Node4.loc[len(Node4)] = [row['Start'],row['End'],'Tile11']\n",
    "Node4Tilling = pd.read_csv('../Data/Design3Run2_2/pilot.0000/unit.000004/tilling27.csv')\n",
    "for index,row in Node4Tilling.iterrows():\n",
    "    Node4.loc[len(Node4)] = [row['Start'],row['End'],'Tile12']\n",
    "Node4Tilling = pd.read_csv('../Data/Design3Run2_2/pilot.0000/unit.000004/pred7.csv')\n",
    "for index,row in Node4Tilling.iterrows():\n",
    "    Node4.loc[len(Node4)] = [row['Start'],row['End'],'Pred7']\n",
    "Node4Tilling = pd.read_csv('../Data/Design3Run2_2/pilot.0000/unit.000004/pred8.csv')\n",
    "for index,row in Node4Tilling.iterrows():\n",
    "    Node4.loc[len(Node4)] = [row['Start'],row['End'],'Pred8']"
   ]
  },
  {
   "cell_type": "code",
   "execution_count": 10,
   "metadata": {
    "ExecuteTime": {
     "end_time": "2019-05-21T01:44:38.209636Z",
     "start_time": "2019-05-21T01:44:38.193026Z"
    }
   },
   "outputs": [],
   "source": [
    "AllNodes = pd.DataFrame(columns=['Start','End','Type'])\n",
    "AllNodes = AllNodes.append(Node1)\n",
    "AllNodes = AllNodes.append(Node2)\n",
    "AllNodes = AllNodes.append(Node3)\n",
    "AllNodes = AllNodes.append(Node4)\n",
    "AllNodes.reset_index(inplace=True,drop='index')\n",
    "# AllNodes.to_csv('des3_timestamps.csv') \n",
    "\n",
    "des2_duration = AllNodes['End'].max() - AllNodes['Start'].min()\n",
    "setupDes2_overhead = exec_units_setup_des2 - des2_duration\n",
    "agentDes2_overhead = exec_units_agent_des2 - exec_units_setup_des2\n",
    "clientDes2_overhead = exec_units_clientDes2 - exec_units_agent_des2\n",
    "\n",
    "des2DF.loc[len(des2DF)] = [des2_duration, setup_units_clientDes2, setupDes2_overhead, agentDes2_overhead, clientDes2_overhead]"
   ]
  },
  {
   "cell_type": "code",
   "execution_count": 11,
   "metadata": {
    "ExecuteTime": {
     "end_time": "2019-05-21T01:44:38.360498Z",
     "start_time": "2019-05-21T01:44:38.344010Z"
    }
   },
   "outputs": [
    {
     "data": {
      "text/html": [
       "<div>\n",
       "<style scoped>\n",
       "    .dataframe tbody tr th:only-of-type {\n",
       "        vertical-align: middle;\n",
       "    }\n",
       "\n",
       "    .dataframe tbody tr th {\n",
       "        vertical-align: top;\n",
       "    }\n",
       "\n",
       "    .dataframe thead th {\n",
       "        text-align: right;\n",
       "    }\n",
       "</style>\n",
       "<table border=\"1\" class=\"dataframe\">\n",
       "  <thead>\n",
       "    <tr style=\"text-align: right;\">\n",
       "      <th></th>\n",
       "      <th>TTX</th>\n",
       "      <th>SetupOverhead</th>\n",
       "      <th>SetupOverhead2</th>\n",
       "      <th>AgentOverhead</th>\n",
       "      <th>ClientOverhead</th>\n",
       "    </tr>\n",
       "  </thead>\n",
       "  <tbody>\n",
       "    <tr>\n",
       "      <th>0</th>\n",
       "      <td>82452.647161</td>\n",
       "      <td>108.6065</td>\n",
       "      <td>11.265639</td>\n",
       "      <td>0.3505</td>\n",
       "      <td>6.1555</td>\n",
       "    </tr>\n",
       "    <tr>\n",
       "      <th>1</th>\n",
       "      <td>66021.608633</td>\n",
       "      <td>78.8076</td>\n",
       "      <td>4.949667</td>\n",
       "      <td>1.0923</td>\n",
       "      <td>5.7738</td>\n",
       "    </tr>\n",
       "    <tr>\n",
       "      <th>2</th>\n",
       "      <td>65982.978552</td>\n",
       "      <td>73.5454</td>\n",
       "      <td>19.723748</td>\n",
       "      <td>0.1699</td>\n",
       "      <td>9.9798</td>\n",
       "    </tr>\n",
       "  </tbody>\n",
       "</table>\n",
       "</div>"
      ],
      "text/plain": [
       "            TTX  SetupOverhead  SetupOverhead2  AgentOverhead  ClientOverhead\n",
       "0  82452.647161       108.6065       11.265639         0.3505          6.1555\n",
       "1  66021.608633        78.8076        4.949667         1.0923          5.7738\n",
       "2  65982.978552        73.5454       19.723748         0.1699          9.9798"
      ]
     },
     "execution_count": 11,
     "metadata": {},
     "output_type": "execute_result"
    }
   ],
   "source": [
    "des2DF"
   ]
  },
  {
   "cell_type": "code",
   "execution_count": 12,
   "metadata": {
    "ExecuteTime": {
     "end_time": "2019-05-21T01:44:50.531761Z",
     "start_time": "2019-05-21T01:44:38.510907Z"
    }
   },
   "outputs": [],
   "source": [
    "des2ADF = pd.DataFrame(columns=['TTX','SetupOverhead','AgentOverhead','ClientOverhead'])\n",
    "sids = ['../Data/Design3Dist2'] \n",
    "for sid in sids:\n",
    "    Node1 = pd.DataFrame(columns=['Start','End','Type'])\n",
    "    Node1Tilling = pd.read_csv(sid+'/pilot.0000/unit.000000/tilling1.csv')\n",
    "    for index,row in Node1Tilling.iterrows():\n",
    "        Node1.loc[len(Node1)] = [row['Start'],row['End'],'Tile1']\n",
    "    Node1Tilling = pd.read_csv(sid+'/pilot.0000/unit.000000/tilling2.csv')\n",
    "    for index,row in Node1Tilling.iterrows():\n",
    "        Node1.loc[len(Node1)] = [row['Start'],row['End'],'Tile2']\n",
    "    Node1Tilling = pd.read_csv(sid+'/pilot.0000/unit.000000/tilling3.csv')\n",
    "    for index,row in Node1Tilling.iterrows():\n",
    "        Node1.loc[len(Node1)] = [row['Start'],row['End'],'Tile3']\n",
    "    Node1Tilling = pd.read_csv(sid+'/pilot.0000/unit.000000/pred1.csv')\n",
    "    for index,row in Node1Tilling.iterrows():\n",
    "        Node1.loc[len(Node1)] = [row['Start'],row['End'],'Pred1']\n",
    "    Node1Tilling = pd.read_csv(sid+'/pilot.0000/unit.000000/pred2.csv')\n",
    "    for index,row in Node1Tilling.iterrows():\n",
    "        Node1.loc[len(Node1)] = [row['Start'],row['End'],'Pred2']\n",
    "    Node2 = pd.DataFrame(columns=['Start','End','Type'])\n",
    "    Node2Tilling = pd.read_csv(sid+'/pilot.0000/unit.000001/tilling09.csv')\n",
    "    for index,row in Node2Tilling.iterrows():\n",
    "        Node2.loc[len(Node2)] = [row['Start'],row['End'],'Tile4']\n",
    "    Node2Tilling = pd.read_csv(sid+'/pilot.0000/unit.000001/tilling10.csv')\n",
    "    for index,row in Node2Tilling.iterrows():\n",
    "        Node2.loc[len(Node2)] = [row['Start'],row['End'],'Tile5']\n",
    "    Node2Tilling = pd.read_csv(sid+'/pilot.0000/unit.000001/tilling11.csv')\n",
    "    for index,row in Node2Tilling.iterrows():\n",
    "        Node2.loc[len(Node2)] = [row['Start'],row['End'],'Tile6']\n",
    "    Node2Tilling = pd.read_csv(sid+'/pilot.0000/unit.000001/pred3.csv')\n",
    "    for index,row in Node2Tilling.iterrows():\n",
    "        Node2.loc[len(Node2)] = [row['Start'],row['End'],'Pred3']\n",
    "    Node2Tilling = pd.read_csv(sid+'/pilot.0000/unit.000001/pred4.csv')\n",
    "    for index,row in Node2Tilling.iterrows():\n",
    "        Node2.loc[len(Node2)] = [row['Start'],row['End'],'Pred4']\n",
    "    Node3 = pd.DataFrame(columns=['Start','End','Type'])\n",
    "    Node3Tilling = pd.read_csv(sid+'/pilot.0000/unit.000002/tilling17.csv')\n",
    "    for index,row in Node3Tilling.iterrows():\n",
    "        Node3.loc[len(Node3)] = [row['Start'],row['End'],'Tile7']\n",
    "    Node3Tilling = pd.read_csv(sid+'/pilot.0000/unit.000002/tilling18.csv')\n",
    "    for index,row in Node3Tilling.iterrows():\n",
    "        Node3.loc[len(Node3)] = [row['Start'],row['End'],'Tile8']\n",
    "    Node3Tilling = pd.read_csv(sid+'/pilot.0000/unit.000002/tilling19.csv')\n",
    "    for index,row in Node3Tilling.iterrows():\n",
    "        Node3.loc[len(Node3)] = [row['Start'],row['End'],'Tile9']\n",
    "    Node3Tilling = pd.read_csv(sid+'/pilot.0000/unit.000002/pred5.csv')\n",
    "    for index,row in Node3Tilling.iterrows():\n",
    "        Node3.loc[len(Node3)] = [row['Start'],row['End'],'Pred5']\n",
    "    Node3Tilling = pd.read_csv(sid+'/pilot.0000/unit.000002/pred6.csv')\n",
    "    for index,row in Node3Tilling.iterrows():\n",
    "        Node3.loc[len(Node3)] = [row['Start'],row['End'],'Pred6']\n",
    "    Node4 = pd.DataFrame(columns=['Start','End','Type'])\n",
    "    Node4Tilling = pd.read_csv(sid+'/pilot.0000/unit.000003/tilling25.csv')\n",
    "    for index,row in Node4Tilling.iterrows():\n",
    "        Node4.loc[len(Node4)] = [row['Start'],row['End'],'Tile10']\n",
    "    Node4Tilling = pd.read_csv(sid+'/pilot.0000/unit.000003/tilling26.csv')\n",
    "    for index,row in Node4Tilling.iterrows():\n",
    "        Node4.loc[len(Node4)] = [row['Start'],row['End'],'Tile11']\n",
    "    Node4Tilling = pd.read_csv(sid+'/pilot.0000/unit.000003/tilling27.csv')\n",
    "    for index,row in Node4Tilling.iterrows():\n",
    "        Node4.loc[len(Node4)] = [row['Start'],row['End'],'Tile12']\n",
    "    Node4Tilling = pd.read_csv(sid+'/pilot.0000/unit.000003/pred7.csv')\n",
    "    for index,row in Node4Tilling.iterrows():\n",
    "        Node4.loc[len(Node4)] = [row['Start'],row['End'],'Pred7']\n",
    "    Node4Tilling = pd.read_csv(sid+'/pilot.0000/unit.000003/pred8.csv')\n",
    "    for index,row in Node4Tilling.iterrows():\n",
    "        Node4.loc[len(Node4)] = [row['Start'],row['End'],'Pred8']\n",
    "\n",
    "    AllNodes = pd.DataFrame(columns=['Start','End','Type'])\n",
    "    AllNodes = AllNodes.append(Node1)\n",
    "    AllNodes = AllNodes.append(Node2)\n",
    "    AllNodes = AllNodes.append(Node3)\n",
    "    AllNodes = AllNodes.append(Node4)\n",
    "    AllNodes.reset_index(inplace=True,drop='index')\n",
    "    rp_sessionDes2 = ra.Session(stype='radical.pilot',src=sid)\n",
    "    unitsDes2 = rp_sessionDes2.filter(etype='unit', inplace=False)\n",
    "    execUnits = unitsDes2.filter(uid=['unit.000000','unit.000001','unit.000002','unit.000003'],inplace=False)\n",
    "    exec_units_setup_des2 = unitsDes2.duration(event=[{ru.EVENT: 'exec_start'},{ru.EVENT: 'exec_stop'}])\n",
    "    exec_units_agent_des2 = unitsDes2.duration([rp.AGENT_STAGING_INPUT, rp.UMGR_STAGING_OUTPUT_PENDING])\n",
    "    exec_units_clientDes2 = execUnits.duration([rp.NEW, rp.DONE])\n",
    "    pilotDes2 = rp_sessionDes2.filter(etype='pilot', inplace=False)\n",
    "    pilot_duration = pilotDes2.duration([rp.PMGR_ACTIVE,rp.FINAL])\n",
    "    des2_duration = AllNodes['End'].max() - AllNodes['Start'].min()\n",
    "    setupDes2_overhead = exec_units_setup_des2 - des2_duration\n",
    "    agentDes2_overhead = exec_units_agent_des2 - exec_units_setup_des2\n",
    "    clientDes2_overhead = exec_units_clientDes2 - exec_units_agent_des2\n",
    "    queue_time = max(pilotDes2.timestamps(event=[{ru.STATE: rp.PMGR_ACTIVE}]))- max(execUnits.timestamps(event=[{ru.STATE: rp.AGENT_STAGING_INPUT_PENDING}]))\n",
    "    des2ADF.loc[len(des2ADF)] = [des2_duration, setupDes2_overhead, agentDes2_overhead, clientDes2_overhead-queue_time]"
   ]
  },
  {
   "cell_type": "code",
   "execution_count": 13,
   "metadata": {
    "ExecuteTime": {
     "end_time": "2019-05-21T01:44:50.667084Z",
     "start_time": "2019-05-21T01:44:50.659267Z"
    }
   },
   "outputs": [
    {
     "data": {
      "text/plain": [
       "{'pilot': {'event_model': {}}}"
      ]
     },
     "execution_count": 13,
     "metadata": {},
     "output_type": "execute_result"
    }
   ],
   "source": [
    "pilotDes2.describe('event_model')"
   ]
  },
  {
   "cell_type": "code",
   "execution_count": 14,
   "metadata": {
    "ExecuteTime": {
     "end_time": "2019-05-21T01:44:50.828601Z",
     "start_time": "2019-05-21T01:44:50.823222Z"
    }
   },
   "outputs": [
    {
     "name": "stdout",
     "output_type": "stream",
     "text": [
      "[10.55209994316101, 10.55209994316101, 10.553400039672852, 10.555099964141846, 72.48239994049072, 72.48239994049072]\n",
      "[26.084699869155884, 26.084699869155884, 26.085099935531616, 30.782299995422363, 30.782299995422363, 30.78349995613098, 35.35710000991821, 35.35710000991821, 35.35870003700256, 40.063899993896484, 40.063899993896484, 40.06629991531372, 72.57550001144409, 72.57550001144409, 72.57550001144409, 72.57550001144409, 72.57669997215271, 72.57679986953735, 72.57679986953735, 72.57679986953735]\n"
     ]
    }
   ],
   "source": [
    "print pilotDes2.timestamps(event=[{ru.STATE:rp.PMGR_LAUNCHING_PENDING},{ru.STATE: rp.PMGR_ACTIVE}])\n",
    "print execUnits.timestamps(event=[{ru.STATE: rp.AGENT_STAGING_INPUT_PENDING}])"
   ]
  },
  {
   "cell_type": "code",
   "execution_count": 15,
   "metadata": {
    "ExecuteTime": {
     "end_time": "2019-05-21T01:44:50.975433Z",
     "start_time": "2019-05-21T01:44:50.971023Z"
    }
   },
   "outputs": [],
   "source": [
    "dist_overhead = np.load('../Data/dist_dataset.npy')"
   ]
  },
  {
   "cell_type": "code",
   "execution_count": 16,
   "metadata": {
    "ExecuteTime": {
     "end_time": "2019-05-21T01:44:51.107931Z",
     "start_time": "2019-05-21T01:44:51.101002Z"
    }
   },
   "outputs": [
    {
     "data": {
      "text/plain": [
       "7.541040003299713"
      ]
     },
     "execution_count": 16,
     "metadata": {},
     "output_type": "execute_result"
    }
   ],
   "source": [
    "np.mean(dist_overhead)"
   ]
  },
  {
   "cell_type": "code",
   "execution_count": 17,
   "metadata": {
    "ExecuteTime": {
     "end_time": "2019-05-21T01:44:51.268770Z",
     "start_time": "2019-05-21T01:44:51.257337Z"
    }
   },
   "outputs": [
    {
     "data": {
      "text/html": [
       "<div>\n",
       "<style scoped>\n",
       "    .dataframe tbody tr th:only-of-type {\n",
       "        vertical-align: middle;\n",
       "    }\n",
       "\n",
       "    .dataframe tbody tr th {\n",
       "        vertical-align: top;\n",
       "    }\n",
       "\n",
       "    .dataframe thead th {\n",
       "        text-align: right;\n",
       "    }\n",
       "</style>\n",
       "<table border=\"1\" class=\"dataframe\">\n",
       "  <thead>\n",
       "    <tr style=\"text-align: right;\">\n",
       "      <th></th>\n",
       "      <th>TTX</th>\n",
       "      <th>SetupOverhead</th>\n",
       "      <th>AgentOverhead</th>\n",
       "      <th>ClientOverhead</th>\n",
       "    </tr>\n",
       "  </thead>\n",
       "  <tbody>\n",
       "    <tr>\n",
       "      <th>0</th>\n",
       "      <td>59427.252822</td>\n",
       "      <td>5.306878</td>\n",
       "      <td>0.1629</td>\n",
       "      <td>54.034</td>\n",
       "    </tr>\n",
       "  </tbody>\n",
       "</table>\n",
       "</div>"
      ],
      "text/plain": [
       "            TTX  SetupOverhead  AgentOverhead  ClientOverhead\n",
       "0  59427.252822       5.306878         0.1629          54.034"
      ]
     },
     "execution_count": 17,
     "metadata": {},
     "output_type": "execute_result"
    }
   ],
   "source": [
    "des2ADF"
   ]
  },
  {
   "cell_type": "code",
   "execution_count": 18,
   "metadata": {
    "ExecuteTime": {
     "end_time": "2019-05-21T01:44:51.409669Z",
     "start_time": "2019-05-21T01:44:51.403185Z"
    }
   },
   "outputs": [],
   "source": [
    "DiscDurations = list()\n",
    "for i in range(1,10):\n",
    "    with open('../Data/Discovery/disc%d.prof' % i) as fprof:\n",
    "        timestamps = fprof.readlines()\n",
    "    start = float(timestamps[0].split(',')[0])\n",
    "    stop = float(timestamps[1].split(',')[0])\n",
    "    DiscDurations.append(stop-start)"
   ]
  },
  {
   "cell_type": "code",
   "execution_count": 20,
   "metadata": {
    "ExecuteTime": {
     "end_time": "2019-05-21T01:47:35.361322Z",
     "start_time": "2019-05-21T01:47:30.720372Z"
    }
   },
   "outputs": [
    {
     "data": {
      "image/png": "[encoded data removed]",
      "text/plain": [
       "<Figure size 792x360 with 1 Axes>"
      ]
     },
     "metadata": {
      "needs_background": "light"
     },
     "output_type": "display_data"
    }
   ],
   "source": [
    "fig, axis = plt.subplots(nrows=1,ncols=1)\n",
    "fig.set_size_inches(11,5)\n",
    "x1 = np.arange(3)\n",
    "_ = axis.bar(x1[0],des1DF['TTX'].mean(),yerr=des1DF['TTX'].std(), color=blues(300),width=0.5,label='Design 1 TTX')\n",
    "\n",
    "_ = axis.bar(x1[1],des2DF['TTX'].mean(),yerr=des2DF['TTX'].std(),width=0.5, color=blues(200), label='Design 2 TTX')\n",
    "\n",
    "_ = axis.bar(x1[2],des2ADF['TTX'].mean(),#yerr=des2ADF['TTX'].std(),\n",
    "                width=0.5, color=blues(100), label='Design 2A TTX')\n",
    "_ = axis.set_xticks([0,1,2])\n",
    "_ = axis.grid(which='both', linestyle=':', linewidth=1)\n",
    "_ = axis.set_xticklabels(['Design 1', 'Design 2','Design 2A'], fontsize=26)\n",
    "_ = axis.set_ylabel('Time in seconds', fontsize=26)\n",
    "# _ = axis.set_yticks([100,1000,10000,100000])\n",
    "_ = axis.set_yticklabels(axis.get_yticks().astype('int').tolist(),fontsize=24)\n",
    "# _ = axis.legend(fontsize=14,loc = 'lower center', bbox_to_anchor = (0,-0.2,1,1), ncol=3)\n",
    "# fig.subplots_adjust(bottom=0.32)\n",
    "#fig.savefig('ttx.pdf',dpi=800,bbox='tight')"
   ]
  },
  {
   "cell_type": "code",
   "execution_count": 86,
   "metadata": {
    "ExecuteTime": {
     "end_time": "2019-05-21T03:10:41.671307Z",
     "start_time": "2019-05-21T03:10:40.647290Z"
    }
   },
   "outputs": [
    {
     "data": {
      "image/png": "[encoded data removed]",
      "text/plain": [
       "<Figure size 792x612 with 1 Axes>"
      ]
     },
     "metadata": {
      "needs_background": "light"
     },
     "output_type": "display_data"
    }
   ],
   "source": [
    "fig, axis = plt.subplots(nrows=1,ncols=1)\n",
    "fig.set_size_inches(11,8.5)\n",
    "x1 = np.arange(3)\n",
    "\n",
    "_ = axis.bar(x1[0], des1DF['AgentOverhead'].mean(),yerr=des1DF['AgentOverhead'].std(),width=0.5, color=reds(200),label='RP Agent Overhead Design 1')\n",
    "_ = axis.bar(x1[0], des1DF['ClientOverhead'].mean(),yerr=des1DF['ClientOverhead'].std(), bottom=des1DF['AgentOverhead'].mean(),width=0.5, color=reds(150),label='RP Client Overhead Design 1')\n",
    "_ = axis.bar(x1[0], des1DF['EnTKOverhead'].mean(),yerr=des1DF['EnTKOverhead'].std(), bottom=des1DF['ClientOverhead'].mean()+des1DF['AgentOverhead'].mean(),width=0.5, color=reds(100),label='EnTK Overheads Design 1')\n",
    "_ = axis.bar(x1[0], np.mean(DiscDurations), yerr=np.std(DiscDurations), bottom=des1DF['ClientOverhead'].mean()+des1DF['AgentOverhead'].mean() + des1DF['EnTKOverhead'].mean(), \n",
    "                width=0.5, color=reds(50),label='Design 1 Dataset Discovery')\n",
    "\n",
    "_ = axis.bar(x1[1],des2DF['AgentOverhead'].mean(),yerr=des2DF['AgentOverhead'].std(),width=0.5, color=greens(200),label='RP Agent Overhead Design 2')\n",
    "_ = axis.bar(x1[1],des2DF['ClientOverhead'].mean(),yerr=des2DF['ClientOverhead'].std(),bottom=des2DF['AgentOverhead'].mean(),width=0.5, color=greens(150),label='RP Client Overhead Design 2')\n",
    "_ = axis.bar(x1[1],(des2DF['SetupOverhead']+des2DF['SetupOverhead2']).mean(),\n",
    "                yerr=(des2DF['SetupOverhead']+des2DF['SetupOverhead2']).std(),\n",
    "                bottom=des2DF['ClientOverhead'].mean()+des2DF['AgentOverhead'].mean(),width=0.5, color=greens(100),label='Design 2 Setup Overhead')\n",
    "_ = axis.bar(x1[1],np.mean(DiscDurations), yerr=np.std(DiscDurations), bottom=des2DF['ClientOverhead'].mean()+des2DF['AgentOverhead'].mean() + (des2DF['SetupOverhead']+des2DF['SetupOverhead2']).mean(),\n",
    "                width=0.5, color=greens(50),label='Design 2 Dataset Discovery')\n",
    "\n",
    "\n",
    "_ = axis.bar(x1[2],des2ADF['AgentOverhead'].mean(),#yerr=des2ADF['AgentOverhead'].std(),\n",
    "                width=0.5, color=purples(250),label='RP Agent Overhead Design 2A',log=1)\n",
    "_ = axis.bar(x1[2],des2ADF['ClientOverhead'].mean(),#yerr=des2ADF['ClientOverhead'].std(),\n",
    "                bottom=des2ADF['AgentOverhead'].mean(),width=0.5, color=purples(200),label='RP Client Overhead Design 2A')\n",
    "_ = axis.bar(x1[2],des2ADF['SetupOverhead'].mean(),#yerr=des2ADF['SetupOverhead'].std(),\n",
    "                bottom=des2ADF['ClientOverhead'].mean()+des2ADF['AgentOverhead'].mean(),width=0.5, color=purples(150),label='Design 2A Setup Overhead')\n",
    "_ = axis.bar(x1[2],dist_overhead.mean(),yerr=dist_overhead.std(),\n",
    "                bottom=des2ADF['ClientOverhead'].mean()+des2ADF['AgentOverhead'].mean()+des2ADF['SetupOverhead'].mean(),width=0.5, color=purples(100),label='Design 2A Distributing Overhead')\n",
    "_ = axis.bar(x1[2],np.mean(DiscDurations), yerr=np.std(DiscDurations),\n",
    "                bottom=des2ADF['ClientOverhead'].mean()+des2ADF['AgentOverhead'].mean()+des2ADF['SetupOverhead'].mean() + dist_overhead.mean(),\n",
    "                width=0.5, color=purples(50),label='Design 2A Dataset Discovery')\n",
    "\n",
    "\n",
    "_ = axis.set_xticks([0,1,2])\n",
    "_ = axis.grid(which='both', linestyle=':', linewidth=1)\n",
    "_ = axis.set_ylabel('Time in seconds', fontsize=26)\n",
    "_ = axis.set_xticklabels(['Design 1', 'Design 2','Design 2A'], fontsize=26)\n",
    "_ = axis.set_yticks([0.1,1,10,100,1000])\n",
    "_ = axis.set_yticklabels(['0.1']+axis.get_yticks()[1:].astype('int').tolist(),fontsize=24)\n",
    "_ = axis.legend(fontsize=22,loc = 'lower center', bbox_to_anchor = (0,-.9,1,1), ncol=2)\n",
    "fig.subplots_adjust(bottom=.405)\n",
    "# fig.savefig('overheads.pdf',dpi=800,bbox='tight',pad_inches=0)"
   ]
  }
 ],
 "metadata": {
  "hide_input": false,
  "kernelspec": {
   "display_name": "Python 2",
   "language": "python",
   "name": "python2"
  },
  "language_info": {
   "codemirror_mode": {
    "name": "ipython",
    "version": 2
   },
   "file_extension": ".py",
   "mimetype": "text/x-python",
   "name": "python",
   "nbconvert_exporter": "python",
   "pygments_lexer": "ipython2",
   "version": "2.7.15"
  },
  "latex_envs": {
   "LaTeX_envs_menu_present": true,
   "autoclose": false,
   "autocomplete": true,
   "bibliofile": "biblio.bib",
   "cite_by": "apalike",
   "current_citInitial": 1,
   "eqLabelWithNumbers": true,
   "eqNumInitial": 1,
   "hotkeys": {
    "equation": "Ctrl-E",
    "itemize": "Ctrl-I"
   },
   "labels_anchors": false,
   "latex_user_defs": false,
   "report_style_numbering": false,
   "user_envs_cfg": false
  },
  "varInspector": {
   "cols": {
    "lenName": 16,
    "lenType": 16,
    "lenVar": 40
   },
   "kernels_config": {
    "python": {
     "delete_cmd_postfix": "",
     "delete_cmd_prefix": "del ",
     "library": "var_list.py",
     "varRefreshCmd": "print(var_dic_list())"
    },
    "r": {
     "delete_cmd_postfix": ") ",
     "delete_cmd_prefix": "rm(",
     "library": "var_list.r",
     "varRefreshCmd": "cat(var_dic_list()) "
    }
   },
   "types_to_exclude": [
    "module",
    "function",
    "builtin_function_or_method",
    "instance",
    "_Feature"
   ],
   "window_display": false
  }
 },
 "nbformat": 4,
 "nbformat_minor": 2
}
