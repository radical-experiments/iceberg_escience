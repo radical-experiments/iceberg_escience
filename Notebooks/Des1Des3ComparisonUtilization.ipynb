{
 "cells": [
  {
   "cell_type": "code",
   "execution_count": 1,
   "metadata": {
    "ExecuteTime": {
     "end_time": "2019-05-05T15:43:58.052859Z",
     "start_time": "2019-05-05T15:43:56.957235Z"
    }
   },
   "outputs": [
    {
     "data": {
      "text/html": [
       "<style>.container { width:100% !important; }</style>"
      ],
      "text/plain": [
       "<IPython.core.display.HTML object>"
      ]
     },
     "metadata": {},
     "output_type": "display_data"
    },
    {
     "name": "stdout",
     "output_type": "stream",
     "text": [
      "\r\n",
      "  python               : 2.7.16\r\n",
      "  pythonpath           : \r\n",
      "  virtualenv           : radical.analytics\r\n",
      "\r\n",
      "  radical.analytics    : v0.50.0-10-g76b5950@devel\r\n",
      "  radical.entk         : 0.7.8\r\n",
      "  radical.pilot        : 0.50.16\r\n",
      "  radical.utils        : 0.50.2\r\n",
      "  saga                 : 0.50.0\r\n",
      "\r\n"
     ]
    }
   ],
   "source": [
    "%matplotlib inline\n",
    "import radical.analytics as ra\n",
    "import radical.pilot as rp\n",
    "import radical.utils as ru\n",
    "import radical.entk as re\n",
    "import more_itertools as mit\n",
    "from glob import glob\n",
    "import numpy as np\n",
    "from matplotlib import pyplot as plt\n",
    "from matplotlib import cm\n",
    "import csv\n",
    "import pandas as pd\n",
    "import json\n",
    "from scipy.optimize import curve_fit\n",
    "from scipy import stats\n",
    "from pprint import pprint\n",
    "from sklearn.metrics import r2_score\n",
    "import matplotlib as mpl\n",
    "mpl.rcParams['text.usetex'] = True\n",
    "mpl.rcParams['text.latex.unicode'] = True\n",
    "\n",
    "blues = cm.get_cmap(plt.get_cmap('Blues'))\n",
    "greens = cm.get_cmap(plt.get_cmap('Greens'))\n",
    "reds = cm.get_cmap(plt.get_cmap('Reds'))\n",
    "oranges = cm.get_cmap(plt.get_cmap('Oranges'))\n",
    "purples = cm.get_cmap(plt.get_cmap('Purples'))\n",
    "greys = cm.get_cmap(plt.get_cmap('Greys'))\n",
    "\n",
    "from IPython.core.display import display, HTML\n",
    "display(HTML(\"<style>.container { width:100% !important; }</style>\"))\n",
    "import warnings\n",
    "warnings.filterwarnings('ignore')\n",
    "!radical-stack"
   ]
  },
  {
   "cell_type": "code",
   "execution_count": 2,
   "metadata": {
    "ExecuteTime": {
     "end_time": "2019-05-05T15:43:58.077897Z",
     "start_time": "2019-05-05T15:43:58.057197Z"
    }
   },
   "outputs": [
    {
     "data": {
      "text/plain": [
       "6194"
      ]
     },
     "execution_count": 2,
     "metadata": {},
     "output_type": "execute_result"
    }
   ],
   "source": [
    "Design3 = pd.read_csv('../Data/des3_timestamps.csv')\n",
    "Design3.drop('Unnamed: 0',axis=1,inplace=True)\n",
    "len(Design3)"
   ]
  },
  {
   "cell_type": "code",
   "execution_count": 3,
   "metadata": {
    "ExecuteTime": {
     "end_time": "2019-05-05T15:43:58.217877Z",
     "start_time": "2019-05-05T15:43:58.081741Z"
    }
   },
   "outputs": [],
   "source": [
    "def utilization(timestamps,util='cpu'):\n",
    "    \n",
    "    tile_ids = ['Tile1','Tile2','Tile3','Tile4','Tile5','Tile6','Tile7','Tile8','Tile9','Tile10','Tile11','Tile12']\n",
    "    pred_ids = ['Pred1','Pred2','Pred3','Pred4','Pred5','Pred6','Pred7','Pred8']\n",
    "    cpu_times = list()\n",
    "    gpu_times = list()\n",
    "    cpu_counts = 0\n",
    "    gpu_counts = 0\n",
    "    for index,row in timestamps.iterrows():\n",
    "        if (row['Type'] in tile_ids) and util =='cpu':\n",
    "            cpu_counts += 1\n",
    "            cpu_times.append(row['Start'])\n",
    "            cpu_times.append(row['End'])\n",
    "        if (row['Type'] in pred_ids) and util =='gpu':\n",
    "            gpu_counts += 1\n",
    "            gpu_times.append(row['Start'])\n",
    "            gpu_times.append(row['End'])\n",
    "    \n",
    "    cpu_times.sort()\n",
    "    gpu_times.sort()\n",
    "    print 'Times sorted', cpu_counts, len(cpu_times)\n",
    "    print gpu_counts\n",
    "    cpu_util = list()\n",
    "    if util == 'cpu':\n",
    "        for t in cpu_times:\n",
    "            cnt = 0\n",
    "            for index,row in timestamps.iterrows():\n",
    "                if row['Type'] in tile_ids:\n",
    "                    if t >= row['Start'] and t <= row['End']:\n",
    "                        cnt += 1\n",
    "\n",
    "            cpu_util.append([t, cnt])\n",
    "        print 'Cpu ready'\n",
    "        return cpu_util\n",
    "    \n",
    "    if util == 'gpu':\n",
    "        gpu_util = list()\n",
    "        for t in gpu_times:\n",
    "            cnt = 0\n",
    "            for index,row in timestamps.iterrows():\n",
    "                if row['Type'] in pred_ids:\n",
    "                    if t >= row['Start'] and t <= row['End']:\n",
    "                        cnt += 1\n",
    "\n",
    "            gpu_util.append([t, cnt])\n",
    "        return gpu_util\n",
    "        \n",
    "    return None"
   ]
  },
  {
   "cell_type": "code",
   "execution_count": 4,
   "metadata": {
    "ExecuteTime": {
     "end_time": "2019-05-05T18:20:58.953818Z",
     "start_time": "2019-05-05T15:43:58.221938Z"
    }
   },
   "outputs": [
    {
     "name": "stdout",
     "output_type": "stream",
     "text": [
      "Times sorted 3097 6194\n",
      "0\n",
      "Cpu ready\n",
      "Times sorted 0 0\n",
      "3097\n"
     ]
    }
   ],
   "source": [
    "Des3CpuUtil = utilization(Design3,util='cpu')\n",
    "Des3GpuUtil = utilization(Design3,util='gpu')"
   ]
  },
  {
   "cell_type": "code",
   "execution_count": 5,
   "metadata": {
    "ExecuteTime": {
     "end_time": "2019-05-05T18:20:58.964997Z",
     "start_time": "2019-05-05T18:20:58.957538Z"
    }
   },
   "outputs": [],
   "source": [
    "Design1CpuUtil = np.load('../Data/Design1CPUutil.npy')\n",
    "Design1GpuUtil = np.load('../Data/Design1GPUutil.npy')"
   ]
  },
  {
   "cell_type": "code",
   "execution_count": 6,
   "metadata": {
    "ExecuteTime": {
     "end_time": "2019-05-05T18:20:59.089135Z",
     "start_time": "2019-05-05T18:20:58.968254Z"
    }
   },
   "outputs": [],
   "source": [
    "Des3GpuUtil = np.array(Des3GpuUtil)\n",
    "Des3CpuUtil = np.array(Des3CpuUtil)"
   ]
  },
  {
   "cell_type": "code",
   "execution_count": 12,
   "metadata": {
    "ExecuteTime": {
     "end_time": "2019-05-06T00:32:11.522774Z",
     "start_time": "2019-05-06T00:32:11.396857Z"
    }
   },
   "outputs": [],
   "source": [
    "np.save('../Data/Des3CpuUtil',Des3CpuUtil)\n",
    "np.save('../Data/Des3GpuUtil',Des3GpuUtil)"
   ]
  },
  {
   "cell_type": "code",
   "execution_count": 8,
   "metadata": {
    "ExecuteTime": {
     "end_time": "2019-05-05T18:20:59.296346Z",
     "start_time": "2019-05-05T18:20:59.189352Z"
    }
   },
   "outputs": [
    {
     "data": {
      "text/plain": [
       "1.0"
      ]
     },
     "execution_count": 8,
     "metadata": {},
     "output_type": "execute_result"
    }
   ],
   "source": [
    "Design1GpuUtil[-1,1]"
   ]
  },
  {
   "cell_type": "code",
   "execution_count": 9,
   "metadata": {
    "ExecuteTime": {
     "end_time": "2019-05-05T18:20:59.797969Z",
     "start_time": "2019-05-05T18:20:59.300581Z"
    }
   },
   "outputs": [
    {
     "data": {
      "image/png": "[encoded data removed]",
      "text/plain": [
       "<Figure size 936x432 with 1 Axes>"
      ]
     },
     "metadata": {
      "needs_background": "light"
     },
     "output_type": "display_data"
    }
   ],
   "source": [
    "t = 8500\n",
    "fig,axis = plt.subplots(nrows=1,ncols=1,figsize=(13,6),sharex=True)\n",
    "_ = axis.plot(Design1CpuUtil[:t,0],(((Design1CpuUtil[:t,1]-Design1GpuUtil[:t,1])/10)/1)*1,marker='',linestyle='-', label='CPU Utilization', color=blues(150))\n",
    "_ = axis.plot(Design1GpuUtil[:t,0],(Design1GpuUtil[:t,1]/1)*1,marker='',linestyle='-', label='GPU Utilization', color=reds(150))\n",
    "_ = axis.set_ylabel('Percentage of Resources Used',fontsize=14)\n",
    "_ = axis.set_xlabel('Time in seconds',fontsize=14)\n",
    "_ = axis.grid('on')\n",
    "_ = axis.legend(fontsize=14)\n",
    "_ = axis.set_xticklabels(axis.get_xticks().astype('int').tolist(),fontsize=14)\n",
    "_ = axis.set_yticklabels(axis.get_yticks().astype('int').tolist(),fontsize=14)\n",
    "_ = axis.set_title('Resource Utilization over time for Desing 1', fontsize=16)\n",
    "# fig.savefig('Design1Utilization.pdf',dpi=800,bbox_inches='tight')"
   ]
  },
  {
   "cell_type": "code",
   "execution_count": 10,
   "metadata": {
    "ExecuteTime": {
     "end_time": "2019-05-05T18:20:59.836146Z",
     "start_time": "2019-05-05T18:20:59.802235Z"
    }
   },
   "outputs": [],
   "source": [
    "Des3CpuUtil = Des3CpuUtil\n",
    "for tick in Des3GpuUtil[Des3GpuUtil[:,0] > Des3CpuUtil[:,0].max()][:,0]:\n",
    "    Des3CpuUtil = np.vstack((Des3CpuUtil,[tick,0]))\n",
    "    "
   ]
  },
  {
   "cell_type": "code",
   "execution_count": 11,
   "metadata": {
    "ExecuteTime": {
     "end_time": "2019-05-05T18:21:00.763752Z",
     "start_time": "2019-05-05T18:20:59.839799Z"
    }
   },
   "outputs": [
    {
     "data": {
      "image/png": "[encoded data removed]",
      "text/plain": [
       "<Figure size 936x432 with 1 Axes>"
      ]
     },
     "metadata": {
      "needs_background": "light"
     },
     "output_type": "display_data"
    }
   ],
   "source": [
    "t= 6500\n",
    "fig,axis = plt.subplots(nrows=1,ncols=1,figsize=(13,6),sharex=True)\n",
    "_ = axis.plot(Des3CpuUtil[:t,0],(Des3CpuUtil[:t,1]/1)*1,marker='',linestyle='-', label='CPU Utilization', color=blues(150))\n",
    "_ = axis.plot(Des3GpuUtil[:t,0],(Des3GpuUtil[:t,1]/1)*1,marker='',linestyle='-', label='GPU Utilization', color=reds(150))\n",
    "_ = axis.set_ylabel('Percentage of Resources Used',fontsize=14)\n",
    "_ = axis.set_xlabel('Time in seconds',fontsize=14)\n",
    "_ = axis.grid('on')\n",
    "_ = axis.legend(fontsize=14)\n",
    "_ = axis.set_xticklabels(axis.get_xticks().astype('int').tolist(),fontsize=14)\n",
    "_ = axis.set_yticklabels(axis.get_yticks().astype('int').tolist(),fontsize=14)\n",
    "_ = axis.set_title('Resource Utilization over time Design 2', fontsize=16)\n",
    "#fig.savefig('Design2Utilization.pdf',dpi=800,bbox_inches='tight')"
   ]
  },
  {
   "cell_type": "code",
   "execution_count": null,
   "metadata": {},
   "outputs": [],
   "source": []
  }
 ],
 "metadata": {
  "hide_input": false,
  "kernelspec": {
   "display_name": "Python 2",
   "language": "python",
   "name": "python2"
  },
  "language_info": {
   "codemirror_mode": {
    "name": "ipython",
    "version": 2
   },
   "file_extension": ".py",
   "mimetype": "text/x-python",
   "name": "python",
   "nbconvert_exporter": "python",
   "pygments_lexer": "ipython2",
   "version": "2.7.15"
  },
  "latex_envs": {
   "LaTeX_envs_menu_present": true,
   "autoclose": false,
   "autocomplete": true,
   "bibliofile": "biblio.bib",
   "cite_by": "apalike",
   "current_citInitial": 1,
   "eqLabelWithNumbers": true,
   "eqNumInitial": 1,
   "hotkeys": {
    "equation": "Ctrl-E",
    "itemize": "Ctrl-I"
   },
   "labels_anchors": false,
   "latex_user_defs": false,
   "report_style_numbering": false,
   "user_envs_cfg": false
  },
  "varInspector": {
   "cols": {
    "lenName": 16,
    "lenType": 16,
    "lenVar": 40
   },
   "kernels_config": {
    "python": {
     "delete_cmd_postfix": "",
     "delete_cmd_prefix": "del ",
     "library": "var_list.py",
     "varRefreshCmd": "print(var_dic_list())"
    },
    "r": {
     "delete_cmd_postfix": ") ",
     "delete_cmd_prefix": "rm(",
     "library": "var_list.r",
     "varRefreshCmd": "cat(var_dic_list()) "
    }
   },
   "types_to_exclude": [
    "module",
    "function",
    "builtin_function_or_method",
    "instance",
    "_Feature"
   ],
   "window_display": false
  }
 },
 "nbformat": 4,
 "nbformat_minor": 2
}
