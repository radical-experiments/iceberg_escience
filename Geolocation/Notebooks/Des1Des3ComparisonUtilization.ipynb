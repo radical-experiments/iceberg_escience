{
 "cells": [
  {
   "cell_type": "code",
   "execution_count": 1,
   "metadata": {
    "ExecuteTime": {
     "end_time": "2019-05-05T15:43:58.052859Z",
     "start_time": "2019-05-05T15:43:56.957235Z"
    }
   },
   "outputs": [
    {
     "data": {
      "text/html": [
       "<style>.container { width:100% !important; }</style>"
      ],
      "text/plain": [
       "<IPython.core.display.HTML object>"
      ]
     },
     "metadata": {},
     "output_type": "display_data"
    },
    {
     "name": "stdout",
     "output_type": "stream",
     "text": [
      "/opt/anaconda2/lib/python2.7/site-packages/radical/pilot\n",
      "/opt/anaconda2/lib/python2.7/site-packages/radical/utils\n",
      "/opt/anaconda2/lib/python2.7/site-packages/radical/entk\n",
      "/opt/anaconda2/lib/python2.7/site-packages/radical/saga\n",
      "/opt/anaconda2/lib/python2.7/site-packages/radical/analytics\n",
      "\n",
      "  python               : 2.7.14\n",
      "  pythonpath           : \n",
      "  virtualenv           : /home/aymen/jupyter\n",
      "\n",
      "  radical.analytics    : 0.70.0\n",
      "  radical.entk         : 0.70.0\n",
      "  radical.pilot        : 0.70.0\n",
      "  radical.saga         : 0.70.0\n",
      "  radical.utils        : 0.70.0\n",
      "\n"
     ]
    }
   ],
   "source": [
    "%matplotlib inline\n",
    "import os \n",
    "import radical.analytics as ra\n",
    "import radical.pilot as rp\n",
    "import radical.utils as ru\n",
    "import radical.entk as re\n",
    "#import more_itertools as mit\n",
    "from glob import glob\n",
    "import numpy as np\n",
    "from matplotlib import pyplot as plt\n",
    "from matplotlib import cm\n",
    "import csv\n",
    "import pandas as pd\n",
    "import json\n",
    "from scipy.optimize import curve_fit\n",
    "from scipy import stats\n",
    "from pprint import pprint\n",
    "from sklearn.metrics import r2_score\n",
    "import matplotlib as mpl\n",
    "mpl.rcParams['text.usetex'] = True\n",
    "mpl.rcParams['text.latex.unicode'] = True\n",
    "\n",
    "blues = cm.get_cmap(plt.get_cmap('Blues'))\n",
    "greens = cm.get_cmap(plt.get_cmap('Greens'))\n",
    "reds = cm.get_cmap(plt.get_cmap('Reds'))\n",
    "oranges = cm.get_cmap(plt.get_cmap('Oranges'))\n",
    "purples = cm.get_cmap(plt.get_cmap('Purples'))\n",
    "greys = cm.get_cmap(plt.get_cmap('Greys'))\n",
    "\n",
    "from IPython.core.display import display, HTML\n",
    "display(HTML(\"<style>.container { width:100% !important; }</style>\"))\n",
    "import warnings\n",
    "warnings.filterwarnings('ignore')\n",
    "!radical-stack"
   ]
  },
  {
   "cell_type": "code",
   "execution_count": 92,
   "metadata": {
    "ExecuteTime": {
     "end_time": "2019-05-05T15:43:58.077897Z",
     "start_time": "2019-05-05T15:43:58.057197Z"
    }
   },
   "outputs": [],
   "source": [
    "des2_geolocating = pd.DataFrame(columns=['Start','End','Type'])\n",
    "\n",
    "sids = ['../../../paper_data/Design2a/design2a_11k_test5/'] \n",
    "\n",
    "for sid in sids:\n",
    "    #geo_files = glob(sid+'/pilot.0000/unit.00*/geolocate*.csv')\n",
    "    geo_files = glob(sid+'/pilot.0000/unit.00*/ransac*.csv')\n",
    "    for geo_file in geo_files:\n",
    "        Geolocating = pd.read_csv(geo_file)\n",
    "        for index, row in Geolocating.iterrows():\n",
    "            \n",
    "            if row['Image'] == 'configure' or row['Image'] == 'connect' or row['Image'] == 'disconnect' :\n",
    "                skip = True\n",
    "                continue\n",
    "                \n",
    "            else :\n",
    "                try:\n",
    "                    start1  =  row['Start']\n",
    "                    end1    =  row['End'] \n",
    "                    #type1   =  'geo'\n",
    "                    type1 = 'ransac'\n",
    "                    des2_geolocating.loc[len(des2_geolocating)] = [start1,end1,type1]\n",
    "                \n",
    "                except Exception as e:\n",
    "\n",
    "                    print row['Image']\n",
    "                    print (e) \n",
    "\n",
    "\n",
    "\n",
    "#des2_geolocating.to_csv('../Data/design2a_geo_timestamps.csv')\n",
    "des2_geolocating.to_csv('../Data/design2a_ransac_timestamps.csv')"
   ]
  },
  {
   "cell_type": "code",
   "execution_count": 32,
   "metadata": {},
   "outputs": [],
   "source": [
    "Design3_gpu = pd.read_csv('../Data/design2_geo_timestamps.csv')\n",
    "Design3_cpu = pd.read_csv('../Data/design2_ransac_timestamps.csv')\n",
    "Design3_gpu.drop('Unnamed: 0',axis=1,inplace=True)\n",
    "Design3_cpu.drop('Unnamed: 0',axis=1,inplace=True)"
   ]
  },
  {
   "cell_type": "code",
   "execution_count": 35,
   "metadata": {
    "ExecuteTime": {
     "end_time": "2019-05-05T15:43:58.217877Z",
     "start_time": "2019-05-05T15:43:58.081741Z"
    }
   },
   "outputs": [],
   "source": [
    "def utilization(timestamps,util):\n",
    "    \n",
    "    #tile_ids = ['Tile1','Tile2','Tile3','Tile4','Tile5','Tile6','Tile7','Tile8','Tile9','Tile10','Tile11','Tile12']\n",
    "    #pred_ids = ['Pred1','Pred2','Pred3','Pred4','Pred5','Pred6','Pred7','Pred8']\n",
    "    geo_ids = ['geo']\n",
    "    ransac_ids = ['ransac']\n",
    "    cpu_times = list()\n",
    "    gpu_times = list()\n",
    "    cpu_counts = 0\n",
    "    gpu_counts = 0\n",
    "    for index,row in timestamps.iterrows():\n",
    "        if (row['Type'] in ransac_ids) and util =='cpu':\n",
    "            cpu_counts += 1\n",
    "            cpu_times.append(row['Start'])\n",
    "            cpu_times.append(row['End'])\n",
    "        if (row['Type'] in geo_ids) and util =='gpu':\n",
    "            gpu_counts += 1\n",
    "            gpu_times.append(row['Start'])\n",
    "            gpu_times.append(row['End'])\n",
    "    \n",
    "    cpu_times.sort()\n",
    "    gpu_times.sort()\n",
    "    if util=='cpu':\n",
    "        \n",
    "        print 'Times sorted', cpu_counts, len(cpu_times)\n",
    "    else :\n",
    "        print 'Times sorted', gpu_counts, len(gpu_times)\n",
    "    cpu_util = list()\n",
    "    if util == 'cpu':\n",
    "        for t in cpu_times:\n",
    "            cnt = 0\n",
    "            for index,row in timestamps.iterrows():\n",
    "                if row['Type'] in ransac_ids:\n",
    "                    if t >= row['Start'] and t <= row['End']:\n",
    "                        cnt += 1\n",
    "\n",
    "            cpu_util.append([t, cnt])\n",
    "        print 'Cpu ready'\n",
    "        return cpu_util\n",
    "    \n",
    "    if util == 'gpu':\n",
    "        gpu_util = list()\n",
    "        for t in gpu_times:\n",
    "            cnt = 0\n",
    "            for index,row in timestamps.iterrows():\n",
    "                if row['Type'] in geo_ids:\n",
    "                    if t >= row['Start'] and t <= row['End']:\n",
    "                        cnt += 1\n",
    "\n",
    "            gpu_util.append([t, cnt])\n",
    "        print 'Gpu ready'\n",
    "        return gpu_util\n",
    "        \n",
    "    return None"
   ]
  },
  {
   "cell_type": "code",
   "execution_count": 37,
   "metadata": {
    "ExecuteTime": {
     "end_time": "2019-05-05T18:20:58.953818Z",
     "start_time": "2019-05-05T15:43:58.221938Z"
    }
   },
   "outputs": [
    {
     "name": "stdout",
     "output_type": "stream",
     "text": [
      "Times sorted 11029 22058\n",
      "Cpu ready\n"
     ]
    }
   ],
   "source": [
    "Des3CpuUtil = utilization(Design3_cpu,util='cpu')"
   ]
  },
  {
   "cell_type": "code",
   "execution_count": 77,
   "metadata": {
    "collapsed": true
   },
   "outputs": [
    {
     "name": "stdout",
     "output_type": "stream",
     "text": [
      "Times sorted 11029 22058\n"
     ]
    },
    {
     "ename": "KeyboardInterrupt",
     "evalue": "",
     "output_type": "error",
     "traceback": [
      "\u001b[0;31m---------------------------------------------------------------------------\u001b[0m",
      "\u001b[0;31mKeyboardInterrupt\u001b[0m                         Traceback (most recent call last)",
      "\u001b[0;32m<ipython-input-77-d54421b54716>\u001b[0m in \u001b[0;36m<module>\u001b[0;34m()\u001b[0m\n\u001b[0;32m----> 1\u001b[0;31m \u001b[0mDes3GpuUtil\u001b[0m \u001b[0;34m=\u001b[0m \u001b[0mutilization\u001b[0m\u001b[0;34m(\u001b[0m\u001b[0mDesign3_gpu\u001b[0m\u001b[0;34m,\u001b[0m\u001b[0mutil\u001b[0m\u001b[0;34m=\u001b[0m\u001b[0;34m'gpu'\u001b[0m\u001b[0;34m)\u001b[0m\u001b[0;34m\u001b[0m\u001b[0m\n\u001b[0m",
      "\u001b[0;32m<ipython-input-35-90e113b3caf6>\u001b[0m in \u001b[0;36mutilization\u001b[0;34m(timestamps, util)\u001b[0m\n\u001b[1;32m     43\u001b[0m         \u001b[0;32mfor\u001b[0m \u001b[0mt\u001b[0m \u001b[0;32min\u001b[0m \u001b[0mgpu_times\u001b[0m\u001b[0;34m:\u001b[0m\u001b[0;34m\u001b[0m\u001b[0m\n\u001b[1;32m     44\u001b[0m             \u001b[0mcnt\u001b[0m \u001b[0;34m=\u001b[0m \u001b[0;36m0\u001b[0m\u001b[0;34m\u001b[0m\u001b[0m\n\u001b[0;32m---> 45\u001b[0;31m             \u001b[0;32mfor\u001b[0m \u001b[0mindex\u001b[0m\u001b[0;34m,\u001b[0m\u001b[0mrow\u001b[0m \u001b[0;32min\u001b[0m \u001b[0mtimestamps\u001b[0m\u001b[0;34m.\u001b[0m\u001b[0miterrows\u001b[0m\u001b[0;34m(\u001b[0m\u001b[0;34m)\u001b[0m\u001b[0;34m:\u001b[0m\u001b[0;34m\u001b[0m\u001b[0m\n\u001b[0m\u001b[1;32m     46\u001b[0m                 \u001b[0;32mif\u001b[0m \u001b[0mrow\u001b[0m\u001b[0;34m[\u001b[0m\u001b[0;34m'Type'\u001b[0m\u001b[0;34m]\u001b[0m \u001b[0;32min\u001b[0m \u001b[0mgeo_ids\u001b[0m\u001b[0;34m:\u001b[0m\u001b[0;34m\u001b[0m\u001b[0m\n\u001b[1;32m     47\u001b[0m                     \u001b[0;32mif\u001b[0m \u001b[0mt\u001b[0m \u001b[0;34m>=\u001b[0m \u001b[0mrow\u001b[0m\u001b[0;34m[\u001b[0m\u001b[0;34m'Start'\u001b[0m\u001b[0;34m]\u001b[0m \u001b[0;32mand\u001b[0m \u001b[0mt\u001b[0m \u001b[0;34m<=\u001b[0m \u001b[0mrow\u001b[0m\u001b[0;34m[\u001b[0m\u001b[0;34m'End'\u001b[0m\u001b[0;34m]\u001b[0m\u001b[0;34m:\u001b[0m\u001b[0;34m\u001b[0m\u001b[0m\n",
      "\u001b[0;32m/opt/anaconda2/lib/python2.7/site-packages/pandas/core/frame.pyc\u001b[0m in \u001b[0;36miterrows\u001b[0;34m(self)\u001b[0m\n\u001b[1;32m    746\u001b[0m         \u001b[0mklass\u001b[0m \u001b[0;34m=\u001b[0m \u001b[0mself\u001b[0m\u001b[0;34m.\u001b[0m\u001b[0m_constructor_sliced\u001b[0m\u001b[0;34m\u001b[0m\u001b[0m\n\u001b[1;32m    747\u001b[0m         \u001b[0;32mfor\u001b[0m \u001b[0mk\u001b[0m\u001b[0;34m,\u001b[0m \u001b[0mv\u001b[0m \u001b[0;32min\u001b[0m \u001b[0mzip\u001b[0m\u001b[0;34m(\u001b[0m\u001b[0mself\u001b[0m\u001b[0;34m.\u001b[0m\u001b[0mindex\u001b[0m\u001b[0;34m,\u001b[0m \u001b[0mself\u001b[0m\u001b[0;34m.\u001b[0m\u001b[0mvalues\u001b[0m\u001b[0;34m)\u001b[0m\u001b[0;34m:\u001b[0m\u001b[0;34m\u001b[0m\u001b[0m\n\u001b[0;32m--> 748\u001b[0;31m             \u001b[0ms\u001b[0m \u001b[0;34m=\u001b[0m \u001b[0mklass\u001b[0m\u001b[0;34m(\u001b[0m\u001b[0mv\u001b[0m\u001b[0;34m,\u001b[0m \u001b[0mindex\u001b[0m\u001b[0;34m=\u001b[0m\u001b[0mcolumns\u001b[0m\u001b[0;34m,\u001b[0m \u001b[0mname\u001b[0m\u001b[0;34m=\u001b[0m\u001b[0mk\u001b[0m\u001b[0;34m)\u001b[0m\u001b[0;34m\u001b[0m\u001b[0m\n\u001b[0m\u001b[1;32m    749\u001b[0m             \u001b[0;32myield\u001b[0m \u001b[0mk\u001b[0m\u001b[0;34m,\u001b[0m \u001b[0ms\u001b[0m\u001b[0;34m\u001b[0m\u001b[0m\n\u001b[1;32m    750\u001b[0m \u001b[0;34m\u001b[0m\u001b[0m\n",
      "\u001b[0;32m/opt/anaconda2/lib/python2.7/site-packages/pandas/core/series.pyc\u001b[0m in \u001b[0;36m__init__\u001b[0;34m(self, data, index, dtype, name, copy, fastpath)\u001b[0m\n\u001b[1;32m    262\u001b[0m             \u001b[0;32melse\u001b[0m\u001b[0;34m:\u001b[0m\u001b[0;34m\u001b[0m\u001b[0m\n\u001b[1;32m    263\u001b[0m                 data = _sanitize_array(data, index, dtype, copy,\n\u001b[0;32m--> 264\u001b[0;31m                                        raise_cast_failure=True)\n\u001b[0m\u001b[1;32m    265\u001b[0m \u001b[0;34m\u001b[0m\u001b[0m\n\u001b[1;32m    266\u001b[0m                 \u001b[0mdata\u001b[0m \u001b[0;34m=\u001b[0m \u001b[0mSingleBlockManager\u001b[0m\u001b[0;34m(\u001b[0m\u001b[0mdata\u001b[0m\u001b[0;34m,\u001b[0m \u001b[0mindex\u001b[0m\u001b[0;34m,\u001b[0m \u001b[0mfastpath\u001b[0m\u001b[0;34m=\u001b[0m\u001b[0mTrue\u001b[0m\u001b[0;34m)\u001b[0m\u001b[0;34m\u001b[0m\u001b[0m\n",
      "\u001b[0;32m/opt/anaconda2/lib/python2.7/site-packages/pandas/core/series.pyc\u001b[0m in \u001b[0;36m_sanitize_array\u001b[0;34m(data, index, dtype, copy, raise_cast_failure)\u001b[0m\n\u001b[1;32m   3193\u001b[0m             \u001b[0msubarr\u001b[0m \u001b[0;34m=\u001b[0m \u001b[0m_sanitize_index\u001b[0m\u001b[0;34m(\u001b[0m\u001b[0mdata\u001b[0m\u001b[0;34m,\u001b[0m \u001b[0mindex\u001b[0m\u001b[0;34m,\u001b[0m \u001b[0mcopy\u001b[0m\u001b[0;34m=\u001b[0m\u001b[0mTrue\u001b[0m\u001b[0;34m)\u001b[0m\u001b[0;34m\u001b[0m\u001b[0m\n\u001b[1;32m   3194\u001b[0m         \u001b[0;32melse\u001b[0m\u001b[0;34m:\u001b[0m\u001b[0;34m\u001b[0m\u001b[0m\n\u001b[0;32m-> 3195\u001b[0;31m             \u001b[0msubarr\u001b[0m \u001b[0;34m=\u001b[0m \u001b[0m_try_cast\u001b[0m\u001b[0;34m(\u001b[0m\u001b[0mdata\u001b[0m\u001b[0;34m,\u001b[0m \u001b[0mTrue\u001b[0m\u001b[0;34m)\u001b[0m\u001b[0;34m\u001b[0m\u001b[0m\n\u001b[0m\u001b[1;32m   3196\u001b[0m \u001b[0;34m\u001b[0m\u001b[0m\n\u001b[1;32m   3197\u001b[0m         \u001b[0;32mif\u001b[0m \u001b[0mcopy\u001b[0m\u001b[0;34m:\u001b[0m\u001b[0;34m\u001b[0m\u001b[0m\n",
      "\u001b[0;32m/opt/anaconda2/lib/python2.7/site-packages/pandas/core/series.pyc\u001b[0m in \u001b[0;36m_try_cast\u001b[0;34m(arr, take_fast_path)\u001b[0m\n\u001b[1;32m   3159\u001b[0m \u001b[0;34m\u001b[0m\u001b[0m\n\u001b[1;32m   3160\u001b[0m         \u001b[0;32mtry\u001b[0m\u001b[0;34m:\u001b[0m\u001b[0;34m\u001b[0m\u001b[0m\n\u001b[0;32m-> 3161\u001b[0;31m             \u001b[0msubarr\u001b[0m \u001b[0;34m=\u001b[0m \u001b[0mmaybe_cast_to_datetime\u001b[0m\u001b[0;34m(\u001b[0m\u001b[0marr\u001b[0m\u001b[0;34m,\u001b[0m \u001b[0mdtype\u001b[0m\u001b[0;34m)\u001b[0m\u001b[0;34m\u001b[0m\u001b[0m\n\u001b[0m\u001b[1;32m   3162\u001b[0m             \u001b[0;32mif\u001b[0m \u001b[0;32mnot\u001b[0m \u001b[0mis_extension_type\u001b[0m\u001b[0;34m(\u001b[0m\u001b[0msubarr\u001b[0m\u001b[0;34m)\u001b[0m\u001b[0;34m:\u001b[0m\u001b[0;34m\u001b[0m\u001b[0m\n\u001b[1;32m   3163\u001b[0m                 \u001b[0msubarr\u001b[0m \u001b[0;34m=\u001b[0m \u001b[0mnp\u001b[0m\u001b[0;34m.\u001b[0m\u001b[0marray\u001b[0m\u001b[0;34m(\u001b[0m\u001b[0msubarr\u001b[0m\u001b[0;34m,\u001b[0m \u001b[0mdtype\u001b[0m\u001b[0;34m=\u001b[0m\u001b[0mdtype\u001b[0m\u001b[0;34m,\u001b[0m \u001b[0mcopy\u001b[0m\u001b[0;34m=\u001b[0m\u001b[0mcopy\u001b[0m\u001b[0;34m)\u001b[0m\u001b[0;34m\u001b[0m\u001b[0m\n",
      "\u001b[0;32m/opt/anaconda2/lib/python2.7/site-packages/pandas/core/dtypes/cast.pyc\u001b[0m in \u001b[0;36mmaybe_cast_to_datetime\u001b[0;34m(value, dtype, errors)\u001b[0m\n\u001b[1;32m    937\u001b[0m     \u001b[0mnan\u001b[0m \u001b[0mto\u001b[0m \u001b[0miNaT\u001b[0m\u001b[0;34m\u001b[0m\u001b[0m\n\u001b[1;32m    938\u001b[0m     \"\"\"\n\u001b[0;32m--> 939\u001b[0;31m     \u001b[0;32mfrom\u001b[0m \u001b[0mpandas\u001b[0m\u001b[0;34m.\u001b[0m\u001b[0mcore\u001b[0m\u001b[0;34m.\u001b[0m\u001b[0mtools\u001b[0m\u001b[0;34m.\u001b[0m\u001b[0mtimedeltas\u001b[0m \u001b[0;32mimport\u001b[0m \u001b[0mto_timedelta\u001b[0m\u001b[0;34m\u001b[0m\u001b[0m\n\u001b[0m\u001b[1;32m    940\u001b[0m     \u001b[0;32mfrom\u001b[0m \u001b[0mpandas\u001b[0m\u001b[0;34m.\u001b[0m\u001b[0mcore\u001b[0m\u001b[0;34m.\u001b[0m\u001b[0mtools\u001b[0m\u001b[0;34m.\u001b[0m\u001b[0mdatetimes\u001b[0m \u001b[0;32mimport\u001b[0m \u001b[0mto_datetime\u001b[0m\u001b[0;34m\u001b[0m\u001b[0m\n\u001b[1;32m    941\u001b[0m \u001b[0;34m\u001b[0m\u001b[0m\n",
      "\u001b[0;31mKeyboardInterrupt\u001b[0m: "
     ]
    }
   ],
   "source": [
    "Des3GpuUtil = utilization(Design3_gpu,util='gpu')"
   ]
  },
  {
   "cell_type": "code",
   "execution_count": 43,
   "metadata": {},
   "outputs": [],
   "source": [
    "loc = \"/home/aymen/SummerRadical/paper_data/Design1/entk.session-design1-54875/\"\n",
    "src = os.path.dirname(loc)\n",
    "sid = os.path.basename(loc)\n",
    "rp_session = ra.Session(sid=sid, stype='radical.pilot', src=loc)\n",
    "\n",
    "owner='pilot'\n",
    "consumer='unit'\n",
    "resource='cores' #gpus or #cores\n",
    "owner_events=[rp.AGENT_EXECUTING, rp.FINAL]\n",
    "consumer_events=[{ru.EVENT: 'exec_start'}, {ru.EVENT: 'exec_stop' }]\n",
    "\n",
    "ret = dict()\n",
    "\n",
    "# Filter the session to get a session of the owners. If that is empty\n",
    "# return an empty dict\n",
    "\n",
    "relations = rp_session .describe('relations', [owner, consumer])\n",
    "if not relations:\n",
    "    print dict()\n",
    "\n",
    "owners = rp_session.filter(etype=owner, inplace=False)\n",
    "if not owners:\n",
    "    print dict()\n",
    "\n",
    "# Filter the rp_session to get the consumers. If none are found, return an\n",
    "# empty dict.\n",
    "#\n",
    "# FIXME: this should return an dict with zero utilization over the full\n",
    "#        time range the resource exist.\n",
    "#\n",
    "for o in owners.get():\n",
    "    owner_id        = o.uid\n",
    "    owner_resources = o.description.get(resource)\n",
    "    owner_range     = o.ranges(event=owner_events)\n",
    "\n",
    "    consumers = rp_session.filter(etype=consumer, uid=relations[owner_id],\n",
    "                            inplace=False)\n",
    "    if not consumers:\n",
    "        util = [0]\n",
    "\n",
    "    else:\n",
    "        # Go through the consumer entities and create two dictionaries.\n",
    "        # The first keeps track of how many resources each consumer\n",
    "        # consumes, and the second has the ranges based on the events.\n",
    "        consumer_resources = dict()\n",
    "        consumer_ranges    = dict()\n",
    "\n",
    "        for c in consumers.get():\n",
    "            \n",
    "            if c.uid == 'unit.000000': #skipping the first unit because unit.00000 is only for image discovery\n",
    "                #skip = True\n",
    "                continue\n",
    "            \n",
    "            else:\n",
    "            \n",
    "\n",
    "                ranges  = c.ranges(event=consumer_events)\n",
    "                cons_id = c.uid\n",
    "\n",
    "                resources_acquired = 0\n",
    "                if resource == 'cores':\n",
    "                    cores   = c.description['cpu_processes'] * \\\n",
    "                              c.description['cpu_threads']\n",
    "                    resources_acquired += cores\n",
    "                elif resource == 'gpus':\n",
    "                    gpus    = c.description['gpu_processes']\n",
    "                    resources_acquired += len(range(gpus))\n",
    "                else:\n",
    "                    raise ValueError('unsupported utilization resource')\n",
    "\n",
    "                consumer_resources[cons_id] = resources_acquired\n",
    "\n",
    "                # Update consumer_ranges if there is at least one range\n",
    "                if ranges:\n",
    "                    consumer_ranges.update({cons_id: ranges})\n",
    "\n",
    "\n",
    "        # Sort consumer_ranges based on their values. This command\n",
    "        # returns a dictionary, which is sorted based on the first value\n",
    "        # of each entry. In the end the key, are out of order but the\n",
    "        # values are.\n",
    "        consumer_ranges = sorted(iter(list(consumer_ranges.items())),\n",
    "                                 key=lambda k_v: (k_v[1][0],k_v[0]))\n",
    "\n",
    "        # Create a timeseries that contains all moments in consumer\n",
    "        # ranges and sort. This way we have a list that has time any\n",
    "        # change has happened.\n",
    "        times = list()\n",
    "        for cons_id,ranges in consumer_ranges:\n",
    "            for r in ranges:\n",
    "                times.append(r[0])\n",
    "                times.append(r[1])\n",
    "        times.sort()\n",
    "\n",
    "        # we have the time sequence, now compute utilization\n",
    "        # at those points\n",
    "        util = list()\n",
    "        for t in times:\n",
    "            cnt = 0\n",
    "            for cons_id,ranges in consumer_ranges:\n",
    "                for r in ranges:\n",
    "                    if t >= r[0] and t <= r[1]:\n",
    "                        cnt += consumer_resources[cons_id]\n",
    "\n",
    "            util.append([t, cnt])\n",
    "\n",
    "    ret[owner_id] = {'range'      : owner_range,\n",
    "                     'resources'  : owner_resources,\n",
    "                     'utilization': util}\n",
    "np_array = np.array(ret['pilot.0000']['utilization'])\n",
    "\n",
    "if resource == 'cores':\n",
    "    \n",
    "    np.save('../Data/Design1CPUutil.npy', np_array) \n",
    "else :\n",
    "    np.save('../Data/Design1GPUutil.npy', np_array) "
   ]
  },
  {
   "cell_type": "code",
   "execution_count": 60,
   "metadata": {
    "ExecuteTime": {
     "end_time": "2019-05-05T18:20:58.964997Z",
     "start_time": "2019-05-05T18:20:58.957538Z"
    }
   },
   "outputs": [],
   "source": [
    "Design1CpuUtil = np.load('../Data/Design1CPUutil.npy')\n",
    "#Design1GpuUtil = np.load('../Data/Design1GPUutil.npy')"
   ]
  },
  {
   "cell_type": "code",
   "execution_count": 61,
   "metadata": {},
   "outputs": [
    {
     "data": {
      "text/plain": [
       "array([[1.81112567e+04, 1.00000000e+00],\n",
       "       [1.81113475e+04, 2.00000000e+00],\n",
       "       [1.81114290e+04, 3.00000000e+00],\n",
       "       ...,\n",
       "       [7.82118482e+04, 1.00000000e+00],\n",
       "       [7.82219113e+04, 1.00000000e+00],\n",
       "       [7.82226707e+04, 1.00000000e+00]])"
      ]
     },
     "execution_count": 61,
     "metadata": {},
     "output_type": "execute_result"
    }
   ],
   "source": [
    "Design1CpuUtil"
   ]
  },
  {
   "cell_type": "code",
   "execution_count": 62,
   "metadata": {
    "ExecuteTime": {
     "end_time": "2019-05-05T18:20:59.089135Z",
     "start_time": "2019-05-05T18:20:58.968254Z"
    }
   },
   "outputs": [],
   "source": [
    "#Des3GpuUtil = np.array(Des3GpuUtil)\n",
    "Des3CpuUtil = np.array(Des3CpuUtil)"
   ]
  },
  {
   "cell_type": "code",
   "execution_count": 49,
   "metadata": {
    "ExecuteTime": {
     "end_time": "2019-05-06T00:32:11.522774Z",
     "start_time": "2019-05-06T00:32:11.396857Z"
    }
   },
   "outputs": [],
   "source": [
    "#np.save('../Data/Des3CpuUtil',Des3CpuUtil)\n",
    "#np.save('../Data/Des3GpuUtil',Des3GpuUtil)"
   ]
  },
  {
   "cell_type": "code",
   "execution_count": 63,
   "metadata": {
    "ExecuteTime": {
     "end_time": "2019-05-05T18:20:59.296346Z",
     "start_time": "2019-05-05T18:20:59.189352Z"
    }
   },
   "outputs": [
    {
     "data": {
      "text/plain": [
       "array([[1.58171330e+09, 1.00000000e+00],\n",
       "       [1.58171330e+09, 1.00000000e+00],\n",
       "       [1.58171330e+09, 1.00000000e+00],\n",
       "       ...,\n",
       "       [1.58171999e+09, 1.00000000e+00],\n",
       "       [1.58171999e+09, 1.00000000e+00],\n",
       "       [1.58171999e+09, 1.00000000e+00]])"
      ]
     },
     "execution_count": 63,
     "metadata": {},
     "output_type": "execute_result"
    }
   ],
   "source": [
    "np.load('../Data/Des3CpuUtil.npy')"
   ]
  },
  {
   "cell_type": "code",
   "execution_count": 68,
   "metadata": {},
   "outputs": [
    {
     "name": "stdout",
     "output_type": "stream",
     "text": [
      "18111.256728887558\n"
     ]
    }
   ],
   "source": [
    "start_time = Design1CpuUtil[0][0] \n",
    "print(start_time)\n",
    "for i in range(len(Design1CpuUtil)):\n",
    "    tt = Design1CpuUtil[i][0] - start_time\n",
    "    Design1CpuUtil[i][0] = tt"
   ]
  },
  {
   "cell_type": "code",
   "execution_count": 70,
   "metadata": {},
   "outputs": [
    {
     "data": {
      "text/plain": [
       "(44116, 2)"
      ]
     },
     "execution_count": 70,
     "metadata": {},
     "output_type": "execute_result"
    }
   ],
   "source": [
    "Design1CpuUtil.shape"
   ]
  },
  {
   "cell_type": "code",
   "execution_count": 82,
   "metadata": {
    "ExecuteTime": {
     "end_time": "2019-05-05T18:20:59.797969Z",
     "start_time": "2019-05-05T18:20:59.300581Z"
    }
   },
   "outputs": [
    {
     "data": {
      "image/png": "[encoded data removed]",
      "text/plain": [
       "<matplotlib.figure.Figure at 0x7fa24c241590>"
      ]
     },
     "metadata": {},
     "output_type": "display_data"
    }
   ],
   "source": [
    "t = 8500\n",
    "fig,axis = plt.subplots(nrows=1,ncols=1,figsize=(13,6),sharex=True)\n",
    "_ = axis.plot(Design1CpuUtil[:,0],(((Design1CpuUtil[:,1]-0)/128)/1)*100,marker='',linestyle='-', label='CPU Utilization', color=blues(150))\n",
    "#_ = axis.plot(Design1CpuUtil[:,0],(((Design1CpuUtil[:,1]-Design1GpuUtil[:,1])/10)/1)*1,marker='',linestyle='-', label='CPU Utilization', color=blues(150))\n",
    "#_ = axis.plot(Design1GpuUtil[:t,0],(Design1GpuUtil[:t,1]/1)*1,marker='',linestyle='-', label='GPU Utilization', color=reds(150))\n",
    "_ = axis.set_ylabel('Percentage of Resources Used',fontsize=14)\n",
    "_ = axis.set_xlabel('Time in seconds',fontsize=14)\n",
    "_ = axis.grid('on')\n",
    "_ = axis.legend(fontsize=14)\n",
    "_ = axis.set_xticklabels(axis.get_xticks().astype('int').tolist(),fontsize=14)\n",
    "_ = axis.set_yticklabels(axis.get_yticks().astype('int').tolist(),fontsize=14)\n",
    "_ = axis.set_title('Resource Utilization over time for Desing 1', fontsize=16)\n",
    "# fig.savefig('Design1Utilization.pdf',dpi=800,bbox_inches='tight')"
   ]
  },
  {
   "cell_type": "code",
   "execution_count": 52,
   "metadata": {
    "ExecuteTime": {
     "end_time": "2019-05-05T18:20:59.836146Z",
     "start_time": "2019-05-05T18:20:59.802235Z"
    }
   },
   "outputs": [],
   "source": [
    "Des3CpuUtil = Des3CpuUtil\n",
    "for tick in Des3GpuUtil[Des3GpuUtil[:,0] > Des3CpuUtil[:,0].max()][:,0]:\n",
    "    Des3CpuUtil = np.vstack((Des3CpuUtil,[tick,0]))\n",
    "    "
   ]
  },
  {
   "cell_type": "code",
   "execution_count": 53,
   "metadata": {},
   "outputs": [
    {
     "data": {
      "text/plain": [
       "(22074, 2)"
      ]
     },
     "execution_count": 53,
     "metadata": {},
     "output_type": "execute_result"
    }
   ],
   "source": [
    "Des3CpuUtil.shape"
   ]
  },
  {
   "cell_type": "code",
   "execution_count": 83,
   "metadata": {
    "ExecuteTime": {
     "end_time": "2019-05-05T18:21:00.763752Z",
     "start_time": "2019-05-05T18:20:59.839799Z"
    }
   },
   "outputs": [
    {
     "data": {
      "image/png": "[encoded data removed]",
      "text/plain": [
       "<matplotlib.figure.Figure at 0x7fa24c264710>"
      ]
     },
     "metadata": {},
     "output_type": "display_data"
    }
   ],
   "source": [
    "t= 100\n",
    "fig,axis = plt.subplots(nrows=1,ncols=1,figsize=(13,6),sharex=True)\n",
    "_ = axis.plot(Des3CpuUtil[:,0],(Des3CpuUtil[:,1]/128)*100,marker='',linestyle='-', label='CPU Utilization', color=blues(150))\n",
    "#_ = axis.plot(Des3GpuUtil[:t,0],(Des3GpuUtil[:t,1]/1)*1,marker='',linestyle='-', label='GPU Utilization', color=reds(150))\n",
    "_ = axis.set_ylabel('Percentage of Resources Used',fontsize=14)\n",
    "_ = axis.set_xlabel('Time in seconds',fontsize=14)\n",
    "_ = axis.grid('on')\n",
    "_ = axis.legend(fontsize=14)\n",
    "_ = axis.set_xticklabels(axis.get_xticks().astype('int').tolist(),fontsize=14)\n",
    "_ = axis.set_yticklabels(axis.get_yticks().astype('int').tolist(),fontsize=14)\n",
    "_ = axis.set_title('Resource Utilization over time Design 2', fontsize=16)\n",
    "#fig.savefig('Design2Utilization.pdf',dpi=800,bbox_inches='tight')"
   ]
  },
  {
   "cell_type": "code",
   "execution_count": null,
   "metadata": {},
   "outputs": [],
   "source": []
  }
 ],
 "metadata": {
  "hide_input": false,
  "kernelspec": {
   "display_name": "Python 2",
   "language": "python",
   "name": "python2"
  },
  "language_info": {
   "codemirror_mode": {
    "name": "ipython",
    "version": 2
   },
   "file_extension": ".py",
   "mimetype": "text/x-python",
   "name": "python",
   "nbconvert_exporter": "python",
   "pygments_lexer": "ipython2",
   "version": "2.7.14"
  },
  "latex_envs": {
   "LaTeX_envs_menu_present": true,
   "autoclose": false,
   "autocomplete": true,
   "bibliofile": "biblio.bib",
   "cite_by": "apalike",
   "current_citInitial": 1,
   "eqLabelWithNumbers": true,
   "eqNumInitial": 1,
   "hotkeys": {
    "equation": "Ctrl-E",
    "itemize": "Ctrl-I"
   },
   "labels_anchors": false,
   "latex_user_defs": false,
   "report_style_numbering": false,
   "user_envs_cfg": false
  },
  "varInspector": {
   "cols": {
    "lenName": 16,
    "lenType": 16,
    "lenVar": 40
   },
   "kernels_config": {
    "python": {
     "delete_cmd_postfix": "",
     "delete_cmd_prefix": "del ",
     "library": "var_list.py",
     "varRefreshCmd": "print(var_dic_list())"
    },
    "r": {
     "delete_cmd_postfix": ") ",
     "delete_cmd_prefix": "rm(",
     "library": "var_list.r",
     "varRefreshCmd": "cat(var_dic_list()) "
    }
   },
   "types_to_exclude": [
    "module",
    "function",
    "builtin_function_or_method",
    "instance",
    "_Feature"
   ],
   "window_display": false
  }
 },
 "nbformat": 4,
 "nbformat_minor": 2
}
