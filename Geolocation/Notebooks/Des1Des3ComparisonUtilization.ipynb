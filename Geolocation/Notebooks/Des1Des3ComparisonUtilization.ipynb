{
 "cells": [
  {
   "cell_type": "code",
   "execution_count": 1,
   "metadata": {
    "ExecuteTime": {
     "end_time": "2019-05-05T15:43:58.052859Z",
     "start_time": "2019-05-05T15:43:56.957235Z"
    }
   },
   "outputs": [
    {
     "data": {
      "text/html": [
       "<style>.container { width:100% !important; }</style>"
      ],
      "text/plain": [
       "<IPython.core.display.HTML object>"
      ]
     },
     "metadata": {},
     "output_type": "display_data"
    },
    {
     "name": "stdout",
     "output_type": "stream",
     "text": [
      "/opt/anaconda2/lib/python2.7/site-packages/radical/pilot\n",
      "/opt/anaconda2/lib/python2.7/site-packages/radical/utils\n",
      "/opt/anaconda2/lib/python2.7/site-packages/radical/entk\n",
      "/opt/anaconda2/lib/python2.7/site-packages/radical/saga\n",
      "/opt/anaconda2/lib/python2.7/site-packages/radical/analytics\n",
      "\n",
      "  python               : 2.7.14\n",
      "  pythonpath           : \n",
      "  virtualenv           : /home/aymen/jupyter\n",
      "\n",
      "  radical.analytics    : 0.70.0\n",
      "  radical.entk         : 0.70.0\n",
      "  radical.pilot        : 0.70.0\n",
      "  radical.saga         : 0.70.0\n",
      "  radical.utils        : 0.70.0\n",
      "\n"
     ]
    }
   ],
   "source": [
    "%matplotlib inline\n",
    "import os \n",
    "import radical.analytics as ra\n",
    "import radical.pilot as rp\n",
    "import radical.utils as ru\n",
    "import radical.entk as re\n",
    "#import more_itertools as mit\n",
    "from glob import glob\n",
    "import numpy as np\n",
    "from matplotlib import pyplot as plt\n",
    "from matplotlib import cm\n",
    "import csv\n",
    "import pandas as pd\n",
    "import json\n",
    "from scipy.optimize import curve_fit\n",
    "from scipy import stats\n",
    "from pprint import pprint\n",
    "from sklearn.metrics import r2_score\n",
    "import matplotlib as mpl\n",
    "mpl.rcParams['text.usetex'] = True\n",
    "mpl.rcParams['text.latex.unicode'] = True\n",
    "\n",
    "blues = cm.get_cmap(plt.get_cmap('Blues'))\n",
    "greens = cm.get_cmap(plt.get_cmap('Greens'))\n",
    "reds = cm.get_cmap(plt.get_cmap('Reds'))\n",
    "oranges = cm.get_cmap(plt.get_cmap('Oranges'))\n",
    "purples = cm.get_cmap(plt.get_cmap('Purples'))\n",
    "greys = cm.get_cmap(plt.get_cmap('Greys'))\n",
    "\n",
    "from IPython.core.display import display, HTML\n",
    "display(HTML(\"<style>.container { width:100% !important; }</style>\"))\n",
    "import warnings\n",
    "warnings.filterwarnings('ignore')\n",
    "!radical-stack"
   ]
  },
  {
   "cell_type": "code",
   "execution_count": null,
   "metadata": {
    "ExecuteTime": {
     "end_time": "2019-05-05T15:43:58.077897Z",
     "start_time": "2019-05-05T15:43:58.057197Z"
    }
   },
   "outputs": [],
   "source": [
    "des2_geolocating = pd.DataFrame(columns=['Start','End','Type'])\n",
    "\n",
    "sids = ['../../../paper_data/Design2a/design2a_11k_test5/'] \n",
    "\n",
    "for sid in sids:\n",
    "    #geo_files = glob(sid+'/pilot.0000/unit.00*/geolocate*.csv')\n",
    "    geo_files = glob(sid+'/pilot.0000/unit.00*/ransac*.csv')\n",
    "    for geo_file in geo_files:\n",
    "        Geolocating = pd.read_csv(geo_file)\n",
    "        for index, row in Geolocating.iterrows():\n",
    "            \n",
    "            if row['Image'] == 'configure' or row['Image'] == 'connect' or row['Image'] == 'disconnect' :\n",
    "                skip = True\n",
    "                continue\n",
    "                \n",
    "            else :\n",
    "                try:\n",
    "                    start1  =  row['Start']\n",
    "                    end1    =  row['End'] \n",
    "                    #type1   =  'geo'\n",
    "                    type1 = 'ransac'\n",
    "                    des2_geolocating.loc[len(des2_geolocating)] = [start1,end1,type1]\n",
    "                \n",
    "                except Exception as e:\n",
    "\n",
    "                    print row['Image']\n",
    "                    print (e) \n",
    "\n",
    "\n",
    "\n",
    "#des2_geolocating.to_csv('../Data/design2a_geo_timestamps.csv')\n",
    "#des2_geolocating.to_csv('../Data/design2a_ransac_timestamps.csv')"
   ]
  },
  {
   "cell_type": "code",
   "execution_count": 2,
   "metadata": {},
   "outputs": [],
   "source": [
    "Design3_gpu = pd.read_csv('../Data/design2_geo_timestamps.csv')\n",
    "Design3_cpu = pd.read_csv('../Data/design2_ransac_timestamps.csv')\n",
    "Design3_gpu.drop('Unnamed: 0',axis=1,inplace=True)\n",
    "Design3_cpu.drop('Unnamed: 0',axis=1,inplace=True)"
   ]
  },
  {
   "cell_type": "code",
   "execution_count": 3,
   "metadata": {
    "ExecuteTime": {
     "end_time": "2019-05-05T15:43:58.217877Z",
     "start_time": "2019-05-05T15:43:58.081741Z"
    }
   },
   "outputs": [],
   "source": [
    "def utilization(timestamps,util):\n",
    "    \n",
    "    #tile_ids = ['Tile1','Tile2','Tile3','Tile4','Tile5','Tile6','Tile7','Tile8','Tile9','Tile10','Tile11','Tile12']\n",
    "    #pred_ids = ['Pred1','Pred2','Pred3','Pred4','Pred5','Pred6','Pred7','Pred8']\n",
    "    geo_ids = ['geo']\n",
    "    ransac_ids = ['ransac']\n",
    "    cpu_times = list()\n",
    "    gpu_times = list()\n",
    "    cpu_counts = 0\n",
    "    gpu_counts = 0\n",
    "    for index,row in timestamps.iterrows():\n",
    "        if (row['Type'] in ransac_ids) and util =='cpu':\n",
    "            cpu_counts += 1\n",
    "            cpu_times.append(row['Start'])\n",
    "            cpu_times.append(row['End'])\n",
    "        if (row['Type'] in geo_ids) and util =='gpu':\n",
    "            gpu_counts += 1\n",
    "            gpu_times.append(row['Start'])\n",
    "            gpu_times.append(row['End'])\n",
    "    \n",
    "    cpu_times.sort()\n",
    "    gpu_times.sort()\n",
    "    if util=='cpu':\n",
    "        \n",
    "        print 'Times sorted', cpu_counts, len(cpu_times)\n",
    "    else :\n",
    "        print 'Times sorted', gpu_counts, len(gpu_times)\n",
    "    cpu_util = list()\n",
    "    if util == 'cpu':\n",
    "        for t in cpu_times:\n",
    "            cnt = 0\n",
    "            for index,row in timestamps.iterrows():\n",
    "                if row['Type'] in ransac_ids:\n",
    "                    if t >= row['Start'] and t <= row['End']:\n",
    "                        cnt += 1\n",
    "\n",
    "            cpu_util.append([t, cnt])\n",
    "        print 'Cpu ready'\n",
    "        return cpu_util\n",
    "    \n",
    "    if util == 'gpu':\n",
    "        gpu_util = list()\n",
    "        for t in gpu_times:\n",
    "            cnt = 0\n",
    "            for index,row in timestamps.iterrows():\n",
    "                if row['Type'] in geo_ids:\n",
    "                    if t >= row['Start'] and t <= row['End']:\n",
    "                        cnt += 1\n",
    "\n",
    "            gpu_util.append([t, cnt])\n",
    "        print 'Gpu ready'\n",
    "        return gpu_util\n",
    "        \n",
    "    return None"
   ]
  },
  {
   "cell_type": "code",
   "execution_count": null,
   "metadata": {
    "ExecuteTime": {
     "end_time": "2019-05-05T18:20:58.953818Z",
     "start_time": "2019-05-05T15:43:58.221938Z"
    }
   },
   "outputs": [],
   "source": [
    "#Des3CpuUtil = utilization(Design3_cpu,util='cpu')"
   ]
  },
  {
   "cell_type": "code",
   "execution_count": null,
   "metadata": {},
   "outputs": [],
   "source": [
    "#Des3GpuUtil = utilization(Design3_gpu,util='gpu')"
   ]
  },
  {
   "cell_type": "code",
   "execution_count": null,
   "metadata": {},
   "outputs": [],
   "source": [
    "loc = \"/home/aymen/SummerRadical/paper_data/Design1/entk.session-design1-54875/\"\n",
    "src = os.path.dirname(loc)\n",
    "sid = os.path.basename(loc)\n",
    "rp_session = ra.Session(sid=sid, stype='radical.pilot', src=loc)\n",
    "\n",
    "owner='pilot'\n",
    "consumer='unit'\n",
    "resource='cores' #gpus or #cores\n",
    "owner_events=[rp.AGENT_EXECUTING, rp.FINAL]\n",
    "consumer_events=[{ru.EVENT: 'exec_start'}, {ru.EVENT: 'exec_stop' }]\n",
    "\n",
    "ret = dict()\n",
    "\n",
    "# Filter the session to get a session of the owners. If that is empty\n",
    "# return an empty dict\n",
    "\n",
    "relations = rp_session .describe('relations', [owner, consumer])\n",
    "print relations"
   ]
  },
  {
   "cell_type": "code",
   "execution_count": null,
   "metadata": {},
   "outputs": [],
   "source": [
    "## Resource utilization function from Radical Pilot for Design 1\n",
    "\n",
    "loc = \"/home/aymen/SummerRadical/paper_data/Design1/entk.session-design1-54875/\"\n",
    "src = os.path.dirname(loc)\n",
    "sid = os.path.basename(loc)\n",
    "rp_session = ra.Session(sid=sid, stype='radical.pilot', src=loc)\n",
    "\n",
    "owner='pilot'\n",
    "consumer='unit'\n",
    "resource='cores' #gpus or #cores\n",
    "owner_events=[rp.AGENT_EXECUTING, rp.FINAL]\n",
    "consumer_events=[{ru.EVENT: 'exec_start'}, {ru.EVENT: 'exec_stop' }]\n",
    "\n",
    "ret = dict()\n",
    "\n",
    "# Filter the session to get a session of the owners. If that is empty\n",
    "# return an empty dict\n",
    "\n",
    "relations = rp_session .describe('relations', [owner, consumer])\n",
    "if not relations:\n",
    "    print dict()\n",
    "\n",
    "owners = rp_session.filter(etype=owner, inplace=False)\n",
    "if not owners:\n",
    "    print dict()\n",
    "\n",
    "# Filter the rp_session to get the consumers. If none are found, return an\n",
    "# empty dict.\n",
    "#\n",
    "# FIXME: this should return an dict with zero utilization over the full\n",
    "#        time range the resource exist.\n",
    "#\n",
    "for o in owners.get():\n",
    "    owner_id        = o.uid\n",
    "    owner_resources = o.description.get(resource)\n",
    "    owner_range     = o.ranges(event=owner_events)\n",
    "\n",
    "    consumers = rp_session.filter(etype=consumer, uid=relations[owner_id],\n",
    "                            inplace=False)\n",
    "    if not consumers:\n",
    "        util = [0]\n",
    "\n",
    "    else:\n",
    "        # Go through the consumer entities and create two dictionaries.\n",
    "        # The first keeps track of how many resources each consumer\n",
    "        # consumes, and the second has the ranges based on the events.\n",
    "        consumer_resources = dict()\n",
    "        consumer_ranges    = dict()\n",
    "\n",
    "        for c in consumers.get():\n",
    "            \n",
    "            if c.uid == 'unit.000000': #skipping the first unit because unit.00000 is only for image discovery\n",
    "                #skip = True\n",
    "                continue\n",
    "            \n",
    "            else:\n",
    "            \n",
    "\n",
    "                ranges  = c.ranges(event=consumer_events)\n",
    "                cons_id = c.uid\n",
    "\n",
    "                consumer_nodes = consumer_entity.cfg.get('slots').get('nodes')\n",
    "                resources_acquired = 0\n",
    "                if resource == 'cores':\n",
    "                    for node in consumer_nodes:\n",
    "                        for cores_map in node['core_map']:\n",
    "                            resources_acquired += len(cores_map)\n",
    "                elif resource == 'gpus':\n",
    "                    for node in consumer_nodes:\n",
    "                        for gpu_map in node['gpu_map']:\n",
    "                            resources_acquired += len(gpu_map)\n",
    "                else:\n",
    "                    raise ValueError('Utilization for resource not supported')\n",
    "               \n",
    "                #resources_acquired = 0\n",
    "                #if resource == 'cores':\n",
    "                #    cores   = c.description['cpu_processes'] * \\\n",
    "                #              c.description['cpu_threads']\n",
    "                #    resources_acquired += cores\n",
    "                #elif resource == 'gpus':\n",
    "                #    gpus    = c.description['gpu_processes']\n",
    "                #    resources_acquired += len(range(gpus))\n",
    "                #else:\n",
    "                #    raise ValueError('unsupported utilization resource')\n",
    "\n",
    "                consumer_resources[cons_id] = resources_acquired\n",
    "\n",
    "                # Update consumer_ranges if there is at least one range\n",
    "                if ranges:\n",
    "                    consumer_ranges.update({cons_id: ranges})\n",
    "\n",
    "\n",
    "        # Sort consumer_ranges based on their values. This command\n",
    "        # returns a dictionary, which is sorted based on the first value\n",
    "        # of each entry. In the end the key, are out of order but the\n",
    "        # values are.\n",
    "        consumer_ranges = sorted(iter(list(consumer_ranges.items())),\n",
    "                                 key=lambda k_v: (k_v[1][0],k_v[0]))\n",
    "\n",
    "        # Create a timeseries that contains all moments in consumer\n",
    "        # ranges and sort. This way we have a list that has time any\n",
    "        # change has happened.\n",
    "        times = list()\n",
    "        for cons_id,ranges in consumer_ranges:\n",
    "            for r in ranges:\n",
    "                times.append(r[0])\n",
    "                times.append(r[1])\n",
    "        times.sort()\n",
    "\n",
    "        # we have the time sequence, now compute utilization\n",
    "        # at those points\n",
    "        util = list()\n",
    "        for t in times:\n",
    "            cnt = 0\n",
    "            for cons_id,ranges in consumer_ranges:\n",
    "                for r in ranges:\n",
    "                    if t >= r[0] and t <= r[1]:\n",
    "                        cnt += consumer_resources[cons_id]\n",
    "\n",
    "            util.append([t, cnt])\n",
    "\n",
    "    ret[owner_id] = {'range'      : owner_range,\n",
    "                     'resources'  : owner_resources,\n",
    "                     'utilization': util}\n",
    "np_array = np.array(ret['pilot.0000']['utilization'])\n",
    "\n",
    "if resource == 'cores':\n",
    "    \n",
    "    np.save('../Data/Design1CPUutil.npy', np_array) \n",
    "else :\n",
    "    np.save('../Data/Design1GPUutil.npy', np_array) "
   ]
  },
  {
   "cell_type": "code",
   "execution_count": 4,
   "metadata": {
    "ExecuteTime": {
     "end_time": "2019-05-05T18:20:58.964997Z",
     "start_time": "2019-05-05T18:20:58.957538Z"
    }
   },
   "outputs": [],
   "source": [
    "Design1CpuUtil = np.load('../Data/Design1CPUutil.npy')\n",
    "Design1GpuUtil = np.load('../Data/Design1GPUutil.npy')\n",
    "\n",
    "Design3CpuUtil = np.load('../Data/Des3CpuUtil.npy')\n",
    "Design3GpuUtil = np.load('../Data/Des3GpuUtil.npy')"
   ]
  },
  {
   "cell_type": "code",
   "execution_count": 5,
   "metadata": {
    "ExecuteTime": {
     "end_time": "2019-05-05T18:20:59.089135Z",
     "start_time": "2019-05-05T18:20:58.968254Z"
    }
   },
   "outputs": [],
   "source": [
    "Des3GpuUtil = np.array(Design3GpuUtil)\n",
    "Des3CpuUtil = np.array(Design3CpuUtil)"
   ]
  },
  {
   "cell_type": "code",
   "execution_count": null,
   "metadata": {
    "ExecuteTime": {
     "end_time": "2019-05-06T00:32:11.522774Z",
     "start_time": "2019-05-06T00:32:11.396857Z"
    }
   },
   "outputs": [],
   "source": [
    "#np.save('../Data/Des3CpuUtil',Des3CpuUtil)\n",
    "#np.save('../Data/Des3GpuUtil',Des3GpuUtil)"
   ]
  },
  {
   "cell_type": "code",
   "execution_count": 6,
   "metadata": {},
   "outputs": [
    {
     "name": "stdout",
     "output_type": "stream",
     "text": [
      "16475.856669943176 16474.803486749766\n"
     ]
    }
   ],
   "source": [
    "print Design1CpuUtil.mean(), Design1GpuUtil.mean()"
   ]
  },
  {
   "cell_type": "code",
   "execution_count": 8,
   "metadata": {},
   "outputs": [
    {
     "name": "stdout",
     "output_type": "stream",
     "text": [
      "18111.256728887558\n"
     ]
    }
   ],
   "source": [
    "stime_des1_cpu = Design1CpuUtil[0][0] \n",
    "print(stime_des1_cpu)\n",
    "for i in range(len(Design1CpuUtil)):\n",
    "    tt_c = Design1CpuUtil[i][0] - stime_des1_cpu\n",
    "    Design1CpuUtil[i][0] = tt_c"
   ]
  },
  {
   "cell_type": "code",
   "execution_count": 11,
   "metadata": {},
   "outputs": [
    {
     "name": "stdout",
     "output_type": "stream",
     "text": [
      "0.0\n"
     ]
    }
   ],
   "source": [
    "stime_des1_gpu = Design1GpuUtil[0][0] \n",
    "print(stime_des1_gpu)\n",
    "for i in range(len(Design1GpuUtil)):\n",
    "    tt_g = Design1GpuUtil[i][0] - stime_des1_gpu\n",
    "    Design1GpuUtil[i][0] = tt_g"
   ]
  },
  {
   "cell_type": "code",
   "execution_count": 114,
   "metadata": {
    "ExecuteTime": {
     "end_time": "2019-05-05T18:20:59.797969Z",
     "start_time": "2019-05-05T18:20:59.300581Z"
    }
   },
   "outputs": [
    {
     "data": {
      "image/png": "[encoded data removed]",
      "text/plain": [
       "<matplotlib.figure.Figure at 0x7fcee06ffe90>"
      ]
     },
     "metadata": {},
     "output_type": "display_data"
    }
   ],
   "source": [
    "t = 35000\n",
    "fig,axis = plt.subplots(nrows=1,ncols=1,figsize=(13,6),sharex=True)\n",
    "\n",
    "#_ = axis.plot(Design1CpuUtil[:,0]+200,(((Design1CpuUtil[:,1])/128.0)/1)*100,marker='',linestyle='-', label='CPU ', color=blues(150))\n",
    "#_ = axis.plot(Design1GpuUtil[:,0]-17500,(((Design1GpuUtil[:,1])/8.0)/1)*100,marker='',linestyle='-', label='CPU ', color=reds(150))\n",
    "\n",
    "#_ = axis.plot(Design1CpuUtil[:,0]+900,(((Design1CpuUtil[:,1])/128.0)/1)*100,marker='',linestyle='-', label='CPU Utilization', color=blues(150))\n",
    "#_ = axis.plot(Design1GpuUtil[:,0]-17500,(((Design1GpuUtil[:,1])/8.0)/1)*100,marker='',linestyle='-', label='CPU Utilization', color=reds(150))\n",
    "\n",
    "_ = axis.plot(Design1CpuUtil[:,0]-16475,(((Design1CpuUtil[:,1]*2)/128.0)/1)*100,marker='',linestyle='-', label='CPU Utilization', color=blues(150))\n",
    "_ = axis.plot(Design1GpuUtil[:,0]-16475,(((Design1GpuUtil[:,1])/8.0)/1)*100,marker='',linestyle='-', label='CPU Utilization', color=reds(150))\n",
    "\n",
    "\n",
    "_ = axis.set_ylabel('Percentage of Resources Used',fontsize=22)\n",
    "_ = axis.set_xlabel('Time in seconds',fontsize=22)\n",
    "_ = axis.grid('on')\n",
    "#axis.set_yscale('log')\n",
    "_ = axis.legend(fontsize=22)\n",
    "_ = axis.set_xlim(0,20000)\n",
    "#_ = axis.set_ylim(1,10)\n",
    "axis.set_xticklabels(['0','5000', '10000', '15000', '20000', '25000', '30000', '35000'],fontsize=22)\n",
    "#_ = axis.set_xticklabels(axis.get_xticks().astype('int').tolist(),fontsize=22)\n",
    "_ = axis.set_yticklabels(axis.get_yticks().astype('int').tolist(),fontsize=22)\n",
    "#_ = axis.set_title('Resource Utilization over time for Desing 1')\n",
    "\n",
    "fig.savefig('../Data/geo_Design1Utilization.pdf',dpi=800,bbox_inches='tight')"
   ]
  },
  {
   "cell_type": "code",
   "execution_count": 13,
   "metadata": {
    "ExecuteTime": {
     "end_time": "2019-05-05T18:20:59.836146Z",
     "start_time": "2019-05-05T18:20:59.802235Z"
    }
   },
   "outputs": [],
   "source": [
    "Des3CpuUtil = Des3CpuUtil\n",
    "for tick in Des3GpuUtil[Des3GpuUtil[:,0] > Des3CpuUtil[:,0].max()][:,0]:\n",
    "    Des3CpuUtil = np.vstack((Des3CpuUtil,[tick,0]))\n",
    "    "
   ]
  },
  {
   "cell_type": "code",
   "execution_count": 14,
   "metadata": {},
   "outputs": [
    {
     "data": {
      "text/plain": [
       "(22058, 2)"
      ]
     },
     "execution_count": 14,
     "metadata": {},
     "output_type": "execute_result"
    }
   ],
   "source": [
    "Des3GpuUtil.shape"
   ]
  },
  {
   "cell_type": "code",
   "execution_count": 113,
   "metadata": {
    "ExecuteTime": {
     "end_time": "2019-05-05T18:21:00.763752Z",
     "start_time": "2019-05-05T18:20:59.839799Z"
    }
   },
   "outputs": [
    {
     "data": {
      "image/png": "[encoded data removed]",
      "text/plain": [
       "<matplotlib.figure.Figure at 0x7fcee07d7650>"
      ]
     },
     "metadata": {},
     "output_type": "display_data"
    }
   ],
   "source": [
    "t= 160000\n",
    "fig,axis = plt.subplots(nrows=1,ncols=1,figsize=(13,6),sharex=True)\n",
    "_ = axis.plot(Des3CpuUtil[:,0],(Des3CpuUtil[:,1]/128.0)*100,marker='',linestyle='-', label='CPU Utilization', color=blues(150))\n",
    "_ = axis.plot(Des3GpuUtil[:,0],(Des3GpuUtil[:,1]/8.0)*100,marker='',linestyle='-', label='GPU Utilization', color=reds(150))\n",
    "_ = axis.set_ylabel('Percentage of Resources Used',fontsize=22)\n",
    "_ = axis.set_xlabel('Time in seconds',fontsize=22)\n",
    "_ = axis.grid('on')\n",
    "\n",
    "#_ = axis.set_xlim(1581713100,1581720500)\n",
    "#_ = axis.set_xlim(1581713100,1581720500)\n",
    "#_ = axis.set_ylim(1,10)\n",
    "\n",
    "_ = axis.set_yticklabels(axis.get_yticks().astype('int').tolist(),fontsize=22)\n",
    "\n",
    "#axis.set_xticklabels(['0', '10000', '20000', '30000', '40000', '50000', '60000','70000'],fontsize=22)\n",
    "\n",
    "_ = axis.legend(fontsize=22)\n",
    "_ = axis.set_xticklabels(axis.get_xticks().astype('int').tolist()*0+['0','0', '5000', '10000', '15000', '20000', '25000', '30000', '35000'],fontsize=22)\n",
    "\n",
    "#_ = axis.set_title('Resource Utilization over time Design 2', fontsize=16)\n",
    "fig.savefig('../Data/geo_Design2Utilization.pdf',dpi=800,bbox_inches='tight')"
   ]
  },
  {
   "cell_type": "code",
   "execution_count": 110,
   "metadata": {},
   "outputs": [
    {
     "data": {
      "text/plain": [
       "[]"
      ]
     },
     "execution_count": 110,
     "metadata": {},
     "output_type": "execute_result"
    }
   ],
   "source": [
    "axis.get_yticks().astype('int').tolist()*0"
   ]
  },
  {
   "cell_type": "code",
   "execution_count": 16,
   "metadata": {},
   "outputs": [],
   "source": [
    "Design2a_gpu = pd.read_csv('../Data/design2a_geo_timestamps.csv')\n",
    "Design2a_cpu = pd.read_csv('../Data/design2a_ransac_timestamps.csv')\n",
    "Design2a_gpu.drop('Unnamed: 0',axis=1,inplace=True)\n",
    "Design2a_cpu.drop('Unnamed: 0',axis=1,inplace=True)"
   ]
  },
  {
   "cell_type": "code",
   "execution_count": 17,
   "metadata": {},
   "outputs": [
    {
     "name": "stdout",
     "output_type": "stream",
     "text": [
      "Times sorted 5514 11028\n",
      "Cpu ready\n"
     ]
    }
   ],
   "source": [
    "#Des2aCpuUtil = utilization(Design2a_cpu,util='cpu')"
   ]
  },
  {
   "cell_type": "code",
   "execution_count": 23,
   "metadata": {},
   "outputs": [
    {
     "name": "stdout",
     "output_type": "stream",
     "text": [
      "Times sorted 5514 11028\n",
      "Gpu ready\n"
     ]
    }
   ],
   "source": [
    "Des2aGpuUtil = utilization(Design2a_gpu,util='gpu')"
   ]
  },
  {
   "cell_type": "code",
   "execution_count": 26,
   "metadata": {},
   "outputs": [],
   "source": [
    "Des2aGpuUtil = np.array(Des2aGpuUtil)\n",
    "#Des2aCpuUtil = np.array(Des2aCpuUtil)"
   ]
  },
  {
   "cell_type": "code",
   "execution_count": 27,
   "metadata": {},
   "outputs": [],
   "source": [
    "#np.save('../Data/Des2aCpuUtil',Des2aCpuUtil)\n",
    "np.save('../Data/Des2aGpuUtil',Des2aGpuUtil)"
   ]
  },
  {
   "cell_type": "code",
   "execution_count": 31,
   "metadata": {},
   "outputs": [],
   "source": [
    "Design2aCpuUtil = np.load('../Data/Des2aCpuUtil.npy')\n",
    "Design2aGpuUtil = np.load('../Data/Des2aGpuUtil.npy')"
   ]
  },
  {
   "cell_type": "code",
   "execution_count": 32,
   "metadata": {},
   "outputs": [],
   "source": [
    "Des2aCpuUtil = Des2aCpuUtil\n",
    "for tick in Des2aGpuUtil[Des2aGpuUtil[:,0] > Des2aCpuUtil[:,0].max()][:,0]:\n",
    "    Des2aCpuUtil = np.vstack((Des2aCpuUtil,[tick,0]))"
   ]
  },
  {
   "cell_type": "code",
   "execution_count": 117,
   "metadata": {},
   "outputs": [
    {
     "data": {
      "image/png": "[encoded data removed]",
      "text/plain": [
       "<matplotlib.figure.Figure at 0x7fcede277b10>"
      ]
     },
     "metadata": {},
     "output_type": "display_data"
    }
   ],
   "source": [
    "#t = 8500\n",
    "fig,axis = plt.subplots(nrows=1,ncols=1,figsize=(13,6),sharex=True)\n",
    "_ = axis.plot(Design2aCpuUtil[:,0],(((Design2aCpuUtil[:,1]*2.5)/128.0))*100,marker='',linestyle='-', label='CPU Utilization', color=blues(150))\n",
    "_ = axis.plot(Design2aGpuUtil[:,0],(Design2aGpuUtil[:,1]*2/8.0)*100,marker='',linestyle='-', label='GPU Utilization', color=reds(150))\n",
    "_ = axis.set_ylabel('Percentage of Resources Used',fontsize=22)\n",
    "_ = axis.set_xlabel('Time in seconds',fontsize=22)\n",
    "_ = axis.grid('on')\n",
    "_ = axis.legend(fontsize=22)\n",
    "#_ = axis.set_xticklabels(axis.get_xticks().astype('int').tolist(),fontsize=22)\n",
    "axis.set_xticklabels(['0','0', '5000', '10000', '15000', '20000', '25000', '30000', '35000'],fontsize=22)\n",
    "_ = axis.set_yticklabels(axis.get_yticks().astype('int').tolist(),fontsize=22)\n",
    "#_ = axis.set_title('Resource Utilization over time for Desing 1', fontsize=22)\n",
    "fig.savefig('../Data/geo_Design2aUtilization.pdf',dpi=800,bbox_inches='tight')"
   ]
  },
  {
   "cell_type": "code",
   "execution_count": null,
   "metadata": {},
   "outputs": [],
   "source": []
  }
 ],
 "metadata": {
  "hide_input": false,
  "kernelspec": {
   "display_name": "Python 2",
   "language": "python",
   "name": "python2"
  },
  "language_info": {
   "codemirror_mode": {
    "name": "ipython",
    "version": 2
   },
   "file_extension": ".py",
   "mimetype": "text/x-python",
   "name": "python",
   "nbconvert_exporter": "python",
   "pygments_lexer": "ipython2",
   "version": "2.7.14"
  },
  "latex_envs": {
   "LaTeX_envs_menu_present": true,
   "autoclose": false,
   "autocomplete": true,
   "bibliofile": "biblio.bib",
   "cite_by": "apalike",
   "current_citInitial": 1,
   "eqLabelWithNumbers": true,
   "eqNumInitial": 1,
   "hotkeys": {
    "equation": "Ctrl-E",
    "itemize": "Ctrl-I"
   },
   "labels_anchors": false,
   "latex_user_defs": false,
   "report_style_numbering": false,
   "user_envs_cfg": false
  },
  "varInspector": {
   "cols": {
    "lenName": 16,
    "lenType": 16,
    "lenVar": 40
   },
   "kernels_config": {
    "python": {
     "delete_cmd_postfix": "",
     "delete_cmd_prefix": "del ",
     "library": "var_list.py",
     "varRefreshCmd": "print(var_dic_list())"
    },
    "r": {
     "delete_cmd_postfix": ") ",
     "delete_cmd_prefix": "rm(",
     "library": "var_list.r",
     "varRefreshCmd": "cat(var_dic_list()) "
    }
   },
   "types_to_exclude": [
    "module",
    "function",
    "builtin_function_or_method",
    "instance",
    "_Feature"
   ],
   "window_display": false
  }
 },
 "nbformat": 4,
 "nbformat_minor": 2
}
