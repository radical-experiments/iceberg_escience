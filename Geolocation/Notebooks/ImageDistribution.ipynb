{
 "cells": [
  {
   "cell_type": "code",
   "execution_count": 2,
   "metadata": {
    "ExecuteTime": {
     "end_time": "2019-05-18T19:00:56.284454Z",
     "start_time": "2019-05-18T19:00:55.906614Z"
    }
   },
   "outputs": [
    {
     "data": {
      "text/html": [
       "<style>.container { width:100% !important; }</style>"
      ],
      "text/plain": [
       "<IPython.core.display.HTML object>"
      ]
     },
     "metadata": {},
     "output_type": "display_data"
    }
   ],
   "source": [
    "%matplotlib inline\n",
    "import sys\n",
    "import os\n",
    "import numpy as np\n",
    "from matplotlib import pyplot as plt\n",
    "import pandas as pd\n",
    "import matplotlib as mpl\n",
    "#mpl.rcParams['text.usetex'] = True\n",
    "#mpl.rcParams['text.latex.unicode'] = True\n",
    "\n",
    "blues = mpl.cm.get_cmap(plt.get_cmap('Blues'))\n",
    "greens = mpl.cm.get_cmap(plt.get_cmap('Greens'))\n",
    "reds = mpl.cm.get_cmap(plt.get_cmap('Reds'))\n",
    "oranges = mpl.cm.get_cmap(plt.get_cmap('Oranges'))\n",
    "purples = mpl.cm.get_cmap(plt.get_cmap('Purples'))\n",
    "greys = mpl.cm.get_cmap(plt.get_cmap('Greys'))\n",
    "\n",
    "from IPython.core.display import display, HTML\n",
    "display(HTML(\"<style>.container { width:100% !important; }</style>\"))\n",
    "import warnings\n",
    "warnings.filterwarnings('ignore')"
   ]
  },
  {
   "cell_type": "code",
   "execution_count": 3,
   "metadata": {
    "ExecuteTime": {
     "end_time": "2019-05-18T19:00:56.302734Z",
     "start_time": "2019-05-18T19:00:56.288901Z"
    }
   },
   "outputs": [],
   "source": [
    "images = pd.read_csv('../Data/Geolocation_Image_pairs.csv')"
   ]
  },
  {
   "cell_type": "code",
   "execution_count": 4,
   "metadata": {
    "ExecuteTime": {
     "end_time": "2019-05-18T19:00:57.175399Z",
     "start_time": "2019-05-18T19:00:56.306159Z"
    }
   },
   "outputs": [
    {
     "name": "stdout",
     "output_type": "stream",
     "text": [
      "Distribution Characteristics 6.20335006714 1.7914718286\n",
      "Min 0.3423423767089844 Max 10.978221893310547\n"
     ]
    },
    {
     "name": "stderr",
     "output_type": "stream",
     "text": [
      "No handlers could be found for logger \"matplotlib.legend\"\n"
     ]
    },
    {
     "data": {
      "image/png": "[encoded data removed]",
      "text/plain": [
       "<matplotlib.figure.Figure at 0x7f4aa08af9d0>"
      ]
     },
     "metadata": {},
     "output_type": "display_data"
    }
   ],
   "source": [
    "fig, axis = plt.subplots(nrows=1,ncols=1,figsize=(11,5))\n",
    "_ = axis.hist((images['SIZE1']+images['SIZE2']).values,bins=60,color=blues(150)) #image sizes are in KB we converted it to MB here\n",
    "_ = axis.set_xticklabels(axis.get_xticks().astype('int').tolist(),fontsize=16)\n",
    "_ = axis.set_yticklabels(axis.get_yticks().astype('int').tolist(),fontsize=16)\n",
    "_ = axis.grid('on')\n",
    "_ = axis.legend(fontsize=14)\n",
    "_ = axis.set_xlabel('Image Size in MBs',fontsize=16)\n",
    "# _ = axis.set_title('Histogram of Image Sizes', fontsize=16)\n",
    "_ = axis.set_ylabel('Number of occurences', fontsize=16)\n",
    "#fig.savefig('image_size_hist.pdf',dpi=800,bbox_inches='tight')\n",
    "print 'Distribution Characteristics',(images['SIZE1']+images['SIZE2']).median(),(images['SIZE1']+images['SIZE2']).std()\n",
    "print 'Min',(images['SIZE1']+images['SIZE2']).min(), 'Max', (images['SIZE1']+images['SIZE2']).max()"
   ]
  },
  {
   "cell_type": "code",
   "execution_count": 5,
   "metadata": {},
   "outputs": [
    {
     "data": {
      "text/plain": [
       "array([ 175,  268,  378, ..., 5683, 5844, 6824])"
      ]
     },
     "execution_count": 5,
     "metadata": {},
     "output_type": "execute_result"
    }
   ],
   "source": [
    "sizes = images['Size'].values\n",
    "sizes[:int(2043*.9)]"
   ]
  },
  {
   "cell_type": "code",
   "execution_count": 6,
   "metadata": {
    "ExecuteTime": {
     "end_time": "2019-05-18T19:00:57.193751Z",
     "start_time": "2019-05-18T19:00:57.179498Z"
    }
   },
   "outputs": [
    {
     "name": "stdout",
     "output_type": "stream",
     "text": [
      "Mean 2898.90412698 Sigma 1138.58250404\n",
      "1 Sigma [1760.3216229455966, 4037.486631022657]\n",
      "2 Sigma [621.7391189070663, 5176.069135061187]\n",
      "Bin 0 [50, 175]\n",
      "Bin 1 [175, 300]\n",
      "Bin 2 [300, 425]\n",
      "Bin 3 [425, 550]\n",
      "Bin 4 [550, 675]\n",
      "Bin 5 [675, 800]\n",
      "Bin 6 [800, 925]\n",
      "Bin 7 [925, 1050]\n",
      "Bin 8 [1050, 1175]\n",
      "Bin 9 [1175, 1300]\n",
      "Bin 10 [1300, 1425]\n",
      "Bin 11 [1425, 1550]\n",
      "Bin 12 [1550, 1675]\n",
      "Bin 13 [1675, 1800]\n",
      "Bin 14 [1800, 1925]\n",
      "Bin 15 [1925, 2050]\n",
      "Bin 16 [2050, 2175]\n",
      "Bin 17 [2175, 2300]\n",
      "Bin 18 [2300, 2425]\n",
      "Bin 19 [2425, 2550]\n",
      "Bin 20 [2550, 2675]\n",
      "Bin 21 [2675, 2800]\n"
     ]
    }
   ],
   "source": [
    "print 'Mean',images['Size'].mean(), 'Sigma',images['Size'].std()\n",
    "print '1 Sigma',[images['Size'].mean() -   images['Size'].std(),images['Size'].mean() +   images['Size'].std()]\n",
    "print '2 Sigma',[images['Size'].mean() - 2*images['Size'].std(),images['Size'].mean() + 2*images['Size'].std()]\n",
    "\n",
    "for i in range(50,2800,125):\n",
    "    print 'Bin %d' % ((i-50)/125), [i,i+125]"
   ]
  },
  {
   "cell_type": "code",
   "execution_count": 5,
   "metadata": {},
   "outputs": [],
   "source": [
    "data1 = pd.read_csv('../Scipts/Design2a/node1_images.csv')\n",
    "data2 = pd.read_csv('../Scipts/Design2a/node2_images.csv')\n",
    "data3 = pd.read_csv('../Scipts/Design2a/node3_images.csv')\n",
    "data4 = pd.read_csv('../Scipts/Design2a/node4_images.csv')"
   ]
  },
  {
   "cell_type": "code",
   "execution_count": 12,
   "metadata": {},
   "outputs": [
    {
     "ename": "AttributeError",
     "evalue": "'numpy.ndarray' object has no attribute 'get_xticks'",
     "output_type": "error",
     "traceback": [
      "\u001b[0;31m---------------------------------------------------------------------------\u001b[0m",
      "\u001b[0;31mAttributeError\u001b[0m                            Traceback (most recent call last)",
      "\u001b[0;32m<ipython-input-12-1324179eca81>\u001b[0m in \u001b[0;36m<module>\u001b[0;34m()\u001b[0m\n\u001b[1;32m     25\u001b[0m \u001b[0;34m\u001b[0m\u001b[0m\n\u001b[1;32m     26\u001b[0m \u001b[0m_\u001b[0m \u001b[0;34m=\u001b[0m \u001b[0maxis\u001b[0m\u001b[0;34m[\u001b[0m\u001b[0;36m1\u001b[0m\u001b[0;34m,\u001b[0m\u001b[0;36m3\u001b[0m\u001b[0;34m]\u001b[0m\u001b[0;34m.\u001b[0m\u001b[0mhist\u001b[0m\u001b[0;34m(\u001b[0m\u001b[0;34m(\u001b[0m\u001b[0mdata4\u001b[0m\u001b[0;34m[\u001b[0m\u001b[0;34m'SIZE1'\u001b[0m\u001b[0;34m]\u001b[0m\u001b[0;34m+\u001b[0m\u001b[0mdata4\u001b[0m\u001b[0;34m[\u001b[0m\u001b[0;34m'SIZE2'\u001b[0m\u001b[0;34m]\u001b[0m\u001b[0;34m)\u001b[0m\u001b[0;34m.\u001b[0m\u001b[0mvalues\u001b[0m\u001b[0;34m,\u001b[0m\u001b[0mbins\u001b[0m\u001b[0;34m=\u001b[0m\u001b[0;36m60\u001b[0m\u001b[0;34m,\u001b[0m\u001b[0mcolor\u001b[0m\u001b[0;34m=\u001b[0m\u001b[0mblues\u001b[0m\u001b[0;34m(\u001b[0m\u001b[0;36m150\u001b[0m\u001b[0;34m)\u001b[0m\u001b[0;34m)\u001b[0m \u001b[0;31m#image sizes are in KB we converted it to MB here\u001b[0m\u001b[0;34m\u001b[0m\u001b[0m\n\u001b[0;32m---> 27\u001b[0;31m \u001b[0m_\u001b[0m \u001b[0;34m=\u001b[0m \u001b[0maxis\u001b[0m\u001b[0;34m[\u001b[0m\u001b[0;36m1\u001b[0m\u001b[0;34m,\u001b[0m\u001b[0;36m3\u001b[0m\u001b[0;34m]\u001b[0m\u001b[0;34m.\u001b[0m\u001b[0mset_xticklabels\u001b[0m\u001b[0;34m(\u001b[0m\u001b[0maxis\u001b[0m\u001b[0;34m[\u001b[0m\u001b[0;36m0\u001b[0m\u001b[0;34m]\u001b[0m\u001b[0;34m.\u001b[0m\u001b[0mget_xticks\u001b[0m\u001b[0;34m(\u001b[0m\u001b[0;34m)\u001b[0m\u001b[0;34m.\u001b[0m\u001b[0mastype\u001b[0m\u001b[0;34m(\u001b[0m\u001b[0;34m'int'\u001b[0m\u001b[0;34m)\u001b[0m\u001b[0;34m.\u001b[0m\u001b[0mtolist\u001b[0m\u001b[0;34m(\u001b[0m\u001b[0;34m)\u001b[0m\u001b[0;34m,\u001b[0m\u001b[0mfontsize\u001b[0m\u001b[0;34m=\u001b[0m\u001b[0;36m16\u001b[0m\u001b[0;34m)\u001b[0m\u001b[0;34m\u001b[0m\u001b[0m\n\u001b[0m\u001b[1;32m     28\u001b[0m \u001b[0m_\u001b[0m \u001b[0;34m=\u001b[0m \u001b[0maxis\u001b[0m\u001b[0;34m[\u001b[0m\u001b[0;36m1\u001b[0m\u001b[0;34m,\u001b[0m\u001b[0;36m3\u001b[0m\u001b[0;34m]\u001b[0m\u001b[0;34m.\u001b[0m\u001b[0mset_yticklabels\u001b[0m\u001b[0;34m(\u001b[0m\u001b[0maxis\u001b[0m\u001b[0;34m[\u001b[0m\u001b[0;36m0\u001b[0m\u001b[0;34m]\u001b[0m\u001b[0;34m.\u001b[0m\u001b[0mget_yticks\u001b[0m\u001b[0;34m(\u001b[0m\u001b[0;34m)\u001b[0m\u001b[0;34m.\u001b[0m\u001b[0mastype\u001b[0m\u001b[0;34m(\u001b[0m\u001b[0;34m'int'\u001b[0m\u001b[0;34m)\u001b[0m\u001b[0;34m.\u001b[0m\u001b[0mtolist\u001b[0m\u001b[0;34m(\u001b[0m\u001b[0;34m)\u001b[0m\u001b[0;34m,\u001b[0m\u001b[0mfontsize\u001b[0m\u001b[0;34m=\u001b[0m\u001b[0;36m16\u001b[0m\u001b[0;34m)\u001b[0m\u001b[0;34m\u001b[0m\u001b[0m\n\u001b[1;32m     29\u001b[0m \u001b[0m_\u001b[0m \u001b[0;34m=\u001b[0m \u001b[0maxis\u001b[0m\u001b[0;34m[\u001b[0m\u001b[0;36m1\u001b[0m\u001b[0;34m,\u001b[0m\u001b[0;36m3\u001b[0m\u001b[0;34m]\u001b[0m\u001b[0;34m.\u001b[0m\u001b[0mgrid\u001b[0m\u001b[0;34m(\u001b[0m\u001b[0;34m'on'\u001b[0m\u001b[0;34m)\u001b[0m\u001b[0;34m\u001b[0m\u001b[0m\n",
      "\u001b[0;31mAttributeError\u001b[0m: 'numpy.ndarray' object has no attribute 'get_xticks'"
     ]
    },
    {
     "data": {
      "image/png": "[encoded data removed]",
      "text/plain": [
       "<matplotlib.figure.Figure at 0x7f4a9482f1d0>"
      ]
     },
     "metadata": {},
     "output_type": "display_data"
    }
   ],
   "source": [
    "fig, axis = plt.subplots(nrows=2,ncols=4,figsize=(11,5),sharex='row',sharey='row')\n",
    "_ = axis[1,0].hist((data1['SIZE1']+data1['SIZE2']).values,bins=60,color=blues(150)) #image sizes are in KB we converted it to MB here\n",
    "_ = axis[1,0].set_xticklabels(axis[1,0].get_xticks().astype('int').tolist(),fontsize=16)\n",
    "_ = axis[1,0].set_yticklabels(axis[1,0].get_yticks().astype('int').tolist(),fontsize=16)\n",
    "_ = axis[1,0].grid('on')\n",
    "_ = axis[1,0].legend(fontsize=14)\n",
    "_ = axis[1,0].set_xlabel('Node 1 Image Size in MBs',fontsize=16)\n",
    "_ = axis[1,0].set_ylabel('Number of occurences', fontsize=16)\n",
    "\n",
    "_ = axis[1,1].hist((data2['SIZE1']+data2['SIZE2']).values,bins=60,color=blues(150)) #image sizes are in KB we converted it to MB here\n",
    "_ = axis[1,1].set_xticklabels(axis[1,1].get_xticks().astype('int').tolist(),fontsize=16)\n",
    "_ = axis[1,1].set_yticklabels(axis[1,1].get_yticks().astype('int').tolist(),fontsize=16)\n",
    "_ = axis[1,1].grid('on')\n",
    "_ = axis[1,1].legend(fontsize=14)\n",
    "_ = axis[1,1].set_xlabel('Node 2 Image Size in MBs',fontsize=16)\n",
    "_ = axis[1,1].set_ylabel('Number of occurences', fontsize=16)\n",
    "\n",
    "_ = axis[1,2].hist((data3['SIZE1']+data3['SIZE2']).values,bins=60,color=blues(150)) #image sizes are in KB we converted it to MB here\n",
    "_ = axis[1,2].set_xticklabels(axis[1,2].get_xticks().astype('int').tolist(),fontsize=16)\n",
    "_ = axis[1,2].set_yticklabels(axis[1,2].get_yticks().astype('int').tolist(),fontsize=16)\n",
    "_ = axis[1,2].grid('on')\n",
    "_ = axis[1,2].legend(fontsize=14)\n",
    "_ = axis[1,2].set_xlabel('Node 3 Image Size in MBs',fontsize=16)\n",
    "_ = axis[1,2].set_ylabel('Number of occurences', fontsize=16)\n",
    "\n",
    "_ = axis[1,3].hist((data4['SIZE1']+data4['SIZE2']).values,bins=60,color=blues(150)) #image sizes are in KB we converted it to MB here\n",
    "_ = axis[1,3].set_xticklabels(axis[0].get_xticks().astype('int').tolist(),fontsize=16)\n",
    "_ = axis[1,3].set_yticklabels(axis[0].get_yticks().astype('int').tolist(),fontsize=16)\n",
    "_ = axis[1,3].grid('on')\n",
    "_ = axis[1,3].legend(fontsize=14)\n",
    "_ = axis[1,3].set_xlabel('Node 4 Image Size in MBs',fontsize=16)\n",
    "_ = axis[1,2].set_ylabel('Number of occurences', fontsize=16)"
   ]
  },
  {
   "cell_type": "code",
   "execution_count": 82,
   "metadata": {},
   "outputs": [],
   "source": [
    "images = pd.read_csv('../Data/Geolocation_Image_pairs.csv')\n",
    "nodes = 4\n",
    "node_dists = list()\n",
    "for i in range(nodes):\n",
    "    df0 = pd.DataFrame(columns=['ImageName1','ImageName2','SIZE1','SIZE2','X1','Y1','X2','Y2'])\n",
    "    df1 = pd.DataFrame(columns=['ImageName1','ImageName2','SIZE1','SIZE2','X1','Y1','X2','Y2'])\n",
    "    df2 = pd.DataFrame(columns=['ImageName1','ImageName2','SIZE1','SIZE2','X1','Y1','X2','Y2'])\n",
    "    df3 = pd.DataFrame(columns=['ImageName1','ImageName2','SIZE1','SIZE2','X1','Y1','X2','Y2'])\n",
    "    \n",
    "    node_dists.append(df)\n",
    "\n",
    "images.sort_values(['SIZE1']+['SIZE2'])\n",
    "images.reset_index(drop='index',inplace=True)\n",
    "\n",
    "for idx, row in images.iterrows():\n",
    "    node_idx = idx % nodes\n",
    "    if node_idx == 0 :\n",
    "        df0.loc[len(df0)] = [row['ImageName1'],row['ImageName2'],row['SIZE1'],row['SIZE2'],row['X1'],row['Y1'],row['X2'],row['Y2']]\n",
    "        \n",
    "    elif node_idx == 1:\n",
    "        df1.loc[len(df1)] = [row['ImageName1'],row['ImageName2'],row['SIZE1'],row['SIZE2'],row['X1'],row['Y1'],row['X2'],row['Y2']]\n",
    "        \n",
    "    elif node_idx == 2:\n",
    "        df2.loc[len(df2)] = [row['ImageName1'],row['ImageName2'],row['SIZE1'],row['SIZE2'],row['X1'],row['Y1'],row['X2'],row['Y2']]\n",
    "        \n",
    "    else:\n",
    "        df3.loc[len(df3)] = [row['ImageName1'],row['ImageName2'],row['SIZE1'],row['SIZE2'],row['X1'],row['Y1'],row['X2'],row['Y2']]\n",
    "    \n",
    "\n",
    "df0.to_csv('/home/aymen/node1_images.csv' ,index=False)\n",
    "df1.to_csv('/home/aymen/node2_images.csv' ,index=False)\n",
    "df2.to_csv('/home/aymen/node3_images.csv' ,index=False)\n",
    "df3.to_csv('/home/aymen/node4_images.csv' ,index=False)"
   ]
  },
  {
   "cell_type": "code",
   "execution_count": 79,
   "metadata": {},
   "outputs": [],
   "source": [
    "data11 = pd.read_csv('/home/aymen/node0_images.csv')\n",
    "data22 = pd.read_csv('/home/aymen/node1_images.csv')\n",
    "data33 = pd.read_csv('/home/aymen/node2_images.csv')\n",
    "data44 = pd.read_csv('/home/aymen/node3_images.csv')"
   ]
  },
  {
   "cell_type": "code",
   "execution_count": 81,
   "metadata": {},
   "outputs": [
    {
     "data": {
      "text/plain": [
       "False"
      ]
     },
     "execution_count": 81,
     "metadata": {},
     "output_type": "execute_result"
    }
   ],
   "source": []
  }
 ],
 "metadata": {
  "hide_input": false,
  "kernelspec": {
   "display_name": "Python 2",
   "language": "python",
   "name": "python2"
  },
  "language_info": {
   "codemirror_mode": {
    "name": "ipython",
    "version": 2
   },
   "file_extension": ".py",
   "mimetype": "text/x-python",
   "name": "python",
   "nbconvert_exporter": "python",
   "pygments_lexer": "ipython2",
   "version": "2.7.14"
  },
  "latex_envs": {
   "LaTeX_envs_menu_present": true,
   "autoclose": false,
   "autocomplete": true,
   "bibliofile": "biblio.bib",
   "cite_by": "apalike",
   "current_citInitial": 1,
   "eqLabelWithNumbers": true,
   "eqNumInitial": 1,
   "hotkeys": {
    "equation": "Ctrl-E",
    "itemize": "Ctrl-I"
   },
   "labels_anchors": false,
   "latex_user_defs": false,
   "report_style_numbering": false,
   "user_envs_cfg": false
  },
  "varInspector": {
   "cols": {
    "lenName": 16,
    "lenType": 16,
    "lenVar": 40
   },
   "kernels_config": {
    "python": {
     "delete_cmd_postfix": "",
     "delete_cmd_prefix": "del ",
     "library": "var_list.py",
     "varRefreshCmd": "print(var_dic_list())"
    },
    "r": {
     "delete_cmd_postfix": ") ",
     "delete_cmd_prefix": "rm(",
     "library": "var_list.r",
     "varRefreshCmd": "cat(var_dic_list()) "
    }
   },
   "types_to_exclude": [
    "module",
    "function",
    "builtin_function_or_method",
    "instance",
    "_Feature"
   ],
   "window_display": false
  }
 },
 "nbformat": 4,
 "nbformat_minor": 2
}
