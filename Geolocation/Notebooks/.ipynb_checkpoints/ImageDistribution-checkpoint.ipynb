{
 "cells": [
  {
   "cell_type": "code",
   "execution_count": 1,
   "metadata": {
    "ExecuteTime": {
     "end_time": "2019-05-18T19:00:56.284454Z",
     "start_time": "2019-05-18T19:00:55.906614Z"
    }
   },
   "outputs": [
    {
     "data": {
      "text/html": [
       "<style>.container { width:100% !important; }</style>"
      ],
      "text/plain": [
       "<IPython.core.display.HTML object>"
      ]
     },
     "metadata": {},
     "output_type": "display_data"
    }
   ],
   "source": [
    "%matplotlib inline\n",
    "import numpy as np\n",
    "from matplotlib import pyplot as plt\n",
    "import pandas as pd\n",
    "import matplotlib as mpl\n",
    "#mpl.rcParams['text.usetex'] = True\n",
    "#mpl.rcParams['text.latex.unicode'] = True\n",
    "\n",
    "blues = mpl.cm.get_cmap(plt.get_cmap('Blues'))\n",
    "greens = mpl.cm.get_cmap(plt.get_cmap('Greens'))\n",
    "reds = mpl.cm.get_cmap(plt.get_cmap('Reds'))\n",
    "oranges = mpl.cm.get_cmap(plt.get_cmap('Oranges'))\n",
    "purples = mpl.cm.get_cmap(plt.get_cmap('Purples'))\n",
    "greys = mpl.cm.get_cmap(plt.get_cmap('Greys'))\n",
    "\n",
    "from IPython.core.display import display, HTML\n",
    "display(HTML(\"<style>.container { width:100% !important; }</style>\"))\n",
    "import warnings\n",
    "warnings.filterwarnings('ignore')"
   ]
  },
  {
   "cell_type": "code",
   "execution_count": 2,
   "metadata": {
    "ExecuteTime": {
     "end_time": "2019-05-18T19:00:56.302734Z",
     "start_time": "2019-05-18T19:00:56.288901Z"
    }
   },
   "outputs": [],
   "source": [
    "images = pd.read_csv('../Data/Penguins_Images.csv')"
   ]
  },
  {
   "cell_type": "code",
   "execution_count": 3,
   "metadata": {
    "ExecuteTime": {
     "end_time": "2019-05-18T19:00:57.175399Z",
     "start_time": "2019-05-18T19:00:56.306159Z"
    }
   },
   "outputs": [
    {
     "name": "stderr",
     "output_type": "stream",
     "text": [
      "No handlers could be found for logger \"matplotlib.legend\"\n"
     ]
    },
    {
     "name": "stdout",
     "output_type": "stream",
     "text": [
      "Distribution Characteristics 502.5 5597.38682133\n",
      "Min 4 Max 58077\n"
     ]
    },
    {
     "data": {
      "image/png": "[encoded data removed]",
      "text/plain": [
       "<matplotlib.figure.Figure at 0x7ffa35b89d10>"
      ]
     },
     "metadata": {},
     "output_type": "display_data"
    }
   ],
   "source": [
    "fig, axis = plt.subplots(nrows=1,ncols=1,figsize=(11,5))\n",
    "_ = axis.hist(images['Size'].values/1024.0,bins=60,color=blues(150)) #image sizes are in KB we converted it to MB here\n",
    "_ = axis.set_xticklabels(axis.get_xticks().astype('int').tolist(),fontsize=16)\n",
    "_ = axis.set_yticklabels(axis.get_yticks().astype('int').tolist(),fontsize=16)\n",
    "_ = axis.grid('on')\n",
    "_ = axis.legend(fontsize=14)\n",
    "_ = axis.set_xlabel('Image Size in MBs',fontsize=16)\n",
    "# _ = axis.set_title('Histogram of Image Sizes', fontsize=16)\n",
    "_ = axis.set_ylabel('Number of occurences', fontsize=16)\n",
    "#fig.savefig('image_size_hist.pdf',dpi=800,bbox_inches='tight')\n",
    "print 'Distribution Characteristics',images['Size'].median(),images['Size'].std()\n",
    "print 'Min',images['Size'].min(), 'Max', images['Size'].max()"
   ]
  },
  {
   "cell_type": "code",
   "execution_count": 10,
   "metadata": {},
   "outputs": [
    {
     "data": {
      "text/plain": [
       "array([   4,    4,    4, ..., 6281, 6298, 6329])"
      ]
     },
     "execution_count": 10,
     "metadata": {},
     "output_type": "execute_result"
    }
   ],
   "source": [
    "sizes = images['Size'].values\n",
    "sizes[:int(2043*.9)]"
   ]
  },
  {
   "cell_type": "code",
   "execution_count": 5,
   "metadata": {
    "ExecuteTime": {
     "end_time": "2019-05-18T19:00:57.193751Z",
     "start_time": "2019-05-18T19:00:57.179498Z"
    }
   },
   "outputs": [
    {
     "name": "stdout",
     "output_type": "stream",
     "text": [
      "Mean 2388.47896282 Sigma 5597.38682133\n",
      "1 Sigma [-3208.907858516855, 7985.865784152862]\n",
      "2 Sigma [-8806.294679851713, 13583.252605487722]\n",
      "Bin 0 [50, 175]\n",
      "Bin 1 [175, 300]\n",
      "Bin 2 [300, 425]\n",
      "Bin 3 [425, 550]\n",
      "Bin 4 [550, 675]\n",
      "Bin 5 [675, 800]\n",
      "Bin 6 [800, 925]\n",
      "Bin 7 [925, 1050]\n",
      "Bin 8 [1050, 1175]\n",
      "Bin 9 [1175, 1300]\n",
      "Bin 10 [1300, 1425]\n",
      "Bin 11 [1425, 1550]\n",
      "Bin 12 [1550, 1675]\n",
      "Bin 13 [1675, 1800]\n",
      "Bin 14 [1800, 1925]\n",
      "Bin 15 [1925, 2050]\n",
      "Bin 16 [2050, 2175]\n",
      "Bin 17 [2175, 2300]\n",
      "Bin 18 [2300, 2425]\n",
      "Bin 19 [2425, 2550]\n",
      "Bin 20 [2550, 2675]\n",
      "Bin 21 [2675, 2800]\n"
     ]
    }
   ],
   "source": [
    "print 'Mean',images['Size'].mean(), 'Sigma',images['Size'].std()\n",
    "print '1 Sigma',[images['Size'].mean() -   images['Size'].std(),images['Size'].mean() +   images['Size'].std()]\n",
    "print '2 Sigma',[images['Size'].mean() - 2*images['Size'].std(),images['Size'].mean() + 2*images['Size'].std()]\n",
    "\n",
    "for i in range(50,2800,125):\n",
    "    print 'Bin %d' % ((i-50)/125), [i,i+125]"
   ]
  },
  {
   "cell_type": "code",
   "execution_count": null,
   "metadata": {},
   "outputs": [],
   "source": []
  }
 ],
 "metadata": {
  "hide_input": false,
  "kernelspec": {
   "display_name": "Python 2",
   "language": "python",
   "name": "python2"
  },
  "language_info": {
   "codemirror_mode": {
    "name": "ipython",
    "version": 2
   },
   "file_extension": ".py",
   "mimetype": "text/x-python",
   "name": "python",
   "nbconvert_exporter": "python",
   "pygments_lexer": "ipython2",
   "version": "2.7.14"
  },
  "latex_envs": {
   "LaTeX_envs_menu_present": true,
   "autoclose": false,
   "autocomplete": true,
   "bibliofile": "biblio.bib",
   "cite_by": "apalike",
   "current_citInitial": 1,
   "eqLabelWithNumbers": true,
   "eqNumInitial": 1,
   "hotkeys": {
    "equation": "Ctrl-E",
    "itemize": "Ctrl-I"
   },
   "labels_anchors": false,
   "latex_user_defs": false,
   "report_style_numbering": false,
   "user_envs_cfg": false
  },
  "varInspector": {
   "cols": {
    "lenName": 16,
    "lenType": 16,
    "lenVar": 40
   },
   "kernels_config": {
    "python": {
     "delete_cmd_postfix": "",
     "delete_cmd_prefix": "del ",
     "library": "var_list.py",
     "varRefreshCmd": "print(var_dic_list())"
    },
    "r": {
     "delete_cmd_postfix": ") ",
     "delete_cmd_prefix": "rm(",
     "library": "var_list.r",
     "varRefreshCmd": "cat(var_dic_list()) "
    }
   },
   "types_to_exclude": [
    "module",
    "function",
    "builtin_function_or_method",
    "instance",
    "_Feature"
   ],
   "window_display": false
  }
 },
 "nbformat": 4,
 "nbformat_minor": 2
}
