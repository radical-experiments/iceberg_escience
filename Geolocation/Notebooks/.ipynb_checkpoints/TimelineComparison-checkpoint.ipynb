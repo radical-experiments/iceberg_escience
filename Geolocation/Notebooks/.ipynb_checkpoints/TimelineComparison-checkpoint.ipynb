{
 "cells": [
  {
   "cell_type": "code",
   "execution_count": 1,
   "metadata": {
    "ExecuteTime": {
     "end_time": "2019-05-23T15:44:27.616448Z",
     "start_time": "2019-05-23T15:44:27.287868Z"
    }
   },
   "outputs": [
    {
     "data": {
      "text/html": [
       "<style>.container { width:100% !important; }</style>"
      ],
      "text/plain": [
       "<IPython.core.display.HTML object>"
      ]
     },
     "metadata": {},
     "output_type": "display_data"
    }
   ],
   "source": [
    "%matplotlib inline\n",
    "import numpy as np\n",
    "from matplotlib import pyplot as plt\n",
    "from matplotlib import cm\n",
    "import pandas as pd\n",
    "import matplotlib as mpl\n",
    "mpl.rcParams['text.usetex'] = True\n",
    "mpl.rcParams['text.latex.unicode'] = True\n",
    "\n",
    "blues = cm.get_cmap(plt.get_cmap('Blues'))\n",
    "greens = cm.get_cmap(plt.get_cmap('Greens'))\n",
    "reds = cm.get_cmap(plt.get_cmap('Reds'))\n",
    "oranges = cm.get_cmap(plt.get_cmap('Oranges'))\n",
    "purples = cm.get_cmap(plt.get_cmap('Purples'))\n",
    "greys = cm.get_cmap(plt.get_cmap('Greys'))\n",
    "\n",
    "from IPython.core.display import display, HTML\n",
    "display(HTML(\"<style>.container { width:100% !important; }</style>\"))\n",
    "import warnings\n",
    "warnings.filterwarnings('ignore')"
   ]
  },
  {
   "cell_type": "code",
   "execution_count": 2,
   "metadata": {},
   "outputs": [],
   "source": [
    "des2a1 = pd.read_csv('../Scipts/Design2a/node1_images.csv')\n",
    "des2a2 = pd.read_csv('../Scipts/Design2a/node2_images.csv')\n",
    "des2a3 = pd.read_csv('../Scipts/Design2a/node3_images.csv')\n",
    "des2a4 = pd.read_csv('../Scipts/Design2a/node4_images.csv')"
   ]
  },
  {
   "cell_type": "code",
   "execution_count": 3,
   "metadata": {},
   "outputs": [],
   "source": [
    "des21 = (des2a1['SIZE1']+des2a1['SIZE2']).values\n",
    "des22 = (des2a2['SIZE1']+des2a2['SIZE2']).values\n",
    "des23 = (des2a3['SIZE1']+des2a3['SIZE2']).values\n",
    "des24 = (des2a4['SIZE1']+des2a4['SIZE2']).values"
   ]
  },
  {
   "cell_type": "code",
   "execution_count": 4,
   "metadata": {
    "ExecuteTime": {
     "end_time": "2019-05-23T15:44:27.955389Z",
     "start_time": "2019-05-23T15:44:27.940343Z"
    }
   },
   "outputs": [],
   "source": [
    "des2_geo = pd.read_csv('../Data/design2_geo_timestamps.csv')\n",
    "des2_ransac = pd.read_csv('../Data/design2_ransac_timestamps.csv')\n",
    "des2_geo.drop('Unnamed: 0',axis=1,inplace=True)\n",
    "des2_ransac.drop('Unnamed: 0',axis=1,inplace=True)\n",
    "#des2a = pd.read_csv('../Data/design2a.csv')\n",
    "#des2b = pd.read_csv('../Data/design2b.csv')"
   ]
  },
  {
   "cell_type": "code",
   "execution_count": 5,
   "metadata": {},
   "outputs": [],
   "source": [
    "#node1_geo_time = (des2_geo.iloc[1:2775]['End']-des2_geo[1:2775]['Start']).values\n",
    "#node1_geo_ttx = node1_geo_time.sum()\n",
    "#node1_geo_std = node1_geo_time.std()\n",
    "#\n",
    "#node2_geo_time = (des2_geo.iloc[2775:5550]['End']-des2_geo[2775:5550]['Start']).values\n",
    "#node2_geo_ttx = node2_geo_time.sum()\n",
    "#node2_geo_std = node2_geo_time.std()\n",
    "#\n",
    "#node3_geo_time = (des2_geo.iloc[5550:8325]['End']-des2_geo[5550:8325]['Start']).values\n",
    "#node3_geo_ttx = node3_geo_time.sum()\n",
    "#node3_geo_std = node3_geo_time.std()\n",
    "#\n",
    "#node4_geo_time = (des2_geo.iloc[8325:11100]['End']-des2_geo[8325:11100]['Start']).values\n",
    "#node4_geo_ttx = node4_geo_time.sum()\n",
    "#node4_geo_std = node4_geo_time.std()\n",
    "des2_ttx = pd.read_csv('../Data/Des2_ttx.csv')"
   ]
  },
  {
   "cell_type": "code",
   "execution_count": null,
   "metadata": {},
   "outputs": [],
   "source": [
    "#node1_ransac_time = (des2_ransac.iloc[1:2775]['End']-des2_ransac[1:2775]['Start']).values\n",
    "#node1_ransac_ttx = node1_ransac_time.sum()\n",
    "#node1_ransac_std = node1_ransac_time.std()\n",
    "#\n",
    "#node2_ransac_time = (des2_ransac.iloc[2775:5550]['End']-des2_ransac[2775:5550]['Start']).values\n",
    "#node2_ransac_ttx = node2_ransac_time.sum()\n",
    "#node2_ransac_std = node2_ransac_time.std()\n",
    "#\n",
    "#node3_ransac_time = (des2_ransac.iloc[5550:8325]['End']-des2_ransac[5550:8325]['Start']).values\n",
    "#node3_ransac_ttx = node3_ransac_time.sum()\n",
    "#node3_ransac_std = node3_ransac_time.std()\n",
    "#\n",
    "#node4_ransac_time = (des2_ransac.iloc[8325:11100]['End']-des2_ransac[8325:11100]['Start']).values\n",
    "#node4_ransac_ttx = node4_ransac_time.sum()\n",
    "#node4_ransac_std = node4_ransac_time.std()"
   ]
  },
  {
   "cell_type": "code",
   "execution_count": null,
   "metadata": {
    "ExecuteTime": {
     "end_time": "2019-05-23T15:44:33.083913Z",
     "start_time": "2019-05-23T15:44:31.989019Z"
    }
   },
   "outputs": [],
   "source": [
    "fig, axis = plt.subplots(nrows=2,ncols=4,figsize=(11,5),sharex='row',sharey='row')\n",
    "#x1 = np.arange(1)\n",
    "#x2 = np.arange(1)\n",
    "#_ = axis[0,0].bar(x1,des2a['CpuMeanTime'][0],yerr=des2a['CpuStdTime'][0], color=blues(150))\n",
    "#_ = axis[0,0].bar(x2+1,des2a['GpuMeanTime'][0],yerr=des2a['GpuStdTime'][0], color=reds(150))\n",
    "#_ = axis[0,0].set_xticks([0,1])\n",
    "#_ = axis[0,0].grid('on', linestyle=':', linewidth=2)\n",
    "#_ = axis[0,0].set_xticklabels(['CPUs', 'GPUs'], fontsize=22)\n",
    "#\n",
    "#_ = axis[0,1].bar(x1,des2a['CpuMeanTime'][1],yerr=des2a['CpuStdTime'][1], color=blues(150))\n",
    "#_ = axis[0,1].bar(x2+1,des2a['GpuMeanTime'][1],yerr=des2a['GpuStdTime'][1], color=reds(150))\n",
    "#_ = axis[0,1].set_xticks([0,1])\n",
    "#_ = axis[0,1].grid('on', linestyle=':', linewidth=2)\n",
    "#_ = axis[0,1].set_xticklabels(['CPUs', 'GPUs'], fontsize=22)\n",
    "#\n",
    "#_ = axis[0,2].bar(x1,des2a['CpuMeanTime'][2],yerr=des2a['CpuStdTime'][2], color=blues(150))\n",
    "#_ = axis[0,2].bar(x2+1,des2a['GpuMeanTime'][2],yerr=des2a['GpuStdTime'][2], color=reds(150))\n",
    "#_ = axis[0,2].set_xticks([0,1])\n",
    "#_ = axis[0,2].grid('on', linestyle=':', linewidth=2)\n",
    "#_ = axis[0,2].set_xticklabels(['CPUs', 'GPUs'], fontsize=22)\n",
    "#\n",
    "#_ = axis[0,3].bar(x1,des2a['CpuMeanTime'][3],yerr=des2a['CpuStdTime'][3], color=blues(150))\n",
    "#_ = axis[0,3].bar(x2+1,des2a['GpuMeanTime'][3],yerr=des2a['GpuStdTime'][3], color=reds(150))\n",
    "#_ = axis[0,3].set_xticks([0,1])\n",
    "#_ = axis[0,3].grid('on', linestyle=':', linewidth=2)\n",
    "#_ = axis[0,3].set_xticklabels(['CPUs', 'GPUs'], fontsize=22)\n",
    "#_ = axis[0,0].set_yticklabels(axis[0,0].get_yticks().astype('int').tolist(),fontsize=22)\n",
    "#\n",
    "#_ = axis[1,0].hist(eval(des2a['Images'][0]),bins=50)\n",
    "#_ = axis[1,1].hist(eval(des2a['Images'][1]),bins=50)\n",
    "#_ = axis[1,2].hist(eval(des2a['Images'][2]),bins=50)\n",
    "#_ = axis[1,3].hist(eval(des2a['Images'][3]),bins=50)\n",
    "\n",
    "_ = axis[1,0].hist((des2a1['SIZE1']+des2a1['SIZE2']).values,bins=60,color=blues(150)) #image sizes are in KB we converted it to MB here\n",
    "_ = axis[1,0].set_xticklabels(axis[1,0].get_xticks().astype('int').tolist(),fontsize=24)\n",
    "_ = axis[1,0].set_yticklabels(axis[1,0].get_yticks().astype('int').tolist(),fontsize=24)\n",
    "_ = axis[1,0].grid('on')\n",
    "_ = axis[1,0].legend(fontsize=14)\n",
    "\n",
    "_ = axis[1,1].hist((des2a2['SIZE1']+des2a2['SIZE2']).values,bins=60,color=blues(150)) #image sizes are in KB we converted it to MB here\n",
    "_ = axis[1,1].set_xticklabels(axis[1,1].get_xticks().astype('int').tolist(),fontsize=24)\n",
    "_ = axis[1,1].set_yticklabels(axis[1,1].get_yticks().astype('int').tolist(),fontsize=24)\n",
    "_ = axis[1,1].grid('on')\n",
    "_ = axis[1,1].legend(fontsize=14)\n",
    "\n",
    "_ = axis[1,2].hist((des2a3['SIZE1']+des2a3['SIZE2']).values,bins=60,color=blues(150)) #image sizes are in KB we converted it to MB here\n",
    "_ = axis[1,2].set_xticklabels(axis[1,2].get_xticks().astype('int').tolist(),fontsize=24)\n",
    "_ = axis[1,2].set_yticklabels(axis[1,2].get_yticks().astype('int').tolist(),fontsize=24)\n",
    "_ = axis[1,2].grid('on')\n",
    "_ = axis[1,2].legend(fontsize=14)\n",
    "\n",
    "_ = axis[1,3].hist((des2a4['SIZE1']+des2a4['SIZE2']).values,bins=60,color=blues(150)) #image sizes are in KB we converted it to MB here\n",
    "_ = axis[1,3].set_xticklabels(axis[1,3].get_xticks().astype('int').tolist(),fontsize=24)\n",
    "_ = axis[1,3].set_yticklabels(axis[1,3].get_yticks().astype('int').tolist(),fontsize=24)\n",
    "_ = axis[1,3].grid('on')\n",
    "_ = axis[1,3].legend(fontsize=14)\n",
    "\n",
    "\n",
    "_ = axis[0,0].set_title('Node 1',fontsize=24)\n",
    "_ = axis[0,1].set_title('Node 2',fontsize=24)\n",
    "_ = axis[0,2].set_title('Node 3',fontsize=24)\n",
    "_ = axis[0,3].set_title('Node 4',fontsize=24)\n",
    "_ = axis[1,0].set_xlabel('Image Size\\nin MBs', fontsize=24)\n",
    "_ = axis[1,1].set_xlabel('Image Size\\nin MBs', fontsize=24)\n",
    "_ = axis[1,2].set_xlabel('Image Size\\nin MBs', fontsize=24)\n",
    "_ = axis[1,3].set_xlabel('Image Size\\nin MBs', fontsize=24)\n",
    "_ = axis[0,0].set_ylabel('Time', fontsize=24)\n",
    "_ = axis[1,0].set_yticklabels(axis[1,0].get_yticks().astype('int').tolist(),fontsize=22)\n",
    "_ = axis[1,0].set_xticklabels(axis[1,0].get_xticks().astype('int').tolist(),fontsize=22)\n",
    "_ = axis[1,1].set_xticklabels(axis[1,1].get_xticks().astype('int').tolist(),fontsize=22)\n",
    "_ = axis[1,2].set_xticklabels(axis[1,2].get_xticks().astype('int').tolist(),fontsize=22)\n",
    "_ = axis[1,3].set_xticklabels(axis[1,3].get_xticks().astype('int').tolist(),fontsize=22)\n",
    "\n",
    "_ = axis[1,0].grid('on', linestyle=':', linewidth=2)\n",
    "_ = axis[1,1].grid('on', linestyle=':', linewidth=2)\n",
    "_ = axis[1,2].grid('on', linestyle=':', linewidth=2)\n",
    "_ = axis[1,3].grid('on', linestyle=':', linewidth=2)\n",
    "_ = axis[1,0].set_ylabel('Number of\\nImages', fontsize=24)\n",
    "_ = axis[0,0].set_ylabel('Time', fontsize=24)\n",
    "_ = axis[1,0].set_yticklabels(axis[1,0].get_yticks().astype('int').tolist(),fontsize=22)\n",
    "#fig.savefig('design2_timelines.pdf',dpi=800,bbox_inches='tight')"
   ]
  },
  {
   "cell_type": "code",
   "execution_count": null,
   "metadata": {
    "ExecuteTime": {
     "end_time": "2019-05-23T15:44:33.237880Z",
     "start_time": "2019-05-23T15:44:33.233651Z"
    }
   },
   "outputs": [],
   "source": [
    "level0 = axis[0,2].get_ylim()\n",
    "level1 = axis[1,3].get_ylim()"
   ]
  },
  {
   "cell_type": "code",
   "execution_count": 24,
   "metadata": {
    "ExecuteTime": {
     "end_time": "2019-05-23T15:44:34.884898Z",
     "start_time": "2019-05-23T15:44:33.916603Z"
    }
   },
   "outputs": [
    {
     "name": "stderr",
     "output_type": "stream",
     "text": [
      "No handlers could be found for logger \"matplotlib.legend\"\n"
     ]
    },
    {
     "data": {
      "image/png": "[encoded data removed]",
      "text/plain": [
       "<matplotlib.figure.Figure at 0x7f58873b0c90>"
      ]
     },
     "metadata": {},
     "output_type": "display_data"
    }
   ],
   "source": [
    "fig, axis = plt.subplots(nrows=2,ncols=4,figsize=(11,5),sharey='row', sharex='row')\n",
    "\n",
    "x1 = np.arange(1)\n",
    "x2 = np.arange(1)\n",
    "\n",
    "_ = axis[1,0].set_ylim(0,125)\n",
    "_ = axis[1,1].set_ylim(0,125)\n",
    "_ = axis[1,2].set_ylim(0,125)\n",
    "_ = axis[1,3].set_ylim(0,125)\n",
    "\n",
    "_ = axis[0,0].bar(x1,des2_ttx['ttx'][4], color=blues(150))\n",
    "_ = axis[0,0].bar(x2+1,des2_ttx['ttx'][0], color=reds(150))\n",
    "_ = axis[0,0].set_xticks([0,1])\n",
    "_ = axis[0,0].grid('on', linestyle=':', linewidth=2)\n",
    "_ = axis[0,0].set_xticklabels(['CPUs', 'GPUs'], fontsize=22)\n",
    "#\n",
    "_ = axis[0,1].bar(x1,des2_ttx['ttx'][4], color=blues(150))\n",
    "_ = axis[0,1].bar(x2+1,des2_ttx['ttx'][1], color=reds(150))\n",
    "_ = axis[0,1].set_xticks([0,1])\n",
    "_ = axis[0,1].grid('on', linestyle=':', linewidth=2)\n",
    "_ = axis[0,1].set_xticklabels(['CPUs', 'GPUs'], fontsize=22)\n",
    "##\n",
    "_ = axis[0,2].bar(x1,des2_ttx['ttx'][6], color=blues(150))\n",
    "_ = axis[0,2].bar(x2+1,des2_ttx['ttx'][2], color=reds(150))\n",
    "_ = axis[0,2].set_xticks([0,1])\n",
    "_ = axis[0,2].grid('on', linestyle=':', linewidth=2)\n",
    "_ = axis[0,2].set_xticklabels(['CPUs', 'GPUs'], fontsize=22)\n",
    "\n",
    "##\n",
    "_ = axis[0,3].bar(x1,des2_ttx['ttx'][7], color=blues(150))\n",
    "_ = axis[0,3].bar(x2+1,des2_ttx['ttx'][3], color=reds(150))\n",
    "_ = axis[0,3].set_xticks([0,1])\n",
    "_ = axis[0,3].grid(axis='both', linestyle=':', linewidth=2)\n",
    "_ = axis[0,3].set_xticklabels(['CPUs', 'GPUs'], fontsize=22)\n",
    "\n",
    "\n",
    "_ = axis[0,0].set_yticklabels(axis[0,0].get_yticks().astype('int').tolist(),fontsize=22)\n",
    "\n",
    "\n",
    "_ = axis[1,0].hist(des21[:2000],bins=60,color=blues(150)) #image sizes are in KB we converted it to MB here\n",
    "_ = axis[1,0].set_xticklabels(axis[1,0].get_xticks().astype('int').tolist(),fontsize=24)\n",
    "_ = axis[1,0].set_yticklabels(axis[1,0].get_yticks().astype('int').tolist(),fontsize=24)\n",
    "_ = axis[1,0].grid('on')\n",
    "_ = axis[1,0].legend(fontsize=14)\n",
    "\n",
    "_ = axis[1,1].hist(des22[:1900],bins=60,color=blues(150)) #image sizes are in KB we converted it to MB here\n",
    "_ = axis[1,1].set_xticklabels(axis[1,1].get_xticks().astype('int').tolist(),fontsize=24)\n",
    "_ = axis[1,1].set_yticklabels(axis[1,1].get_yticks().astype('int').tolist(),fontsize=24)\n",
    "_ = axis[1,1].grid('on')\n",
    "_ = axis[1,1].legend(fontsize=14)\n",
    "\n",
    "_ = axis[1,2].hist(des23[:1600],bins=60,color=blues(150)) #image sizes are in KB we converted it to MB here\n",
    "_ = axis[1,2].set_xticklabels(axis[1,2].get_xticks().astype('int').tolist(),fontsize=24)\n",
    "_ = axis[1,2].set_yticklabels(axis[1,2].get_yticks().astype('int').tolist(),fontsize=24)\n",
    "_ = axis[1,2].grid('on')\n",
    "_ = axis[1,2].legend(fontsize=14)\n",
    "\n",
    "_ = axis[1,3].hist(des24,bins=60,color=blues(150)) #image sizes are in KB we converted it to MB here\n",
    "_ = axis[1,3].set_xticklabels(axis[1,3].get_xticks().astype('int').tolist(),fontsize=24)\n",
    "_ = axis[1,3].set_yticklabels(axis[1,3].get_yticks().astype('int').tolist(),fontsize=24)\n",
    "_ = axis[1,3].grid('on')\n",
    "_ = axis[1,3].legend(fontsize=14)\n",
    "\n",
    "\n",
    "_ = axis[1,0].grid('on', linestyle=':', linewidth=2)\n",
    "_ = axis[1,1].grid('on', linestyle=':', linewidth=2)\n",
    "_ = axis[1,2].grid('on', linestyle=':', linewidth=2)\n",
    "_ = axis[1,3].grid('on', linestyle=':', linewidth=2)\n",
    "\n",
    "_ = axis[0,0].set_title('Node 1',fontsize=24)\n",
    "_ = axis[0,1].set_title('Node 2',fontsize=24)\n",
    "_ = axis[0,2].set_title('Node 3',fontsize=24)\n",
    "_ = axis[0,3].set_title('Node 4',fontsize=24)\n",
    "_ = axis[1,0].set_xlabel('Image Size\\nin MBs', fontsize=24)\n",
    "_ = axis[1,1].set_xlabel('Image Size\\nin MBs', fontsize=24)\n",
    "_ = axis[1,2].set_xlabel('Image Size\\nin MBs', fontsize=24)\n",
    "_ = axis[1,3].set_xlabel('Image Size\\nin MBs', fontsize=24)\n",
    "_ = axis[1,0].set_ylabel('Number of\\nImages', fontsize=24)\n",
    "_ = axis[0,0].set_ylabel('Time', fontsize=24)\n",
    "_ = axis[1,0].set_yticklabels(axis[1,0].get_yticks().astype('int').tolist(),fontsize=22)\n",
    "_ = axis[1,0].set_xticklabels(axis[1,0].get_xticks().astype('int').tolist(),fontsize=22)\n",
    "_ = axis[1,1].set_xticklabels(axis[1,1].get_xticks().astype('int').tolist(),fontsize=22)\n",
    "_ = axis[1,2].set_xticklabels(axis[1,2].get_xticks().astype('int').tolist(),fontsize=22)\n",
    "_ = axis[1,3].set_xticklabels(axis[1,3].get_xticks().astype('int').tolist(),fontsize=22)\n",
    "#fig.savefig('design2a_timelines.pdf',dpi=800,bbox_inches='tight')"
   ]
  }
 ],
 "metadata": {
  "hide_input": false,
  "kernelspec": {
   "display_name": "Python 2",
   "language": "python",
   "name": "python2"
  },
  "language_info": {
   "codemirror_mode": {
    "name": "ipython",
    "version": 2
   },
   "file_extension": ".py",
   "mimetype": "text/x-python",
   "name": "python",
   "nbconvert_exporter": "python",
   "pygments_lexer": "ipython2",
   "version": "2.7.14"
  },
  "latex_envs": {
   "LaTeX_envs_menu_present": true,
   "autoclose": false,
   "autocomplete": true,
   "bibliofile": "biblio.bib",
   "cite_by": "apalike",
   "current_citInitial": 1,
   "eqLabelWithNumbers": true,
   "eqNumInitial": 1,
   "hotkeys": {
    "equation": "Ctrl-E",
    "itemize": "Ctrl-I"
   },
   "labels_anchors": false,
   "latex_user_defs": false,
   "report_style_numbering": false,
   "user_envs_cfg": false
  },
  "varInspector": {
   "cols": {
    "lenName": 16,
    "lenType": 16,
    "lenVar": 40
   },
   "kernels_config": {
    "python": {
     "delete_cmd_postfix": "",
     "delete_cmd_prefix": "del ",
     "library": "var_list.py",
     "varRefreshCmd": "print(var_dic_list())"
    },
    "r": {
     "delete_cmd_postfix": ") ",
     "delete_cmd_prefix": "rm(",
     "library": "var_list.r",
     "varRefreshCmd": "cat(var_dic_list()) "
    }
   },
   "types_to_exclude": [
    "module",
    "function",
    "builtin_function_or_method",
    "instance",
    "_Feature"
   ],
   "window_display": false
  }
 },
 "nbformat": 4,
 "nbformat_minor": 2
}
