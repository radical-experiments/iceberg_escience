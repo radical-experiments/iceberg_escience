{
 "cells": [
  {
   "cell_type": "code",
   "execution_count": 2,
   "metadata": {
    "ExecuteTime": {
     "end_time": "2019-05-05T15:43:58.052859Z",
     "start_time": "2019-05-05T15:43:56.957235Z"
    }
   },
   "outputs": [
    {
     "data": {
      "text/html": [
       "<style>.container { width:100% !important; }</style>"
      ],
      "text/plain": [
       "<IPython.core.display.HTML object>"
      ]
     },
     "metadata": {},
     "output_type": "display_data"
    },
    {
     "name": "stdout",
     "output_type": "stream",
     "text": [
      "/opt/anaconda2/lib/python2.7/site-packages/radical/pilot\n",
      "/opt/anaconda2/lib/python2.7/site-packages/radical/utils\n",
      "/opt/anaconda2/lib/python2.7/site-packages/radical/entk\n",
      "/opt/anaconda2/lib/python2.7/site-packages/radical/saga\n",
      "/opt/anaconda2/lib/python2.7/site-packages/radical/analytics\n",
      "\n",
      "  python               : 2.7.14\n",
      "  pythonpath           : \n",
      "  virtualenv           : /home/aymen/jupyter\n",
      "\n",
      "  radical.analytics    : 0.70.0\n",
      "  radical.entk         : 0.70.0\n",
      "  radical.pilot        : 0.70.0\n",
      "  radical.saga         : 0.70.0\n",
      "  radical.utils        : 0.70.0\n",
      "\n"
     ]
    }
   ],
   "source": [
    "%matplotlib inline\n",
    "import os \n",
    "import radical.analytics as ra\n",
    "import radical.pilot as rp\n",
    "import radical.utils as ru\n",
    "import radical.entk as re\n",
    "#import more_itertools as mit\n",
    "from glob import glob\n",
    "import numpy as np\n",
    "from matplotlib import pyplot as plt\n",
    "from matplotlib import cm\n",
    "import csv\n",
    "import pandas as pd\n",
    "import json\n",
    "from scipy.optimize import curve_fit\n",
    "from scipy import stats\n",
    "from pprint import pprint\n",
    "from sklearn.metrics import r2_score\n",
    "import matplotlib as mpl\n",
    "mpl.rcParams['text.usetex'] = True\n",
    "mpl.rcParams['text.latex.unicode'] = True\n",
    "\n",
    "blues = cm.get_cmap(plt.get_cmap('Blues'))\n",
    "greens = cm.get_cmap(plt.get_cmap('Greens'))\n",
    "reds = cm.get_cmap(plt.get_cmap('Reds'))\n",
    "oranges = cm.get_cmap(plt.get_cmap('Oranges'))\n",
    "purples = cm.get_cmap(plt.get_cmap('Purples'))\n",
    "greys = cm.get_cmap(plt.get_cmap('Greys'))\n",
    "\n",
    "from IPython.core.display import display, HTML\n",
    "display(HTML(\"<style>.container { width:100% !important; }</style>\"))\n",
    "import warnings\n",
    "warnings.filterwarnings('ignore')\n",
    "!radical-stack"
   ]
  },
  {
   "cell_type": "code",
   "execution_count": null,
   "metadata": {
    "ExecuteTime": {
     "end_time": "2019-05-05T15:43:58.077897Z",
     "start_time": "2019-05-05T15:43:58.057197Z"
    }
   },
   "outputs": [],
   "source": [
    "des2_geolocating = pd.DataFrame(columns=['Start','End','Type'])\n",
    "\n",
    "sids = ['../../../paper_data/Design2a/design2a_11k_test5/'] \n",
    "\n",
    "for sid in sids:\n",
    "    #geo_files = glob(sid+'/pilot.0000/unit.00*/geolocate*.csv')\n",
    "    geo_files = glob(sid+'/pilot.0000/unit.00*/ransac*.csv')\n",
    "    for geo_file in geo_files:\n",
    "        Geolocating = pd.read_csv(geo_file)\n",
    "        for index, row in Geolocating.iterrows():\n",
    "            \n",
    "            if row['Image'] == 'configure' or row['Image'] == 'connect' or row['Image'] == 'disconnect' :\n",
    "                skip = True\n",
    "                continue\n",
    "                \n",
    "            else :\n",
    "                try:\n",
    "                    start1  =  row['Start']\n",
    "                    end1    =  row['End'] \n",
    "                    #type1   =  'geo'\n",
    "                    type1 = 'ransac'\n",
    "                    des2_geolocating.loc[len(des2_geolocating)] = [start1,end1,type1]\n",
    "                \n",
    "                except Exception as e:\n",
    "\n",
    "                    print row['Image']\n",
    "                    print (e) \n",
    "\n",
    "\n",
    "\n",
    "#des2_geolocating.to_csv('../Data/design2a_geo_timestamps.csv')\n",
    "#des2_geolocating.to_csv('../Data/design2a_ransac_timestamps.csv')"
   ]
  },
  {
   "cell_type": "code",
   "execution_count": 3,
   "metadata": {},
   "outputs": [],
   "source": [
    "Design3_gpu = pd.read_csv('../Data/design2_geo_timestamps.csv')\n",
    "Design3_cpu = pd.read_csv('../Data/design2_ransac_timestamps.csv')\n",
    "Design3_gpu.drop('Unnamed: 0',axis=1,inplace=True)\n",
    "Design3_cpu.drop('Unnamed: 0',axis=1,inplace=True)"
   ]
  },
  {
   "cell_type": "code",
   "execution_count": null,
   "metadata": {
    "ExecuteTime": {
     "end_time": "2019-05-05T15:43:58.217877Z",
     "start_time": "2019-05-05T15:43:58.081741Z"
    }
   },
   "outputs": [],
   "source": [
    "def utilization(timestamps,util):\n",
    "    \n",
    "    #tile_ids = ['Tile1','Tile2','Tile3','Tile4','Tile5','Tile6','Tile7','Tile8','Tile9','Tile10','Tile11','Tile12']\n",
    "    #pred_ids = ['Pred1','Pred2','Pred3','Pred4','Pred5','Pred6','Pred7','Pred8']\n",
    "    geo_ids = ['geo']\n",
    "    ransac_ids = ['ransac']\n",
    "    cpu_times = list()\n",
    "    gpu_times = list()\n",
    "    cpu_counts = 0\n",
    "    gpu_counts = 0\n",
    "    for index,row in timestamps.iterrows():\n",
    "        if (row['Type'] in ransac_ids) and util =='cpu':\n",
    "            cpu_counts += 1\n",
    "            cpu_times.append(row['Start'])\n",
    "            cpu_times.append(row['End'])\n",
    "        if (row['Type'] in geo_ids) and util =='gpu':\n",
    "            gpu_counts += 1\n",
    "            gpu_times.append(row['Start'])\n",
    "            gpu_times.append(row['End'])\n",
    "    \n",
    "    cpu_times.sort()\n",
    "    gpu_times.sort()\n",
    "    if util=='cpu':\n",
    "        \n",
    "        print 'Times sorted', cpu_counts, len(cpu_times)\n",
    "    else :\n",
    "        print 'Times sorted', gpu_counts, len(gpu_times)\n",
    "    cpu_util = list()\n",
    "    if util == 'cpu':\n",
    "        for t in cpu_times:\n",
    "            cnt = 0\n",
    "            for index,row in timestamps.iterrows():\n",
    "                if row['Type'] in ransac_ids:\n",
    "                    if t >= row['Start'] and t <= row['End']:\n",
    "                        cnt += 1\n",
    "\n",
    "            cpu_util.append([t, cnt])\n",
    "        print 'Cpu ready'\n",
    "        return cpu_util\n",
    "    \n",
    "    if util == 'gpu':\n",
    "        gpu_util = list()\n",
    "        for t in gpu_times:\n",
    "            cnt = 0\n",
    "            for index,row in timestamps.iterrows():\n",
    "                if row['Type'] in geo_ids:\n",
    "                    if t >= row['Start'] and t <= row['End']:\n",
    "                        cnt += 1\n",
    "\n",
    "            gpu_util.append([t, cnt])\n",
    "        print 'Gpu ready'\n",
    "        return gpu_util\n",
    "        \n",
    "    return None"
   ]
  },
  {
   "cell_type": "code",
   "execution_count": null,
   "metadata": {
    "ExecuteTime": {
     "end_time": "2019-05-05T18:20:58.953818Z",
     "start_time": "2019-05-05T15:43:58.221938Z"
    }
   },
   "outputs": [],
   "source": [
    "#Des3CpuUtil = utilization(Design3_cpu,util='cpu')"
   ]
  },
  {
   "cell_type": "code",
   "execution_count": null,
   "metadata": {},
   "outputs": [],
   "source": [
    "#Des3GpuUtil = utilization(Design3_gpu,util='gpu')"
   ]
  },
  {
   "cell_type": "code",
   "execution_count": null,
   "metadata": {},
   "outputs": [],
   "source": [
    "loc = \"/home/aymen/SummerRadical/paper_data/Design1/entk.session-design1-54875/\"\n",
    "src = os.path.dirname(loc)\n",
    "sid = os.path.basename(loc)\n",
    "rp_session = ra.Session(sid=sid, stype='radical.pilot', src=loc)\n",
    "\n",
    "owner='pilot'\n",
    "consumer='unit'\n",
    "resource='cores' #gpus or #cores\n",
    "owner_events=[rp.AGENT_EXECUTING, rp.FINAL]\n",
    "consumer_events=[{ru.EVENT: 'exec_start'}, {ru.EVENT: 'exec_stop' }]\n",
    "\n",
    "ret = dict()\n",
    "\n",
    "# Filter the session to get a session of the owners. If that is empty\n",
    "# return an empty dict\n",
    "\n",
    "relations = rp_session .describe('relations', [owner, consumer])\n",
    "print relations"
   ]
  },
  {
   "cell_type": "code",
   "execution_count": null,
   "metadata": {},
   "outputs": [],
   "source": [
    "## Resource utilization function from Radical Pilot for Design 1\n",
    "\n",
    "loc = \"/home/aymen/SummerRadical/paper_data/Design1/entk.session-design1-54875/\"\n",
    "src = os.path.dirname(loc)\n",
    "sid = os.path.basename(loc)\n",
    "rp_session = ra.Session(sid=sid, stype='radical.pilot', src=loc)\n",
    "\n",
    "owner='pilot'\n",
    "consumer='unit'\n",
    "resource='cores' #gpus or #cores\n",
    "owner_events=[rp.AGENT_EXECUTING, rp.FINAL]\n",
    "consumer_events=[{ru.EVENT: 'exec_start'}, {ru.EVENT: 'exec_stop' }]\n",
    "\n",
    "ret = dict()\n",
    "\n",
    "# Filter the session to get a session of the owners. If that is empty\n",
    "# return an empty dict\n",
    "\n",
    "relations = rp_session .describe('relations', [owner, consumer])\n",
    "if not relations:\n",
    "    print dict()\n",
    "\n",
    "owners = rp_session.filter(etype=owner, inplace=False)\n",
    "if not owners:\n",
    "    print dict()\n",
    "\n",
    "# Filter the rp_session to get the consumers. If none are found, return an\n",
    "# empty dict.\n",
    "#\n",
    "# FIXME: this should return an dict with zero utilization over the full\n",
    "#        time range the resource exist.\n",
    "#\n",
    "for o in owners.get():\n",
    "    owner_id        = o.uid\n",
    "    owner_resources = o.description.get(resource)\n",
    "    owner_range     = o.ranges(event=owner_events)\n",
    "\n",
    "    consumers = rp_session.filter(etype=consumer, uid=relations[owner_id],\n",
    "                            inplace=False)\n",
    "    if not consumers:\n",
    "        util = [0]\n",
    "\n",
    "    else:\n",
    "        # Go through the consumer entities and create two dictionaries.\n",
    "        # The first keeps track of how many resources each consumer\n",
    "        # consumes, and the second has the ranges based on the events.\n",
    "        consumer_resources = dict()\n",
    "        consumer_ranges    = dict()\n",
    "\n",
    "        for c in consumers.get():\n",
    "            \n",
    "            if c.uid == 'unit.000000': #skipping the first unit because unit.00000 is only for image discovery\n",
    "                #skip = True\n",
    "                continue\n",
    "            \n",
    "            else:\n",
    "            \n",
    "\n",
    "                ranges  = c.ranges(event=consumer_events)\n",
    "                cons_id = c.uid\n",
    "\n",
    "                consumer_nodes = consumer_entity.cfg.get('slots').get('nodes')\n",
    "                resources_acquired = 0\n",
    "                if resource == 'cores':\n",
    "                    for node in consumer_nodes:\n",
    "                        for cores_map in node['core_map']:\n",
    "                            resources_acquired += len(cores_map)\n",
    "                elif resource == 'gpus':\n",
    "                    for node in consumer_nodes:\n",
    "                        for gpu_map in node['gpu_map']:\n",
    "                            resources_acquired += len(gpu_map)\n",
    "                else:\n",
    "                    raise ValueError('Utilization for resource not supported')\n",
    "               \n",
    "                #resources_acquired = 0\n",
    "                #if resource == 'cores':\n",
    "                #    cores   = c.description['cpu_processes'] * \\\n",
    "                #              c.description['cpu_threads']\n",
    "                #    resources_acquired += cores\n",
    "                #elif resource == 'gpus':\n",
    "                #    gpus    = c.description['gpu_processes']\n",
    "                #    resources_acquired += len(range(gpus))\n",
    "                #else:\n",
    "                #    raise ValueError('unsupported utilization resource')\n",
    "\n",
    "                consumer_resources[cons_id] = resources_acquired\n",
    "\n",
    "                # Update consumer_ranges if there is at least one range\n",
    "                if ranges:\n",
    "                    consumer_ranges.update({cons_id: ranges})\n",
    "\n",
    "\n",
    "        # Sort consumer_ranges based on their values. This command\n",
    "        # returns a dictionary, which is sorted based on the first value\n",
    "        # of each entry. In the end the key, are out of order but the\n",
    "        # values are.\n",
    "        consumer_ranges = sorted(iter(list(consumer_ranges.items())),\n",
    "                                 key=lambda k_v: (k_v[1][0],k_v[0]))\n",
    "\n",
    "        # Create a timeseries that contains all moments in consumer\n",
    "        # ranges and sort. This way we have a list that has time any\n",
    "        # change has happened.\n",
    "        times = list()\n",
    "        for cons_id,ranges in consumer_ranges:\n",
    "            for r in ranges:\n",
    "                times.append(r[0])\n",
    "                times.append(r[1])\n",
    "        times.sort()\n",
    "\n",
    "        # we have the time sequence, now compute utilization\n",
    "        # at those points\n",
    "        util = list()\n",
    "        for t in times:\n",
    "            cnt = 0\n",
    "            for cons_id,ranges in consumer_ranges:\n",
    "                for r in ranges:\n",
    "                    if t >= r[0] and t <= r[1]:\n",
    "                        cnt += consumer_resources[cons_id]\n",
    "\n",
    "            util.append([t, cnt])\n",
    "\n",
    "    ret[owner_id] = {'range'      : owner_range,\n",
    "                     'resources'  : owner_resources,\n",
    "                     'utilization': util}\n",
    "np_array = np.array(ret['pilot.0000']['utilization'])\n",
    "\n",
    "if resource == 'cores':\n",
    "    \n",
    "    np.save('../Data/Design1CPUutil.npy', np_array) \n",
    "else :\n",
    "    np.save('../Data/Design1GPUutil.npy', np_array) "
   ]
  },
  {
   "cell_type": "code",
   "execution_count": 94,
   "metadata": {
    "ExecuteTime": {
     "end_time": "2019-05-05T18:20:58.964997Z",
     "start_time": "2019-05-05T18:20:58.957538Z"
    }
   },
   "outputs": [],
   "source": [
    "Design1CpuUtil = np.load('../Data/Design1CPUutil_old.npy')\n",
    "Design1GpuUtil = np.load('../Data/Design1GPUutil.npy')\n",
    "\n",
    "Design3CpuUtil = np.load('../Data/Des3CpuUtil.npy')\n",
    "Design3GpuUtil = np.load('../Data/Des3GpuUtil.npy')"
   ]
  },
  {
   "cell_type": "code",
   "execution_count": 95,
   "metadata": {
    "ExecuteTime": {
     "end_time": "2019-05-05T18:20:59.089135Z",
     "start_time": "2019-05-05T18:20:58.968254Z"
    }
   },
   "outputs": [],
   "source": [
    "Des3GpuUtil = np.array(Design3GpuUtil)\n",
    "Des3CpuUtil = np.array(Design3CpuUtil)"
   ]
  },
  {
   "cell_type": "code",
   "execution_count": null,
   "metadata": {
    "ExecuteTime": {
     "end_time": "2019-05-06T00:32:11.522774Z",
     "start_time": "2019-05-06T00:32:11.396857Z"
    }
   },
   "outputs": [],
   "source": [
    "#np.save('../Data/Des3CpuUtil',Des3CpuUtil)\n",
    "#np.save('../Data/Des3GpuUtil',Des3GpuUtil)"
   ]
  },
  {
   "cell_type": "code",
   "execution_count": 84,
   "metadata": {},
   "outputs": [
    {
     "name": "stdout",
     "output_type": "stream",
     "text": [
      "791072046.5577865 16474.803486749766\n"
     ]
    }
   ],
   "source": [
    "print Design1CpuUtil.mean(), Design1GpuUtil.mean()"
   ]
  },
  {
   "cell_type": "code",
   "execution_count": 96,
   "metadata": {},
   "outputs": [
    {
     "name": "stdout",
     "output_type": "stream",
     "text": [
      "18111.256728887558\n"
     ]
    }
   ],
   "source": [
    "stime_des1_cpu = Design1CpuUtil[0][0] \n",
    "print(stime_des1_cpu)\n",
    "for i in range(len(Design1CpuUtil)):\n",
    "    tt_c = Design1CpuUtil[i][0] - stime_des1_cpu\n",
    "    Design1CpuUtil[i][0] = tt_c"
   ]
  },
  {
   "cell_type": "code",
   "execution_count": 86,
   "metadata": {},
   "outputs": [
    {
     "name": "stdout",
     "output_type": "stream",
     "text": [
      "112.32961297035217\n"
     ]
    }
   ],
   "source": [
    "stime_des1_gpu = Design1GpuUtil[0][0] \n",
    "print(stime_des1_gpu)\n",
    "for i in range(len(Design1GpuUtil)):\n",
    "    tt_g = Design1GpuUtil[i][0] - stime_des1_gpu\n",
    "    Design1GpuUtil[i][0] = tt_g"
   ]
  },
  {
   "cell_type": "code",
   "execution_count": 248,
   "metadata": {},
   "outputs": [
    {
     "data": {
      "text/plain": [
       "(array([112.32961297,   0.        ]), array([0., 1.]))"
      ]
     },
     "execution_count": 248,
     "metadata": {},
     "output_type": "execute_result"
    }
   ],
   "source": [
    "Design1GpuUtil[0][:3],Design1CpuUtil[0][:3] "
   ]
  },
  {
   "cell_type": "code",
   "execution_count": 255,
   "metadata": {
    "ExecuteTime": {
     "end_time": "2019-05-05T18:20:59.797969Z",
     "start_time": "2019-05-05T18:20:59.300581Z"
    }
   },
   "outputs": [
    {
     "data": {
      "image/png": "[encoded data removed]",
      "text/plain": [
       "<matplotlib.figure.Figure at 0x7fdb1486b9d0>"
      ]
     },
     "metadata": {},
     "output_type": "display_data"
    }
   ],
   "source": [
    "t = 35000\n",
    "#fig,axis = plt.subplots(nrows=1,ncols=1,figsize=(19,9),sharex=True)\n",
    "fig,axis = plt.subplots(nrows=1,ncols=1,figsize=(9,5),sharex=True)\n",
    "\n",
    "#_ = axis.plot(Design1GpuUtil[:,0]-17500,(((Design1GpuUtil[:,1]-1)/128.0)/1)*100,marker='',linestyle='-',linewidth=3, label='CPU Utilization', color=blues(150))\n",
    "#_ = axis.plot(Design1GpuUtil[:,0]-17500,(((Design1GpuUtil[:,1])/8.0)/1)*100,marker='',linestyle='-',linewidth=3, label='GPU Utilization', color=reds(150))\n",
    "\n",
    "\n",
    "_ = axis.plot(Design1GpuUtil[:,0]-17500,(((Design1GpuUtil[:,1])/128.0)/1)*100,marker='',linestyle='-',linewidth=3, label='CPU Utilization', color=blues(150))\n",
    "_ = axis.plot(Design1GpuUtil[:,0]-17500,(((Design1GpuUtil[:,1])/8.0)/1)*100,marker='',linestyle='-',linewidth=3, label='GPU Utilization', color=reds(150))\n",
    "\n",
    "#_ = axis.plot(Design1GpuUtil[:,0]*-1-17450,(((Design1GpuUtil[:,1])/128.0)/1)*100,marker='',linewidth=3,linestyle='-', label='CPU Utilization', color=blues(150)) Ssecond Option\n",
    "#_ = axis.plot(Design1GpuUtil[:,0]*-1-17500,(((Design1GpuUtil[:,1])/8.0)/1)*100,marker='',linewidth=3,linestyle='-', label='GPU Utilization', color=reds(150)) Second Option\n",
    "\n",
    "#_ = axis.plot(Design1CpuUtil[:,0]-16475,(((Design1CpuUtil[:,1]*2)/128.0)/1)*100,marker='',linestyle='-', label='CPU Utilization', color=blues(150))\n",
    "#_ = axis.plot(Design1GpuUtil[:,0]-16475,(((Design1GpuUtil[:,1])/8.0)/1)*100,marker='',linestyle='-', label='CPU Utilization', color=reds(150))\n",
    "\n",
    "#_ = axis.plot(Design1CpuUtil[:,0],(((Design1CpuUtil[:,1])/128.0)/1)*100,marker='',linestyle='-', label='CPU Utilization', color=blues(150))\n",
    "#_ = axis.plot(Design1GpuUtil[:,0]-16475,(((Design1GpuUtil[:,1])/8.0)/1)*100,marker='',linestyle='-', label='CPU Utilization', color=reds(150))\n",
    "\n",
    "\n",
    "_ = axis.set_ylabel('Percentage of Resources Used',fontsize=25)\n",
    "_ = axis.set_xlabel('Time in seconds',fontsize=25)\n",
    "_ = axis.grid('on')\n",
    "#axis.set_yscale('log')\n",
    "_ = axis.legend(fontsize=18)\n",
    "#_ = axis.set_xlim(-46000,-15000)\n",
    "_ = axis.set_xlim(0,12500)\n",
    "\n",
    "#_ = axis.set_ylim(1,10)\n",
    "#axis.set_xticklabels(['0','1000','2500', '5000', '7500', '10000', '12500'],fontsize=24)\n",
    "_ = axis.set_xticklabels(axis.get_xticks().astype('int').tolist()*0+['0','0','1000','2500', '5000', '7500', '10000', '12500'],fontsize=26)\n",
    "#_ = axis.set_xticklabels(axis.get_xticks().astype('int').tolist(),fontsize=22)\n",
    "_ = axis.set_yticklabels(axis.get_yticks().tolist(),fontsize=24)\n",
    "#_ = axis.set_title('Resource Utilization over time for Desing 1')\n",
    "\n",
    "#fig.savefig('../Data/geo_Design1Utilization.pdf',dpi=800,bbox_inches='tight')"
   ]
  },
  {
   "cell_type": "code",
   "execution_count": 173,
   "metadata": {},
   "outputs": [
    {
     "data": {
      "text/plain": [
       "[-20, 0, 20, 40, 60, 80, 100, 120]"
      ]
     },
     "execution_count": 173,
     "metadata": {},
     "output_type": "execute_result"
    }
   ],
   "source": [
    "axis.get_yticks().astype('int').tolist()"
   ]
  },
  {
   "cell_type": "code",
   "execution_count": 23,
   "metadata": {
    "ExecuteTime": {
     "end_time": "2019-05-05T18:20:59.836146Z",
     "start_time": "2019-05-05T18:20:59.802235Z"
    }
   },
   "outputs": [],
   "source": [
    "Des3CpuUtil = Des3CpuUtil\n",
    "for tick in Des3GpuUtil[Des3GpuUtil[:,0] > Des3CpuUtil[:,0].max()][:,0]:\n",
    "    Des3CpuUtil = np.vstack((Des3CpuUtil,[tick,0]))"
   ]
  },
  {
   "cell_type": "code",
   "execution_count": null,
   "metadata": {},
   "outputs": [],
   "source": [
    "Des3GpuUtil.shape"
   ]
  },
  {
   "cell_type": "code",
   "execution_count": 74,
   "metadata": {
    "ExecuteTime": {
     "end_time": "2019-05-05T18:21:00.763752Z",
     "start_time": "2019-05-05T18:20:59.839799Z"
    }
   },
   "outputs": [
    {
     "data": {
      "image/png": "[encoded data removed]",
      "text/plain": [
       "<matplotlib.figure.Figure at 0x7fdb144527d0>"
      ]
     },
     "metadata": {},
     "output_type": "display_data"
    }
   ],
   "source": [
    "t= 160000\n",
    "fig,axis = plt.subplots(nrows=1,ncols=1,figsize=(9,5),sharex=True)\n",
    "_ = axis.plot(Des3CpuUtil[:,0]-13250,((Des3CpuUtil[:,1])/128.0)*100,marker='',linestyle='-',linewidth=3, label='CPU Utilization', color=blues(150))\n",
    "_ = axis.plot(Des3GpuUtil[:,0]-13250,(Des3GpuUtil[:,1]/8.0)*100,marker='',linestyle='-',  linewidth=3, label='GPU Utilization', color=reds(150))\n",
    "_ = axis.set_ylabel('Percentage of Resources Used',fontsize=25)\n",
    "_ = axis.set_xlabel('Time in seconds',fontsize=25)\n",
    "_ = axis.grid('on')\n",
    "\n",
    "#_ = axis.set_xlim(1581713100,1581720500)\n",
    "#_ = axis.set_xlim(1581713100,1581720500)\n",
    "#_ = axis.set_ylim(1,10)\n",
    "\n",
    "_ = axis.set_yticklabels(axis.get_yticks().astype('int').tolist(),fontsize=24)\n",
    "\n",
    "#axis.set_xticklabels(['0', '2500', '5000', '7500', '10000', '12500'],fontsize=22)\n",
    "#_ = axis.set_xticks([0,2500,7500,10000,12500])\n",
    "_ = axis.legend(fontsize=18)\n",
    "_ = axis.set_xticklabels(axis.get_xticks().astype('int').tolist()*0+['0','0', '1000','2500', '5000', '7500', '10000', '12500','15000'],fontsize=24)\n",
    "\n",
    "#_ = axis.set_title('Resource Utilization over time Design 2', fontsize=16)\n",
    "fig.savefig('../Data/geo_Design2Utilization.pdf',dpi=800,bbox_inches='tight')"
   ]
  },
  {
   "cell_type": "code",
   "execution_count": 130,
   "metadata": {},
   "outputs": [
    {
     "data": {
      "text/plain": [
       "array([1581713000, 1581714000, 1581715000, 1581716000, 1581717000,\n",
       "       1581718000, 1581719000, 1581720000, 1581721000, 1581722000])"
      ]
     },
     "execution_count": 130,
     "metadata": {},
     "output_type": "execute_result"
    }
   ],
   "source": [
    "axis.get_xticks().astype('int')"
   ]
  },
  {
   "cell_type": "code",
   "execution_count": 25,
   "metadata": {},
   "outputs": [],
   "source": [
    "Design2a_gpu = pd.read_csv('../Data/design2a_geo_timestamps.csv')\n",
    "Design2a_cpu = pd.read_csv('../Data/design2a_ransac_timestamps.csv')\n",
    "Design2a_gpu.drop('Unnamed: 0',axis=1,inplace=True)\n",
    "Design2a_cpu.drop('Unnamed: 0',axis=1,inplace=True)"
   ]
  },
  {
   "cell_type": "code",
   "execution_count": null,
   "metadata": {},
   "outputs": [],
   "source": [
    "#Des2aCpuUtil = utilization(Design2a_cpu,util='cpu')"
   ]
  },
  {
   "cell_type": "code",
   "execution_count": null,
   "metadata": {},
   "outputs": [],
   "source": [
    "Des2aGpuUtil = utilization(Design2a_gpu,util='gpu')"
   ]
  },
  {
   "cell_type": "code",
   "execution_count": null,
   "metadata": {},
   "outputs": [],
   "source": [
    "Des2aGpuUtil = np.array(Des2aGpuUtil)\n",
    "#Des2aCpuUtil = np.array(Des2aCpuUtil)"
   ]
  },
  {
   "cell_type": "code",
   "execution_count": null,
   "metadata": {},
   "outputs": [],
   "source": [
    "#np.save('../Data/Des2aCpuUtil',Des2aCpuUtil)\n",
    "np.save('../Data/Des2aGpuUtil',Des2aGpuUtil)"
   ]
  },
  {
   "cell_type": "code",
   "execution_count": 26,
   "metadata": {},
   "outputs": [],
   "source": [
    "Design2aCpuUtil = np.load('../Data/Des2aCpuUtil.npy')\n",
    "Design2aGpuUtil = np.load('../Data/Des2aGpuUtil.npy')"
   ]
  },
  {
   "cell_type": "code",
   "execution_count": 27,
   "metadata": {},
   "outputs": [],
   "source": [
    "Des2aCpuUtil = Design2aCpuUtil\n",
    "Des2aGpuUtil = Design2aGpuUtil\n",
    "for tick in Des2aGpuUtil[Des2aGpuUtil[:,0] > Des2aCpuUtil[:,0].max()][:,0]:\n",
    "    Des2aCpuUtil = np.vstack((Des2aCpuUtil,[tick,0]))"
   ]
  },
  {
   "cell_type": "code",
   "execution_count": 79,
   "metadata": {},
   "outputs": [
    {
     "data": {
      "image/png": "[encoded data removed]",
      "text/plain": [
       "<matplotlib.figure.Figure at 0x7fdb13a43c50>"
      ]
     },
     "metadata": {},
     "output_type": "display_data"
    }
   ],
   "source": [
    "#t = 8500\n",
    "fig,axis = plt.subplots(nrows=1,ncols=1,figsize=(9,5),sharex=True)\n",
    "_ = axis.plot(Design2aCpuUtil[:,0],(((Design2aCpuUtil[:,1]*2.5)/128.0))*100,marker='',linestyle='-',linewidth=3, label='CPU Utilization', color=blues(150))\n",
    "_ = axis.plot(Design2aGpuUtil[:,0],(Design2aGpuUtil[:,1]*2/8.0)*100,marker='',linestyle='-',linewidth=3, label='GPU Utilization', color=reds(150))\n",
    "_ = axis.set_ylabel('Percentage of Resources Used',fontsize=25)\n",
    "_ = axis.set_xlabel('Time in seconds',fontsize=25)\n",
    "_ = axis.grid('on')\n",
    "_ = axis.legend(fontsize=18)\n",
    "\n",
    "#_ = axis.set_xticklabels(axis.get_xticks().astype('int').tolist(),fontsize=22)\n",
    "axis.set_xticklabels(['0','0', '1000','2500', '5000', '7500', '10000', '12500','13500'],fontsize=24)\n",
    "_ = axis.set_yticklabels(axis.get_yticks().astype('int').tolist(),fontsize=24)\n",
    "#_ = axis.set_title('Resource Utilization over time for Desing 1', fontsize=22)\n",
    "fig.savefig('../Data/geo_Design2aUtilization.pdf',dpi=800,bbox_inches='tight')"
   ]
  },
  {
   "cell_type": "code",
   "execution_count": 97,
   "metadata": {},
   "outputs": [
    {
     "data": {
      "image/png": "[encoded data removed]",
      "text/plain": [
       "<matplotlib.figure.Figure at 0x7fbcd47c9390>"
      ]
     },
     "metadata": {},
     "output_type": "display_data"
    }
   ],
   "source": [
    "fig,axis = plt.subplots(nrows=1,ncols=3,figsize=(22,5.2),gridspec_kw={'wspace':0.12, 'hspace':0.02})\n",
    "\n",
    "_ = axis[2].plot(Design2aCpuUtil[:,0],(((Design2aCpuUtil[:,1]*2.5)/128.0))*100,marker='',linestyle='-',linewidth=3, label='CPU Utilization', color=blues(150))\n",
    "_ = axis[2].plot(Design2aGpuUtil[:,0],(Design2aGpuUtil[:,1]*2/8.0)*100,marker='',linestyle='-',        linewidth=3, label='GPU Utilization', color=reds(150))\n",
    "\n",
    "#_ = axis[2].plot(Design2aCpuUtil[:,0],(Design2aCpuUtil[:,1]/120)*100,marker='',linestyle='-',linewidth=3, label='CPU Utilization', color=blues(150))\n",
    "#_ = axis[2].plot(Design2aGpuUtil[:,0],(Design2aGpuUtil[:,1]/8)*100,marker='',linestyle='-',linewidth=3, label='GPU Utilization', color=reds(150))\n",
    "\n",
    "\n",
    "_ = axis[1].plot(Des3CpuUtil[:,0],(Des3CpuUtil[:,1]/128.0)*100,marker='',linestyle='-',linewidth=3, label='CPU Utilization', color=blues(150))\n",
    "_ = axis[1].plot(Des3GpuUtil[:,0],(Des3GpuUtil[:,1]/8.0)*100,marker='',linestyle='-',  linewidth=3, label='GPU Utilization', color=reds(150))\n",
    "\n",
    "#_ = axis[1].plot(Design2CpuUtil[:,0],(Design2CpuUtil[:,1]/120)*100,marker='',linestyle='-',linewidth=3, label='CPU Utilization', color=blues(150))\n",
    "#_ = axis[1].plot(Design2GpuUtil[:,0],(Design2GpuUtil[:,1]/8)*100,marker='',linestyle='-',linewidth=3, label='GPU Utilization', color=reds(150))\n",
    "\n",
    "\n",
    "#_ = axis[0].plot(Design1CpuUtil[:,0],(((Design1CpuUtil[:,1]-Design1GpuUtil[:,1])/10)/120)*100,marker='',linestyle='-',linewidth=3, label='CPU Utilization', color=blues(150))\n",
    "#_ = axis[0].plot(Design1GpuUtil[:,0],(Design1GpuUtil[:,1]/8)*100,marker='',linestyle='-',linewidth=3, label='GPU Utilization', color=reds(150))\n",
    "\n",
    "_ = axis[0].plot(Design1CpuUtil[:,0]+550,(((Design1CpuUtil[:,1])/128.0)/1)*100,marker='',linestyle='-',linewidth=3, label='CPU Utilization', color=blues(150))\n",
    "_ = axis[0].plot(Design1GpuUtil[:,0]-17500,(((Design1GpuUtil[:,1])/8.0)/1)*100,marker='',linestyle='-',linewidth=3, label='CPU Utilization', color=reds(150))\n",
    "_ = axis[0].set_xlim(0,30000)\n",
    "\n",
    "_ = axis[0].set_ylabel('Percentage of Resources Used',fontsize=25)\n",
    "_ = axis[1].set_ylabel('Percentage of Resources Used',fontsize=25)\n",
    "_ = axis[2].set_ylabel('Percentage of Resources Used',fontsize=25)\n",
    "\n",
    "_ = axis[0].set_xlabel('Time in seconds',fontsize=18)\n",
    "_ = axis[0].grid('on')\n",
    "_ = axis[1].set_xlabel('Time in seconds',fontsize=18)\n",
    "_ = axis[1].grid('on')\n",
    "_ = axis[2].set_xlabel('Time in seconds',fontsize=18)\n",
    "_ = axis[2].grid('on')\n",
    "\n",
    "_ = axis[0].set_xticks([0,5000,10000,15000,20000,25000,30000,35000])\n",
    "_ = axis[1].set_xticklabels(axis[0].get_xticks().astype('int').tolist()*0+['0','0', '5000', '10000', '15000', '20000', '25000', '30000', '35000'],fontsize=18)\n",
    "_ = axis[2].set_xticklabels(axis[0].get_xticks().astype('int').tolist()*0+['0','0', '5000', '10000', '15000', '20000', '25000', '30000', '35000'],fontsize=18)\n",
    "\n",
    "_ = axis[0].set_xticklabels(axis[0].get_xticks().astype('int').tolist(),fontsize=18)\n",
    "_ = axis[0].set_yticklabels(axis[0].get_yticks().astype('int').tolist(),fontsize=18)\n",
    "_ = axis[0].set_title('Resource Utilization over time Design 1', fontsize=20)\n",
    "#_ = axis[1].set_xticklabels(axis[1].get_xticks().astype('int').tolist(),fontsize=18)\n",
    "_ = axis[1].set_title('Resource Utilization over time Design 2', fontsize=20)\n",
    "#_ = axis[2].set_xticklabels(axis[2].get_xticks().astype('int').tolist(),fontsize=18)\n",
    "_ = axis[2].set_title('Resource Utilization over time Design 2A', fontsize=20)\n",
    "_ = axis[1].legend(fontsize=18,loc = 'lower center', bbox_to_anchor = (0,-0.35,1,1), ncol=2, borderaxespad=0.)\n",
    "fig.subplots_adjust(bottom=0.25, right = 1, left = 0.05, hspace = 0, wspace = 0)\n",
    "# fig.savefig('utilizations.pdf',dpi=800,pad_inches = 0)"
   ]
  }
 ],
 "metadata": {
  "hide_input": false,
  "kernelspec": {
   "display_name": "Python 2",
   "language": "python",
   "name": "python2"
  },
  "language_info": {
   "codemirror_mode": {
    "name": "ipython",
    "version": 2
   },
   "file_extension": ".py",
   "mimetype": "text/x-python",
   "name": "python",
   "nbconvert_exporter": "python",
   "pygments_lexer": "ipython2",
   "version": "2.7.14"
  },
  "latex_envs": {
   "LaTeX_envs_menu_present": true,
   "autoclose": false,
   "autocomplete": true,
   "bibliofile": "biblio.bib",
   "cite_by": "apalike",
   "current_citInitial": 1,
   "eqLabelWithNumbers": true,
   "eqNumInitial": 1,
   "hotkeys": {
    "equation": "Ctrl-E",
    "itemize": "Ctrl-I"
   },
   "labels_anchors": false,
   "latex_user_defs": false,
   "report_style_numbering": false,
   "user_envs_cfg": false
  },
  "varInspector": {
   "cols": {
    "lenName": 16,
    "lenType": 16,
    "lenVar": 40
   },
   "kernels_config": {
    "python": {
     "delete_cmd_postfix": "",
     "delete_cmd_prefix": "del ",
     "library": "var_list.py",
     "varRefreshCmd": "print(var_dic_list())"
    },
    "r": {
     "delete_cmd_postfix": ") ",
     "delete_cmd_prefix": "rm(",
     "library": "var_list.r",
     "varRefreshCmd": "cat(var_dic_list()) "
    }
   },
   "types_to_exclude": [
    "module",
    "function",
    "builtin_function_or_method",
    "instance",
    "_Feature"
   ],
   "window_display": false
  }
 },
 "nbformat": 4,
 "nbformat_minor": 2
}
