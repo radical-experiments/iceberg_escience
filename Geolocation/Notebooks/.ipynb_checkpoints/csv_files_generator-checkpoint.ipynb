{
 "cells": [
  {
   "cell_type": "markdown",
   "metadata": {},
   "source": [
    "# This NoteBook is for the GEOLOCATION to generate CSVs from RP sessions based on predefined events "
   ]
  },
  {
   "cell_type": "code",
   "execution_count": 14,
   "metadata": {},
   "outputs": [
    {
     "name": "stdout",
     "output_type": "stream",
     "text": [
      "/opt/anaconda2/lib/python2.7/site-packages/radical/pilot\n",
      "/opt/anaconda2/lib/python2.7/site-packages/radical/utils\n",
      "/opt/anaconda2/lib/python2.7/site-packages/radical/entk\n",
      "/opt/anaconda2/lib/python2.7/site-packages/radical/saga\n",
      "/opt/anaconda2/lib/python2.7/site-packages/radical/analytics\n",
      "\n",
      "  python               : 2.7.14\n",
      "  pythonpath           : \n",
      "  virtualenv           : /home/aymen/jupyter\n",
      "\n",
      "  radical.analytics    : 0.70.0\n",
      "  radical.entk         : 0.70.0\n",
      "  radical.pilot        : 0.70.0\n",
      "  radical.saga         : 0.70.0\n",
      "  radical.utils        : 0.70.0\n",
      "\n"
     ]
    }
   ],
   "source": [
    "import os\n",
    "import sys\n",
    "import pprint\n",
    "import csv\n",
    "import pandas as pd\n",
    "import numpy as np\n",
    "import matplotlib\n",
    "import matplotlib.pyplot as plt\n",
    "import radical.entk as re\n",
    "import radical.utils     as ru\n",
    "import radical.analytics as ra\n",
    "import radical.pilot as rp\n",
    "from random import randint\n",
    "import random\n",
    "!radical-stack\n"
   ]
  },
  {
   "cell_type": "markdown",
   "metadata": {},
   "source": [
    "# This will not work with Design2 (only Design1)"
   ]
  },
  {
   "cell_type": "code",
   "execution_count": 2,
   "metadata": {},
   "outputs": [],
   "source": [
    "loc = \"/home/aymen/SummerRadical/paper_data/Design1/entk.session-design1-54875/\"\n",
    "src = os.path.dirname(loc)\n",
    "sid = os.path.basename(loc)\n",
    "session = ra.Session(sid=sid, stype='radical.pilot', src=loc)\n",
    "event_entity = 'unit'\n",
    "units = session.filter(etype=event_entity, inplace=True) \n",
    "dataframe=pd.DataFrame(columns=['ImageName1','ImageName2','ImageSize1','ImageSize2','TTX','UnitID'])\n",
    "dataframe2=pd.DataFrame(columns=['ImageName1','ImageName2','ImageSize1','ImageSize2','TTX','UnitID'])\n",
    "durations = []\n",
    "for unit in units.get():\n",
    "        \n",
    "        if unit.uid == 'unit.000000': #skipping the first unit because unit.00000 is only for image discovery\n",
    "            skip = True\n",
    "            continue\n",
    "            \n",
    "        else:\n",
    "            \n",
    "            exec_duration = unit.duration(event=[{ru.EVENT: 'exec_start'},\n",
    "                                                 {ru.EVENT: 'exec_stop'}])\n",
    "            \n",
    "            durations.append(exec_duration)\n",
    "            cu_dur = sum(durations) / len(durations)\n",
    "            \n",
    "            myfilepath = '/home/aymen/SummerRadical/iceberg_escience/Geolocation/Data/Geolocation_Image_pairs.csv'\n",
    "                            \n",
    "            with open(myfilepath) as f:\n",
    "                reader = csv.reader(f) \n",
    "                next(reader) # skip header\n",
    "                data = []\n",
    "                for row in reader:\n",
    "                    data.append(row)\n",
    "\n",
    "                    if (unit.description[\"name\"][11:17]) == (\"RANSAC\"):\n",
    "\n",
    "                        if (row[0] == unit.description[\"arguments\"][2]) and row[1] == unit.description[\"arguments\"][6]:\n",
    "\n",
    "\n",
    "\n",
    "                            try:\n",
    "                                  session_data = {\n",
    "                                                        'ImageName1'      : row[0],\n",
    "                                                        'ImageName2'      : row[1],\n",
    "                                                        'ImageSize1'      : row[2],\n",
    "                                                        'ImageSize2'      : row[3],\n",
    "                                                        'TTX'             : exec_duration,\n",
    "                                                        'UnitID'          : unit.uid[5:]\n",
    "                                                }\n",
    "\n",
    "                            except Exception as e:\n",
    "                                                print e\n",
    "                                                session_data = {\n",
    "                                                         'ImageName'       : row[0],\n",
    "                                                         'ImageName2'      : row[1],\n",
    "                                                         'ImageSize'       : row[2],\n",
    "                                                         'ImageSize2'      : row[3],\n",
    "                                                         'TTX'             : exec_duration,\n",
    "                                                         'UnitID'          : unit.uid[5:]\n",
    "                                                               }\n",
    "\n",
    "\n",
    "                            dataframe =  dataframe.append(session_data, ignore_index=True)\n",
    "                            dataframe.to_csv('/home/aymen/SummerRadical/iceberg_escience/Geolocation/Data/units_durations_satge1.csv',index=False)\n",
    "                            \n",
    "                        else :\n",
    "                            pass\n",
    "                        \n",
    "                    else:\n",
    "                        \n",
    "                        if (row[0] == unit.description[\"arguments\"][0]) and row[1] == unit.description[\"arguments\"][5]:\n",
    "                            try:\n",
    "                                      session_data = {\n",
    "                                                            'ImageName1'      : row[0],\n",
    "                                                            'ImageName2'      : row[1],\n",
    "                                                            'ImageSize1'      : row[2],\n",
    "                                                            'ImageSize2'      : row[3],\n",
    "                                                            'TTX'             : exec_duration,\n",
    "                                                            'UnitID'          : unit.uid[5:]\n",
    "                                                    }\n",
    "\n",
    "                            except Exception as e:\n",
    "                                                    print e\n",
    "                                                    session_data = {\n",
    "                                                             'ImageName1'      : row[0],\n",
    "                                                             'ImageName2'      : row[1],\n",
    "                                                             'ImageSize1'      : row[2],\n",
    "                                                             'ImageSize2'      : row[3],\n",
    "                                                             'TTX'             : exec_duration,\n",
    "                                                             'UnitID'          : unit.uid[5:]\n",
    "                                                                   }\n",
    "\n",
    "\n",
    "                            dataframe2 =  dataframe2.append(session_data, ignore_index=True)\n",
    "                            dataframe2.to_csv('/home/aymen/SummerRadical/iceberg_escience/Geolocation/Data/units_durations_satge0.csv',index=False)\n",
    "                        else:\n",
    "                            pass\n",
    "    "
   ]
  },
  {
   "cell_type": "code",
   "execution_count": null,
   "metadata": {},
   "outputs": [],
   "source": [
    "loc = \"/home/aymen/SummerRadical/paper_data/Design1/entk.session-design1-54875/\"\n",
    "src = os.path.dirname(loc)\n",
    "sid = os.path.basename(loc)\n",
    "rp_session = ra.Session(stype='radical.pilot', src=src)# RP session\n",
    "rp_pilots = rp_session.filter(etype='pilot', inplace=False)\n",
    "pilot_duration = rp_pilots.duration([rp.PMGR_ACTIVE, rp.FINAL])\n",
    "rp_units = rp_session.filter(etype='unit', inplace=False)\n",
    "durations = []\n",
    "exec_duration = rp_units.duration(event=[{ru.EVENT: 'exec_start'}, {ru.EVENT: 'exec_stop'}])"
   ]
  },
  {
   "cell_type": "code",
   "execution_count": 12,
   "metadata": {},
   "outputs": [
    {
     "name": "stdout",
     "output_type": "stream",
     "text": [
      "850.095200062\n",
      "98.8671739101\n",
      "974.285998821\n",
      "[98.86717391014099, 974.2859988212585]\n",
      "875.418824911\n"
     ]
    }
   ],
   "source": [
    "for unit in rp_units.get():\n",
    "    \n",
    "    if (unit.uid == 'unit.000000'):\n",
    "        \n",
    "            print(unit.duration(event=[{ru.EVENT: 'exec_start'}, {ru.EVENT: 'exec_stop'}]))\n",
    "            print unit.t_start\n",
    "            print unit.t_stop\n",
    "            print unit.t_range\n",
    "            print unit.ttc"
   ]
  },
  {
   "cell_type": "code",
   "execution_count": 49,
   "metadata": {},
   "outputs": [
    {
     "data": {
      "text/plain": [
       "0"
      ]
     },
     "execution_count": 49,
     "metadata": {},
     "output_type": "execute_result"
    }
   ],
   "source": [
    "rp_pilots.duration([rp.AGENT_SCHEDULING_QUEUE, rp.AGENT_EXECUTING_QUEUE])"
   ]
  },
  {
   "cell_type": "code",
   "execution_count": null,
   "metadata": {},
   "outputs": [],
   "source": []
  }
 ],
 "metadata": {
  "kernelspec": {
   "display_name": "Python 2",
   "language": "python",
   "name": "python2"
  },
  "language_info": {
   "codemirror_mode": {
    "name": "ipython",
    "version": 2
   },
   "file_extension": ".py",
   "mimetype": "text/x-python",
   "name": "python",
   "nbconvert_exporter": "python",
   "pygments_lexer": "ipython2",
   "version": "2.7.14"
  }
 },
 "nbformat": 4,
 "nbformat_minor": 2
}
