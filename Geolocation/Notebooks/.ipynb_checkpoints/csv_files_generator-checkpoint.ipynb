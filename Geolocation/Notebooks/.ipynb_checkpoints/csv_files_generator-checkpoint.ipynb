{
 "cells": [
  {
   "cell_type": "markdown",
   "metadata": {},
   "source": [
    "# This NoteBook is to generate CSVs from RP sessions based on predefined events "
   ]
  },
  {
   "cell_type": "code",
   "execution_count": 114,
   "metadata": {},
   "outputs": [],
   "source": [
    "import os\n",
    "import sys\n",
    "import pprint\n",
    "import csv\n",
    "import pandas as pd\n",
    "import numpy as np\n",
    "import matplotlib\n",
    "import matplotlib.pyplot as plt\n",
    "\n",
    "import radical.utils     as ru\n",
    "import radical.analytics as ra"
   ]
  },
  {
   "cell_type": "code",
   "execution_count": 141,
   "metadata": {
    "scrolled": true
   },
   "outputs": [],
   "source": [
    "loc = \"/home/aymen/SummerRadical/Penguins/src/rp_script/penguins_4N/rp.session.js-17-21.jetstream-cloud.org.aymen.018275.0002/\"\n",
    "src = os.path.dirname(loc)\n",
    "sid = os.path.basename(loc)\n",
    "session = ra.Session(sid=sid, stype='radical.pilot', src=loc)\n",
    "session.filter(etype=event_entity, inplace=True)\n",
    "dataframe=pd.DataFrame(columns=['ImageName','ImageSize','TTX','UnitID'])\n",
    "\n",
    "for unit in units.get():\n",
    "        \n",
    "        if unit.uid == 'unit.000000': #skipping the first unit because unit.00000 is only for image discovery\n",
    "            skip = True\n",
    "            continue\n",
    "            \n",
    "        else:\n",
    "            \n",
    "            exec_duration = unit.duration(event=[{ru.EVENT: 'cu_exec_start'},\n",
    "                                                 {ru.EVENT: 'cu_exec_stop'}])\n",
    "\n",
    "            durations.append(exec_duration)\n",
    "            cu_dur = sum(durations) / len(durations)\n",
    "            \n",
    "            \n",
    "            #read the Penguins_images.csv and match the \n",
    "            #image name from it with the image name from the unit.* \n",
    "            #to get the size of the image from \n",
    "            myfilepath = '../Data/Penguins_Images.csv'\n",
    "            with open(myfilepath) as f:\n",
    "                reader = csv.reader(f) \n",
    "                next(reader) # skip header\n",
    "                data = []\n",
    "                for row in reader:\n",
    "                    data.append(row)\n",
    "                    if row[0] == unit.description[\"arguments\"][14] :\n",
    "\n",
    "                            try:\n",
    "                                  session_data = {\n",
    "                                                        'ImageName'      : unit.description[\"arguments\"][14],\n",
    "                                                        'ImageSize'      : row[1],\n",
    "                                                        'TTX'            : exec_duration,\n",
    "                                                        'UnitID'         : unit.uid[5:]\n",
    "                                                }\n",
    "                            except Exception as e:\n",
    "                                                print e\n",
    "                                                session_data = {\n",
    "                                                         'ImageName'      : unit.description[\"arguments\"][14],\n",
    "                                                         'ImageSize'      : row[1],\n",
    "                                                         'TTX'            : exec_duration,\n",
    "                                                         'UnitID'         : unit.uid[5:]\n",
    "                                                               }\n",
    "                                                pass\n",
    "\n",
    "                            dataframe =  dataframe.append(session_data, ignore_index=True)\n",
    "                            dataframe =  dataframe.reset_index().drop('index', axis=1)\n",
    "                            dataframe.to_csv('../Data/units_durations.csv',index=False)\n"
   ]
  },
  {
   "cell_type": "code",
   "execution_count": null,
   "metadata": {},
   "outputs": [],
   "source": []
  }
 ],
 "metadata": {
  "kernelspec": {
   "display_name": "Python 2",
   "language": "python",
   "name": "python2"
  },
  "language_info": {
   "codemirror_mode": {
    "name": "ipython",
    "version": 2
   },
   "file_extension": ".py",
   "mimetype": "text/x-python",
   "name": "python",
   "nbconvert_exporter": "python",
   "pygments_lexer": "ipython2",
   "version": "2.7.14"
  }
 },
 "nbformat": 4,
 "nbformat_minor": 2
}
