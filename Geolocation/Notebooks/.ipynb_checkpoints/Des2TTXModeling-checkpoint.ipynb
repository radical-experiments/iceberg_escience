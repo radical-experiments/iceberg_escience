{
 "cells": [
  {
   "cell_type": "code",
   "execution_count": 3,
   "metadata": {
    "ExecuteTime": {
     "end_time": "2019-05-23T15:39:45.061702Z",
     "start_time": "2019-05-23T15:39:44.057292Z"
    }
   },
   "outputs": [
    {
     "name": "stdout",
     "output_type": "stream",
     "text": [
      "/opt/anaconda2/lib/python2.7/site-packages/radical/pilot\n",
      "/opt/anaconda2/lib/python2.7/site-packages/radical/utils\n",
      "/opt/anaconda2/lib/python2.7/site-packages/radical/saga\n",
      "/opt/anaconda2/lib/python2.7/site-packages/radical/analytics\n",
      "\n",
      "  python               : 2.7.14\n",
      "  pythonpath           : \n",
      "  virtualenv           : /home/aymen/jupyter\n",
      "\n",
      "  radical.analytics    : 0.70.0\n",
      "  radical.pilot        : 0.70.0\n",
      "  radical.saga         : 0.70.0\n",
      "  radical.utils        : 0.70.0\n",
      "\n"
     ]
    }
   ],
   "source": [
    "%matplotlib inline\n",
    "import radical.analytics as ra\n",
    "import radical.pilot as rp\n",
    "import radical.utils as ru\n",
    "from glob import glob\n",
    "import numpy as np\n",
    "from matplotlib import pyplot as plt\n",
    "from matplotlib import cm\n",
    "import csv\n",
    "import pandas as pd\n",
    "import json\n",
    "from scipy.optimize import curve_fit\n",
    "from scipy import stats\n",
    "from pprint import pprint\n",
    "from sklearn.metrics import r2_score\n",
    "import matplotlib as mpl\n",
    "mpl.rcParams['text.usetex'] = True\n",
    "mpl.rcParams['text.latex.unicode'] = True\n",
    "\n",
    "blues = cm.get_cmap(plt.get_cmap('Blues'))\n",
    "greens = cm.get_cmap(plt.get_cmap('Greens'))\n",
    "reds = cm.get_cmap(plt.get_cmap('Reds'))\n",
    "oranges = cm.get_cmap(plt.get_cmap('Oranges'))\n",
    "purples = cm.get_cmap(plt.get_cmap('Purples'))\n",
    "greys = cm.get_cmap(plt.get_cmap('Greys'))\n",
    "!radical-stack"
   ]
  },
  {
   "cell_type": "code",
   "execution_count": 2,
   "metadata": {
    "ExecuteTime": {
     "end_time": "2019-05-23T15:40:18.199866Z",
     "start_time": "2019-05-23T15:39:55.703243Z"
    },
    "scrolled": false
   },
   "outputs": [],
   "source": [
    "images = pd.read_csv('../Data/Desc1CSV.csv')\n",
    "rain_des2_tilling = pd.DataFrame(columns=['ImageName1','ImageName2','SIZE1','SIZE2'])\n",
    "sids = ['../Data/Sessions/rp.session.js-17-21.jetstream-cloud.org.aymen.018292.0007/'] \n",
    "for sid in sids:\n",
    "    tiling_files = glob(sid+'/pilot.0000/unit.00*/geolocate*.csv')\n",
    "    for tiling_file in tiling_files:\n",
    "        Tilling = pd.read_csv(tiling_file)\n",
    "        for index, row in Tilling.iterrows():\n",
    "            try:\n",
    "                image = row['Image'].split('/')[-1]\n",
    "                size1 = int(images.loc[images['ImageName1'] == row['Image']]['Size'].values[0])\n",
    "                size2 = int(images.loc[images['ImageName2'] == row['Image']]['Size'].values[0])\n",
    "                \n",
    "                time = row['End'] - row['Start']\n",
    "                train_des2_tilling.loc[len(train_des2_tilling)] = [image,size,time]\n",
    "            except:\n",
    "                print row['Image']\n",
    "\n",
    "        \n",
    "train_des2_tilling_binned = pd.DataFrame(columns=['Bin','SizeArray','SizeMean','SizeStd','SizeMin','SizeMax','TimeArray','TimeMean','TimeStd','TimeMin','TimeMax'])\n",
    "for i in range(50,2800,125):\n",
    "    train_des2_tilling_binned.loc[len(train_des2_tilling_binned)] = [[i, i + 125],train_des2_tilling[(i < train_des2_tilling['Size']) & (train_des2_tilling['Size']< (i + 125))]['Size'].values,\n",
    "                                                                                  train_des2_tilling[(i < train_des2_tilling['Size']) & (train_des2_tilling['Size']< (i + 125))]['Size'].values.mean(),\n",
    "                                                                                  train_des2_tilling[(i < train_des2_tilling['Size']) & (train_des2_tilling['Size']< (i + 125))]['Size'].values.std(),\n",
    "                                                                                  train_des2_tilling[(i < train_des2_tilling['Size']) & (train_des2_tilling['Size']< (i + 125))]['Size'].values.min(),\n",
    "                                                                                  train_des2_tilling[(i < train_des2_tilling['Size']) & (train_des2_tilling['Size']< (i + 125))]['Size'].values.max(),\n",
    "                                                                                  train_des2_tilling[(i < train_des2_tilling['Size']) & (train_des2_tilling['Size']< (i + 125))]['Time'].values,\n",
    "                                                                                  train_des2_tilling[(i < train_des2_tilling['Size']) & (train_des2_tilling['Size']< (i + 125))]['Time'].values.mean(),\n",
    "                                                                                  train_des2_tilling[(i < train_des2_tilling['Size']) & (train_des2_tilling['Size']< (i + 125))]['Time'].values.std(),\n",
    "                                                                                  train_des2_tilling[(i < train_des2_tilling['Size']) & (train_des2_tilling['Size']< (i + 125))]['Time'].values.min(),\n",
    "                                                                                  train_des2_tilling[(i < train_des2_tilling['Size']) & (train_des2_tilling['Size']< (i + 125))]['Time'].values.max()]"
   ]
  },
  {
   "cell_type": "code",
   "execution_count": null,
   "metadata": {},
   "outputs": [],
   "source": []
  }
 ],
 "metadata": {
  "hide_input": false,
  "kernelspec": {
   "display_name": "Python 2",
   "language": "python",
   "name": "python2"
  },
  "language_info": {
   "codemirror_mode": {
    "name": "ipython",
    "version": 2
   },
   "file_extension": ".py",
   "mimetype": "text/x-python",
   "name": "python",
   "nbconvert_exporter": "python",
   "pygments_lexer": "ipython2",
   "version": "2.7.14"
  },
  "latex_envs": {
   "LaTeX_envs_menu_present": true,
   "autoclose": false,
   "autocomplete": true,
   "bibliofile": "biblio.bib",
   "cite_by": "apalike",
   "current_citInitial": 1,
   "eqLabelWithNumbers": true,
   "eqNumInitial": 1,
   "hotkeys": {
    "equation": "Ctrl-E",
    "itemize": "Ctrl-I"
   },
   "labels_anchors": false,
   "latex_user_defs": false,
   "report_style_numbering": false,
   "user_envs_cfg": false
  },
  "varInspector": {
   "cols": {
    "lenName": 16,
    "lenType": 16,
    "lenVar": 40
   },
   "kernels_config": {
    "python": {
     "delete_cmd_postfix": "",
     "delete_cmd_prefix": "del ",
     "library": "var_list.py",
     "varRefreshCmd": "print(var_dic_list())"
    },
    "r": {
     "delete_cmd_postfix": ") ",
     "delete_cmd_prefix": "rm(",
     "library": "var_list.r",
     "varRefreshCmd": "cat(var_dic_list()) "
    }
   },
   "types_to_exclude": [
    "module",
    "function",
    "builtin_function_or_method",
    "instance",
    "_Feature"
   ],
   "window_display": false
  }
 },
 "nbformat": 4,
 "nbformat_minor": 2
}
