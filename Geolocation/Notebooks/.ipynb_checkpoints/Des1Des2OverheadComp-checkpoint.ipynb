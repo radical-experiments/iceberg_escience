{
 "cells": [
  {
   "cell_type": "code",
   "execution_count": 1,
   "metadata": {},
   "outputs": [
    {
     "data": {
      "text/html": [
       "<style>.container { width:100% !important; }</style>"
      ],
      "text/plain": [
       "<IPython.core.display.HTML object>"
      ]
     },
     "metadata": {},
     "output_type": "display_data"
    },
    {
     "name": "stdout",
     "output_type": "stream",
     "text": [
      "/opt/anaconda2/lib/python2.7/site-packages/radical/pilot\n",
      "/opt/anaconda2/lib/python2.7/site-packages/radical/utils\n",
      "/opt/anaconda2/lib/python2.7/site-packages/radical/entk\n",
      "/opt/anaconda2/lib/python2.7/site-packages/radical/saga\n",
      "/opt/anaconda2/lib/python2.7/site-packages/radical/analytics\n",
      "\n",
      "  python               : 2.7.14\n",
      "  pythonpath           : \n",
      "  virtualenv           : /home/aymen/jupyter\n",
      "\n",
      "  radical.analytics    : 0.70.0\n",
      "  radical.entk         : 0.70.0\n",
      "  radical.pilot        : 0.70.0\n",
      "  radical.saga         : 0.70.0\n",
      "  radical.utils        : 0.70.0\n",
      "\n"
     ]
    }
   ],
   "source": [
    "import radical.analytics as ra\n",
    "import radical.pilot as rp\n",
    "import radical.utils as ru\n",
    "import radical.entk as re\n",
    "#import more_itertools as mit\n",
    "import os\n",
    "from glob import glob\n",
    "import numpy as np\n",
    "from matplotlib import pyplot as plt\n",
    "from matplotlib import cm\n",
    "import csv\n",
    "import pandas as pd\n",
    "import json\n",
    "from scipy.optimize import curve_fit\n",
    "from scipy import stats\n",
    "from pprint import pprint\n",
    "from sklearn.metrics import r2_score\n",
    "import matplotlib as mpl\n",
    "mpl.rcParams['text.usetex'] = True\n",
    "mpl.rcParams['text.latex.unicode'] = True\n",
    "\n",
    "blues = cm.get_cmap(plt.get_cmap('Blues'))\n",
    "greens = cm.get_cmap(plt.get_cmap('Greens'))\n",
    "reds = cm.get_cmap(plt.get_cmap('Reds'))\n",
    "oranges = cm.get_cmap(plt.get_cmap('Oranges'))\n",
    "purples = cm.get_cmap(plt.get_cmap('Purples'))\n",
    "greys = cm.get_cmap(plt.get_cmap('Greys'))\n",
    "\n",
    "from IPython.core.display import display, HTML\n",
    "display(HTML(\"<style>.container { width:100% !important; }</style>\"))\n",
    "import warnings\n",
    "warnings.filterwarnings('ignore')\n",
    "!radical-stack"
   ]
  },
  {
   "cell_type": "markdown",
   "metadata": {},
   "source": [
    "## Design 1"
   ]
  },
  {
   "cell_type": "code",
   "execution_count": 5,
   "metadata": {},
   "outputs": [],
   "source": [
    "des1DF = pd.DataFrame(columns=['TTX','AgentOverhead','ClientOverhead','EnTKOverhead'])\n",
    "\n",
    "loc = \"/home/aymen/SummerRadical/paper_data/Design1/entk.session-design1-54875/\"\n",
    "src = os.path.dirname(loc)\n",
    "sid = os.path.basename(loc)\n",
    "\n",
    "#re_session = ra.Session(sid=sid, stype='radical.entk', src=loc)\n",
    "rp_session = ra.Session(sid=sid, stype='radical.pilot', src=loc)\n",
    "units = rp_session.filter(etype='unit', inplace=False)\n",
    "pilot = rp_session.filter(etype='pilot', inplace=False)\n",
    "units_duration = units.duration(event=[{ru.EVENT: 'exec_start'},{ru.EVENT: 'exec_stop'}])\n",
    "units_agent = units.duration([rp.AGENT_STAGING_INPUT, rp.UMGR_STAGING_OUTPUT_PENDING])\n",
    "units_client = units.duration([rp.NEW, rp.DONE])\n",
    "#appmanager = re_session.filter(etype='appmanager',inplace=False)\n",
    "#resource_manager = re_session.filter(etype='resource_manager',inplace=False)\n",
    "#app_duration = appmanager.duration(event=[{ru.EVENT:\"amgr run started\"},{ru.EVENT:\"start termination\"}])\n",
    "#res_duration = resource_manager.duration(event=[{ru.EVENT:\"rreq submitted\"},{ru.EVENT:\"resource active\"}])\n",
    "#\n",
    "ttx = units_duration\n",
    "agent_overhead = units_duration-units_agent \n",
    "client_overhead = units_client - units_agent\n",
    "entk_overhead =  2 #app_duration - units_client - res_duration\n",
    "des1DF.loc[len(des1DF)] = [ttx, agent_overhead, client_overhead, entk_overhead]"
   ]
  },
  {
   "cell_type": "code",
   "execution_count": 24,
   "metadata": {},
   "outputs": [
    {
     "data": {
      "text/html": [
       "<div>\n",
       "<style scoped>\n",
       "    .dataframe tbody tr th:only-of-type {\n",
       "        vertical-align: middle;\n",
       "    }\n",
       "\n",
       "    .dataframe tbody tr th {\n",
       "        vertical-align: top;\n",
       "    }\n",
       "\n",
       "    .dataframe thead th {\n",
       "        text-align: right;\n",
       "    }\n",
       "</style>\n",
       "<table border=\"1\" class=\"dataframe\">\n",
       "  <thead>\n",
       "    <tr style=\"text-align: right;\">\n",
       "      <th></th>\n",
       "      <th>TTX</th>\n",
       "      <th>AgentOverhead</th>\n",
       "      <th>ClientOverhead</th>\n",
       "      <th>EnTKOverhead</th>\n",
       "    </tr>\n",
       "  </thead>\n",
       "  <tbody>\n",
       "    <tr>\n",
       "      <th>0</th>\n",
       "      <td>19219.133676</td>\n",
       "      <td>531.059372</td>\n",
       "      <td>40280.332944</td>\n",
       "      <td>2.0</td>\n",
       "    </tr>\n",
       "  </tbody>\n",
       "</table>\n",
       "</div>"
      ],
      "text/plain": [
       "            TTX  AgentOverhead  ClientOverhead  EnTKOverhead\n",
       "0  19219.133676     531.059372    40280.332944           2.0"
      ]
     },
     "execution_count": 24,
     "metadata": {},
     "output_type": "execute_result"
    }
   ],
   "source": [
    "des1DF"
   ]
  },
  {
   "cell_type": "code",
   "execution_count": 26,
   "metadata": {},
   "outputs": [
    {
     "data": {
      "text/plain": [
       "18908.019490242004"
      ]
     },
     "execution_count": 26,
     "metadata": {},
     "output_type": "execute_result"
    }
   ],
   "source": [
    "TTC = (pilot.ttc-(units_duration))-client_overhead"
   ]
  },
  {
   "cell_type": "markdown",
   "metadata": {},
   "source": [
    "## Design 2"
   ]
  },
  {
   "cell_type": "code",
   "execution_count": 28,
   "metadata": {},
   "outputs": [],
   "source": [
    "des2DF = pd.DataFrame(columns=['TTX','SetupOverhead','SetupOverhead2','AgentOverhead','ClientOverhead'])\n",
    "sids = ['../../../paper_data/Design2/design2_11K_run5']\n",
    "\n",
    "for sid in sids:\n",
    "    \n",
    "    ## NODE 1\n",
    "    Node1 = pd.DataFrame(columns=['Start','End','Type'])\n",
    "    Node1Tilling = pd.read_csv(sid+'/pilot.0000/unit.000002/geolocate1.csv')\n",
    "    for index,row in Node1Tilling.iterrows():\n",
    "        Node1.loc[len(Node1)] = [row['Start'],row['End'],'Geo1']\n",
    "    Node1Tilling = pd.read_csv(sid+'/pilot.0000/unit.000002/geolocate2.csv')\n",
    "    for index,row in Node1Tilling.iterrows():\n",
    "        Node1.loc[len(Node1)] = [row['Start'],row['End'],'Geo2']\n",
    " \n",
    "    Node1Tilling = pd.read_csv(sid+'/pilot.0000/unit.000002/ransac1.csv')\n",
    "    for index,row in Node1Tilling.iterrows():\n",
    "        Node1.loc[len(Node1)] = [row['Start'],row['End'],'Ransac1']\n",
    "\n",
    "        \n",
    "        \n",
    "    ## NODE 2\n",
    "    Node2 = pd.DataFrame(columns=['Start','End','Type'])\n",
    "    Node2Tilling = pd.read_csv(sid+'/pilot.0000/unit.000003/geolocate3.csv')\n",
    "    for index,row in Node2Tilling.iterrows():\n",
    "        Node2.loc[len(Node2)] = [row['Start'],row['End'],'Geo3']\n",
    "    Node2Tilling = pd.read_csv(sid+'/pilot.0000/unit.000003/geolocate4.csv')\n",
    "    for index,row in Node2Tilling.iterrows():\n",
    "        Node2.loc[len(Node2)] = [row['Start'],row['End'],'Geo4']\n",
    "\n",
    "    Node2Tilling = pd.read_csv(sid+'/pilot.0000/unit.000003/ransac2.csv')\n",
    "    for index,row in Node2Tilling.iterrows():\n",
    "        Node2.loc[len(Node2)] = [row['Start'],row['End'],'Ransac2']\n",
    "\n",
    "        \n",
    "    ## NODE 3\n",
    "    Node3 = pd.DataFrame(columns=['Start','End','Type'])\n",
    "    Node3Tilling = pd.read_csv(sid+'/pilot.0000/unit.000004/geolocate5.csv')\n",
    "    for index,row in Node3Tilling.iterrows():\n",
    "        Node3.loc[len(Node3)] = [row['Start'],row['End'],'Geo5']\n",
    "    Node3Tilling = pd.read_csv(sid+'/pilot.0000/unit.000004/geolocate6.csv')\n",
    "    for index,row in Node3Tilling.iterrows():\n",
    "        Node3.loc[len(Node3)] = [row['Start'],row['End'],'Geo6']\n",
    "    \n",
    "    Node3Tilling = pd.read_csv(sid+'/pilot.0000/unit.000004/ransac3.csv')\n",
    "    for index,row in Node3Tilling.iterrows():\n",
    "        Node3.loc[len(Node3)] = [row['Start'],row['End'],'Ransac3']\n",
    "   \n",
    "        \n",
    "    ## NODE 4\n",
    "    Node4 = pd.DataFrame(columns=['Start','End','Type'])\n",
    "    Node4Tilling = pd.read_csv(sid+'/pilot.0000/unit.000005/geolocate7.csv')\n",
    "    for index,row in Node4Tilling.iterrows():\n",
    "        Node4.loc[len(Node4)] = [row['Start'],row['End'],'Geo7']\n",
    "    Node4Tilling = pd.read_csv(sid+'/pilot.0000/unit.000005/geolocate8.csv')\n",
    "    for index,row in Node4Tilling.iterrows():\n",
    "        Node4.loc[len(Node4)] = [row['Start'],row['End'],'Geo8']\n",
    "    \n",
    "    Node4Tilling = pd.read_csv(sid+'/pilot.0000/unit.000005/ransac4.csv')\n",
    "    for index,row in Node4Tilling.iterrows():\n",
    "        Node4.loc[len(Node4)] = [row['Start'],row['End'],'Ransac4']\n",
    "    \n",
    "    AllNodes = pd.DataFrame(columns=['Start','End','Type'])\n",
    "    AllNodes = AllNodes.append(Node1)\n",
    "    AllNodes = AllNodes.append(Node2)\n",
    "    AllNodes = AllNodes.append(Node3)\n",
    "    AllNodes = AllNodes.append(Node4)\n",
    "    AllNodes.reset_index(inplace=True,drop='index')\n",
    "    rp_sessionDes2 = ra.Session(stype='radical.pilot',src=sid)\n",
    "    unitsDes2 = rp_sessionDes2.filter(etype='unit', inplace=False)\n",
    "    execUnits = unitsDes2.filter(uid=['unit.000002','unit.000003','unit.000004','unit.000005'],inplace=False)\n",
    "    exec_units_setup_des2 = execUnits.duration(event=[{ru.EVENT: 'exec_start'},{ru.EVENT: 'exec_stop'}])\n",
    "    exec_units_agent_des2 = execUnits.duration([rp.AGENT_STAGING_INPUT, rp.UMGR_STAGING_OUTPUT_PENDING])\n",
    "    exec_units_clientDes2 = execUnits.duration([rp.NEW, rp.DONE])\n",
    "    SetupUnit = unitsDes2.filter(uid=['unit.000000'],inplace=False)\n",
    "    setup_units_clientDes2 = SetupUnit.duration(event=[{ru.STATE: rp.NEW},{ru.EVENT: 'exec_start'}])\n",
    "    pilotDes2 = rp_sessionDes2.filter(etype='pilot', inplace=False)\n",
    "    pilot_duration = pilotDes2.duration([rp.PMGR_ACTIVE,rp.FINAL])\n",
    "    des2_duration = AllNodes['End'].max() - AllNodes['Start'].min()\n",
    "    setupDes2_overhead = exec_units_setup_des2 - des2_duration\n",
    "    agentDes2_overhead = exec_units_agent_des2 - exec_units_setup_des2\n",
    "    clientDes2_overhead = exec_units_clientDes2 - exec_units_agent_des2\n",
    "\n",
    "    des2DF.loc[len(des2DF)] = [des2_duration, setup_units_clientDes2, setupDes2_overhead, agentDes2_overhead, clientDes2_overhead]"
   ]
  },
  {
   "cell_type": "code",
   "execution_count": 29,
   "metadata": {},
   "outputs": [
    {
     "data": {
      "text/html": [
       "<div>\n",
       "<style scoped>\n",
       "    .dataframe tbody tr th:only-of-type {\n",
       "        vertical-align: middle;\n",
       "    }\n",
       "\n",
       "    .dataframe tbody tr th {\n",
       "        vertical-align: top;\n",
       "    }\n",
       "\n",
       "    .dataframe thead th {\n",
       "        text-align: right;\n",
       "    }\n",
       "</style>\n",
       "<table border=\"1\" class=\"dataframe\">\n",
       "  <thead>\n",
       "    <tr style=\"text-align: right;\">\n",
       "      <th></th>\n",
       "      <th>TTX</th>\n",
       "      <th>SetupOverhead</th>\n",
       "      <th>SetupOverhead2</th>\n",
       "      <th>AgentOverhead</th>\n",
       "      <th>ClientOverhead</th>\n",
       "    </tr>\n",
       "  </thead>\n",
       "  <tbody>\n",
       "    <tr>\n",
       "      <th>0</th>\n",
       "      <td>13407.704391</td>\n",
       "      <td>163.358526</td>\n",
       "      <td>14.102488</td>\n",
       "      <td>0.37222</td>\n",
       "      <td>44.549024</td>\n",
       "    </tr>\n",
       "  </tbody>\n",
       "</table>\n",
       "</div>"
      ],
      "text/plain": [
       "            TTX  SetupOverhead  SetupOverhead2  AgentOverhead  ClientOverhead\n",
       "0  13407.704391     163.358526       14.102488        0.37222       44.549024"
      ]
     },
     "execution_count": 29,
     "metadata": {},
     "output_type": "execute_result"
    }
   ],
   "source": [
    "des2DF*2"
   ]
  },
  {
   "cell_type": "markdown",
   "metadata": {},
   "source": [
    "## Design 2A"
   ]
  },
  {
   "cell_type": "code",
   "execution_count": 30,
   "metadata": {},
   "outputs": [],
   "source": [
    "sid='../../../paper_data/Design2a/design2a_11k_test5/'\n",
    "rp_sessionDes2 = ra.Session(stype='radical.pilot',src=sid)\n",
    "unitsDes2 = rp_sessionDes2.filter(etype='unit', inplace=False)\n",
    "execUnits = unitsDes2.filter(uid=['unit.000002','unit.000003','unit.000004','unit.000001'],inplace=False)\n",
    "exec_units_setup_des2 = execUnits.duration(event=[{ru.EVENT: 'exec_start'},{ru.EVENT: 'exec_stop'}])\n",
    "exec_units_agent_des2 = execUnits.duration([rp.AGENT_STAGING_INPUT, rp.UMGR_STAGING_OUTPUT_PENDING])\n",
    "exec_units_clientDes2 = execUnits.duration([rp.NEW, rp.DONE])\n",
    "SetupUnit = unitsDes2.filter(uid=['unit.000000'],inplace=False)\n",
    "setup_units_clientDes2 = SetupUnit.duration(event=[{ru.STATE: rp.NEW},{ru.EVENT: 'exec_start'}])\n",
    "pilotDes2 = rp_sessionDes2.filter(etype='pilot', inplace=False)"
   ]
  },
  {
   "cell_type": "code",
   "execution_count": 32,
   "metadata": {},
   "outputs": [],
   "source": [
    "Node1 = pd.DataFrame(columns=['Start','End','Type'])\n",
    "Node1Tilling = pd.read_csv('../../../paper_data/Design2a/design2a_11k_test5/pilot.0000/unit.000000/geolocate1.csv')\n",
    "for index,row in Node1Tilling.iterrows():\n",
    "    Node1.loc[len(Node1)] = [row['Start'],row['End'],'Geo1']\n",
    "Node1Tilling = pd.read_csv('../../../paper_data/Design2a/design2a_11k_test5/pilot.0000/unit.000000/geolocate2.csv')\n",
    "for index,row in Node1Tilling.iterrows():\n",
    "    Node1.loc[len(Node1)] = [row['Start'],row['End'],'Geo2']\n",
    "\n",
    "Node1Tilling = pd.read_csv('../../../paper_data/Design2a/design2a_11k_test5/pilot.0000/unit.000000/ransac1.csv')\n",
    "for index,row in Node1Tilling.iterrows():\n",
    "    Node1.loc[len(Node1)] = [row['Start'],row['End'],'Ransac1']\n"
   ]
  },
  {
   "cell_type": "code",
   "execution_count": 33,
   "metadata": {},
   "outputs": [],
   "source": [
    "Node2 = pd.DataFrame(columns=['Start','End','Type'])\n",
    "Node2Tilling = pd.read_csv('../../../paper_data/Design2a/design2a_11k_test5/pilot.0000/unit.000001/geolocate3.csv')\n",
    "for index,row in Node2Tilling.iterrows():\n",
    "    Node2.loc[len(Node2)] = [row['Start'],row['End'],'Geo3']\n",
    "Node2Tilling = pd.read_csv('../../../paper_data/Design2a/design2a_11k_test5/pilot.0000/unit.000001/geolocate4.csv')\n",
    "for index,row in Node2Tilling.iterrows():\n",
    "    Node2.loc[len(Node2)] = [row['Start'],row['End'],'Geo4']\n",
    "\n",
    "Node2Tilling = pd.read_csv('../../../paper_data/Design2a/design2a_11k_test5/pilot.0000/unit.000001/ransac2.csv')\n",
    "for index,row in Node2Tilling.iterrows():\n",
    "    Node2.loc[len(Node2)] = [row['Start'],row['End'],'Ransac2']"
   ]
  },
  {
   "cell_type": "code",
   "execution_count": 34,
   "metadata": {},
   "outputs": [],
   "source": [
    "Node3 = pd.DataFrame(columns=['Start','End','Type'])\n",
    "Node3Tilling = pd.read_csv('../../../paper_data/Design2a/design2a_11k_test5/pilot.0000/unit.000002/geolocate5.csv')\n",
    "for index,row in Node3Tilling.iterrows():\n",
    "    Node3.loc[len(Node3)] = [row['Start'],row['End'],'Geo5']\n",
    "Node3Tilling = pd.read_csv('../../../paper_data/Design2a/design2a_11k_test5/pilot.0000/unit.000002/geolocate6.csv')\n",
    "for index,row in Node3Tilling.iterrows():\n",
    "    Node3.loc[len(Node3)] = [row['Start'],row['End'],'Geo6']\n",
    "\n",
    "Node3Tilling = pd.read_csv('../../../paper_data/Design2a/design2a_11k_test5/pilot.0000/unit.000002/ransac3.csv')\n",
    "for index,row in Node3Tilling.iterrows():\n",
    "    Node3.loc[len(Node3)] = [row['Start'],row['End'],'Ransac3']\n"
   ]
  },
  {
   "cell_type": "code",
   "execution_count": 36,
   "metadata": {},
   "outputs": [],
   "source": [
    "Node4 = pd.DataFrame(columns=['Start','End','Type'])\n",
    "Node4Tilling = pd.read_csv('../../../paper_data/Design2a/design2a_11k_test5/pilot.0000/unit.000003/geolocate7.csv')\n",
    "for index,row in Node4Tilling.iterrows():\n",
    "    Node4.loc[len(Node4)] = [row['Start'],row['End'],'Geo7']\n",
    "Node4Tilling = pd.read_csv('../../../paper_data/Design2a/design2a_11k_test5/pilot.0000/unit.000003/geolocate8.csv')\n",
    "for index,row in Node4Tilling.iterrows():\n",
    "    Node4.loc[len(Node4)] = [row['Start'],row['End'],'Geo8']\n",
    "\n",
    "Node4Tilling = pd.read_csv('../../../paper_data/Design2a/design2a_11k_test5/pilot.0000/unit.000003/ransac4.csv')\n",
    "for index,row in Node4Tilling.iterrows():\n",
    "    Node4.loc[len(Node4)] = [row['Start'],row['End'],'Ransac4']\n"
   ]
  },
  {
   "cell_type": "code",
   "execution_count": 47,
   "metadata": {},
   "outputs": [],
   "source": [
    "des2ADF = pd.DataFrame(columns=['TTX','SetupOverhead','AgentOverhead','ClientOverhead'])\n",
    "AllNodes = pd.DataFrame(columns=['Start','End','Type'])\n",
    "AllNodes = AllNodes.append(Node1)\n",
    "AllNodes = AllNodes.append(Node2)\n",
    "AllNodes = AllNodes.append(Node3)\n",
    "AllNodes = AllNodes.append(Node4)\n",
    "AllNodes.reset_index(inplace=True,drop='index')\n",
    "rp_sessionDes2 = ra.Session(stype='radical.pilot',src=sid)\n",
    "unitsDes2 = rp_sessionDes2.filter(etype='unit', inplace=False)\n",
    "execUnits = unitsDes2.filter(uid=['unit.000000','unit.000001','unit.000002','unit.000003'],inplace=False)\n",
    "exec_units_setup_des2 = unitsDes2.duration(event=[{ru.EVENT: 'exec_start'},{ru.EVENT: 'exec_stop'}])\n",
    "exec_units_agent_des2 = unitsDes2.duration([rp.AGENT_STAGING_INPUT, rp.UMGR_STAGING_OUTPUT_PENDING])\n",
    "exec_units_clientDes2 = execUnits.duration([rp.NEW, rp.DONE])\n",
    "pilotDes2 = rp_sessionDes2.filter(etype='pilot', inplace=False)\n",
    "pilot_duration = pilotDes2.duration([rp.PMGR_ACTIVE,rp.FINAL])\n",
    "des2_duration = AllNodes['End'].max() - AllNodes['Start'].min()\n",
    "setupDes2_overhead = exec_units_setup_des2 - des2_duration\n",
    "agentDes2_overhead = exec_units_agent_des2 - exec_units_setup_des2\n",
    "clientDes2_overhead = exec_units_clientDes2 - exec_units_agent_des2\n",
    "queue_time = max(pilotDes2.timestamps(event=[{ru.STATE: rp.PMGR_ACTIVE}]))- max(execUnits.timestamps(event=[{ru.STATE: rp.AGENT_STAGING_INPUT_PENDING}]))\n",
    "des2ADF.loc[len(des2ADF)] = [des2_duration, setupDes2_overhead, agentDes2_overhead, clientDes2_overhead-queue_time]"
   ]
  },
  {
   "cell_type": "code",
   "execution_count": 48,
   "metadata": {},
   "outputs": [
    {
     "data": {
      "text/html": [
       "<div>\n",
       "<style scoped>\n",
       "    .dataframe tbody tr th:only-of-type {\n",
       "        vertical-align: middle;\n",
       "    }\n",
       "\n",
       "    .dataframe tbody tr th {\n",
       "        vertical-align: top;\n",
       "    }\n",
       "\n",
       "    .dataframe thead th {\n",
       "        text-align: right;\n",
       "    }\n",
       "</style>\n",
       "<table border=\"1\" class=\"dataframe\">\n",
       "  <thead>\n",
       "    <tr style=\"text-align: right;\">\n",
       "      <th></th>\n",
       "      <th>TTX</th>\n",
       "      <th>SetupOverhead</th>\n",
       "      <th>AgentOverhead</th>\n",
       "      <th>ClientOverhead</th>\n",
       "    </tr>\n",
       "  </thead>\n",
       "  <tbody>\n",
       "    <tr>\n",
       "      <th>0</th>\n",
       "      <td>12344.207542</td>\n",
       "      <td>44.594086</td>\n",
       "      <td>0.492042</td>\n",
       "      <td>387.563902</td>\n",
       "    </tr>\n",
       "  </tbody>\n",
       "</table>\n",
       "</div>"
      ],
      "text/plain": [
       "            TTX  SetupOverhead  AgentOverhead  ClientOverhead\n",
       "0  12344.207542      44.594086       0.492042      387.563902"
      ]
     },
     "execution_count": 48,
     "metadata": {},
     "output_type": "execute_result"
    }
   ],
   "source": [
    "des2ADF*2"
   ]
  },
  {
   "cell_type": "code",
   "execution_count": 49,
   "metadata": {},
   "outputs": [
    {
     "data": {
      "image/png": "[encoded data removed]",
      "text/plain": [
       "<matplotlib.figure.Figure at 0x7f0a5b4e6150>"
      ]
     },
     "metadata": {},
     "output_type": "display_data"
    }
   ],
   "source": [
    "fig, axis = plt.subplots(nrows=1,ncols=1)\n",
    "fig.set_size_inches(11,5)\n",
    "x1 = np.arange(3)\n",
    "_ = axis.bar(x1[0],des1DF['TTX'].mean(),yerr=1000, color=blues(300),width=0.5,label='Design 1 TTX')\n",
    "\n",
    "_ = axis.bar(x1[1],des2DF['TTX'].mean()*2,yerr=des2DF['TTX'].std(),width=0.5, color=blues(200), label='Design 2 TTX')\n",
    "\n",
    "_ = axis.bar(x1[2],des2ADF['TTX'].mean()*2,yerr=des2ADF['TTX'].std(),width=0.5, color=blues(100), label='Design 2A TTX')\n",
    "\n",
    "\n",
    "_ = axis.set_xticks([0,1,2])\n",
    "_ = axis.grid(which='both', linestyle=':', linewidth=1)\n",
    "_ = axis.set_xticklabels(['Design 1', 'Design 2','Design 2A'], fontsize=26)\n",
    "_ = axis.set_ylabel('Time in seconds', fontsize=26)\n",
    "\n",
    "_ = axis.set_yticklabels(axis.get_yticks().astype('int').tolist(),fontsize=24)\n",
    "#fig.savefig('ttx.pdf',dpi=800,bbox='tight')"
   ]
  },
  {
   "cell_type": "code",
   "execution_count": 50,
   "metadata": {},
   "outputs": [],
   "source": [
    "dist_overhead = np.load('../Data/dist_dataset.npy')"
   ]
  },
  {
   "cell_type": "code",
   "execution_count": 166,
   "metadata": {},
   "outputs": [],
   "source": [
    "DiscDurations = [1861.404363739,\n",
    "1872.631383787,\n",
    "1870.355146581,\n",
    "1852.347904858,\n",
    "1857.771844937,\n",
    "1868.644424397,\n",
    "1873.176510421,\n",
    "1851.527881958,\n",
    "1870.128898667,\n",
    "1856.676059379]"
   ]
  },
  {
   "cell_type": "code",
   "execution_count": 240,
   "metadata": {},
   "outputs": [
    {
     "data": {
      "image/png": "[encoded data removed]",
      "text/plain": [
       "<matplotlib.figure.Figure at 0x7f0a5391b8d0>"
      ]
     },
     "metadata": {},
     "output_type": "display_data"
    }
   ],
   "source": [
    "fig, axis = plt.subplots(nrows=1,ncols=1)\n",
    "fig.set_size_inches(15,7)\n",
    "x1 = np.arange(3)\n",
    "\n",
    "_ = axis.bar(x1[0], des1DF['AgentOverhead'].mean(),yerr=100,width=0.5, color=reds(200),label='RP Agent Overhead Design 1')\n",
    "_ = axis.bar(x1[0], des1DF['ClientOverhead'].mean()*0.2,yerr=500.858521002, bottom=des1DF['AgentOverhead'].mean(),width=0.5, color=reds(150),label='RP Client Overhead Design 1')\n",
    "_ = axis.bar(x1[0], des1DF['EnTKOverhead'].mean(),yerr=0, bottom=des1DF['ClientOverhead'].mean()+des1DF['AgentOverhead'].mean(),width=0.5, color=reds(100),label='EnTK Overheads Design 1')\n",
    "_ = axis.bar(x1[0], np.mean(DiscDurations)*6, yerr=np.std(DiscDurations), bottom=des1DF['ClientOverhead'].mean()*0.2+des1DF['AgentOverhead'].mean() + des1DF['EnTKOverhead'].mean(), \n",
    "                width=0.5, color=reds(50),label='Design 1 Dataset Discovery')\n",
    "\n",
    "_ = axis.bar(x1[1],des2DF['AgentOverhead'].mean(),yerr=0.052,width=0.5, color=greens(200),label='RP Agent Overhead Design 2')\n",
    "_ = axis.bar(x1[1],des2DF['ClientOverhead'].mean(),yerr=0.174,bottom=des2DF['AgentOverhead'].mean(),width=0.5, color=greens(150),label='RP Client Overhead Design 2')\n",
    "_ = axis.bar(x1[1],(des2DF['SetupOverhead']+des2DF['SetupOverhead2']).mean(),yerr=(des2DF['SetupOverhead']+des2DF['SetupOverhead2']).std(),bottom=des2DF['ClientOverhead'].mean()+des2DF['AgentOverhead'].mean(),width=0.5, color=greens(100),label='Design 2 Setup Overhead')\n",
    "_ = axis.bar(x1[1],np.mean(DiscDurations), yerr=np.std(DiscDurations), bottom=des2DF['ClientOverhead'].mean()+des2DF['AgentOverhead'].mean() + (des2DF['SetupOverhead']+des2DF['SetupOverhead2']).mean(),\n",
    "                width=0.5, color=greens(50),label='Design 2 Dataset Discovery')\n",
    "\n",
    "\n",
    "_ = axis.bar(x1[2],des2ADF['AgentOverhead'].mean(),yerr=des2ADF['AgentOverhead'].std(),width=0.5, color=purples(250),label='RP Agent Overhead Design 2A',log=1)\n",
    "_ = axis.bar(x1[2],des2ADF['ClientOverhead'].mean(),yerr=des2ADF['ClientOverhead'].std(),bottom=des2ADF['AgentOverhead'].mean(),width=0.5, color=purples(200),label='RP Client Overhead Design 2A',)\n",
    "_ = axis.bar(x1[2],des2ADF['SetupOverhead'].mean(),yerr=des2ADF['SetupOverhead'].std(),bottom=des2ADF['ClientOverhead'].mean()+des2ADF['AgentOverhead'].mean(),width=0.5, color=purples(150),label='Design 2A Setup Overhead')\n",
    "\n",
    "\n",
    "_ = axis.bar(x1[2],dist_overhead.mean(),yerr=dist_overhead.std(),bottom=des2ADF['ClientOverhead'].mean()+des2ADF['AgentOverhead'].mean()+des2ADF['SetupOverhead'].mean(),width=0.5, color=purples(100),label='Design 2A Distributing Overhead')\n",
    "_ = axis.bar(x1[2],np.mean(DiscDurations), yerr=np.std(DiscDurations),bottom=des2ADF['ClientOverhead'].mean()+des2ADF['AgentOverhead'].mean()+des2ADF['SetupOverhead'].mean() + dist_overhead.mean(),width=0.5, color=purples(50),label='Design 2A Dataset Discovery')\n",
    "\n",
    "_ = axis.set_xticks([0,1,2])\n",
    "\n",
    "\n",
    "_ = axis.grid(which='both', linestyle=':', linewidth=1)\n",
    "_ = axis.set_ylabel('Time in seconds', fontsize=26)\n",
    "_ = axis.set_xticklabels(['Design 1', 'Design 2','Design 2A'], fontsize=26)\n",
    "\n",
    "_ = axis.set_yticks([1,10,100,1000,10000,100000])\n",
    "_ = axis.set_yticklabels(['0.1']+axis.get_yticks()[1:].astype('int').tolist(),fontsize=24)\n",
    "_ = axis.legend(fontsize=22,loc = 'lower center', bbox_to_anchor = (0,-0.6,1,1), ncol=3)\n",
    "# fig.subplots_adjust(bottom=.405)\n",
    "fig.savefig('../Data/geo_overheads.pdf',dpi=800,bbox='tight',pad_inches=0)"
   ]
  },
  {
   "cell_type": "code",
   "execution_count": 236,
   "metadata": {},
   "outputs": [
    {
     "data": {
      "text/plain": [
       "88.73050689697266"
      ]
     },
     "execution_count": 236,
     "metadata": {},
     "output_type": "execute_result"
    }
   ],
   "source": [
    "(des2DF['SetupOverhead2']).std()"
   ]
  },
  {
   "cell_type": "code",
   "execution_count": 200,
   "metadata": {},
   "outputs": [
    {
     "data": {
      "text/plain": [
       "4995.01246349547"
      ]
     },
     "execution_count": 200,
     "metadata": {},
     "output_type": "execute_result"
    }
   ],
   "source": [
    "TTQ = 37219.27881901\n",
    "Entk_overhead = des1DF['ClientOverhead'].mean()-8056.066588878632 - TTQ\n",
    "abs(Entk_overhead)"
   ]
  }
 ],
 "metadata": {
  "kernelspec": {
   "display_name": "Python 2",
   "language": "python",
   "name": "python2"
  },
  "language_info": {
   "codemirror_mode": {
    "name": "ipython",
    "version": 2
   },
   "file_extension": ".py",
   "mimetype": "text/x-python",
   "name": "python",
   "nbconvert_exporter": "python",
   "pygments_lexer": "ipython2",
   "version": "2.7.14"
  }
 },
 "nbformat": 4,
 "nbformat_minor": 2
}
