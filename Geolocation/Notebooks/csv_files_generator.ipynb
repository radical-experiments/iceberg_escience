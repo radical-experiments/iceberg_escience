{
 "cells": [
  {
   "cell_type": "markdown",
   "metadata": {},
   "source": [
    "# This NoteBook is for the GEOLOCATION to generate CSVs from RP sessions based on predefined events "
   ]
  },
  {
   "cell_type": "code",
   "execution_count": 1,
   "metadata": {},
   "outputs": [
    {
     "name": "stdout",
     "output_type": "stream",
     "text": [
      "/opt/anaconda2/lib/python2.7/site-packages/radical/pilot\n",
      "/opt/anaconda2/lib/python2.7/site-packages/radical/utils\n",
      "/opt/anaconda2/lib/python2.7/site-packages/radical/saga\n",
      "/opt/anaconda2/lib/python2.7/site-packages/radical/analytics\n",
      "\n",
      "  python               : 2.7.14\n",
      "  pythonpath           : \n",
      "  virtualenv           : \n",
      "\n",
      "  radical.analytics    : 0.70.0\n",
      "  radical.pilot        : 0.70.0\n",
      "  radical.saga         : 0.70.0\n",
      "  radical.utils        : 0.70.0\n",
      "\n"
     ]
    }
   ],
   "source": [
    "import os\n",
    "import sys\n",
    "import pprint\n",
    "import csv\n",
    "import pandas as pd\n",
    "import numpy as np\n",
    "import matplotlib\n",
    "import matplotlib.pyplot as plt\n",
    "\n",
    "import radical.utils     as ru\n",
    "import radical.analytics as ra\n",
    "!radical-stack\n"
   ]
  },
  {
   "cell_type": "markdown",
   "metadata": {},
   "source": [
    "# This will not work with Design2 (only Design1)"
   ]
  },
  {
   "cell_type": "code",
   "execution_count": 2,
   "metadata": {
    "scrolled": true
   },
   "outputs": [
    {
     "name": "stdout",
     "output_type": "stream",
     "text": [
      "WARNING: profile \"/home/aymen/SummerRadical/iceberg_escience/Geolocation/Data/Sessions/rp.session.js-17-21.jetstream-cloud.org.aymen.018292.0007/pmgr.0000.launching.0.child.prof\" not correctly closed.\n"
     ]
    },
    {
     "ename": "NameError",
     "evalue": "name 'event_entity' is not defined",
     "output_type": "error",
     "traceback": [
      "\u001b[0;31m\u001b[0m",
      "\u001b[0;31mNameError\u001b[0mTraceback (most recent call last)",
      "\u001b[0;32m<ipython-input-2-e00c84b0487d>\u001b[0m in \u001b[0;36m<module>\u001b[0;34m()\u001b[0m\n\u001b[1;32m      3\u001b[0m \u001b[0msid\u001b[0m \u001b[0;34m=\u001b[0m \u001b[0mos\u001b[0m\u001b[0;34m.\u001b[0m\u001b[0mpath\u001b[0m\u001b[0;34m.\u001b[0m\u001b[0mbasename\u001b[0m\u001b[0;34m(\u001b[0m\u001b[0mloc\u001b[0m\u001b[0;34m)\u001b[0m\u001b[0;34m\u001b[0m\u001b[0m\n\u001b[1;32m      4\u001b[0m \u001b[0msession\u001b[0m \u001b[0;34m=\u001b[0m \u001b[0mra\u001b[0m\u001b[0;34m.\u001b[0m\u001b[0mSession\u001b[0m\u001b[0;34m(\u001b[0m\u001b[0msid\u001b[0m\u001b[0;34m=\u001b[0m\u001b[0msid\u001b[0m\u001b[0;34m,\u001b[0m \u001b[0mstype\u001b[0m\u001b[0;34m=\u001b[0m\u001b[0;34m'radical.pilot'\u001b[0m\u001b[0;34m,\u001b[0m \u001b[0msrc\u001b[0m\u001b[0;34m=\u001b[0m\u001b[0mloc\u001b[0m\u001b[0;34m)\u001b[0m\u001b[0;34m\u001b[0m\u001b[0m\n\u001b[0;32m----> 5\u001b[0;31m \u001b[0msession\u001b[0m\u001b[0;34m.\u001b[0m\u001b[0mfilter\u001b[0m\u001b[0;34m(\u001b[0m\u001b[0metype\u001b[0m\u001b[0;34m=\u001b[0m\u001b[0mevent_entity\u001b[0m\u001b[0;34m,\u001b[0m \u001b[0minplace\u001b[0m\u001b[0;34m=\u001b[0m\u001b[0mTrue\u001b[0m\u001b[0;34m)\u001b[0m\u001b[0;34m\u001b[0m\u001b[0m\n\u001b[0m\u001b[1;32m      6\u001b[0m \u001b[0mdataframe\u001b[0m\u001b[0;34m=\u001b[0m\u001b[0mpd\u001b[0m\u001b[0;34m.\u001b[0m\u001b[0mDataFrame\u001b[0m\u001b[0;34m(\u001b[0m\u001b[0mcolumns\u001b[0m\u001b[0;34m=\u001b[0m\u001b[0;34m[\u001b[0m\u001b[0;34m'ImageName1'\u001b[0m\u001b[0;34m,\u001b[0m\u001b[0;34m'ImageName2'\u001b[0m\u001b[0;34m,\u001b[0m\u001b[0;34m'ImageSize1'\u001b[0m\u001b[0;34m,\u001b[0m\u001b[0;34m'ImageSize2'\u001b[0m\u001b[0;34m,\u001b[0m\u001b[0;34m'TTX'\u001b[0m\u001b[0;34m,\u001b[0m\u001b[0;34m'UnitID'\u001b[0m\u001b[0;34m]\u001b[0m\u001b[0;34m)\u001b[0m\u001b[0;34m\u001b[0m\u001b[0m\n\u001b[1;32m      7\u001b[0m \u001b[0;34m\u001b[0m\u001b[0m\n",
      "\u001b[0;31mNameError\u001b[0m: name 'event_entity' is not defined"
     ]
    }
   ],
   "source": [
    "loc = \"/home/aymen/SummerRadical/iceberg_escience/Geolocation/Data/Sessions/rp.session.js-17-21.jetstream-cloud.org.aymen.018292.0007/\"\n",
    "src = os.path.dirname(loc)\n",
    "sid = os.path.basename(loc)\n",
    "session = ra.Session(sid=sid, stype='radical.pilot', src=loc)\n",
    "session.filter(etype=event_entity, inplace=True) \n",
    "dataframe=pd.DataFrame(columns=['ImageName1','ImageName2','ImageSize1','ImageSize2','TTX','UnitID'])\n",
    "\n",
    "for unit in units.get():\n",
    "        \n",
    "        if unit.uid == 'unit.000000': #skipping the first unit because unit.00000 is only for image discovery\n",
    "            skip = True\n",
    "            continue\n",
    "            \n",
    "        else:\n",
    "            \n",
    "            exec_duration = unit.duration(event=[{ru.EVENT: 'cu_exec_start'},\n",
    "                                                 {ru.EVENT: 'cu_exec_stop'}])\n",
    "\n",
    "            durations.append(exec_duration)\n",
    "            cu_dur = sum(durations) / len(durations)\n",
    "            \n",
    "            \n",
    "            #read the Penguins_images.csv and match the \n",
    "            #image name from it with the image name from the unit.* \n",
    "            #to get the size of the image from \n",
    "            myfilepath = '/home/aymen/SummerRadical/iceberg_escience/Geolocation/Data/Desc1CSV.csv'\n",
    "            with open(myfilepath) as f:\n",
    "                reader = csv.reader(f) \n",
    "                next(reader) # skip header\n",
    "                data = []\n",
    "                for row in reader:\n",
    "                    data.append(row)\n",
    "                    if row[0] == unit.description[\"arguments\"][14] :\n",
    "\n",
    "                            try:\n",
    "                                  session_data = {\n",
    "                                                        'ImageName1'      : unit.description[\"arguments\"][14],\n",
    "                                                        'ImageName2'      : unit.description[\"arguments\"][14],\n",
    "                                                        'ImageSize1'      : row[1],\n",
    "                                                        'ImageSize2'      : row[1],\n",
    "                                                        'TTX'            : exec_duration,\n",
    "                                                        'UnitID'         : unit.uid[5:]\n",
    "                                                }\n",
    "                            except Exception as e:\n",
    "                                                print e\n",
    "                                                session_data = {\n",
    "                                                         'ImageName1'      : unit.description[\"arguments\"][14],\n",
    "                                                         'ImageName2'      : unit.description[\"arguments\"][14],\n",
    "                                                         'ImageSize1'      : row[1],\n",
    "                                                         'ImageSize2'      : row[1],\n",
    "                                                         'TTX'            : exec_duration,\n",
    "                                                         'UnitID'         : unit.uid[5:]\n",
    "                                                               }\n",
    "                                                pass\n",
    "\n",
    "                            dataframe =  dataframe.append(session_data, ignore_index=True)\n",
    "                            dataframe =  dataframe.reset_index().drop('index', axis=1)\n",
    "                            dataframe.to_csv('/home/aymen/SummerRadical/iceberg_escience/Geolocation/Data/units_durations.csv',index=False)\n"
   ]
  },
  {
   "cell_type": "code",
   "execution_count": null,
   "metadata": {},
   "outputs": [],
   "source": [
    "import os \n",
    "import sys\n",
    "print"
   ]
  }
 ],
 "metadata": {
  "kernelspec": {
   "display_name": "Python 2",
   "language": "python",
   "name": "python2"
  },
  "language_info": {
   "codemirror_mode": {
    "name": "ipython",
    "version": 2
   },
   "file_extension": ".py",
   "mimetype": "text/x-python",
   "name": "python",
   "nbconvert_exporter": "python",
   "pygments_lexer": "ipython2",
   "version": "2.7.14"
  }
 },
 "nbformat": 4,
 "nbformat_minor": 2
}
