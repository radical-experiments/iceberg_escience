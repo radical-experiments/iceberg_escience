{
 "cells": [
  {
   "cell_type": "code",
   "execution_count": 1,
   "metadata": {},
   "outputs": [
    {
     "data": {
      "text/html": [
       "<style>.container { width:100% !important; }</style>"
      ],
      "text/plain": [
       "<IPython.core.display.HTML object>"
      ]
     },
     "metadata": {},
     "output_type": "display_data"
    },
    {
     "name": "stdout",
     "output_type": "stream",
     "text": [
      "\r\n",
      "  python               : 2.7.15\r\n",
      "  pythonpath           : \r\n",
      "  virtualenv           : python2\r\n",
      "\r\n",
      "  radical.analytics    : 0.70.0\r\n",
      "  radical.entk         : 0.70.0\r\n",
      "  radical.pilot        : 0.70.0\r\n",
      "  radical.saga         : 0.70.0\r\n",
      "  radical.utils        : 0.70.0\r\n",
      "\r\n"
     ]
    }
   ],
   "source": [
    "import radical.analytics as ra\n",
    "import radical.pilot as rp\n",
    "import radical.utils as ru\n",
    "import radical.entk as re\n",
    "import os\n",
    "from glob import glob\n",
    "import numpy as np\n",
    "from matplotlib import pyplot as plt\n",
    "from matplotlib import cm\n",
    "import csv\n",
    "import pandas as pd\n",
    "import json\n",
    "import matplotlib as mpl\n",
    "mpl.rcParams['text.usetex'] = True\n",
    "mpl.rcParams['text.latex.unicode'] = True\n",
    "\n",
    "blues = cm.get_cmap(plt.get_cmap('Blues'))\n",
    "greens = cm.get_cmap(plt.get_cmap('Greens'))\n",
    "reds = cm.get_cmap(plt.get_cmap('Reds'))\n",
    "oranges = cm.get_cmap(plt.get_cmap('Oranges'))\n",
    "purples = cm.get_cmap(plt.get_cmap('Purples'))\n",
    "greys = cm.get_cmap(plt.get_cmap('Greys'))\n",
    "\n",
    "from IPython.core.display import display, HTML\n",
    "display(HTML(\"<style>.container { width:100% !important; }</style>\"))\n",
    "import warnings\n",
    "warnings.filterwarnings('ignore')\n",
    "!radical-stack"
   ]
  },
  {
   "cell_type": "markdown",
   "metadata": {},
   "source": [
    "## Design 1"
   ]
  },
  {
   "cell_type": "code",
   "execution_count": 2,
   "metadata": {},
   "outputs": [
    {
     "name": "stdout",
     "output_type": "stream",
     "text": [
      "x entk.session-design1-54875.json\n",
      "x entk_workflow.json\n"
     ]
    }
   ],
   "source": [
    "!tar -xzvf ../Data/Design1/entk.session-design1-54875/entk.session-design1-54875.tar.gz -C ../Data/Design1/entk.session-design1-54875/\n",
    "!tar -xzvf ../Data/Design1/entk.session-design1-54875/entk_workflow.tar.gz -C ../Data/Design1/entk.session-design1-54875/"
   ]
  },
  {
   "cell_type": "code",
   "execution_count": 3,
   "metadata": {},
   "outputs": [],
   "source": [
    "des1DF = pd.DataFrame(columns=['TTX','AgentOverhead','ClientOverhead','EnTKOverhead'])\n",
    "work_file = open('../Data/Design1/entk.session-design1-54875/entk_workflow.json')\n",
    "work_json = json.load(work_file)\n",
    "work_file.close()\n",
    "\n",
    "workflow = work_json['workflows'][1]\n",
    "unit_ids = list()\n",
    "for pipe in workflow['pipes']:\n",
    "    unit_path = pipe['stages'][1]['tasks'][0]['path']\n",
    "    unit_id = unit_path.split('/')[-2]\n",
    "    if unit_id != 'unit.000000':\n",
    "        unit_ids.append(unit_id)\n",
    "\n",
    "sids=['entk.session-design1-54875']\n",
    "for sid in sids:\n",
    "    re_session = ra.Session(stype='radical.entk',src='../Data/Design1',sid=sid)\n",
    "    rp_session = ra.Session(stype='radical.pilot',src='../Data/Design1/'+sid)\n",
    "    units = rp_session.filter(etype='unit', inplace=False, uid=unit_ids)\n",
    "    pilot = rp_session.filter(etype='pilot', inplace=False)\n",
    "    units_duration = units.duration(event=[{ru.EVENT: 'exec_start'},{ru.EVENT: 'exec_stop'}])\n",
    "    units_agent = units.duration (event=[{ru.EVENT: 'state',ru.STATE: rp.AGENT_STAGING_INPUT},{ru.EVENT: 'staging_uprof_stop'}])\n",
    "    all_units = rp_session.filter(etype='unit', inplace=False)\n",
    "    disc_unit = rp_session.filter(etype='unit', inplace=False, uid='unit.000000')\n",
    "    disc_time = disc_unit.duration([rp.NEW, rp.DONE])\n",
    "    units_client = units.duration([rp.NEW, rp.DONE])\n",
    "    appmanager = re_session.filter(etype='appmanager',inplace=False)\n",
    "    t_p2 = pilot.duration(event=[{ru.EVENT: 'bootstrap_0_start'}, {ru.EVENT: 'cmd'}])\n",
    "    resource_manager = re_session.filter(etype='resource_manager',inplace=False)\n",
    "    app_duration = appmanager.duration(event=[{ru.EVENT:\"amgr run started\"},{ru.EVENT:\"termination done\"}])\n",
    "    res_duration = resource_manager.duration(event=[{ru.EVENT:\"rreq submitted\"},{ru.EVENT:\"resource active\"}])\n",
    "    ttx = units_duration\n",
    "    agent_overhead = abs(units_agent - units_duration)\n",
    "    client_overhead = units_client - units_agent\n",
    "    entk_overhead =  app_duration - units_client - res_duration - all_units.duration(event=[{ru.EVENT: 'exec_start'},{ru.EVENT: 'exec_stop'}]) + ttx\n",
    "    des1DF.loc[len(des1DF)] = [ttx, agent_overhead, client_overhead, entk_overhead]"
   ]
  },
  {
   "cell_type": "code",
   "execution_count": 4,
   "metadata": {},
   "outputs": [
    {
     "name": "stdout",
     "output_type": "stream",
     "text": [
      "            TTX  AgentOverhead  ClientOverhead  EnTKOverhead\n",
      "0  11717.529445     978.254925    45306.359832  12857.508548\n"
     ]
    }
   ],
   "source": [
    "print(des1DF)"
   ]
  },
  {
   "cell_type": "markdown",
   "metadata": {},
   "source": [
    "## Design 2"
   ]
  },
  {
   "cell_type": "code",
   "execution_count": 5,
   "metadata": {},
   "outputs": [],
   "source": [
    "des2DF = pd.DataFrame(columns=['TTX','SetupOverhead','SetupOverhead2','AgentOverhead','ClientOverhead'])\n",
    "sids = ['design2_11K_run5'] \n",
    "for sid in sids:\n",
    "    Node1 = pd.DataFrame(columns=['Start','End','Type'])\n",
    "    Node1Tilling = pd.read_csv('../Data/Design2/'+sid+'/pilot.0000/unit.000002/geolocate1.csv')\n",
    "    for index,row in Node1Tilling.iterrows():\n",
    "        Node1.loc[len(Node1)] = [row['Start'],row['End'],'Geo1']\n",
    "    Node1Tilling = pd.read_csv('../Data/Design2/'+sid+'/pilot.0000/unit.000002/geolocate2.csv')\n",
    "    for index,row in Node1Tilling.iterrows():\n",
    "        Node1.loc[len(Node1)] = [row['Start'],row['End'],'Geo2']\n",
    "    Node1Tilling = pd.read_csv('../Data/Design2/'+sid+'/pilot.0000/unit.000002/ransac1.csv')\n",
    "    for index,row in Node1Tilling.iterrows():\n",
    "        Node1.loc[len(Node1)] = [row['Start'],row['End'],'Ransac1']\n",
    "    Node2 = pd.DataFrame(columns=['Start','End','Type'])\n",
    "    Node2Tilling = pd.read_csv('../Data/Design2/'+sid+'/pilot.0000/unit.000003/geolocate3.csv')\n",
    "    for index,row in Node2Tilling.iterrows():\n",
    "        Node2.loc[len(Node2)] = [row['Start'],row['End'],'Geo3']\n",
    "    Node2Tilling = pd.read_csv('../Data/Design2/'+sid+'/pilot.0000/unit.000003/geolocate4.csv')\n",
    "    for index,row in Node2Tilling.iterrows():\n",
    "        Node2.loc[len(Node2)] = [row['Start'],row['End'],'Geo4']\n",
    "    Node2Tilling = pd.read_csv('../Data/Design2/'+sid+'/pilot.0000/unit.000003/ransac2.csv')\n",
    "    for index,row in Node2Tilling.iterrows():\n",
    "        Node2.loc[len(Node2)] = [row['Start'],row['End'],'Ransac2']\n",
    "    Node3 = pd.DataFrame(columns=['Start','End','Type'])\n",
    "    Node3Tilling = pd.read_csv('../Data/Design2/'+sid+'/pilot.0000/unit.000004/geolocate5.csv')\n",
    "    for index,row in Node3Tilling.iterrows():\n",
    "        Node3.loc[len(Node3)] = [row['Start'],row['End'],'Geo5']\n",
    "    Node3Tilling = pd.read_csv('../Data/Design2/'+sid+'/pilot.0000/unit.000004/geolocate6.csv')\n",
    "    for index,row in Node3Tilling.iterrows():\n",
    "        Node3.loc[len(Node3)] = [row['Start'],row['End'],'Geo6']\n",
    "    Node3Tilling = pd.read_csv('../Data/Design2/'+sid+'/pilot.0000/unit.000004/ransac3.csv')\n",
    "    for index,row in Node3Tilling.iterrows():\n",
    "        Node3.loc[len(Node3)] = [row['Start'],row['End'],'Ransac3']\n",
    "    Node4 = pd.DataFrame(columns=['Start','End','Type'])\n",
    "    Node4Tilling = pd.read_csv('../Data/Design2/'+sid+'/pilot.0000/unit.000005/geolocate7.csv')\n",
    "    for index,row in Node4Tilling.iterrows():\n",
    "        Node4.loc[len(Node4)] = [row['Start'],row['End'],'Geo7']\n",
    "    Node4Tilling = pd.read_csv('../Data/Design2/'+sid+'/pilot.0000/unit.000005/geolocate8.csv')\n",
    "    for index,row in Node4Tilling.iterrows():\n",
    "        Node4.loc[len(Node4)] = [row['Start'],row['End'],'Geo8']\n",
    "    Node4Tilling = pd.read_csv('../Data/Design2/'+sid+'/pilot.0000/unit.000005/ransac4.csv')\n",
    "    for index,row in Node4Tilling.iterrows():\n",
    "        Node4.loc[len(Node4)] = [row['Start'],row['End'],'Ransac4']\n",
    "    AllNodes = pd.DataFrame(columns=['Start','End','Type'])\n",
    "    AllNodes = AllNodes.append(Node1)\n",
    "    AllNodes = AllNodes.append(Node2)\n",
    "    AllNodes = AllNodes.append(Node3)\n",
    "    AllNodes = AllNodes.append(Node4)\n",
    "    AllNodes.reset_index(inplace=True,drop='index')\n",
    "    rp_sessionDes2 = ra.Session(stype='radical.pilot',src='../Data/Design2/'+sid)\n",
    "    unitsDes2 = rp_sessionDes2.filter(etype='unit', inplace=False)\n",
    "    execUnits = unitsDes2.filter(uid=['unit.000002','unit.000003','unit.000004','unit.000005'],inplace=False)\n",
    "    exec_units_setup_des2 = execUnits.duration(event=[{ru.EVENT: 'exec_start'},{ru.EVENT: 'exec_stop'}])\n",
    "    exec_units_agent_des2 = execUnits.duration([rp.AGENT_STAGING_INPUT, rp.UMGR_STAGING_OUTPUT_PENDING])\n",
    "    exec_units_clientDes2 = execUnits.duration([rp.NEW, rp.DONE])\n",
    "    SetupUnit = unitsDes2.filter(uid=['unit.000000'],inplace=False)\n",
    "    setup_units_clientDes2 = SetupUnit.duration(event=[{ru.STATE: rp.NEW},{ru.EVENT: 'exec_start'}])\n",
    "    pilotDes2 = rp_sessionDes2.filter(etype='pilot', inplace=False)\n",
    "    pilot_duration = pilotDes2.duration([rp.PMGR_ACTIVE,rp.FINAL])\n",
    "    des2_duration = AllNodes['End'].max() - AllNodes['Start'].min()\n",
    "    setupDes2_overhead = exec_units_setup_des2 - des2_duration\n",
    "    agentDes2_overhead = exec_units_agent_des2 - exec_units_setup_des2\n",
    "    clientDes2_overhead = exec_units_clientDes2 - exec_units_agent_des2\n",
    "    des2DF.loc[len(des2DF)] = [des2_duration, setup_units_clientDes2, setupDes2_overhead, agentDes2_overhead, clientDes2_overhead]"
   ]
  },
  {
   "cell_type": "code",
   "execution_count": 6,
   "metadata": {},
   "outputs": [
    {
     "name": "stdout",
     "output_type": "stream",
     "text": [
      "           TTX  SetupOverhead  SetupOverhead2  AgentOverhead  ClientOverhead\n",
      "0  6703.852195      81.679263        7.051244        0.18611       22.274512\n"
     ]
    }
   ],
   "source": [
    "print(des2DF)"
   ]
  },
  {
   "cell_type": "markdown",
   "metadata": {},
   "source": [
    "## Design 2A"
   ]
  },
  {
   "cell_type": "code",
   "execution_count": 7,
   "metadata": {},
   "outputs": [
    {
     "name": "stdout",
     "output_type": "stream",
     "text": [
      "WARNING: profile \"../Data/Design2a/design2a_11k_test5/pmgr.0000.launching.0.child.prof\" not correctly closed.\n",
      "WARNING: profile \"../Data/Design2a/design2a_11k_test5/pmgr.0000.launching.0.child.prof\" not correctly closed.\n",
      "WARNING: profile \"../Data/Design2a/design2a_11k_test5/pmgr.0000.launching.0.child.prof\" not correctly closed.\n",
      "WARNING: profile \"../Data/Design2a/design2a_11k_test5/pmgr.0000.launching.0.child.prof\" not correctly closed.\n",
      "WARNING: profile \"../Data/Design2a/design2a_11k_test5/pmgr.0000.launching.0.child.prof\" not correctly closed.\n"
     ]
    }
   ],
   "source": [
    "sid='../Data/Design2a/design2a_11k_test5/'\n",
    "rp_sessionDes2 = ra.Session(stype='radical.pilot',src=sid)\n",
    "unitsDes2 = rp_sessionDes2.filter(etype='unit', inplace=False)\n",
    "execUnits = unitsDes2.filter(uid=['unit.000002','unit.000003','unit.000004','unit.000001'],inplace=False)\n",
    "exec_units_setup_des2 = execUnits.duration(event=[{ru.EVENT: 'exec_start'},{ru.EVENT: 'exec_stop'}])\n",
    "exec_units_agent_des2 = execUnits.duration([rp.AGENT_STAGING_INPUT, rp.UMGR_STAGING_OUTPUT_PENDING])\n",
    "exec_units_clientDes2 = execUnits.duration([rp.NEW, rp.DONE])\n",
    "SetupUnit = unitsDes2.filter(uid=['unit.000000'],inplace=False)\n",
    "setup_units_clientDes2 = SetupUnit.duration(event=[{ru.STATE: rp.NEW},{ru.EVENT: 'exec_start'}])\n",
    "pilotDes2 = rp_sessionDes2.filter(etype='pilot', inplace=False)"
   ]
  },
  {
   "cell_type": "code",
   "execution_count": 8,
   "metadata": {},
   "outputs": [],
   "source": [
    "Node1 = pd.DataFrame(columns=['Start','End','Type'])\n",
    "Node1Tilling = pd.read_csv('../Data/Design2a/design2a_11k_test5/pilot.0000/unit.000000/geolocate1.csv')\n",
    "for index,row in Node1Tilling.iterrows():\n",
    "    Node1.loc[len(Node1)] = [row['Start'],row['End'],'Geo1']\n",
    "Node1Tilling = pd.read_csv('../Data/Design2a/design2a_11k_test5/pilot.0000/unit.000000/geolocate2.csv')\n",
    "for index,row in Node1Tilling.iterrows():\n",
    "    Node1.loc[len(Node1)] = [row['Start'],row['End'],'Geo2']\n",
    "\n",
    "Node1Tilling = pd.read_csv('../Data/Design2a/design2a_11k_test5/pilot.0000/unit.000000/ransac1.csv')\n",
    "for index,row in Node1Tilling.iterrows():\n",
    "    Node1.loc[len(Node1)] = [row['Start'],row['End'],'Ransac1']\n"
   ]
  },
  {
   "cell_type": "code",
   "execution_count": 9,
   "metadata": {},
   "outputs": [],
   "source": [
    "Node2 = pd.DataFrame(columns=['Start','End','Type'])\n",
    "Node2Tilling = pd.read_csv('../Data/Design2a/design2a_11k_test5/pilot.0000/unit.000001/geolocate3.csv')\n",
    "for index,row in Node2Tilling.iterrows():\n",
    "    Node2.loc[len(Node2)] = [row['Start'],row['End'],'Geo3']\n",
    "Node2Tilling = pd.read_csv('../Data/Design2a/design2a_11k_test5/pilot.0000/unit.000001/geolocate4.csv')\n",
    "for index,row in Node2Tilling.iterrows():\n",
    "    Node2.loc[len(Node2)] = [row['Start'],row['End'],'Geo4']\n",
    "\n",
    "Node2Tilling = pd.read_csv('../Data/Design2a/design2a_11k_test5/pilot.0000/unit.000001/ransac2.csv')\n",
    "for index,row in Node2Tilling.iterrows():\n",
    "    Node2.loc[len(Node2)] = [row['Start'],row['End'],'Ransac2']"
   ]
  },
  {
   "cell_type": "code",
   "execution_count": 10,
   "metadata": {},
   "outputs": [],
   "source": [
    "Node3 = pd.DataFrame(columns=['Start','End','Type'])\n",
    "Node3Tilling = pd.read_csv('../Data/Design2a/design2a_11k_test5/pilot.0000/unit.000002/geolocate5.csv')\n",
    "for index,row in Node3Tilling.iterrows():\n",
    "    Node3.loc[len(Node3)] = [row['Start'],row['End'],'Geo5']\n",
    "Node3Tilling = pd.read_csv('../Data/Design2a/design2a_11k_test5/pilot.0000/unit.000002/geolocate6.csv')\n",
    "for index,row in Node3Tilling.iterrows():\n",
    "    Node3.loc[len(Node3)] = [row['Start'],row['End'],'Geo6']\n",
    "\n",
    "Node3Tilling = pd.read_csv('../Data/Design2a/design2a_11k_test5/pilot.0000/unit.000002/ransac3.csv')\n",
    "for index,row in Node3Tilling.iterrows():\n",
    "    Node3.loc[len(Node3)] = [row['Start'],row['End'],'Ransac3']\n"
   ]
  },
  {
   "cell_type": "code",
   "execution_count": 11,
   "metadata": {},
   "outputs": [],
   "source": [
    "Node4 = pd.DataFrame(columns=['Start','End','Type'])\n",
    "Node4Tilling = pd.read_csv('../Data/Design2a/design2a_11k_test5/pilot.0000/unit.000003/geolocate7.csv')\n",
    "for index,row in Node4Tilling.iterrows():\n",
    "    Node4.loc[len(Node4)] = [row['Start'],row['End'],'Geo7']\n",
    "Node4Tilling = pd.read_csv('../Data/Design2a/design2a_11k_test5/pilot.0000/unit.000003/geolocate8.csv')\n",
    "for index,row in Node4Tilling.iterrows():\n",
    "    Node4.loc[len(Node4)] = [row['Start'],row['End'],'Geo8']\n",
    "\n",
    "Node4Tilling = pd.read_csv('../Data/Design2a/design2a_11k_test5/pilot.0000/unit.000003/ransac4.csv')\n",
    "for index,row in Node4Tilling.iterrows():\n",
    "    Node4.loc[len(Node4)] = [row['Start'],row['End'],'Ransac4']\n"
   ]
  },
  {
   "cell_type": "code",
   "execution_count": 12,
   "metadata": {},
   "outputs": [
    {
     "name": "stdout",
     "output_type": "stream",
     "text": [
      "WARNING: profile \"../Data/Design2a/design2a_11k_test5/pmgr.0000.launching.0.child.prof\" not correctly closed.\n",
      "WARNING: profile \"../Data/Design2a/design2a_11k_test5/pmgr.0000.launching.0.child.prof\" not correctly closed.\n",
      "WARNING: profile \"../Data/Design2a/design2a_11k_test5/pmgr.0000.launching.0.child.prof\" not correctly closed.\n",
      "WARNING: profile \"../Data/Design2a/design2a_11k_test5/pmgr.0000.launching.0.child.prof\" not correctly closed.\n"
     ]
    }
   ],
   "source": [
    "des2ADF = pd.DataFrame(columns=['TTX','SetupOverhead','AgentOverhead','ClientOverhead'])\n",
    "AllNodes = pd.DataFrame(columns=['Start','End','Type'])\n",
    "AllNodes = AllNodes.append(Node1)\n",
    "AllNodes = AllNodes.append(Node2)\n",
    "AllNodes = AllNodes.append(Node3)\n",
    "AllNodes = AllNodes.append(Node4)\n",
    "AllNodes.reset_index(inplace=True,drop='index')\n",
    "rp_sessionDes2 = ra.Session(stype='radical.pilot',src=sid)\n",
    "unitsDes2 = rp_sessionDes2.filter(etype='unit', inplace=False)\n",
    "execUnits = unitsDes2.filter(uid=['unit.000000','unit.000001','unit.000002','unit.000003'],inplace=False)\n",
    "exec_units_setup_des2 = unitsDes2.duration(event=[{ru.EVENT: 'exec_start'},{ru.EVENT: 'exec_stop'}])\n",
    "exec_units_agent_des2 = unitsDes2.duration([rp.AGENT_STAGING_INPUT, rp.UMGR_STAGING_OUTPUT_PENDING])\n",
    "exec_units_clientDes2 = execUnits.duration([rp.NEW, rp.DONE])\n",
    "pilotDes2 = rp_sessionDes2.filter(etype='pilot', inplace=False)\n",
    "pilot_duration = pilotDes2.duration([rp.PMGR_ACTIVE,rp.FINAL])\n",
    "des2_duration = AllNodes['End'].max() - AllNodes['Start'].min()\n",
    "setupDes2_overhead = exec_units_setup_des2 - des2_duration\n",
    "agentDes2_overhead = exec_units_agent_des2 - exec_units_setup_des2\n",
    "clientDes2_overhead = exec_units_clientDes2 - exec_units_agent_des2\n",
    "queue_time = max(pilotDes2.timestamps(event=[{ru.STATE: rp.PMGR_ACTIVE}]))- max(execUnits.timestamps(event=[{ru.STATE: rp.AGENT_STAGING_INPUT_PENDING}]))\n",
    "des2ADF.loc[len(des2ADF)] = [des2_duration, setupDes2_overhead, agentDes2_overhead, clientDes2_overhead-queue_time]"
   ]
  },
  {
   "cell_type": "code",
   "execution_count": 13,
   "metadata": {},
   "outputs": [
    {
     "name": "stdout",
     "output_type": "stream",
     "text": [
      "           TTX  SetupOverhead  AgentOverhead  ClientOverhead\n",
      "0  6172.103771      22.297043       0.246021      193.781951\n"
     ]
    }
   ],
   "source": [
    "print(des2ADF)"
   ]
  },
  {
   "cell_type": "code",
   "execution_count": 14,
   "metadata": {},
   "outputs": [
    {
     "data": {
      "image/png": "[encoded data removed]",
      "text/plain": [
       "<Figure size 1080x540 with 1 Axes>"
      ]
     },
     "metadata": {
      "needs_background": "light"
     },
     "output_type": "display_data"
    }
   ],
   "source": [
    "fig, axis = plt.subplots(nrows=1,ncols=1, figsize=(15,7.5))\n",
    "x1 = np.arange(3)\n",
    "_ = axis.bar(x1[0], des1DF['TTX'].mean(), width=0.5, color=blues(300), label='Design 1 TTX')\n",
    "_ = axis.bar(x1[1], des2DF['TTX'].mean(), width=0.5, color=blues(200), label='Design 2 TTX')\n",
    "_ = axis.bar(x1[2], des2ADF['TTX'].mean(), width=0.5, color=blues(100), label='Design 2A TTX')\n",
    "_ = axis.set_xticks([0,1,2])\n",
    "_ = axis.grid(which='both', linestyle=':', linewidth=1)\n",
    "_ = axis.set_xticklabels(['Design 1', 'Design 2','Design 2A'], fontsize=36)\n",
    "_ = axis.set_ylabel('Time in seconds', fontsize=26)\n",
    "_ = axis.set_yticklabels(axis.get_yticks().astype('int').tolist(),fontsize=24)\n",
    "#fig.savefig('geo_ttx.pdf',dpi=800,bbox='tight')"
   ]
  },
  {
   "cell_type": "code",
   "execution_count": 15,
   "metadata": {},
   "outputs": [],
   "source": [
    "dist_overhead = np.load('../Data/dist_dataset.npy')"
   ]
  },
  {
   "cell_type": "code",
   "execution_count": 16,
   "metadata": {},
   "outputs": [],
   "source": [
    "DiscDurations = [1861.404363739,\n",
    "1872.631383787,\n",
    "1870.355146581,\n",
    "1852.347904858,\n",
    "1857.771844937,\n",
    "1868.644424397,\n",
    "1873.176510421,\n",
    "1851.527881958,\n",
    "1870.128898667,\n",
    "1856.676059379]"
   ]
  },
  {
   "cell_type": "code",
   "execution_count": 43,
   "metadata": {
    "scrolled": false
   },
   "outputs": [
    {
     "data": {
      "image/png": "[encoded data removed]",
      "text/plain": [
       "<Figure size 648x540 with 1 Axes>"
      ]
     },
     "metadata": {
      "needs_background": "light"
     },
     "output_type": "display_data"
    }
   ],
   "source": [
    "fig, axis = plt.subplots(nrows=1, ncols=1, figsize=(9,7.5))\n",
    "x1 = np.arange(3)\n",
    "\n",
    "_ = axis.bar(x1[0], des1DF['AgentOverhead'].mean(),width=0.5, color=reds(200),label='RP Agent Overhead Design 1')\n",
    "_ = axis.bar(x1[0], des1DF['ClientOverhead'].mean(), bottom=des1DF['AgentOverhead'].mean(),width=0.5, color=reds(150),label='RP Client Overhead Design 1')\n",
    "_ = axis.bar(x1[0], des1DF['EnTKOverhead'].mean(),bottom=des1DF['ClientOverhead'].mean()+des1DF['AgentOverhead'].mean(),width=0.5, color=reds(100),label='EnTK Overheads Design 1')\n",
    "_ = axis.bar(x1[0], np.mean(DiscDurations), yerr=np.std(DiscDurations), bottom=des1DF['ClientOverhead'].mean()+des1DF['AgentOverhead'].mean() + des1DF['EnTKOverhead'].mean(), \n",
    "                width=0.5, color=reds(50),label='Design 1 Dataset Discovery')\n",
    "\n",
    "_ = axis.bar(x1[1],des2DF['AgentOverhead'].mean(),width=0.5, color=greens(200),label='RP Agent Overhead Design 2')\n",
    "_ = axis.bar(x1[1],des2DF['ClientOverhead'].mean(),bottom=des2DF['AgentOverhead'].mean(),width=0.5, color=greens(150),label='RP Client Overhead Design 2')\n",
    "_ = axis.bar(x1[1],(des2DF['SetupOverhead'] + des2DF['SetupOverhead2']).mean(),bottom=des2DF['ClientOverhead'].mean()+des2DF['AgentOverhead'].mean(),width=0.5, color=greens(100),label='Design 2 Setup Overhead')\n",
    "_ = axis.bar(x1[1],np.mean(DiscDurations), yerr=np.std(DiscDurations), bottom=des2DF['ClientOverhead'].mean()+des2DF['AgentOverhead'].mean() + (des2DF['SetupOverhead']+des2DF['SetupOverhead2']).mean(),\n",
    "                width=0.5, color=greens(50),label='Design 2 Dataset Discovery')\n",
    "\n",
    "\n",
    "_ = axis.bar(x1[2],des2ADF['AgentOverhead'].mean(),#yerr=des2ADF['AgentOverhead'].std(),\n",
    "                width=0.5, color=purples(250),label='RP Agent Overhead Design 2A',log=1)\n",
    "_ = axis.bar(x1[2],des2ADF['ClientOverhead'].mean(),#yerr=des2ADF['ClientOverhead'].std(),\n",
    "                bottom=des2ADF['AgentOverhead'].mean(),width=0.5, color=purples(200),label='RP Client Overhead Design 2A')\n",
    "_ = axis.bar(x1[2],des2ADF['SetupOverhead'].mean(),#yerr=des2ADF['SetupOverhead'].std(),\n",
    "                bottom=des2ADF['ClientOverhead'].mean()+des2ADF['AgentOverhead'].mean(),width=0.5, color=purples(150),label='Design 2A Setup Overhead')\n",
    "_ = axis.bar(x1[2],dist_overhead.mean(),yerr=dist_overhead.std(),\n",
    "                bottom=des2ADF['ClientOverhead'].mean()+des2ADF['AgentOverhead'].mean()+des2ADF['SetupOverhead'].mean(),width=0.5, color=purples(100),label='Design 2A Distributing Overhead')\n",
    "_ = axis.bar(x1[2],np.mean(DiscDurations), yerr=np.std(DiscDurations),\n",
    "                bottom=des2ADF['ClientOverhead'].mean()+des2ADF['AgentOverhead'].mean()+des2ADF['SetupOverhead'].mean() + dist_overhead.mean(),\n",
    "                width=0.5, color=purples(50),label='Design 2A Dataset Discovery')\n",
    "\n",
    "\n",
    "_ = axis.set_xticks([0,1,2])\n",
    "_ = axis.grid(which='both', linestyle=':', linewidth=1)\n",
    "_ = axis.set_ylabel('Time in seconds', fontsize=26)\n",
    "_ = axis.set_xticklabels(['Design 1', 'Design 2','Design 2A'], fontsize=26)\n",
    "_ = axis.set_yticks([1,10,100,1000,10000,100000])\n",
    "_ = axis.set_yticklabels(axis.get_yticks().astype('int').tolist(),fontsize=24)\n",
    "#_ = axis.legend(fontsize=22,loc = 'lower center', bbox_to_anchor = (0,-.55,1,1), ncol=2)\n",
    "#_ = fig.subplots_adjust(bottom=.205)\n",
    "fig.savefig('geo_overheads.pdf',dpi=800,pad_inches=0)"
   ]
  },
  {
   "cell_type": "code",
   "execution_count": null,
   "metadata": {},
   "outputs": [],
   "source": []
  }
 ],
 "metadata": {
  "kernelspec": {
   "display_name": "Python 2",
   "language": "python",
   "name": "python2"
  },
  "language_info": {
   "codemirror_mode": {
    "name": "ipython",
    "version": 2
   },
   "file_extension": ".py",
   "mimetype": "text/x-python",
   "name": "python",
   "nbconvert_exporter": "python",
   "pygments_lexer": "ipython2",
   "version": "2.7.15"
  }
 },
 "nbformat": 4,
 "nbformat_minor": 2
}
